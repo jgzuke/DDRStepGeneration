{
 "cells": [
  {
   "cell_type": "code",
   "execution_count": 8,
   "metadata": {
    "collapsed": false
   },
   "outputs": [],
   "source": [
    "%matplotlib inline\n",
    "import copy\n",
    "import pandas as pd\n",
    "import numpy as np\n",
    "import librosa\n",
    "import seaborn as sb\n",
    "import matplotlib.pyplot as plt\n",
    "import itertools\n",
    "import re\n",
    "import random\n",
    "from os import listdir\n",
    "from os.path import isfile, join\n",
    "from __future__ import print_function\n",
    "from numpy import median, diff"
   ]
  },
  {
   "cell_type": "markdown",
   "metadata": {},
   "source": [
    "# SongFile:\n",
    "### Fields\n",
    "- beat_frames:  \n",
    "- beat_times: \n",
    "- bpm: \n",
    "- bpm_string: \n",
    "- beat_length: \n",
    "- indices: \n",
    "- data: \n",
    "\n",
    "- pack\n",
    "- name\n",
    "- extension\n",
    "- music_file\n",
    "- stepfile\n",
    "### Output\n",
    "- data/{0}_beat_features.csv\n",
    "- data/{0}_misc.csv"
   ]
  },
  {
   "cell_type": "code",
   "execution_count": 350,
   "metadata": {
    "collapsed": false
   },
   "outputs": [],
   "source": [
    "sample_rate_down = 1\n",
    "hop_length_down = 8\n",
    "sr = 11025 * 16 / sample_rate_down\n",
    "hop_length = 512 / (sample_rate_down * hop_length_down)\n",
    "samples_per_beat = 24 / 4\n",
    "steps_per_bar = 24\n",
    "class SongFile:\n",
    "    # misc includes\n",
    "    # - offset\n",
    "    # - bpm\n",
    "    def load_misc_from_music(self):\n",
    "        self.y, _ = librosa.load(self.music_file, sr=sr)\n",
    "        \n",
    "        _, beat_frames = librosa.beat.beat_track(y=self.y, sr=sr, hop_length=hop_length)\n",
    "        beat_times = librosa.frames_to_time(beat_frames, sr=sr, hop_length=hop_length)\n",
    "        self.offset = beat_times[0]\n",
    "        self.bpm = get_beats(beat_times, beat_frames)\n",
    "\n",
    "    def load_misc_from_stepfile(self):\n",
    "        #self.y, _ = librosa.load(self.music_file, sr=sr)\n",
    "        \n",
    "        with open(self.stepfile, \"r\") as txt:\n",
    "            step_file = txt.read()\n",
    "            step_file = step_file.replace('\\n', 'n')\n",
    "            bpm_search = re.search('#BPMS:([0-9.=,]*);', step_file)\n",
    "            bpm_string = bpm_search.group(1)\n",
    "            self.bpm = float(bpm_string.split('=')[1]) if len(bpm_string.split(',')) == 1 else 0\n",
    "            \n",
    "            offset_search = re.search('#OFFSET:([0-9.-]*);', step_file)\n",
    "            self.offset = -float(offset_search.group(1))\n",
    "\n",
    "    def calculate_features(self):\n",
    "        # take samples_per_beat samples for each beat (need 3rds, 8ths)\n",
    "        seconds = len(self.y) / sr\n",
    "        num_samples = int(seconds * samples_per_beat * self.bpm / 60)\n",
    "        beat_length = 60. / self.bpm\n",
    "        sample_length = beat_length / samples_per_beat\n",
    "        \n",
    "        sample_times = [self.offset + (sample_length * i) for i in range(num_samples)]\n",
    "        # only take samples where music still playing\n",
    "        self.indices = [round(time * sr) for time in sample_times if round(time * sr) < len(self.y)]\n",
    "\n",
    "    def __init__(self, pack, name, load_type):\n",
    "        self.name = name\n",
    "        self.folder = 'StepMania/Songs/{0}/{1}/'.format(pack, name)\n",
    "        self.music_file = self.folder + next(file for file in listdir(self.folder) if file.endswith('.ogg') or file.endswith('.mp3'))\n",
    "        self.stepfile = self.folder + next(file for file in listdir(self.folder) if file.endswith('.ssc') or file.endswith('.sm'))\n",
    "        self.key = '{0}~{1}'.format(pack, name)\n",
    "        \n",
    "        if load_type == 'from_music':\n",
    "            self.load_misc_from_music()\n",
    "            self.calculate_features()\n",
    "            pd.DataFrame([self.offset, self.bpm]).to_csv('data/{0}_misc.csv'.format(key), index=False)\n",
    "            pd.DataFrame(self.beat_features).to_csv('data/{0}_beat_features.csv'.format(key), index=False)\n",
    "        \n",
    "        if load_type == 'from_stepfile':\n",
    "            self.load_misc_from_stepfile()\n",
    "            #self.calculate_features()\n",
    "            #pd.DataFrame([self.offset, self.bpm]).to_csv('data/{0}_misc.csv'.format(key), index=False)\n",
    "            #pd.DataFrame(self.beat_features).to_csv('data/{0}_beat_features.csv'.format(key), index=False)\n",
    "            \n",
    "        if load_type == 'from_store':\n",
    "            if not '{0}_beat_features.csv'.format(key) in listdir('data'):\n",
    "                print ('Song hasnt been loaded yet')\n",
    "            else:\n",
    "                self.test = pd.read_csv('data/{0}_misc.csv'.format(key)).values\n",
    "                self.beat_features = pd.read_csv('data/{0}_beat_features.csv'.format(key)).values"
   ]
  },
  {
   "cell_type": "code",
   "execution_count": 351,
   "metadata": {
    "collapsed": false
   },
   "outputs": [
    {
     "data": {
      "text/plain": [
       "{'In The Groove~Anubis': <__main__.SongFile at 0x11da1e978>}"
      ]
     },
     "execution_count": 351,
     "metadata": {},
     "output_type": "execute_result"
    }
   ],
   "source": [
    "song_from_music = load_songs([('In The Groove', 'Anubis')], 'from_stepfile')\n",
    "song_from_music"
   ]
  },
  {
   "cell_type": "markdown",
   "metadata": {},
   "source": [
    "# Some useful functions to load induvidual or lists of songs\n",
    "- load_song(pack: String, pack: String, force_new: Bool)\n",
    "- load_songs(songs: Array(Pair(String~pack, String~title)), force_new: Bool)\n",
    "- load_all_songs(force_new: Bool)"
   ]
  },
  {
   "cell_type": "code",
   "execution_count": 347,
   "metadata": {
    "collapsed": false
   },
   "outputs": [],
   "source": [
    "def load_songs(songs, load_type):\n",
    "    return {'{0}~{1}'.format(song[0], song[1]): SongFile(song[0], song[1], load_type) for song in songs}\n",
    "\n",
    "def load_all_songs(load_type):\n",
    "    songs = [('In The Groove', song) for song in listdir('StepMania/Songs/In The Groove') if song != '.DS_Store']\n",
    "    songs.extend([('a_test', song) for song in ['A', 'B', 'C']])\n",
    "    return load_songs(songs, load_type)"
   ]
  },
  {
   "cell_type": "markdown",
   "metadata": {},
   "source": [
    "# Functions to get bpm from song\n",
    "- get_beats(beat_times: Array(Float), beat_frames: Array(Int))"
   ]
  },
  {
   "cell_type": "code",
   "execution_count": 78,
   "metadata": {
    "collapsed": false
   },
   "outputs": [],
   "source": [
    "def get_beats(beat_times, beat_frames):\n",
    "    changes = []\n",
    "    changes_time = []\n",
    "    for i in range(len(beat_frames) - 1):\n",
    "        changes.append(beat_frames[i + 1] - beat_frames[i])\n",
    "        changes_time.append(beat_times[i + 1] - beat_times[i])\n",
    "\n",
    "    sorted_changes = sorted(changes)\n",
    "    median = sorted_changes[int(len(changes) / 2)]\n",
    "    median = max(set(sorted_changes), key=sorted_changes.count)\n",
    "\n",
    "    changes_counted = [False] * len(changes)\n",
    "    time_changes_sum = 0\n",
    "    time_changes_count = 0\n",
    "    for i in range(len(changes)):\n",
    "        # can use other factors (eg if song has a slow part take double beats into accout)\n",
    "        # in [0.5, 1, 2]:\n",
    "        for change_factor in [1]:\n",
    "            if abs((changes[i] * change_factor) - median) <= hop_length_down:\n",
    "                changes_counted[i] = True\n",
    "                time_changes_sum += (changes_time[i] * change_factor)\n",
    "                time_changes_count += change_factor\n",
    "            \n",
    "    average = time_changes_sum / time_changes_count\n",
    "    \n",
    "    time_differences = []\n",
    "    earliest_proper_beat = 1\n",
    "    for i in range(1, len(beat_times) - 1):\n",
    "        if changes_counted[i] & changes_counted[i - 1]:\n",
    "            earliest_proper_beat = i\n",
    "            break\n",
    "            \n",
    "    last_proper_beat = len(beat_times) -2\n",
    "    for i in range(1, len(beat_times) - 1):\n",
    "        if changes_counted[len(beat_times) - i - 1] & changes_counted[len(beat_times) - i - 2]:\n",
    "            last_proper_beat = len(beat_times) - i - 1\n",
    "            break\n",
    "    \n",
    "    time_differences = []\n",
    "    buffer = 5\n",
    "    for i in range(20):\n",
    "        start_beat = earliest_proper_beat + buffer * i\n",
    "        if changes_counted[start_beat] & changes_counted[start_beat - 1]:\n",
    "            for j in range(20):\n",
    "                end_beat = last_proper_beat - buffer * j\n",
    "                if changes_counted[end_beat] & changes_counted[end_beat - 1]:\n",
    "                    time_differences.append(beat_times[end_beat] - beat_times[start_beat])\n",
    "        \n",
    "    # get num beats, round, and make new average\n",
    "    new_averages = [time_difference / round(time_difference / average) for time_difference in time_differences]\n",
    "    #print (new_averages)\n",
    "    new_averages.sort()\n",
    "    num_averages = len(new_averages)\n",
    "    #new_average = sum(new_averages[5:num_averages - 5]) / (num_averages - 10)\n",
    "    new_average = new_averages[int(num_averages/2)]\n",
    "    bpm = 60./new_average\n",
    "    while bpm >= 200:\n",
    "        bpm /= 2\n",
    "    while bpm < 100:\n",
    "        bpm *= 2\n",
    "    return bpm"
   ]
  },
  {
   "cell_type": "markdown",
   "metadata": {},
   "source": [
    "# Helpers to test get_beats() above\n",
    "- get_bpm(file: String)\n",
    "- get_song_bpms()\n",
    "- test_get_beats(song_data: Map(SongData))"
   ]
  },
  {
   "cell_type": "code",
   "execution_count": 12,
   "metadata": {
    "collapsed": false
   },
   "outputs": [],
   "source": [
    "def get_bpm(file):\n",
    "    with open(file, \"r\") as ins:\n",
    "        result = re.search('#BPMS:(.*);', line)\n",
    "        bpm_string = result.group(1)\n",
    "        if len(bpm_string.split(',')) == 1:\n",
    "            return float(bpm_string.split('=')[1])\n",
    "        return 0\n",
    "    return 0\n",
    "\n",
    "def get_song_bpms(song_data):\n",
    "    song_bpms = {}\n",
    "    for key, song in song_data.items():\n",
    "        song_bpms[key] = get_bpm('StepMania/Songs/{0}/{1}/{1}.sm'.format(song.pack, song.name))\n",
    "    return song_bpms\n",
    "\n",
    "def test_get_beats(song_data):\n",
    "    song_bpms = get_song_bpms(song_data)\n",
    "    errors = []\n",
    "    for key in song_data:\n",
    "        song = song_data[key]\n",
    "        real_beat = song_bpms[key]\n",
    "        if real_beat != 0:\n",
    "            prediced_beat = get_beats(song.beat_times, song.beat_frames)[0][1]\n",
    "            for i in range (1,4):\n",
    "                if abs((prediced_beat * (i + 1) / (i)) - real_beat) < abs(prediced_beat - real_beat):\n",
    "                    prediced_beat *= (i + 1) / (i)\n",
    "            print ('{0:.3f} - {1:.3f} = {2:.3f} ({3})'.format(prediced_beat, real_beat, prediced_beat - real_beat, song.name))\n",
    "\n",
    "#songs = [('In The Groove', song) for song in listdir('StepMania/Songs/In The Groove') if song != '.DS_Store'][:15]\n",
    "#song_data_temp = load_songs(songs, True)\n",
    "#test_get_beats(song_data_temp)"
   ]
  },
  {
   "cell_type": "markdown",
   "metadata": {},
   "source": [
    "# Helpers to read .sm and return notes and meta data\n",
    "- get_notes_from_note_string(note_string)\n",
    "- get_notes_and_metadata(file)\n",
    "- get_song_steps()"
   ]
  },
  {
   "cell_type": "code",
   "execution_count": 13,
   "metadata": {
    "collapsed": false
   },
   "outputs": [],
   "source": [
    "regex_notes_with_metadata = '#NOTES:n     dance-single((?:(?!//-).)*);'\n",
    "regex_metadata_split = ':n     (.*):n     (.*):n     (.*):n     (.*):n     (.*):(.*);'\n",
    "def get_notes_from_note_string(note_string):\n",
    "    measure_comments = re.findall('( )*//( )*measure( )*[0-9]*', note_string)\n",
    "    note_strings_split = re.split(r'n', note_string)[1:-1]\n",
    "    notes = []\n",
    "    bar = []\n",
    "    for row in note_strings_split:\n",
    "        if len(row) == 4:\n",
    "            bar.append(row)\n",
    "        else:\n",
    "            notes.append(bar)\n",
    "            bar = []\n",
    "    return note_strings_split\n",
    "\n",
    "def get_notes_and_metadata(file):\n",
    "    difficulty_map = {}\n",
    "    with open(file) as txt:\n",
    "        step_file = txt.read()\n",
    "        step_file = step_file.replace('\\n', 'n')\n",
    "        notes_with_metadata_groups = re.finditer(regex_notes_with_metadata, step_file)\n",
    "        for match in notes_with_metadata_groups:\n",
    "            notes_with_metadata = match.group(0)\n",
    "            split_data = re.search(regex_metadata_split, notes_with_metadata)\n",
    "            difficulty = split_data.group(4)\n",
    "            metadata = split_data.group(5)\n",
    "            notes = get_notes_from_note_string(split_data.group(6))\n",
    "            notes_with_metadata_map = {\n",
    "                'DIFFICULTY': difficulty,\n",
    "                'METADATA': metadata,\n",
    "                'NOTES': notes,\n",
    "            }\n",
    "            difficulty_map[difficulty] = notes_with_metadata_map\n",
    "    return difficulty_map\n",
    "\n",
    "def get_song_steps():\n",
    "    songs = [song for song in listdir('StepMania/Songs/In The Groove')]\n",
    "    songs.remove('.DS_Store')\n",
    "    song_steps = {}\n",
    "    for song in songs:\n",
    "        song_steps['In The Groove~{0}'.format(song)] = get_notes_and_metadata('StepMania/Songs/In The Groove/{0}/{0}.sm'.format(song))\n",
    "    return song_steps"
   ]
  },
  {
   "cell_type": "code",
   "execution_count": 76,
   "metadata": {
    "collapsed": false
   },
   "outputs": [],
   "source": [
    "def write_song_header(output_stepfile, song):\n",
    "    keys = ['VERSION', 'TITLE', 'MUSIC', 'OFFSET', 'SAMPLESTART', 'SAMPLELENGTH']\n",
    "    \n",
    "    header_info = {\n",
    "        'VERSION': 0.82,\n",
    "        'TITLE': song.name,\n",
    "        'MUSIC': '{0}.{1}'.format(song.name, song.extension),\n",
    "        'OFFSET': -song.offset,\n",
    "        'SAMPLESTART': song.offset + 32 * song.beat_length,\n",
    "        'SAMPLELENGTH': 32 * song.beat_length\n",
    "    }\n",
    "    \n",
    "    for key in keys:\n",
    "        print (\"#{0}:{1};\".format(key, str(header_info[key])), file=output_stepfile)\n",
    "        \n",
    "def write_step_header(output_stepfile, song):\n",
    "    print(\"//---------------dance-single - ----------------\", file=output_stepfile)\n",
    "    keys = ['NOTEDATA', 'CHARTNAME', 'STEPSTYPE', 'DIFFICULTY', 'METER', 'RADARVALUES', 'BPMS']\n",
    "        \n",
    "    step_info = {\n",
    "        'NOTEDATA': '',\n",
    "        'CHARTNAME': 'Kommisar',\n",
    "        'STEPSTYPE': 'dance-single',\n",
    "        'DIFFICULTY': 'Beginner',\n",
    "        'METER': 1,\n",
    "        'RADARVALUES': '0.234,0.292,0.008,0,0,211,212,1,0,0,0,0,0,0,0.234,0.292,0.008,0,0,211,212,1,0,0,0,0,0,0',\n",
    "        'BPMS': '0={:.3f}'.format(song.bpm)\n",
    "    }\n",
    "    for key in keys:\n",
    "        print (\"#{0}:{1};\".format(key, str(step_info[key])), file=output_stepfile)\n",
    "        \n",
    "def write_notes_simple(output_stepfile, song):\n",
    "    print (\"#NOTES:\", file=output_stepfile)\n",
    "    \n",
    "    for i in range(40):\n",
    "        print (\"0001\\n0001\\n0001\\n0001\\n,\", file=output_stepfile)\n",
    "    print (\"0000;\", file=output_stepfile)\n",
    "    \n",
    "def write_notes(output_stepfile, song):\n",
    "    print (\"#NOTES:\", file=output_stepfile)\n",
    "    \n",
    "    samples = song.music_samples\n",
    "    # take steps_per_bar / 4 samples per beat (steps_per_bar per bar)\n",
    "    steps_per_beat = steps_per_bar / 4\n",
    "    filter_ammount = samples_per_beat / steps_per_beat\n",
    "    \n",
    "    absolute_samples = [samples[i] for i in range(len(samples)) if i % filter_ammount == 0]\n",
    "    # show 1 / 3 of all notes\n",
    "    cutoff_index = int(len(absolute_samples) / 3)\n",
    "    cutoff = sorted(absolute_samples)[-cutoff_index]\n",
    "    indices = [sample > cutoff for sample in absolute_samples]\n",
    "    \n",
    "    for i in range(len(indices)):\n",
    "        if indices[i]:\n",
    "            print (\"0001\", file=output_stepfile)\n",
    "        else:\n",
    "            print (\"0000\", file=output_stepfile)\n",
    "        if i % steps_per_bar == 0 and i != 0:\n",
    "            print (\",\", file=output_stepfile)\n",
    "\n",
    "    print (\"0000;\", file=output_stepfile)\n",
    "    \n",
    "def write_notes_with_onsets(output_stepfile, song):\n",
    "    print (\"#NOTES:\", file=output_stepfile)\n",
    "    onsets = librosa.onset.onset_detect(y=song.y, sr=sr, hop_length=512)\n",
    "    onsets_scaled = [onset * 512 for onset in onsets]\n",
    "    \n",
    "    indices = [song.indices[i] for i in range(len(song.indices)) if i % 2 == 0]\n",
    "\n",
    "    i = 0\n",
    "    onset_happened_in_frame = [False] * len(indices)\n",
    "    for onset in onsets_scaled:\n",
    "        while abs(onset - indices[i]) > abs(onset - indices[i + 1]):\n",
    "            i += 1\n",
    "        onset_happened_in_frame[i] = True\n",
    "        \n",
    "    for i in range(len(onset_happened_in_frame)):\n",
    "        if onset_happened_in_frame[i]:\n",
    "            print (\"0001\", file=output_stepfile)\n",
    "        else:\n",
    "            print (\"0000\", file=output_stepfile)\n",
    "        if i % 24 == 23 and i != 0:\n",
    "            print (\",\", file=output_stepfile)\n",
    "\n",
    "    print (\"0000;\", file=output_stepfile)\n",
    "    \n",
    "def step_song(song):\n",
    "    output_stepfile=open(song.stepfile, 'w')\n",
    "    write_song_header(output_stepfile, song)\n",
    "    write_step_header(output_stepfile, song)\n",
    "    write_notes_with_onsets(output_stepfile, song)\n",
    "    output_stepfile.close()"
   ]
  },
  {
   "cell_type": "code",
   "execution_count": 27,
   "metadata": {
    "collapsed": false
   },
   "outputs": [
    {
     "name": "stdout",
     "output_type": "stream",
     "text": [
      "Calculating beats for a_test~A\n"
     ]
    },
    {
     "name": "stderr",
     "output_type": "stream",
     "text": [
      "/Users/jgzuke/anaconda3/lib/python3.5/site-packages/numpy/core/numeric.py:482: VisibleDeprecationWarning: using a non-integer number instead of an integer will result in an error in the future\n",
      "  return array(a, dtype, copy=False, order=order)\n",
      "/Users/jgzuke/anaconda3/lib/python3.5/site-packages/ipykernel/__main__.py:26: VisibleDeprecationWarning: using a non-integer number instead of an integer will result in an error in the future\n"
     ]
    },
    {
     "name": "stdout",
     "output_type": "stream",
     "text": [
      "Saving calculated beats for a_test~A\n"
     ]
    }
   ],
   "source": [
    "song = load_song('a_test', 'A', True)\n",
    "backup1 = copy.deepcopy(song)\n",
    "#song2 = load_song('a_test', 'Fire', True)\n",
    "#song3 = load_song('a_test', 'WeBelongTogether', True)\n",
    "#song4 = load_song('a_test', 'CallMeBaby', True)"
   ]
  },
  {
   "cell_type": "code",
   "execution_count": 77,
   "metadata": {
    "collapsed": false
   },
   "outputs": [],
   "source": [
    "step_song(song)\n",
    "#step_song(song2)\n",
    "#step_song(song3)"
   ]
  },
  {
   "cell_type": "code",
   "execution_count": 143,
   "metadata": {
    "collapsed": false
   },
   "outputs": [],
   "source": [
    "y_harmonic, y_percussive = librosa.effects.hpss(song.y)"
   ]
  },
  {
   "cell_type": "code",
   "execution_count": 144,
   "metadata": {
    "collapsed": false
   },
   "outputs": [],
   "source": [
    "beat_frames = librosa.samples_to_frames(song.indices)"
   ]
  },
  {
   "cell_type": "code",
   "execution_count": 145,
   "metadata": {
    "collapsed": false
   },
   "outputs": [],
   "source": [
    "# Compute MFCC features from the raw signal\n",
    "mfcc = librosa.feature.mfcc(y=song.y, sr=sr, hop_length=512, n_mfcc=13)"
   ]
  },
  {
   "cell_type": "code",
   "execution_count": 146,
   "metadata": {
    "collapsed": true
   },
   "outputs": [],
   "source": [
    "# And the first-order differences (delta features)\n",
    "mfcc_delta = librosa.feature.delta(mfcc)"
   ]
  },
  {
   "cell_type": "code",
   "execution_count": 147,
   "metadata": {
    "collapsed": false
   },
   "outputs": [],
   "source": [
    "# Stack and synchronize between beat events\n",
    "# This time, we'll use the mean value (default) instead of median\n",
    "beat_mfcc_delta = librosa.feature.sync(np.vstack([mfcc, mfcc_delta]), beat_frames)"
   ]
  },
  {
   "cell_type": "code",
   "execution_count": 148,
   "metadata": {
    "collapsed": false
   },
   "outputs": [
    {
     "name": "stderr",
     "output_type": "stream",
     "text": [
      "/Users/jgzuke/anaconda3/lib/python3.5/site-packages/numpy/core/numeric.py:482: VisibleDeprecationWarning: using a non-integer number instead of an integer will result in an error in the future\n",
      "  return array(a, dtype, copy=False, order=order)\n"
     ]
    }
   ],
   "source": [
    "# Compute chroma features from the harmonic signal\n",
    "chromagram = librosa.feature.chroma_cqt(y=y_harmonic, sr=sr)"
   ]
  },
  {
   "cell_type": "code",
   "execution_count": 151,
   "metadata": {
    "collapsed": true
   },
   "outputs": [],
   "source": [
    "# Aggregate chroma features between beat events\n",
    "# We'll use the median value of each feature between beat frames\n",
    "beat_chroma = librosa.feature.sync(chromagram, beat_frames, aggregate=np.median)"
   ]
  },
  {
   "cell_type": "code",
   "execution_count": 182,
   "metadata": {
    "collapsed": false
   },
   "outputs": [],
   "source": [
    "custom_hop = 256\n",
    "onset_env = librosa.onset.onset_strength(y=song.y, sr=sr, hop_length=custom_hop)\n",
    "onsets = librosa.onset.onset_detect(y=song.y, sr=sr, onset_envelope=onset_env, hop_length=custom_hop)\n",
    "\n",
    "i = 0\n",
    "onset_happened_in_frame = [0] * (len(song.indices) + 1)\n",
    "for onset in onsets:\n",
    "    onset_scaled = onset * custom_hop\n",
    "    while abs(onset_scaled - song.indices[i]) > abs(onset_scaled - song.indices[i + 1]):\n",
    "        i += 1\n",
    "    onset_happened_in_frame[i] = max(onset_env[onset], onset_env[onset + 1], onset_env[onset + 2], onset_env[onset + 3], onset_env[onset + 4])"
   ]
  },
  {
   "cell_type": "code",
   "execution_count": 252,
   "metadata": {
    "collapsed": false
   },
   "outputs": [],
   "source": [
    "indices = [0]\n",
    "indices.extend(song.indices)\n",
    "max_offset_bounds = [(int(indices[i] / custom_hop), int(indices[i + 1] / custom_hop)) for i in range(len(indices) - 1)]\n",
    "max_offset_strengths = [max(onset_env[bounds[0]:bounds[1]]) for bounds in max_offset_bounds]\n",
    "max_offset_strengths.append(0)"
   ]
  },
  {
   "cell_type": "code",
   "execution_count": 253,
   "metadata": {
    "collapsed": false
   },
   "outputs": [],
   "source": [
    "# Finally, stack all beat-synchronous features together\n",
    "beat_features = np.vstack([beat_chroma, beat_mfcc_delta, [onset_happened_in_frame, max_offset_strengths]])"
   ]
  },
  {
   "cell_type": "code",
   "execution_count": 254,
   "metadata": {
    "collapsed": false
   },
   "outputs": [
    {
     "data": {
      "text/plain": [
       "(40, 9427)"
      ]
     },
     "execution_count": 254,
     "metadata": {},
     "output_type": "execute_result"
    }
   ],
   "source": [
    "beat_features.shape"
   ]
  }
 ],
 "metadata": {
  "anaconda-cloud": {},
  "kernelspec": {
   "display_name": "Python 3",
   "language": "python",
   "name": "python3"
  },
  "language_info": {
   "codemirror_mode": {
    "name": "ipython",
    "version": 3
   },
   "file_extension": ".py",
   "mimetype": "text/x-python",
   "name": "python",
   "nbconvert_exporter": "python",
   "pygments_lexer": "ipython3",
   "version": "3.5.1"
  }
 },
 "nbformat": 4,
 "nbformat_minor": 0
}
