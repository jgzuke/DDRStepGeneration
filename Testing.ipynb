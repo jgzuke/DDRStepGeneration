{
 "cells": [
  {
   "cell_type": "code",
   "execution_count": null,
   "metadata": {
    "collapsed": false
   },
   "outputs": [],
   "source": [
    "#VERSION:0.83;\n",
    "#TITLE:A;\n",
    "#ARTIST:Kommisar;\n",
    "#BANNER:springbn.png;\n",
    "#BACKGROUND:spring.png;\n",
    "#MUSIC:test.mp3;\n",
    "#OFFSET:-0.090;\n",
    "#SAMPLESTART:105.760;\n",
    "#SAMPLELENGTH:15;\n",
    "#SELECTABLE:YES;\n",
    "#DISPLAYBPM:282;\n",
    "#BPMS:0=281.685;\n",
    "#TIMESIGNATURES:0=4=4;\n",
    "#TICKCOUNTS:0=2;\n",
    "#COMBOS:0=1;\n",
    "#SPEEDS:0=1=0=0;\n",
    "#SCROLLS:0=1;\n",
    "#LABELS:0=Song Start;\n",
    "\n",
    "//---------------dance-single - ----------------\n",
    "#NOTEDATA:;\n",
    "#CHARTNAME:Kommisar;\n",
    "#STEPSTYPE:dance-single;\n",
    "#DESCRIPTION:;\n",
    "#CHARTSTYLE:;\n",
    "#DIFFICULTY:Beginner;\n",
    "#METER:1;\n",
    "#RADARVALUES:0.234,0.292,0.008,0,0,211,212,1,0,0,0,0,0,0,0.234,0.292,0.008,0,0,211,212,1,0,0,0,0,0,0;\n",
    "#CREDIT:Kommisar;\n",
    "#OFFSET:-0.090;\n",
    "#BPMS:0=10.685,\n",
    "5=300;\n",
    "#TIMESIGNATURES:0=4=4;\n",
    "#TICKCOUNTS:0=2;\n",
    "#COMBOS:0=1;\n",
    "#SPEEDS:0=1=0=0;\n",
    "#SCROLLS:0=1;\n",
    "#LABELS:0=Song Start;\n",
    "#NOTES:\n",
    "0001\n",
    "0001\n",
    "0001\n",
    "0001\n",
    ",\n",
    "0000\n",
    "0000\n",
    "0000\n",
    "0000;"
   ]
  },
  {
   "cell_type": "code",
   "execution_count": 7,
   "metadata": {
    "collapsed": true
   },
   "outputs": [],
   "source": [
    "import librosa"
   ]
  },
  {
   "cell_type": "code",
   "execution_count": 21,
   "metadata": {
    "collapsed": true
   },
   "outputs": [],
   "source": [
    "y, sr = librosa.load(\"test.mp3\")"
   ]
  },
  {
   "cell_type": "code",
   "execution_count": 22,
   "metadata": {
    "collapsed": false
   },
   "outputs": [
    {
     "name": "stdout",
     "output_type": "stream",
     "text": [
      "Estimated tempo: 184.57 beats per minute\n"
     ]
    }
   ],
   "source": [
    "tempo, beat_frames = librosa.beat.beat_track(y=y, sr=sr)\n",
    "\n",
    "print('Estimated tempo: {:.2f} beats per minute'.format(tempo))"
   ]
  },
  {
   "cell_type": "code",
   "execution_count": 25,
   "metadata": {
    "collapsed": true
   },
   "outputs": [],
   "source": [
    "beat_times = librosa.frames_to_time(beat_frames, sr=sr)"
   ]
  },
  {
   "cell_type": "code",
   "execution_count": null,
   "metadata": {
    "collapsed": false
   },
   "outputs": [],
   "source": [
    "len(y)"
   ]
  },
  {
   "cell_type": "code",
   "execution_count": 74,
   "metadata": {
    "collapsed": true
   },
   "outputs": [],
   "source": [
    "def write_song_header(output_stepfile):\n",
    "    keys = ['VERSION', 'TITLE', 'MUSIC', 'OFFSET', 'SAMPLESTART', 'SAMPLELENGTH']\n",
    "    header_info = {\n",
    "        'VERSION': 0.82,\n",
    "        'TITLE': 'A',\n",
    "        'MUSIC': 'test.mp3',\n",
    "        'OFFSET': -0.090,\n",
    "        'SAMPLESTART': 105.760,\n",
    "        'SAMPLELENGTH': 15\n",
    "    }\n",
    "    for key in keys:\n",
    "        print (\"#{0}:{1};\".format(key, str(header_info[key])), file=output_stepfile)"
   ]
  },
  {
   "cell_type": "code",
   "execution_count": 75,
   "metadata": {
    "collapsed": true
   },
   "outputs": [],
   "source": [
    "def write_step_header(output_stepfile):\n",
    "    print(\"//---------------dance-single - ----------------\", file=output_stepfile)\n",
    "    keys = ['NOTEDATA', 'CHARTNAME', 'STEPSTYPE', 'DIFFICULTY', 'METER', 'RADARVALUES', 'BPMS']\n",
    "    step_info = {\n",
    "        'NOTEDATA': '',\n",
    "        'CHARTNAME': 'Kommisar',\n",
    "        'STEPSTYPE': 'dance-single',\n",
    "        'DIFFICULTY': 'Beginner',\n",
    "        'METER': 1,\n",
    "        'RADARVALUES': '0.234,0.292,0.008,0,0,211,212,1,0,0,0,0,0,0,0.234,0.292,0.008,0,0,211,212,1,0,0,0,0,0,0',\n",
    "        'BPMS': '0=184.57'\n",
    "    }\n",
    "    for key in keys:\n",
    "        print (\"#{0}:{1};\".format(key, str(step_info[key])), file=output_stepfile)"
   ]
  },
  {
   "cell_type": "code",
   "execution_count": 76,
   "metadata": {
    "collapsed": true
   },
   "outputs": [],
   "source": [
    "def write_notes(output_stepfile):\n",
    "    print (\"#NOTES:\", file=output_stepfile)\n",
    "    \n",
    "    for i in range(5):\n",
    "        print (\"0101\\n,\", file=output_stepfile)\n",
    "    print (\"0000;\", file=output_stepfile)"
   ]
  },
  {
   "cell_type": "code",
   "execution_count": 77,
   "metadata": {
    "collapsed": false
   },
   "outputs": [],
   "source": [
    "output_stepfile=open('StepMania/Songs/StepMania 5/A/A.ssc', 'w')\n",
    "from __future__ import print_function\n",
    "write_song_header(output_stepfile)\n",
    "write_step_header(output_stepfile)\n",
    "write_notes(output_stepfile)\n",
    "output_stepfile.close()"
   ]
  },
  {
   "cell_type": "code",
   "execution_count": null,
   "metadata": {
    "collapsed": true
   },
   "outputs": [],
   "source": []
  }
 ],
 "metadata": {
  "kernelspec": {
   "display_name": "Python 3",
   "language": "python",
   "name": "python3"
  },
  "language_info": {
   "codemirror_mode": {
    "name": "ipython",
    "version": 3
   },
   "file_extension": ".py",
   "mimetype": "text/x-python",
   "name": "python",
   "nbconvert_exporter": "python",
   "pygments_lexer": "ipython3",
   "version": "3.5.1"
  }
 },
 "nbformat": 4,
 "nbformat_minor": 0
}
