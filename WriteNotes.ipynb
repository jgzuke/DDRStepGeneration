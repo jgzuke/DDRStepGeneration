{
 "cells": [
  {
   "cell_type": "code",
   "execution_count": 273,
   "metadata": {
    "collapsed": false
   },
   "outputs": [],
   "source": [
    "from __future__ import print_function\n",
    "import copy\n",
    "import pandas as pd\n",
    "import numpy as np\n",
    "import librosa\n",
    "import seaborn as sb\n",
    "import matplotlib.pyplot as plt\n",
    "import itertools\n",
    "import re\n",
    "import random\n",
    "import gc\n",
    "import os\n",
    "from os import listdir\n",
    "from os.path import isfile, join\n",
    "from numpy import median, diff\n",
    "from keras.models import Sequential\n",
    "from keras.layers import Dense, Activation, Dropout, BatchNormalization"
   ]
  },
  {
   "cell_type": "code",
   "execution_count": 274,
   "metadata": {
    "collapsed": true
   },
   "outputs": [],
   "source": [
    "steps_per_bar = 48\n",
    "class SongFile:\n",
    "    def __init__(self, key, folder, stepfile, music_file):\n",
    "        misc = pd.read_csv('data/{0}_misc.csv'.format(key)).values\n",
    "        self.beat_importance = pd.read_csv('generated_data/{0}_importance_generated.csv'.format(key), converters={'0': lambda x: float(x)}).values\n",
    "        self.notes = pd.read_csv('data/{0}_notes.csv'.format(key), converters={'0': lambda x: str(x)}).values\n",
    "        self.folder = folder\n",
    "        self.name = key.split('~')[1]\n",
    "        self.music_name = music_file\n",
    "        self.stepfile_name = stepfile\n",
    "        self.offset = misc[0][0]\n",
    "        self.beat_length = 60. / misc[1][0]\n",
    "        self.bpm = misc[1][0]\n",
    "        self.extension = music_file.split('.')[1]"
   ]
  },
  {
   "cell_type": "code",
   "execution_count": 296,
   "metadata": {
    "collapsed": false
   },
   "outputs": [],
   "source": [
    "songs_to_use = pd.read_csv('data/songs_to_use.csv').values\n",
    "save_files = listdir('data')\n",
    "save_files_generated = listdir('generated_data')\n",
    "songs = {}\n",
    "for song_data in songs_to_use:\n",
    "    key = song_data[0]\n",
    "    if '{0}_misc.csv'.format(key) in save_files and '{0}_importance_generated.csv'.format(key) in save_files_generated:\n",
    "        songs[key] = SongFile(key, song_data[1], song_data[2], song_data[3])"
   ]
  },
  {
   "cell_type": "code",
   "execution_count": 302,
   "metadata": {
    "collapsed": false
   },
   "outputs": [],
   "source": [
    "beats_to_track = 48\n",
    "num_classes = 3\n",
    "class_map = {\n",
    "    '0': 0,\n",
    "    '1': 1,\n",
    "    '2': 1,\n",
    "    '3': 0,\n",
    "    '4': 1,\n",
    "    'M': 2\n",
    "}\n",
    "\n",
    "def get_is_note(i, notes):\n",
    "    if i < 0:\n",
    "        return [0, 0, 0, 0]\n",
    "    return [char == '1' for char in notes[i][0]]\n",
    "\n",
    "def get_is_mine(i, notes):\n",
    "    if i < 0:\n",
    "        return [0, 0, 0, 0]\n",
    "    return [char == 'M' for char in notes[i][0]]\n",
    "\n",
    "def get_note_class(note):\n",
    "    if i < 0:\n",
    "        return 0\n",
    "    return class_map[note] if note in class_map else 0\n",
    "\n",
    "def get_row_classes(row):\n",
    "    return [get_note_class(note) for note in row[0]]\n",
    "\n",
    "X = []\n",
    "y = []\n",
    "for key in songs:\n",
    "    beat_importance = songs[key].beat_importance\n",
    "    notes = songs[key].notes\n",
    "    length = min(len(beat_importance), len(notes))\n",
    "    is_note = np.array([get_is_note(j, notes) for j in range(-beats_to_track, length)])\n",
    "    is_mine = np.array([get_is_note(j, notes) for j in range(-beats_to_track, length)])\n",
    "    importances = [0 if j < 0 else beat_importance[j][0] for j in range(-beats_to_track, length)]\n",
    "    for i in range(length):\n",
    "        if get_row_classes(notes[i]) != [0, 0, 0, 0] or random.randint(0, 5) == 0:\n",
    "            X_row = np.concatenate((is_note[i:i + beats_to_track - 1].flatten(), is_mine[i:i + beats_to_track - 1].flatten(), importances[i:i + beats_to_track]), axis=0)\n",
    "            X.append(X_row)\n",
    "            y.append(get_row_classes(notes[i]))\n",
    "\n",
    "# TODO: filter some 0's from y here to make output more fun\n",
    "\n",
    "\n",
    "X = np.array(X)\n",
    "y = np.array(y)"
   ]
  },
  {
   "cell_type": "code",
   "execution_count": 303,
   "metadata": {
    "collapsed": false
   },
   "outputs": [
    {
     "data": {
      "text/plain": [
       "169174"
      ]
     },
     "execution_count": 303,
     "metadata": {},
     "output_type": "execute_result"
    }
   ],
   "source": [
    "len(X)"
   ]
  },
  {
   "cell_type": "code",
   "execution_count": 306,
   "metadata": {
    "collapsed": true
   },
   "outputs": [],
   "source": [
    "def build_model():\n",
    "    model = Sequential()\n",
    "\n",
    "    model.add(Dense(200, input_dim=424, init='uniform'))\n",
    "    model.add(BatchNormalization())\n",
    "    model.add(Activation('tanh'))\n",
    "    model.add(Dropout(0.5))\n",
    "\n",
    "    model.add(Dense(500, init='uniform'))\n",
    "    model.add(BatchNormalization())\n",
    "    model.add(Activation('tanh'))\n",
    "    model.add(Dropout(0.5))\n",
    "\n",
    "    model.add(Dense(500, init='uniform'))\n",
    "    model.add(BatchNormalization())\n",
    "    model.add(Activation('tanh'))\n",
    "    model.add(Dropout(0.5))\n",
    "\n",
    "    model.add(Dense(num_classes, init='uniform'))\n",
    "    model.add(BatchNormalization())\n",
    "    model.add(Activation('softmax'))\n",
    "\n",
    "    model.compile(loss='categorical_crossentropy',\n",
    "                               optimizer='adadelta',\n",
    "                               metrics=['accuracy'])\n",
    "    \n",
    "    return model"
   ]
  },
  {
   "cell_type": "code",
   "execution_count": 307,
   "metadata": {
    "collapsed": true
   },
   "outputs": [],
   "source": [
    "#TODO: build models for either side instead of one left one right\n",
    "models = [build_model() for i in range(4)]"
   ]
  },
  {
   "cell_type": "code",
   "execution_count": null,
   "metadata": {
    "collapsed": false
   },
   "outputs": [
    {
     "name": "stdout",
     "output_type": "stream",
     "text": [
      "Epoch 1/8\n",
      " 16440/169174 [=>............................] - ETA: 101s - loss: 0.4821 - acc: 0.8779"
     ]
    }
   ],
   "source": [
    "for i in range(4):\n",
    "    y_transformed = [row[i] for row in y]\n",
    "    y_one_hot = np.zeros((len(y_transformed), num_classes))\n",
    "    y_one_hot[np.arange(len(y_transformed)), y_transformed] = 1\n",
    "\n",
    "    models[i].fit(np.array(X), np.array(y_one_hot), nb_epoch=2, batch_size=5)"
   ]
  },
  {
   "cell_type": "code",
   "execution_count": 256,
   "metadata": {
    "collapsed": false
   },
   "outputs": [],
   "source": [
    "outputs = {\n",
    "    0: '0',\n",
    "    1: '1',\n",
    "    2: 'M'\n",
    "}\n",
    "# TODO: make 3/4's less common by penalizing here or figure out how in model\n",
    "def get_output_for_note(note_class_predictions):\n",
    "    return outputs[np.argmax(note_class_predictions)]\n",
    "\n",
    "def get_output_for_index(y, i):\n",
    "    columns = [y[j][i] for j in range(4)]\n",
    "    return ''.join([get_output_for_note(note) for note in columns])"
   ]
  },
  {
   "cell_type": "code",
   "execution_count": 257,
   "metadata": {
    "collapsed": true
   },
   "outputs": [],
   "source": [
    "def get_output(song):\n",
    "    X = []\n",
    "    beat_importance = songs[key].beat_importance\n",
    "    notes = songs[key].notes\n",
    "    for i in range(len(notes)):\n",
    "        is_note = np.array([get_is_note(j, notes) for j in range(i - beats_to_track, i - 1)]).flatten()\n",
    "        is_mine = np.array([get_is_mine(j, notes) for j in range(i - beats_to_track, i - 1)]).flatten()\n",
    "        importances = [0 if j < 0 else beat_importance[j][0] for j in range(i - beats_to_track, i)]\n",
    "        X_row = np.concatenate((is_note, is_mine, importances), axis=0)\n",
    "        X.append(X_row)\n",
    "        \n",
    "    X = np.array(X)\n",
    "    y = [models[i].predict(X) for i in range(4)]\n",
    "    output = [get_output_for_index(y, i) for i in range(len(notes))]\n",
    "    return output"
   ]
  },
  {
   "cell_type": "code",
   "execution_count": 258,
   "metadata": {
    "collapsed": false
   },
   "outputs": [],
   "source": [
    "def write_song_header(output_stepfile, song):\n",
    "    keys = ['TITLE', 'MUSIC', 'OFFSET', 'SAMPLESTART', 'SAMPLELENGTH', 'SELECTABLE', 'BPMS']\n",
    "    header_info = {\n",
    "        'TITLE': song.name,\n",
    "        'MUSIC': '{0}.{1}'.format(song.name, song.extension),\n",
    "        'OFFSET': -song.offset,\n",
    "        'SAMPLESTART': song.offset + 32 * song.beat_length,\n",
    "        'SAMPLELENGTH': 32 * song.beat_length,\n",
    "        'SELECTABLE': 'YES',\n",
    "        'BPMS': '0.000={:.3f}'.format(song.bpm)\n",
    "    }\n",
    "    \n",
    "    for key in keys:\n",
    "        print (\"#{0}:{1};\".format(key, str(header_info[key])), file=output_stepfile)\n",
    "        \n",
    "def write_step_header(output_stepfile, song):\n",
    "    print(\"\\n//---------------dance-single - J. Zukewich----------------\", file=output_stepfile)\n",
    "    print (\"#NOTES:\", file=output_stepfile)\n",
    "    for detail in ['dance-single', 'J. Zukewich', 'Expert', '9', '0.242,0.312,0.204,0.000,0.000']:\n",
    "        print ('\\t{0}:'.format(detail), file=output_stepfile)\n",
    "    \n",
    "    for i in range(len(song.predicted_notes)):\n",
    "        row = song.predicted_notes[i]\n",
    "        print (row, file=output_stepfile)\n",
    "        if i % steps_per_bar == steps_per_bar - 1:\n",
    "            print (\",\", file=output_stepfile)\n",
    "\n",
    "    print (\"0000;\", file=output_stepfile)\n",
    "    \n",
    "def step_song(song):\n",
    "    if song.name + '.sm' in os.listdir(song.folder) and not song.name + '.sm.backup' in os.listdir(song.folder):\n",
    "        os.rename(song.stepfile_name, song.stepfile_name + '.backup')\n",
    "            \n",
    "    output_stepfile=open(song.stepfile_name, 'w')\n",
    "    write_song_header(output_stepfile, song)\n",
    "    write_step_header(output_stepfile, song)\n",
    "    output_stepfile.close()"
   ]
  },
  {
   "cell_type": "code",
   "execution_count": 259,
   "metadata": {
    "collapsed": false
   },
   "outputs": [],
   "source": [
    "for key in songs:\n",
    "    song = songs[key]\n",
    "    song.predicted_notes = get_output(song)\n",
    "    step_song(song)"
   ]
  },
  {
   "cell_type": "code",
   "execution_count": 260,
   "metadata": {
    "collapsed": false
   },
   "outputs": [
    {
     "data": {
      "text/plain": [
       "{'In The Groove~Anubis': <__main__.SongFile at 0x12a17e438>,\n",
       " 'In The Groove~Bend Your Mind': <__main__.SongFile at 0x13eef2668>,\n",
       " 'In The Groove~Boogie Down': <__main__.SongFile at 0x13eef27f0>,\n",
       " 'In The Groove~Bouff': <__main__.SongFile at 0x132866908>,\n",
       " 'In The Groove~Bubble Dancer': <__main__.SongFile at 0x12704f9e8>}"
      ]
     },
     "execution_count": 260,
     "metadata": {},
     "output_type": "execute_result"
    }
   ],
   "source": [
    "songs"
   ]
  },
  {
   "cell_type": "code",
   "execution_count": null,
   "metadata": {
    "collapsed": true
   },
   "outputs": [],
   "source": []
  }
 ],
 "metadata": {
  "anaconda-cloud": {},
  "kernelspec": {
   "display_name": "Python 3",
   "language": "python",
   "name": "python3"
  },
  "language_info": {
   "codemirror_mode": {
    "name": "ipython",
    "version": 3
   },
   "file_extension": ".py",
   "mimetype": "text/x-python",
   "name": "python",
   "nbconvert_exporter": "python",
   "pygments_lexer": "ipython3",
   "version": "3.5.1"
  }
 },
 "nbformat": 4,
 "nbformat_minor": 0
}
