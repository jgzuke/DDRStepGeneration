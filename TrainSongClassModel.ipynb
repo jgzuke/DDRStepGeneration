{
 "cells": [
  {
   "cell_type": "code",
   "execution_count": 3,
   "metadata": {
    "collapsed": false
   },
   "outputs": [
    {
     "name": "stderr",
     "output_type": "stream",
     "text": [
      "Using Theano backend.\n"
     ]
    }
   ],
   "source": [
    "import pandas as pd\n",
    "import numpy as np\n",
    "import random\n",
    "import gc\n",
    "from os import listdir\n",
    "from xgboost import XGBClassifier\n",
    "from keras.models import Sequential, load_model\n",
    "from keras.layers import Dense, Activation, Dropout, BatchNormalization\n",
    "from keras.optimizers import SGD, RMSprop\n",
    "from sklearn.externals import joblib\n",
    "from sklearn.linear_model import SGDClassifier\n",
    "from sklearn.ensemble import RandomForestClassifier\n",
    "from mlxtend.classifier import EnsembleVoteClassifier"
   ]
  },
  {
   "cell_type": "markdown",
   "metadata": {},
   "source": [
    "# Note types\n",
    "- 0: nothing\n",
    "- 1: step\n",
    "- 2: hold start\n",
    "- 3: hold/roll end\n",
    "- 4: roll start\n",
    "- M: mine\n",
    "\n",
    "# Classes\n",
    "- 0: nothing\n",
    "- 1: one note\n",
    "- 2: two notes\n",
    "- 3: three or four notes\n",
    "- 4: hold start\n",
    "- 5: roll start\n",
    "- 6: mine"
   ]
  },
  {
   "cell_type": "code",
   "execution_count": 15,
   "metadata": {
    "collapsed": false
   },
   "outputs": [
    {
     "data": {
      "text/plain": [
       "[3, 6]"
      ]
     },
     "execution_count": 15,
     "metadata": {},
     "output_type": "execute_result"
    }
   ],
   "source": [
    "get_class_for_index([['111M']], 0)"
   ]
  },
  {
   "cell_type": "code",
   "execution_count": 14,
   "metadata": {
    "collapsed": false
   },
   "outputs": [],
   "source": [
    "samples_back_included = 8\n",
    "num_classes = 7\n",
    "num_features = 40\n",
    "num_features_total = (num_features * samples_back_included) + 4\n",
    "save_files = listdir('data')\n",
    "\n",
    "def get_features_for_index(beat_features, index):\n",
    "    return beat_features[index] if index >= 0 else [0] * num_features\n",
    "\n",
    "def get_class_for_index_expanded(notes, index):\n",
    "    if index < 0:\n",
    "        return [1, 0, 0, 0, 0, 0, 0]\n",
    "    row = notes[index][0]\n",
    "    (steps, holds, rolls, mines) = [row.count(char) for char in ['1', '2', '4', 'M']]\n",
    "    if steps == 0 and mines == 0 and holds == 0 and rolls == 0:\n",
    "        return [1, 0, 0, 0, 0, 0, 0]\n",
    "    steps += (holds + rolls)\n",
    "    return [int(i) for i in [False, steps == 1, steps == 2, steps > 2, holds > 0, rolls > 0, mines > 0]]\n",
    "\n",
    "def get_class_for_index(notes, index):\n",
    "    classes_expanded = get_class_for_index_expanded(notes, index)\n",
    "    return [i for i in range(7) if classes_expanded[i]]\n",
    "    \n",
    "importance_rankings = [48, 24, 12, 16, 6, 8, 3, 4, 2, 1]\n",
    "def get_beat_importance(index):\n",
    "    for i in range(len(importance_rankings)):\n",
    "        if index % importance_rankings[i] == 0:\n",
    "            return i\n",
    "\n",
    "def get_features_for_song(X, y, key, is_full):\n",
    "    if '{0}_beat_features.csv'.format(key) in save_files and '{0}_notes.csv'.format(key) in save_files:\n",
    "        beat_features_rotated = pd.read_csv('data/{0}_beat_features.csv'.format(key)).values\n",
    "        notes = pd.read_csv('data/{0}_notes.csv'.format(key), converters={'0': lambda x: str(x)}).values\n",
    "        beat_features = np.flipud(np.rot90(np.array(beat_features_rotated)))\n",
    "        num_notes = min(len(notes), len(beat_features))\n",
    "        for i in range(num_notes):\n",
    "            class_nums = get_class_for_index(notes, i)\n",
    "            for class_num in class_nums:\n",
    "                if is_full or not (class_num == 0 and random.randint(0, 3) > 0):\n",
    "                    features = [feature for j in range(samples_back_included) for feature in get_features_for_index(beat_features, i - j)]\n",
    "                    features.extend([i % 48, get_beat_importance(i), i / 48, num_notes - i / 48])\n",
    "                    X.append(features)\n",
    "                    y.append(class_num)\n",
    "\n",
    "# Total 243 songs\n",
    "songs_to_use = pd.read_csv('data/songs_to_use.csv').values\n",
    "np.random.shuffle(songs_to_use)\n",
    "def build_training_data(start, end, is_full):\n",
    "    X = []\n",
    "    y = []\n",
    "    for song_data in songs_to_use[start:end]:\n",
    "        get_features_for_song(X, y, song_data[0], is_full)\n",
    "    return np.array(X), np.array(y)"
   ]
  },
  {
   "cell_type": "markdown",
   "metadata": {},
   "source": [
    "## Final Models"
   ]
  },
  {
   "cell_type": "markdown",
   "metadata": {},
   "source": [
    "#### max_depth = 3 (0.881996974281)\n",
    "0.885299268107\n",
    "CPU times: user 1h 55min 59s, sys: 33.4 s, total: 1h 56min 33s\n",
    "Wall time: 31min 36s\n",
    "\n",
    "#### max_depth = 5 (0.882895702581)\n",
    "0.887660335563\n",
    "CPU times: user 3h 8min 31s, sys: 35.2 s, total: 3h 9min 6s\n",
    "Wall time: 51min 12s\n",
    "\n",
    "#### max_depth=7 (0.883434939561)\n",
    "0.896775328155\n",
    "CPU times: user 4h 20min 18s, sys: 52 s, total: 4h 21min 10s\n",
    "Wall time: 1h 10min 44s\n",
    "\n",
    "#### max_depth=10 (0.882386423211)\n",
    "0.916481448221\n",
    "CPU times: user 6h 5min 3s, sys: 1min 37s, total: 6h 6min 40s\n",
    "Wall time: 1h 40min 41s"
   ]
  },
  {
   "cell_type": "code",
   "execution_count": 3,
   "metadata": {
    "collapsed": true
   },
   "outputs": [],
   "source": [
    "xgb_clf = XGBClassifier(max_depth=7, min_child_weight=8, learning_rate=0.05, seed=0, n_estimators=100, subsample=0.80, colsample_bytree=0.80, objective=\"multi:softprob\")\n",
    "# 0.896775328155\n",
    "# 0.883434939561"
   ]
  },
  {
   "cell_type": "code",
   "execution_count": 4,
   "metadata": {
    "collapsed": true
   },
   "outputs": [],
   "source": [
    "rf_clf = RandomForestClassifier(n_estimators = 100, max_features=200, min_samples_leaf=12, verbose=True)\n",
    "# 0.942960202356\n",
    "# 0.882506253651"
   ]
  },
  {
   "cell_type": "code",
   "execution_count": 5,
   "metadata": {
    "collapsed": true
   },
   "outputs": [],
   "source": [
    "sgd_clf = SGDClassifier(loss=\"modified_huber\", n_iter=50)\n",
    "# 0.815508609316\n",
    "# 0.827428696147"
   ]
  },
  {
   "cell_type": "code",
   "execution_count": 6,
   "metadata": {
    "collapsed": false
   },
   "outputs": [
    {
     "name": "stdout",
     "output_type": "stream",
     "text": [
      "CPU times: user 1min 31s, sys: 40 s, total: 2min 11s\n",
      "Wall time: 2min 26s\n"
     ]
    }
   ],
   "source": [
    "%%time\n",
    "X, y = build_training_data(0, 243, True)\n",
    "gc.collect()"
   ]
  },
  {
   "cell_type": "code",
   "execution_count": 7,
   "metadata": {
    "collapsed": false
   },
   "outputs": [
    {
     "name": "stderr",
     "output_type": "stream",
     "text": [
      "[Parallel(n_jobs=1)]: Done  49 tasks       | elapsed: 246.8min\n",
      "[Parallel(n_jobs=1)]: Done 100 out of 100 | elapsed: 507.0min finished\n",
      "[Parallel(n_jobs=1)]: Done  49 tasks       | elapsed:    9.9s\n",
      "[Parallel(n_jobs=1)]: Done 100 out of 100 | elapsed:   21.4s finished\n"
     ]
    },
    {
     "name": "stdout",
     "output_type": "stream",
     "text": [
      "0.882169191936\n",
      "CPU times: user 16h 6min 11s, sys: 3min 15s, total: 16h 9min 27s\n",
      "Wall time: 10h 39min 33s\n"
     ]
    }
   ],
   "source": [
    "%%time\n",
    "eclf = EnsembleVoteClassifier(clfs=[xgb_clf, rf_clf, sgd_clf], weights=[1, 1, 1], voting='soft')\n",
    "eclf.fit(X, y)\n",
    "print (eclf.score(X, y))\n",
    "joblib.dump(eclf, 'models/song_class_eclf/clf.pkl')\n",
    "gc.collect()"
   ]
  },
  {
   "cell_type": "code",
   "execution_count": 8,
   "metadata": {
    "collapsed": true
   },
   "outputs": [],
   "source": [
    "xgb_clf = XGBClassifier(max_depth=7, min_child_weight=8, learning_rate=0.05, seed=0, n_estimators=100, subsample=0.80, colsample_bytree=0.80, objective=\"multi:softprob\")\n",
    "rf_clf = RandomForestClassifier(n_estimators = 100, max_features=200, min_samples_leaf=12, verbose=True)\n",
    "sgd_clf = SGDClassifier(loss=\"modified_huber\", n_iter=50)"
   ]
  },
  {
   "cell_type": "code",
   "execution_count": 9,
   "metadata": {
    "collapsed": false
   },
   "outputs": [
    {
     "name": "stdout",
     "output_type": "stream",
     "text": [
      "CPU times: user 45.5 s, sys: 2.53 s, total: 48.1 s\n",
      "Wall time: 50 s\n"
     ]
    }
   ],
   "source": [
    "%%time\n",
    "X, y = build_training_data(0, 243, False)\n",
    "gc.collect()"
   ]
  },
  {
   "cell_type": "code",
   "execution_count": 10,
   "metadata": {
    "collapsed": false
   },
   "outputs": [
    {
     "name": "stderr",
     "output_type": "stream",
     "text": [
      "[Parallel(n_jobs=1)]: Done  49 tasks       | elapsed: 60.5min\n",
      "[Parallel(n_jobs=1)]: Done 100 out of 100 | elapsed: 123.1min finished\n",
      "[Parallel(n_jobs=1)]: Done  49 tasks       | elapsed:    3.4s\n",
      "[Parallel(n_jobs=1)]: Done 100 out of 100 | elapsed:    7.0s finished\n"
     ]
    },
    {
     "name": "stdout",
     "output_type": "stream",
     "text": [
      "0.832920535706\n",
      "CPU times: user 3h 59min 4s, sys: 27.1 s, total: 3h 59min 31s\n",
      "Wall time: 2h 35min 5s\n"
     ]
    }
   ],
   "source": [
    "%%time\n",
    "eclf = EnsembleVoteClassifier(clfs=[xgb_clf, rf_clf, sgd_clf], weights=[1, 1, 1], voting='soft')\n",
    "eclf.fit(X, y)\n",
    "print (eclf.score(X, y))\n",
    "joblib.dump(eclf, 'models/song_class_eclf_partial/clf.pkl')\n",
    "gc.collect()"
   ]
  },
  {
   "cell_type": "markdown",
   "metadata": {},
   "source": [
    "## Not Using"
   ]
  },
  {
   "cell_type": "code",
   "execution_count": null,
   "metadata": {
    "collapsed": true
   },
   "outputs": [],
   "source": [
    "%%time\n",
    "model = Sequential()\n",
    "\n",
    "model.add(Dense(512, input_shape=(324,)))\n",
    "model.add(BatchNormalization())\n",
    "model.add(Activation('relu'))\n",
    "model.add(Dropout(0.2))\n",
    "\n",
    "model.add(Dense(512))\n",
    "model.add(BatchNormalization())\n",
    "model.add(Activation('relu'))\n",
    "model.add(Dropout(0.2))\n",
    "\n",
    "model.add(Dense(num_classes))\n",
    "model.add(BatchNormalization())\n",
    "model.add(Activation('softmax'))\n",
    "\n",
    "model.compile(loss='categorical_crossentropy',\n",
    "              optimizer='adagrad',\n",
    "              metrics=['accuracy'])\n",
    "\n",
    "model.fit(X_train, y_train, nb_epoch=50, batch_size=64, verbose=1)\n",
    "print (model.evaluate(X_test, y_test, batch_size=64))\n",
    "model.save('models/song_class_model.h5')\n",
    "model = None\n",
    "gc.collect()\n",
    "# 0.884\n",
    "# 0.86375278980600079"
   ]
  }
 ],
 "metadata": {
  "anaconda-cloud": {},
  "kernelspec": {
   "display_name": "Python 3",
   "language": "python",
   "name": "python3"
  },
  "language_info": {
   "codemirror_mode": {
    "name": "ipython",
    "version": 3
   },
   "file_extension": ".py",
   "mimetype": "text/x-python",
   "name": "python",
   "nbconvert_exporter": "python",
   "pygments_lexer": "ipython3",
   "version": "3.5.1"
  }
 },
 "nbformat": 4,
 "nbformat_minor": 0
}
