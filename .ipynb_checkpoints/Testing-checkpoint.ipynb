{
 "cells": [
  {
   "cell_type": "code",
   "execution_count": 454,
   "metadata": {
    "collapsed": false
   },
   "outputs": [],
   "source": [
    "%matplotlib inline\n",
    "import pandas as pd\n",
    "import numpy as np\n",
    "import librosa\n",
    "import seaborn as sb\n",
    "import matplotlib.pyplot as plt\n",
    "import itertools\n",
    "import re\n",
    "from os import listdir\n",
    "from os.path import isfile, join\n",
    "from __future__ import print_function\n",
    "from numpy import median, diff"
   ]
  },
  {
   "cell_type": "code",
   "execution_count": 666,
   "metadata": {
    "collapsed": true
   },
   "outputs": [],
   "source": [
    "sample_rate = 22050*8\n",
    "class SongFile:\n",
    "    def load_new(self):\n",
    "        data, _ = librosa.load(self.music_file, sr=sample_rate)\n",
    "        _, self.beat_frames = librosa.beat.beat_track(y=data, sr=sample_rate)\n",
    "        self.beat_times = librosa.frames_to_time(self.beat_frames, sr=sample_rate)\n",
    "\n",
    "        seconds = len(data) / sample_rate\n",
    "        bpm = get_beats(self.beat_times, self.beat_frames)[0][1]\n",
    "        bps = bpm / 60\n",
    "        # take 24 samples for each beat (need 3rds, 8ths)\n",
    "        num_samples = int(bps * seconds * 24) - 4 # -1 to avoid out of bounds for now\n",
    "        beat_time = (1. / bps) / 24\n",
    "        sample_times = [beat_times[0] + (beat_time * i) for i in range(num_samples)]\n",
    "        self.music_samples = [data[int(time * sample_rate)] for time in sample_times]\n",
    "    \n",
    "    def __init__(self, pack, name, extension, force_new):\n",
    "        self.pack = pack\n",
    "        self.name = name\n",
    "        self.extension = extension\n",
    "        self.music_file = 'StepMania/Songs/{0}/{1}/{1}.{2}'.format(pack, name, extension)\n",
    "        self.stepfile = 'StepMania/Songs/{0}/{1}/{1}.ssc'.format(pack, name)\n",
    "        \n",
    "        key = '{0}~{1}'.format(pack, name)\n",
    "        if force_new or (not '{0}_beat_frames.csv'.format(key) in listdir('data')):\n",
    "            print ('Calculating beats for {0}'.format(key))\n",
    "            self.load_new()\n",
    "                        \n",
    "            print ('Saving calculated beats for {0}'.format(key))\n",
    "            pd.DataFrame(self.beat_times).to_csv('data/{0}_beat_times.csv'.format(key), index=False)\n",
    "            pd.DataFrame(self.beat_frames).to_csv('data/{0}_beat_frames.csv'.format(key), index=False)\n",
    "            pd.DataFrame(self.music_samples).to_csv('data/{0}_music_samples.csv'.format(key), index=False)\n",
    "        else:\n",
    "            print ('Loading beats from save for {0}'.format(key))\n",
    "            self.beat_frames = pd.read_csv('data/{0}_beat_frames.csv'.format(key)).values.flatten()\n",
    "            self.beat_times = pd.read_csv('data/{0}_beat_times.csv'.format(key)).values.flatten()\n",
    "            self.music_samples = pd.read_csv('data/{0}_music_samples.csv'.format(key)).values.flatten()"
   ]
  },
  {
   "cell_type": "code",
   "execution_count": 627,
   "metadata": {
    "collapsed": true
   },
   "outputs": [],
   "source": [
    "song_data = {}"
   ]
  },
  {
   "cell_type": "code",
   "execution_count": 661,
   "metadata": {
    "collapsed": true
   },
   "outputs": [],
   "source": [
    "def load_song(pack, title, force_new = False):\n",
    "    folder_path = 'StepMania/Songs/{0}/{1}'.format(pack, title)\n",
    "    song = next(file for file in listdir(folder_path) if file.endswith('.ogg') or file.endswith('.mp3'))\n",
    "    extension = song.split('.')[1]\n",
    "    key = '{0}~{1}'.format(pack, title)\n",
    "    song_data[key] = SongFile(pack, title, extension, force_new)"
   ]
  },
  {
   "cell_type": "code",
   "execution_count": 662,
   "metadata": {
    "collapsed": false
   },
   "outputs": [],
   "source": [
    "def load_all_songs(force_new):\n",
    "    songs = [song for song in listdir('StepMania/Songs/In The Groove')]\n",
    "    songs.remove('.DS_Store')\n",
    "    for song in songs:\n",
    "        load_song('In The Groove', song, force_new)\n",
    "\n",
    "    load_song('_test', 'A', force_new)\n",
    "    load_song('_test', 'B', force_new)\n",
    "    load_song('_test', 'C', force_new)"
   ]
  },
  {
   "cell_type": "code",
   "execution_count": 415,
   "metadata": {
    "collapsed": false
   },
   "outputs": [],
   "source": [
    "def get_beats(beat_times, beat_frames):\n",
    "    changes = []\n",
    "    changes_time = []\n",
    "    for i in range(len(beat_frames) - 1):\n",
    "        changes.append(beat_frames[i + 1] - beat_frames[i])\n",
    "        changes_time.append(beat_times[i + 1] - beat_times[i])\n",
    "\n",
    "    sorted_changes = sorted(changes)\n",
    "    median = sorted_changes[int(len(changes) / 2)]\n",
    "\n",
    "    changes_counted = [abs(change - median) < 2 for change in changes]\n",
    "    time_changes_counted = list(itertools.compress(changes_time, changes_counted))\n",
    "    average = sum(time_changes_counted) / len(time_changes_counted)\n",
    "    \n",
    "    time_differences = []\n",
    "    earliest_proper_beat = 1\n",
    "    for i in range(1, len(beat_times) - 1):\n",
    "        if changes_counted[i] & changes_counted[i - 1]:\n",
    "            earliest_proper_beat = i\n",
    "            break\n",
    "            \n",
    "    last_proper_beat = len(beat_times) -2\n",
    "    for i in range(1, len(beat_times) - 1):\n",
    "        if changes_counted[len(beat_times) - i - 1] & changes_counted[len(beat_times) - i - 2]:\n",
    "            last_proper_beat = len(beat_times) - i - 1\n",
    "            break\n",
    "    \n",
    "    time_differences = []\n",
    "    buffer = 5\n",
    "    for i in range(20):\n",
    "        start_beat = earliest_proper_beat + buffer * i\n",
    "        if changes_counted[start_beat] & changes_counted[start_beat - 1]:\n",
    "            for j in range(20):\n",
    "                end_beat = last_proper_beat - buffer * j\n",
    "                if changes_counted[end_beat] & changes_counted[end_beat - 1]:\n",
    "                    time_differences.append(beat_times[end_beat] - beat_times[start_beat])\n",
    "        \n",
    "    # get num beats, round, and make new average\n",
    "    new_averages = [time_difference / round(time_difference / average) for time_difference in time_differences]\n",
    "    #print (new_averages)\n",
    "    new_averages.sort()\n",
    "    num_averages = len(new_averages)\n",
    "    #new_average = sum(new_averages[5:num_averages - 5]) / (num_averages - 10)\n",
    "    new_average = new_averages[int(num_averages/2)]\n",
    "    return [(0, 60./new_average)]\n",
    "    \n",
    "def get_time_string(times):\n",
    "    time_strings = []\n",
    "    for time in times:\n",
    "        if time[0] != 0:\n",
    "            time_strings.append(',')\n",
    "        time_strings.append('{:}={:.3f}'.format(time[0], time[1]))\n",
    "    return ''.join(time_strings)\n",
    "\n",
    "def test_get_beats(beat_times, beat_frames):\n",
    "    a = get_beats(beat_times, beat_frames)\n",
    "    a.append((500, 1))\n",
    "    time = beat_times[0]\n",
    "    beat_times_mock = [time]\n",
    "    for i in range(len(a) - 1):\n",
    "        for j in range(a[i+1][0] - a[i][0]):\n",
    "            time += 60/a[i][1]\n",
    "            beat_times_mock.append(time)\n",
    "\n",
    "    beat_times_pd = pd.DataFrame(beat_times, columns=['VALUE'])\n",
    "    beat_times_pd['REAL'] = True\n",
    "    beat_times_pd\n",
    "    beat_times_mock_pd = pd.DataFrame(beat_times, columns=['VALUE'])\n",
    "    beat_times_mock_pd['REAL'] = False\n",
    "    both = beat_times_pd.append(beat_times_mock_pd)\n",
    "    both['BEAT']=both.index\n",
    "    linestyles = [\"--\", \"-\"]*390\n",
    "    fig, (ax) = plt.subplots(1,1, figsize=(20,7))\n",
    "    graph = sb.pointplot(x='BEAT', y='VALUE', hue='REAL', linestyles=linestyles, data=both, ax=ax)\n",
    "    \n",
    "#test_get_beats(beat_times)"
   ]
  },
  {
   "cell_type": "code",
   "execution_count": 639,
   "metadata": {
    "collapsed": false
   },
   "outputs": [],
   "source": [
    "def get_bpm(file):\n",
    "    with open(file, \"r\") as ins:\n",
    "        for line in ins:\n",
    "            if line.startswith('#BPMS:'):\n",
    "                result = re.search('#BPMS:(.*);', line)\n",
    "                bpm_string = result.group(1)\n",
    "                if len(bpm_string.split(',')) == 1:\n",
    "                    return float(bpm_string.split('=')[1])\n",
    "                return 0\n",
    "    return 0"
   ]
  },
  {
   "cell_type": "code",
   "execution_count": 640,
   "metadata": {
    "collapsed": false
   },
   "outputs": [],
   "source": [
    "songs = [song for song in listdir('StepMania/Songs/In The Groove')]\n",
    "songs.remove('.DS_Store')\n",
    "song_bpms = {}\n",
    "for song in songs:\n",
    "    song_bpms['In The Groove~{0}'.format(song)] = get_bpm('StepMania/Songs/In The Groove/{0}/{0}.sm'.format(song))\n",
    "    \n",
    "song_bpms['_test~A'] = 181.685\n",
    "song_bpms['_test~B'] = 140\n",
    "song_bpms['_test~C'] = 180"
   ]
  },
  {
   "cell_type": "code",
   "execution_count": 653,
   "metadata": {
    "collapsed": false
   },
   "outputs": [
    {
     "name": "stdout",
     "output_type": "stream",
     "text": [
      "['0.000', '0.000', '0.001', '0.001', '0.001', '0.001', '0.001', '0.002', '0.002', '0.002', '0.002', '0.003', '0.004', '0.004', '0.004', '0.004', '0.004', '0.005', '0.005', '0.006', '0.006', '0.006', '0.006', '0.007', '0.007', '0.007', '0.008', '0.008', '0.010', '0.010', '0.011', '0.011', '0.011', '0.011', '0.011', '0.011', '0.013', '0.015', '0.016', '0.018', '0.022', '0.023', '0.023', '0.061', '0.283', '0.287', '0.315', '0.324', '0.337', '0.347', '0.347', '0.486', '47.329']\n"
     ]
    }
   ],
   "source": [
    "errors = []\n",
    "for key in song_data:\n",
    "    song = song_data[key]\n",
    "    real_beat = song_bpms[key]\n",
    "    if real_beat != 0:\n",
    "        prediced_beat = get_beats(song.beat_times, song.beat_frames)[0][1]\n",
    "        for i in range (1,4):\n",
    "            if abs((prediced_beat * (i + 1) / (i)) - real_beat) < abs(prediced_beat - real_beat):\n",
    "                prediced_beat *= (i + 1) / (i)\n",
    "        errors.append(abs(prediced_beat - real_beat))\n",
    "print (sorted(['{0:.3f}'.format(error) for error in errors]))"
   ]
  },
  {
   "cell_type": "code",
   "execution_count": 806,
   "metadata": {
    "collapsed": false
   },
   "outputs": [],
   "source": [
    "regex_notes_with_metadata = '#NOTES:n     dance-single((?:(?!//-).)*);'\n",
    "regex_metadata_split = ':n     (.*):n     (.*):n     (.*):n     (.*):n     (.*):(.*);'\n",
    "def get_notes_from_note_string(note_string):\n",
    "    re.findall(r'[A-Za-z]+:[a-z\\s]+|[A-Za-z]+:\\d+',s)\n",
    "    return 'note_string'\n",
    "\n",
    "def get_notes_and_metadata(file):\n",
    "    difficulty_map = {}\n",
    "    with open(file) as txt:\n",
    "        step_file = txt.read()\n",
    "        step_file = step_file.replace('\\n', 'n')\n",
    "        notes_with_metadata_groups = re.finditer(regex_notes_with_metadata, step_file)\n",
    "        for match in notes_with_metadata_groups:\n",
    "            notes_with_metadata = match.group(0)\n",
    "            split_data = re.search(regex_metadata_split, notes_with_metadata)\n",
    "            difficulty = split_data.group(4)\n",
    "            metadata = split_data.group(5)\n",
    "            notes = get_notes_from_note_string(split_data.group(6))\n",
    "            notes_with_metadata_map = {\n",
    "                'DIFFICULTY': difficulty,\n",
    "                'METADATA': metadata,\n",
    "                'NOTES': notes,\n",
    "            }\n",
    "            difficulty_map[difficulty] = notes_with_metadata_map\n",
    "    return difficulty_map"
   ]
  },
  {
   "cell_type": "code",
   "execution_count": 807,
   "metadata": {
    "collapsed": true
   },
   "outputs": [],
   "source": [
    "songs = [song for song in listdir('StepMania/Songs/In The Groove')]\n",
    "songs.remove('.DS_Store')\n",
    "song_steps = {}\n",
    "for song in songs:\n",
    "    song_steps['In The Groove~{0}'.format(song)] = get_notes_and_metadata('StepMania/Songs/In The Groove/{0}/{0}.sm'.format(song))"
   ]
  },
  {
   "cell_type": "code",
   "execution_count": 808,
   "metadata": {
    "collapsed": false
   },
   "outputs": [
    {
     "data": {
      "text/plain": [
       "{'1': {'DIFFICULTY': '1',\n",
       "  'METADATA': '0.070,0.111,0.060,0.000,0.000',\n",
       "  'NOTES': 'note_string'},\n",
       " '10': {'DIFFICULTY': '10',\n",
       "  'METADATA': '0.693,0.929,0.340,0.434,0.766',\n",
       "  'NOTES': 'note_string'},\n",
       " '4': {'DIFFICULTY': '4',\n",
       "  'METADATA': '0.255,0.288,0.102,0.102,0.000',\n",
       "  'NOTES': 'note_string'},\n",
       " '6': {'DIFFICULTY': '6',\n",
       "  'METADATA': '0.383,0.376,0.128,0.068,0.004',\n",
       "  'NOTES': 'note_string'},\n",
       " '8': {'DIFFICULTY': '8',\n",
       "  'METADATA': '0.493,0.464,0.153,0.060,0.408',\n",
       "  'NOTES': 'note_string'}}"
      ]
     },
     "execution_count": 808,
     "metadata": {},
     "output_type": "execute_result"
    }
   ],
   "source": [
    "get_notes_and_metadata('StepMania/Songs/In The Groove/{0}/{0}.sm'.format('Anubis'))"
   ]
  },
  {
   "cell_type": "code",
   "execution_count": 805,
   "metadata": {
    "collapsed": false
   },
   "outputs": [
    {
     "data": {
      "text/plain": [
       "{'1': {'DIFFICULTY': '1',\n",
       "  'METADATA': '0.070,0.111,0.060,0.000,0.000',\n",
       "  'NOTES': 'n0000n0000n0000n0000n,n0000n0000n0000n0000n,n0001n0000n0000n0000n,n1000n0000n0000n0000n,n0001n0000n0000n0000n,n0001n0000n0000n0000n,n0100n0000n0000n0000n,n0001n0000n0000n0000n,n1000n0000n0000n0000n,n0010n0000n0000n0000n,n1000n0000n0000n0000n,n1001n0000n0000n0000n,n0001n0000n0000n0000n,n1000n0000n0000n0000n,n0001n0000n0000n0000n,n1000n0000n0000n0000n,n0010n0000n0000n0000n,n0100n0000n0000n0000n,n0010n0000n0000n0000n,n1000n0000n0000n0000n,n1001n0000n0000n0000n,n0001n0000n0000n0000n,n1001n0000n0000n0000n,n1000n0000n0000n0000n,n0010n0000n0000n0000n,n0100n0000n0000n0000n,n0010n0000n0000n0000n,n1000n0000n0000n0000n,n0000n0000n1001n0000n,n0000n0000n1001n0000n,n0000n0000n1001n0000n,n0000n0000n1001n0000n,n0000n0000n1000n0000n,n0000n0000n0010n0000n,n0000n0000n0100n0000n,n0000n0000n0001n0000n,n1000n0000n0000n0000n,n0001n0000n0000n0000n,n1000n0000n0000n0000n,n0010n0000n0000n0000n,n1000n0000n0000n0000n,n0001n0000n0000n0000n,n0100n0000n0000n0000n,n0010n0000n0000n0000n,n1000n0000n0000n0000n,n1000n0000n0000n0000n,n0010n0000n0000n0000n,n0010n0000n0000n0000n,n1000n0000n0000n0000n,n0001n0000n0000n0000n,n0010n0000n0000n0000n,n0001n0000n0000n0000n,n1000n0000n0000n0000n'},\n",
       " '10': {'DIFFICULTY': '10',\n",
       "  'METADATA': '0.693,0.929,0.340,0.434,0.766',\n",
       "  'NOTES': 'n0000n0000n0000n0000n,n0000n0000n0000n0000n,n0000n0000n1111n0000n,n0000n0000n0000n0000n0022n1100n0033n0000n,n2000n0000n0000n3010n0200n0000n0000n0301n0010n0000n0001n0000n1000n0000n0001n0000n,n2000n0000n0000n3001n0200n0000n0000n0301n0010n0000n0001n0000n0100n0010n0100n0000n,n0002n0000n0000n0103n0020n0000n0000n1030n0100n0000n1000n0000n0001n0000n1000n0000n,n0002n0000n0000n1003n0020n0000n0000n0130n0002n0000n1000n0000n0010n0000n0100n0000n,n0023n0000n0000n0130n2000n0000n0000n3100n0010n0000n0001n0000n1000n0000n0100n0000n,n2000n0000n0000n3010n0200n0000n0000n0301n0010n0000n0001n0000n0100n0010n0100n0000n,n0002n0000n0000n0103n0020n0000n0000n1030n0100n0000n1000n0000n0001n0000n1000n0000n,n0200n0000n0000n1300n0020n0000n0000n0130n0001n0100n0002n0000n0100n0000n0010n0000n,n1003n0010n1000n0000n1100n0000n0000n0000n0010n0100n0010n0000n0011n0000n0000n0100n,n0000n0100n0010n0000n1000n0000n0010n0000n1100n0000n0100n0000n0011n0000n0000n0000n,n0001n0100n0001n0000n0011n0000n0000n0100n0000n0010n0100n0000n1100n0000n0000n0010n,n0100n0010n1000n0000n0001n0000n0010n0001n0000n0001n0100n0000n0010n1000n0100n0000n,n0001n0010n0001n0000n0110n0000n0000n1000n0000n1000n0100n0000n1100n0000n0000n0001n,n0000n0001n0100n0000n0010n0000n0100n0000n0001n0000n0001n0000n1000n0100n1000n0001n,n0000n0001n1000n0000n1001n0000n0000n0010n0000n0010n0100n0000n0110n0000n0000n0001n,n0000n0001n0100n0000n0010n0000n1000n0000n2002n0000n0000n0000n0010n0000n3003n0000n,n1000n0000n0100n0000n1000n0000n0100n0000n0000n0000n0000n0000n1000n0000n0000n0000n0000n0000n0100n0000n0000n0000n0000n0000n0010n0000n0000n0000n0000n0000n0001n0000n0000n0100n0000n0000n0000n0000n0000n0100n0000n0000n0001n0000n0000n0000n0000n0000n,n0001n0000n0010n0000n0001n0000n0010n0000n0000n0000n0000n0000n0001n0000n0000n0000n0000n0000n0100n0000n0000n0000n0000n0000n0010n0000n0000n0000n0000n0000n0100n0000n0000n0001n0000n0000n0000n0000n0000n0001n0000n0000n1000n0000n0000n0000n0000n0000n,n1000n0000n0010n0000n1000n0000n0010n0000n0000n0000n0000n0000n1000n0000n0000n0000n0000n0000n0010n0000n0000n0000n0000n0000n0100n0000n0000n0000n0000n0000n0100n0000n0000n0001n0000n0000n0000n0000n0000n0001n0000n0000n0100n0000n0000n0000n0000n0000n,n0010n1000n0010n1000n0000n0000n0010n0000n0000n1000n0000n0000n2200n0000n0000n0000n0000n0000n0001n0000n0000n3300n0000n0000n,n0100n0010n0100n0100n0010n0100n0010n0100n0100n0010n0100n0001n0200n0000n0301n0000n,n1000n0100n1000n1000n0100n1000n0100n1000n1000n0100n1000n0001n2000n0000n3001n0000n,n0001n0010n0001n0001n0010n0001n0010n0001n0001n0010n0001n1000n0002n0000n1003n0000n,n0100n0001n0100n0100n0001n0100n0001n0100n0110n0000n0000n0000nMMMMn0000nMMMMn0000n,n0000n0000n1111n0000n,nMMMMn0000n0000n0000n2200n0011n3300n0000n,nMMMMn0000n1111n0000n,nMMMMn0000n0000n0000n0022n1100n0033n0000n,n0MM0n0000n0110n0000n00MMn0000n0011n0000n00MMn0000n1100n0000nMM00n0000n0010n1000n,n0000n0000n0101n0000n0M0Mn0000n1010n0000nM0M0n0000n1001n0000nM00Mn0000n0110n0001n,n1001n0000n1100n0000nM1M1n0000n0011n0000n01MMn0000n0110n0000n0MM1n0000n1001n0100n,n0010n0000n0100n0000n0001n0000n0100n0000n0010n1000n0010n0000n0100n0001n0100n0000n,n0100n0001n0100n0100n0001n0100n0001n0100n0100n0001n0100n0010n0100n0100n0010n0000n,n1000n0100n1000n1000n0100n1000n0100n1000n1000n0100n1000n0010n1000n1000n0020n0000n,n0130n0001n0100n0100n0001n0100n0001n0100n0100n0001n0100n0100n0010n0100n0100n0000n,n0001n1000n0001n0001n1000n0001n1000n0001n0001n1000n0001n0010n0002n0000n0103n0000n,n0001n0010n0001n0000n1000n0000n0010n0000n0100n0000n0001n0000n0100n0000n0010n0100n0010n0000n1000n0000n0010n0000n1000n0100n1000n0000n0010n0000n1000n0001n1000n0001n,n1000n0000n0010n0000n0100n0000n0001n0000n0100n0000n0010n0000n1000n0000n0010n0100n0010n0000n1000n0000n0010n0000n1000n0100n1000n0000n0010n0000n1000n0001n1000n0001n,n1000n0000n0010n0000n1000n0000n0010n0000n0100n0000n0001n0000n0100n0000n0010n0100n0010n0000n1000n0000n0001n0000n1000n0100n1000n0000n0010n0000n1000n0001n1000n0001n,n1000n0000n0010n0000n0100n0000n0001n0000n0100n0000n0010n0000n0100n0000n0001n0010n0001n0010n0001n0000n1000n0000n0010n1000n0010n1000n0010n0000n2000n0000n0000n0000n,n3002nM000n0003n010Mn0020n0000n0030n10M0n0100n0000n1000n0000n0001n0000n0110n0000n,n2000n0000n3000nM001n0200n0000n0300n0M01n0010n0000n0001n0000n0100n0010n0100n0000n,n0002n0000n0003n010Mn0020n0000n0030n10M0n0100n0000n1000n0000n0101n0000n1000n0000n,n0002n0000n0003n100Mn0020n0000n0030n01M0n0002n0000n1000n0000n0010n0000n0100n0000n,n0023n000Mn0030n01M0n2000n0000n3000nM100n0010n0000n0001n0000n0100n0000n0110n0000n,n0002n0000n0003n010Mn0020n0000n0030n10M0n0100n0000n1000n0000n0010n0100n0010n0000n,n2000n0000n3000nM010n0200n0000n0300n0M01n0010n0000n0001n0000n1000n0000n1001n0000n,n0002n0000n0003n100Mn0200n0000n0300n1M00n0001n0100n0010n0000n1100n0000n0010n0000n,n0100n0000n0000n0000n'},\n",
       " '4': {'DIFFICULTY': '4',\n",
       "  'METADATA': '0.255,0.288,0.102,0.102,0.000',\n",
       "  'NOTES': 'n0000n0000n0000n0000n,n0000n0000n0000n0000n,n0000n0000n0000n0000n,n0000n0000n0000n0000n,n1000n0000n1000n0000n1000n0000n0010n0100n,n0001n0000n0001n0000n0001n0000n0010n0100n,n1000n0000n1000n0000n1000n0000n0010n0100n,n0001n0001n0001n0010n,n0100n0000n0100n0000n0100n0000n0100n1000n,n0010n0000n0010n0000n0010n0000n0010n1000n,n0100n0000n0100n0000n0100n0000n0100n1000n,n0010n0010n0010n1001n,n1000n0000n0100n0000n,n0010n0010n0010n0100n,n1000n0000n1000n0000n,n0100n0010n0001n0010n,n0001n0000n0100n0000n,n0010n0010n0010n0100n,n0001n0000n0001n0000n,n0100n0010n1000n0010n,n1000n0100n1000n1000n,n0001n0010n0001n0001n,n0100n0001n0100n0100n,n0010n1000n0010n0010n,n1000n0110n1000n1010n,n0001n0110n0001n0101n,n0100n1001n0100n1100n,n0010n1001n0010n0011n,n0002n0000n0010n0003n,n0020n0000n0000n0000n0100n0100n0030n0000n,n0200n0000n0010n0300n,n0020n0000n0000n0000n0001n0001n0030n0000n,n2000n0000n0010n3000n,n0020n0000n0000n0000n0100n0100n0030n0000n,n0200n0000n0010n0300n,n0020n0000n0000n0000n1000n1000n0030n0000n,n0002n0013n0001n0001n,n2000n3100n1000n1000n,n0020n1030n0010n0010n,n0200n0301n0100n0100n,n0001n0100n0001n0001n,n1000n0010n1000n1000n,n0100n1000n0100n0100n,n0010n0001n1001n1001n,n0100n0000n0100n0000n0100n0000n0100n0001n,n0010n0000n0010n0000n0010n0000n0010n0001n,n0100n0000n0100n0000n0100n0000n0100n0001n,n0010n0010n0010n0010n,n0100n0000n1000n0000n1000n0000n1000n0010n,n0100n0000n0001n0000n0001n0000n0001n0010n,n0100n0000n1000n0000n1000n0000n1000n0010n,n0100n0000n0001n0000n0001n0010n0001n0000n,n1001n0000n0000n0000n'},\n",
       " '6': {'DIFFICULTY': '6',\n",
       "  'METADATA': '0.383,0.376,0.128,0.068,0.004',\n",
       "  'NOTES': 'n0000n0000n0000n0000n,n0000n0000n0000n0000n,n0000n0000n0000n0000n,n0000n0000n0000n0000n,n0001n0000n0001n0000n0001n0010n0100n0010n,n0100n0000n0100n0000n0100n1000n0010n0100n,n0001n0000n0001n0000n0001n0100n0010n0100n,n0010n0000n0010n0000n0010n0100n0001n1000n,n0010n0000n0010n0000n0010n1000n0100n0001n,n0100n0000n0100n0000n0100n1000n0001n0010n,n0100n0000n0100n0000n0100n1000n0001n0100n,n0010n0000n0000n0000n0010n0000n0000n0000n0010n0000n0000n0010n0000n0000n0010n0000n,n1000n1000n1000n0000n0001n0001n0001n0000n,n0010n0100n1000n0100n0010n0100n1000n0000n,n0010n0010n0010n0000n0100n0100n0100n0000n,n0001n0010n0100n0010n0100n1000n0100n0000n,n0010n0010n0010n0000n0001n0001n0001n0000n,n0100n0010n1000n0010n0100n0010n1000n0000n,n0100n0100n0100n0000n1000n1000n1000n0000n,n0010n0100n0001n0100n0010n0000n0110n0000n,n0100n0001n0001n0001n0100n0001n0010n0100n,n0100n1000n1000n1000n0100n1000n0010n0100n,n0100n0001n0001n0001n0100n0001n0010n0100n,n0100n1000n1000n1000n0100n0000n1001n0000n,n0001n0010n0010n0010n0001n0100n0010n1000n,n1000n0010n0010n0010n1000n0100n0010n0001n,n0001n0100n0100n0100n0010n0100n0001n0100n,n0100n0010n0010n0010n0000n1000n0001n1000n,n0002n0013n0110n0000n,n2000n0000n3010n0000n0110n0110n0000n0000n,n0002n0013n0110n0000n,n2000n0000n3010n0000n0110n0110n0000n0000n,n0001n0001n0100n0000n0110n0000n0010n0000n,n1000n1000n0100n0000n0110n0110n0000n0000n,n0001n0001n0100n0000n0110n0000n0010n0000n,n1000n1000n0100n0000n0110n0110n0000n0000n,n0002n0000n0010n0000n1003n0000n0010n0100n,n2000n0000n0001n0000n3100n0000n0001n0100n,n0020n0000n1000n0000n0130n0000n1000n0010n,n0200n0000n0001n0000n0310n0000n0001n0010n,n0100n1000n1000n1000n0100n1000n0010n0100n,n0100n0001n0001n0001n0100n0001n0010n0100n,n0100n1000n1000n1000n0100n1000n0010n0100n,n0100n0001n0001n0001n0100n0000n1001n0000n,n1000n0000n1000n0000n1000n0100n0010n0100n,n0010n0000n0010n0000n0010n0001n0100n0010n,n1000n0000n1000n0000n1000n0010n0100n0010n,n0100n0000n0100n0000n0100n0010n1000n0001n,n0100n0000n0100n0000n0100n0001n0010n0001n,n0010n0000n0010n0000n0010n0100n1000n0100n,n1000n0000n1000n0000n1000n0001n0100n0001n,n0100n0000n0100n0000n0100n0010n1000n0010n,n0100n0000n0000n0000n'},\n",
       " '8': {'DIFFICULTY': '8',\n",
       "  'METADATA': '0.493,0.464,0.153,0.060,0.408',\n",
       "  'NOTES': '  // measure 1n0000n0000n0000n0000n,  // measure 2n0000n0000n0000n0000n,  // measure 3n0000n0000n0000n0000n,  // measure 4n0000n0000n0000n0000n,  // measure 5n1001n0000n0000n1000n0100n0000n0000n0010n0100n0000n1000n0000n0010n0000n0100n0000n,  // measure 6n0001n0000n0000n0100n0010n0000n0000n0100n0001n0000n0010n0000n0100n0010n0100n0000n,  // measure 7n1000n0000n0000n1000n0010n0000n0000n0100n0010n0000n1000n0000n0100n0000n0010n0000n,  // measure 8n0001n0000n0000n0010n0100n0000n0000n0010n0001n0000n0100n0000n0010n0000n0100n0000n,  // measure 9n0001n0000n0000n0001n0010n0000n0000n0100n0010n0000n0001n0000n0100n0000n0010n0000n,  // measure 10n1000n0000n0000n0010n0100n0000n0000n0010n1000n0000n0100n0000n0010n0100n0010n0000n,  // measure 11n0001n0000n0000n0001n0100n0000n0000n0010n0100n0000n0001n0000n0010n0000n0100n0000n,  // measure 12n1000n0000n0000n0100n0010n0000n0000n0100n1000n0000n0000n1000n0000n0000n1000n0000n,  // measure 13n1000n0100n0010n0000n0100n0000n0000n0000n1000n0100n0010n0000n0100n0000n0000n1000n,  // measure 14n0000n0100n0010n0000n0001n0000n0100n0000n1000n0000n0100n0000n0001n0000n0010n0000n,  // measure 15n0001n0010n0100n0000n0010n0000n0000n0001n0000n0010n0100n0000n0010n0000n0000n0000n,  // measure 16n0001n0010n0001n0000n0100n0000n0010n1000n0000n1000n0010n0000n0100n0001n0100n0000n,  // measure 17n0001n0100n0010n0000n0100n0000n0000n0001n0000n0100n0010n0000n0100n0000n0000n0001n,  // measure 18n0000n0100n0010n0000n1000n0000n0100n0000n0001n0000n0100n0000n1000n0100n0000n0100n,  // measure 19n1000n0010n0100n0000n0010n0000n0000n1000n0000n0010n0100n0000n0010n0000n0000n0000n,  // measure 20n1000n0010n1000n0100n0010n0001n0100n0001n,  // measure 21n1000n0000n0100n0000n1000n0000n0010n0000n1000n0100n0000n0010n0000n0010n0001n0000n,  // measure 22n1000n0000n0010n0000n1000n0000n0100n0000n1000n0010n0000n0100n0000n0100n0001n0000n,  // measure 23n1000n0000n0001n0000n0100n0000n0010n0000n1000n0001n0000n0100n0000n0100n0010n0000n,  // measure 24n1000n0001n0100n0010n0100n0000n1001n0000n,  // measure 25n0001n0000n0010n0000n0001n0000n0100n0000n0001n0010n0000n0100n0000n0100n1000n0000n,  // measure 26n0001n0000n0100n0000n0001n0000n0010n0000n0001n0100n0000n0010n0000n0010n1000n0000n,  // measure 27n0001n0000n1000n0000n0010n0000n0100n0000n0001n1000n0000n0010n0000n0010n0100n0000n,  // measure 28n0001n1000n0010n0100n0001n0101n0110n1010n,  // measure 29n2000n0000n0000n0000n3010n0000n0000n0000n0101n0000n0000n0000n0000n0000n0001n0010n,  // measure 30n0002n0000n0013n0000n1100n1000n0010n0100n,  // measure 31n0002n0000n0000n0000n0103n0000n0000n0000n1010n0000n0000n0000n0000n0000n1000n0100n,  // measure 32n2000n0000n3100n0000n0011n0001n0100n0010n,  // measure 33n1000n0010n0100n0010n1010n0000n0010n0100n,  // measure 34n0001n0100n0010n0100n0101n0101n0100n0010n,  // measure 35n1000n0001n0010n0100n1100n0000n0001n0100n,  // measure 36n0010n1000n0100n0010n0011n0011n0000n0000n,  // measure 37n0002n0000n0000n0000n0103n0000n0000n0000n0001n0010n0000n0100n0000n0100n1000n0000n,  // measure 38n0002n0000n0000n0000n0013n0000n0000n0000n0001n0100n0000n0010n0000n0010n1000n0000n,  // measure 39n0002n0000n0000n0000n0103n0000n0000n0000n0001n1000n0000n0010n0000n0010n0100n0000n,  // measure 40n0001n1000n0010n0100n0010n0100n1001n0000n,  // measure 41n1000n0000n0001n0000n1000n0000n0001n0000n1000n0100n0000n0001n0000n0001n0100n0000n,  // measure 42n1000n0000n0010n0000n1000n0000n0010n0000n1000n0010n0000n0001n0000n0001n0010n0000n,  // measure 43n1000n0000n0001n0000n0100n0000n0010n0000n1000n0100n0000n0001n0000n0001n0100n0000n,  // measure 44n1000n0001n0100n0010n1001n0000n0110n0000n,  // measure 45n0001n0000n0000n0001n0010n0000n0000n1000n0010n0000n0001n0000n0010n0000n0100n0000n,  // measure 46n1000n0000n0000n1000n0010n0000n0000n0001n0010n0000n1000n0000n0010n0100n0010n0000n,  // measure 47n1000n0000n0000n1000n0100n0000n0000n0001n0100n0000n1000n0000n0100n0000n0010n0000n,  // measure 48n0001n0000n0000n0001n0100n0000n0000n1000n0100n0000n0001n0000n0100n0000n0100n0000n,  // measure 49n0001n0000n0000n0001n0010n0000n0000n1000n0010n0000n0100n0000n0001n0000n0100n0000n,  // measure 50n1000n0000n0000n1000n0010n0000n0000n0001n0010n0000n0100n0000n1000n0000n0100n0000n,  // measure 51n0001n0000n0000n0100n0010n0000n0000n0100n1000n0000n0100n0000n0010n0000n0100n0000n,  // measure 52n0001n0000n0000n0010n0100n0000n0000n0010n0001n1000n0001n0000n0010n0000n0100n0000n,  // measure 53n1000n0000n0000n0000n'}}"
      ]
     },
     "execution_count": 805,
     "metadata": {},
     "output_type": "execute_result"
    }
   ],
   "source": [
    "get_notes_and_metadata('StepMania/Songs/In The Groove/{0}/{0}.sm'.format('Anubis'))"
   ]
  },
  {
   "cell_type": "code",
   "execution_count": 309,
   "metadata": {
    "collapsed": true
   },
   "outputs": [],
   "source": [
    "def write_song_header(output_stepfile, info_map):\n",
    "    keys = ['VERSION', 'TITLE', 'MUSIC', 'OFFSET', 'SAMPLESTART', 'SAMPLELENGTH']\n",
    "    header_info = {\n",
    "        'VERSION': 0.82,\n",
    "        'TITLE': info_map['song_name'],\n",
    "        'MUSIC': '{0}.mp3'.format(info_map['song_name']),\n",
    "        'OFFSET': -0.090,\n",
    "        'SAMPLESTART': info_map['sample_start'],\n",
    "        'SAMPLELENGTH': info_map['sample_length']\n",
    "    }\n",
    "    for key in keys:\n",
    "        print (\"#{0}:{1};\".format(key, str(header_info[key])), file=output_stepfile)\n",
    "        \n",
    "def write_step_header(output_stepfile, info_map):\n",
    "    print(\"//---------------dance-single - ----------------\", file=output_stepfile)\n",
    "    keys = ['NOTEDATA', 'CHARTNAME', 'STEPSTYPE', 'DIFFICULTY', 'METER', 'RADARVALUES', 'BPMS']\n",
    "    step_info = {\n",
    "        'NOTEDATA': '',\n",
    "        'CHARTNAME': 'Kommisar',\n",
    "        'STEPSTYPE': 'dance-single',\n",
    "        'DIFFICULTY': 'Beginner',\n",
    "        'METER': 1,\n",
    "        'RADARVALUES': '0.234,0.292,0.008,0,0,211,212,1,0,0,0,0,0,0,0.234,0.292,0.008,0,0,211,212,1,0,0,0,0,0,0',\n",
    "        'BPMS': info_map['bpm']\n",
    "    }\n",
    "    for key in keys:\n",
    "        print (\"#{0}:{1};\".format(key, str(step_info[key])), file=output_stepfile)\n",
    "        \n",
    "def write_notes(output_stepfile, info_map):\n",
    "    print (\"#NOTES:\", file=output_stepfile)\n",
    "    \n",
    "    for i in range(80):\n",
    "        print (\"0101\\n0001\\n0101\\n0001\\n,\", file=output_stepfile)\n",
    "    print (\"0000;\", file=output_stepfile)"
   ]
  },
  {
   "cell_type": "code",
   "execution_count": 329,
   "metadata": {
    "collapsed": true
   },
   "outputs": [],
   "source": [
    "def get_info_map(song):\n",
    "    info_map = {}\n",
    "    info_map['song_name'] = song.name\n",
    "    info_map['song_format'] = song.extension\n",
    "    times = get_beats(song.beat_times, song.beat_frames)\n",
    "    bpm_string = get_time_string(times)\n",
    "    info_map['bpm'] = bpm_string\n",
    "    tempo = 60./times[0][1]\n",
    "    info_map['sample_start'] = 16 * tempo\n",
    "    info_map['sample_length'] = 32 * tempo\n",
    "    return info_map"
   ]
  },
  {
   "cell_type": "code",
   "execution_count": 330,
   "metadata": {
    "collapsed": true
   },
   "outputs": [],
   "source": [
    "def step_song(song):\n",
    "    output_stepfile=open(song.stepfile, 'w')\n",
    "    info_map = get_info_map(song)\n",
    "    write_song_header(output_stepfile, info_map)\n",
    "    write_step_header(output_stepfile, info_map)\n",
    "    write_notes(output_stepfile, info_map)\n",
    "    output_stepfile.close()"
   ]
  },
  {
   "cell_type": "code",
   "execution_count": 333,
   "metadata": {
    "collapsed": false
   },
   "outputs": [],
   "source": [
    "step_song(A)\n",
    "step_song(B)\n",
    "step_song(C)"
   ]
  },
  {
   "cell_type": "code",
   "execution_count": null,
   "metadata": {
    "collapsed": true
   },
   "outputs": [],
   "source": []
  }
 ],
 "metadata": {
  "anaconda-cloud": {},
  "kernelspec": {
   "display_name": "Python 3",
   "language": "python",
   "name": "python3"
  },
  "language_info": {
   "codemirror_mode": {
    "name": "ipython",
    "version": 3
   },
   "file_extension": ".py",
   "mimetype": "text/x-python",
   "name": "python",
   "nbconvert_exporter": "python",
   "pygments_lexer": "ipython3",
   "version": "3.5.1"
  }
 },
 "nbformat": 4,
 "nbformat_minor": 0
}
