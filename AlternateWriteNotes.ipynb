{
 "cells": [
  {
   "cell_type": "code",
   "execution_count": 1,
   "metadata": {
    "collapsed": false
   },
   "outputs": [
    {
     "name": "stderr",
     "output_type": "stream",
     "text": [
      "Using Theano backend.\n"
     ]
    }
   ],
   "source": [
    "from __future__ import print_function\n",
    "import copy\n",
    "import pandas as pd\n",
    "import numpy as np\n",
    "import librosa\n",
    "import seaborn as sb\n",
    "import matplotlib.pyplot as plt\n",
    "import itertools\n",
    "import re\n",
    "import random\n",
    "import gc\n",
    "import os\n",
    "from os import listdir\n",
    "from os.path import isfile, join\n",
    "from numpy import median, diff\n",
    "from keras.models import Sequential, load_model\n",
    "from keras.layers import Dense, Activation, Dropout, BatchNormalization"
   ]
  },
  {
   "cell_type": "markdown",
   "metadata": {},
   "source": [
    "# Instead of training models for each note\n",
    "- decide which will have notes, for now pick x with one, y with another (train model for this + holds, hands, mines, rolls etc later)\n",
    "- for each note that will have something, decide what combo it has (train from prev notes (not all 48, pick more relevant ones)) (4 for one note, 6 for 2, 4 for 3) and pick highest class"
   ]
  },
  {
   "cell_type": "markdown",
   "metadata": {},
   "source": [
    "### TODOS\n",
    "- test using all info from get_beat_importance instead of aggregate to decide on 1, 2, etc notes (culd also try to predict hold/roll there (would need to train on later beat info as well))"
   ]
  },
  {
   "cell_type": "code",
   "execution_count": 2,
   "metadata": {
    "collapsed": true
   },
   "outputs": [],
   "source": [
    "steps_per_bar = 48\n",
    "class SongFile:\n",
    "    def __init__(self, key, folder, stepfile, music_file):\n",
    "        misc = pd.read_csv('data/{0}_misc.csv'.format(key)).values\n",
    "        self.beat_importance = pd.read_csv('generated_data/{0}_importance_generated.csv'.format(key), converters={'0': lambda x: float(x)}).values\n",
    "        self.notes = pd.read_csv('data/{0}_notes.csv'.format(key), converters={'0': lambda x: str(x)}).values\n",
    "        self.folder = folder\n",
    "        self.name = key.split('~')[1]\n",
    "        self.music_name = music_file\n",
    "        self.stepfile_name = stepfile\n",
    "        self.offset = misc[0][0]\n",
    "        self.beat_length = 60. / misc[1][0]\n",
    "        self.bpm = misc[1][0]\n",
    "        self.extension = music_file.split('.')[1]"
   ]
  },
  {
   "cell_type": "code",
   "execution_count": 3,
   "metadata": {
    "collapsed": true
   },
   "outputs": [],
   "source": [
    "songs_to_use = pd.read_csv('data/songs_to_use.csv').values\n",
    "save_files = listdir('data')\n",
    "save_files_generated = listdir('generated_data')\n",
    "songs = {}\n",
    "for song_data in songs_to_use:\n",
    "    key = song_data[0]\n",
    "    if '{0}_misc.csv'.format(key) in save_files and '{0}_importance_generated.csv'.format(key) in save_files_generated:\n",
    "        songs[key] = SongFile(key, song_data[1], song_data[2], song_data[3])"
   ]
  },
  {
   "cell_type": "code",
   "execution_count": 268,
   "metadata": {
    "collapsed": false
   },
   "outputs": [],
   "source": [
    "beats_to_track = 48\n",
    "num_classes_one_note = 4\n",
    "num_classes_two_note = 6\n",
    "class_map_one_note = {\n",
    "    '1000': 0,\n",
    "    '0100': 1,\n",
    "    '0010': 2,\n",
    "    '0001': 3\n",
    "}\n",
    "class_reverse_map_one_note = ['1000', '0100', '0010', '0001']\n",
    "\n",
    "class_map_two_note = {\n",
    "    '1001': 0,\n",
    "    '0110': 1,\n",
    "    '1100': 2,\n",
    "    '1010': 3,\n",
    "    '0101': 4,\n",
    "    '0011': 5\n",
    "}\n",
    "class_reverse_map_two_note = ['1001', '0110', '1100', '1010', '0101', '0011']\n",
    "\n",
    "note_types = ['0', '1', 'M', '2', '4', '3']\n",
    "\n",
    "def get_features_for_row(row):\n",
    "    return [int(char == target) for target in note_types for char in row]\n",
    "\n",
    "important_indices = [1, 2, 3, 4, 6, 8, 12, 18, 24, 36, 48]\n",
    "def get_features(index, features, beat_importance):\n",
    "    indices = [index + beats_to_track - i for i in important_indices]\n",
    "    return np.array([np.concatenate(([beat_importance[i]], features[i]), axis = 0) for i in indices]).flatten()"
   ]
  },
  {
   "cell_type": "code",
   "execution_count": 284,
   "metadata": {
    "collapsed": false
   },
   "outputs": [
    {
     "data": {
      "text/plain": [
       "3504"
      ]
     },
     "execution_count": 284,
     "metadata": {},
     "output_type": "execute_result"
    }
   ],
   "source": [
    "len(songs[key].notes)"
   ]
  },
  {
   "cell_type": "code",
   "execution_count": 285,
   "metadata": {
    "collapsed": false
   },
   "outputs": [],
   "source": [
    "key = 'Piece of Cake~(-[Jayce]-) - CAFE CAFE - [10]'\n",
    "beat_importance = ([0] * beats_to_track) + [row[0] for row in songs[key].beat_importance]\n",
    "notes = songs[key].notes\n",
    "length = min(len(songs[key].beat_importance), len(notes))\n",
    "features = np.array([get_features_for_row(notes[i][0] if i >= 0 else '0000') for i in range(-beats_to_track, length)])\n",
    "for i in range(length):\n",
    "    row = notes[i][0]\n",
    "    (blank, steps, mines, hold_starts, roll_starts, hold_ends) = [row.count(note_type) for note_type in note_types]\n",
    "    if steps == 1 and blank == 3:\n",
    "        X_one_note.append(get_features(i, features, beat_importance))\n",
    "        y_one_note.append(class_map_one_note[row])\n",
    "\n",
    "    if steps == 2 and blank == 2:\n",
    "        X_two_note.append(get_features(i, features, beat_importance))\n",
    "        y_two_note.append(class_map_two_note[row])"
   ]
  },
  {
   "cell_type": "code",
   "execution_count": 290,
   "metadata": {
    "collapsed": false
   },
   "outputs": [
    {
     "name": "stdout",
     "output_type": "stream",
     "text": [
      "Lengths dont match for In The Groove Rebirth~Sail AwaY\n",
      "Lengths dont match for In The Groove 3~Take My Time\n",
      "Lengths dont match for In The Groove Rebirth +~Valenti\n",
      "Lengths dont match for In The Groove~Land of the Rising Sun\n",
      "Lengths dont match for In The Groove 2~No Princess\n",
      "Lengths dont match for In The Groove 3~Chopstix\n",
      "Lengths dont match for In The Groove 3~Charlene (Rock Mix)\n",
      "Lengths dont match for In The Groove~PA Theme\n",
      "Lengths dont match for In The Groove 2~Pick Me Up & Tango\n",
      "Lengths dont match for In The Groove Rebirth~Charly (Halloween Dub)\n",
      "Lengths dont match for In The Groove Rebirth~Strikebeam\n",
      "Lengths dont match for In The Groove Rebirth +~True to Form\n",
      "Lengths dont match for In The Groove~Charlene\n",
      "Lengths dont match for In The Groove~Which MC Was That\n",
      "Lengths dont match for In The Groove 3~Hardkore Atomic\n",
      "Lengths dont match for In The Groove 2~Baby Don't You Want Me\n",
      "Lengths dont match for In The Groove Rebirth~Nights In Heaven - Days In Hell\n",
      "Lengths dont match for In The Groove~Pandemonium\n",
      "Lengths dont match for In The Groove~July\n",
      "Lengths dont match for In The Groove Rebirth +~Golddiggers\n",
      "Lengths dont match for In The Groove 3~Get Away\n",
      "Lengths dont match for In The Groove 3~Dynamite\n",
      "Lengths dont match for In The Groove 2~Liquid Moon\n",
      "Lengths dont match for In The Groove 3~Moonstone\n",
      "Lengths dont match for In The Groove 2~Little Kitty Mine\n",
      "Lengths dont match for In The Groove 3~Exotica\n",
      "Lengths dont match for In The Groove Rebirth~Beautiful Morning\n",
      "Lengths dont match for In The Groove 3~That Is Fair\n",
      "Lengths dont match for In The Groove~Xuxa\n",
      "Lengths dont match for In The Groove 2~Hillbilly Hardcore\n",
      "Lengths dont match for In The Groove 3~Get Up\n",
      "Lengths dont match for In The Groove Rebirth~Me And My Lover\n",
      "Lengths dont match for In The Groove 2~Spin Chicken\n",
      "Lengths dont match for In The Groove 3~Into My Dream (Kaveh Azizi remix)\n",
      "Lengths dont match for In The Groove 2~Summer ~Speedy Mix~\n",
      "Lengths dont match for In The Groove Rebirth~One Thousand Cranes\n",
      "Lengths dont match for In The Groove Rebirth +~Do it All Night\n",
      "Lengths dont match for In The Groove 3~Sun Son Sunday\n",
      "Lengths dont match for In The Groove 3~Dawn (Perpetual Mix)\n",
      "Lengths dont match for In The Groove Rebirth +~Tori no Uta (Noise Rave)\n",
      "Lengths dont match for In The Groove 3~Kiss Me\n",
      "Lengths dont match for In The Groove Rebirth +~Cry Die\n",
      "Lengths dont match for In The Groove Rebirth~Asian Crosscounter\n",
      "Lengths dont match for In The Groove 3~Coming Out\n",
      "Lengths dont match for In The Groove Rebirth~July (O-Cho 8bit Remix)\n",
      "Lengths dont match for In The Groove 3~Hyper Hyper\n",
      "Lengths dont match for In The Groove Rebirth~Indulgence\n",
      "Lengths dont match for In The Groove~Do U Love Me\n",
      "Lengths dont match for In The Groove 3~The Promised Land\n",
      "Lengths dont match for In The Groove 3~The Last Kiss\n",
      "Lengths dont match for In The Groove Rebirth~You Are My Dream\n",
      "Lengths dont match for In The Groove~Let My Love Go Blind\n",
      "Lengths dont match for In The Groove 2~Lipstick Kiss\n",
      "Lengths dont match for In The Groove 3~Autoload\n",
      "Lengths dont match for In The Groove 2~Spaceman\n",
      "Lengths dont match for In The Groove Rebirth~Overdrive\n",
      "Lengths dont match for In The Groove~Perfect\n",
      "Lengths dont match for In The Groove 3~Land of the Rising Sun (Diskowarp Mix)\n",
      "Lengths dont match for In The Groove 2~High\n",
      "Lengths dont match for In The Groove Rebirth +~Computer Dreams\n",
      "Lengths dont match for In The Groove 2~Know Your Enemy\n",
      "Lengths dont match for In The Groove 3~Dance All Night\n",
      "Lengths dont match for In The Groove 3~Who\n",
      "Lengths dont match for In The Groove~Turn It On\n",
      "Lengths dont match for In The Groove Rebirth~Over the Rave\n",
      "Lengths dont match for In The Groove~Lemmings on the Run\n",
      "Lengths dont match for In The Groove 2~Renaissance\n",
      "Lengths dont match for In The Groove 3~Reveal Yourself\n",
      "Lengths dont match for In The Groove 3~Kahu\n",
      "Lengths dont match for In The Groove 3~The Deep Unknown\n",
      "Lengths dont match for In The Groove~Disconnected -Hyper-\n",
      "Lengths dont match for In The Groove Rebirth~Vi Sitter I Ventrilo Och Spelar DotA\n",
      "Lengths dont match for In The Groove~Mellow\n",
      "Lengths dont match for In The Groove 2~July -Euromix-\n",
      "Lengths dont match for In The Groove 3~Blow My Mind\n",
      "Lengths dont match for In The Groove Rebirth~Sugar Sweet\n",
      "Lengths dont match for In The Groove 3~Hearts of Ice\n",
      "Lengths dont match for In The Groove Rebirth~Burning Me Up\n",
      "Lengths dont match for In The Groove Rebirth +~Bad Boy (Alex M vs. Marc Van Damme Remix)\n",
      "Lengths dont match for In The Groove~Boogie Down\n",
      "Lengths dont match for In The Groove 2~Typical Tropical\n",
      "Lengths dont match for In The Groove~I'll Get There Anyway\n",
      "Lengths dont match for In The Groove Rebirth~EternuS\n",
      "Lengths dont match for In The Groove 3~Don't Panic\n",
      "Lengths dont match for In The Groove 3~Do What You Wanna Do\n",
      "Lengths dont match for In The Groove~Tell\n",
      "Lengths dont match for In The Groove 3~Disconnected Zeo\n",
      "Lengths dont match for In The Groove~Let Me Be the One\n",
      "Lengths dont match for In The Groove 3~Living Without You\n",
      "Lengths dont match for In The Groove 2~Spacy Crazy Girl\n",
      "Lengths dont match for In The Groove 2~Ride the Bass\n",
      "Lengths dont match for In The Groove 3~Sunshine\n",
      "Lengths dont match for In The Groove Rebirth +~Higher than a Skyscraper\n",
      "Lengths dont match for In The Groove 3~It's Over Now\n",
      "Lengths dont match for In The Groove~Bouff\n",
      "Lengths dont match for In The Groove~Why Me\n",
      "Lengths dont match for In The Groove~Fly Away\n",
      "Lengths dont match for In The Groove 3~Cave Drips\n",
      "Lengths dont match for In The Groove Rebirth~Do You Do You Love Me\n",
      "Lengths dont match for In The Groove Rebirth~Enchanted Journey\n",
      "Lengths dont match for In The Groove Rebirth~Popcorn\n",
      "Lengths dont match for In The Groove Rebirth~Calendar Girl\n",
      "Lengths dont match for In The Groove Rebirth~Dr. Doolittle\n",
      "Lengths dont match for In The Groove 3~Hands Up\n",
      "Lengths dont match for In The Groove 3~Bagpipe\n",
      "Lengths dont match for In The Groove Rebirth~Stop the Music\n",
      "Lengths dont match for In The Groove 2~Out Of The Dark\n",
      "Lengths dont match for In The Groove~Anubis\n",
      "Lengths dont match for In The Groove 3~Nightmoves\n",
      "Lengths dont match for In The Groove~Crazy\n",
      "Lengths dont match for In The Groove~Bend Your Mind\n",
      "Lengths dont match for In The Groove Rebirth +~We're going to birdie\n",
      "Lengths dont match for In The Groove~Zodiac\n",
      "Lengths dont match for In The Groove Rebirth +~Tutti Frutti Summer Love\n",
      "Lengths dont match for In The Groove 3~Always in My Heart\n",
      "Lengths dont match for In The Groove Rebirth +~Want to do tonight\n",
      "Lengths dont match for In The Groove Rebirth +~Sexual Healing (Speed Mix)\n",
      "Lengths dont match for In The Groove 3~Sundance\n",
      "Lengths dont match for In The Groove Rebirth~Little Red Riding Hood\n",
      "Lengths dont match for In The Groove Rebirth~Wish\n",
      "Lengths dont match for In The Groove~Driving Force Classical\n",
      "Lengths dont match for In The Groove Rebirth +~Concerto\n",
      "Lengths dont match for In The Groove 3~Aliens in our Midst\n",
      "Lengths dont match for In The Groove Rebirth~Banana Bay\n",
      "Lengths dont match for In The Groove 2~My Life Is So Crazy\n",
      "Lengths dont match for In The Groove Rebirth~Unspeakable\n",
      "Lengths dont match for In The Groove Rebirth +~Moonlight Shadow\n",
      "Lengths dont match for In The Groove~Disconnected\n",
      "Lengths dont match for In The Groove~Flying High\n",
      "Lengths dont match for In The Groove 3~Y2Z\n",
      "Lengths dont match for In The Groove 3~All That Matters\n",
      "Lengths dont match for In The Groove 2~Wake Up\n",
      "Lengths dont match for In The Groove 3~Riders, Unite!\n",
      "Lengths dont match for In The Groove~Oasis\n",
      "Lengths dont match for In The Groove~Changes\n",
      "Lengths dont match for In The Groove Rebirth~Tears in May\n",
      "Lengths dont match for In The Groove Rebirth +~Hooligan Spirit\n",
      "Lengths dont match for In The Groove~While Tha Rekkid Spinz\n",
      "Lengths dont match for In The Groove~ROM-eo & Juli8\n",
      "Lengths dont match for In The Groove 2~Bumble Bee\n",
      "Lengths dont match for In The Groove 3~Ra\n",
      "Lengths dont match for In The Groove 3~RE-RAVE\n",
      "Lengths dont match for In The Groove 3~Hanging On\n",
      "Lengths dont match for In The Groove Rebirth~You Wanna Me\n",
      "Lengths dont match for In The Groove Rebirth~Summer\n",
      "Lengths dont match for In The Groove Rebirth~Come With Me\n",
      "Lengths dont match for In The Groove 3~Less Than Three\n",
      "Lengths dont match for In The Groove~Infection\n",
      "Lengths dont match for In The Groove 3~Starfield\n",
      "Lengths dont match for In The Groove 2~Disconnected Disco\n",
      "Lengths dont match for In The Groove 2~This is Rock & Roll\n",
      "Lengths dont match for In The Groove~Bubble Dancer\n",
      "Lengths dont match for In The Groove Rebirth~Chromatic Blitz\n",
      "Lengths dont match for In The Groove 3~Tribe Attacker\n",
      "Lengths dont match for In The Groove~Hip Hop Jam\n",
      "Lengths dont match for In The Groove Rebirth~Progression\n"
     ]
    }
   ],
   "source": [
    "X_one_note = []\n",
    "y_one_note = []\n",
    "X_two_note = []\n",
    "y_two_note = []\n",
    "for key in songs:\n",
    "    beat_importance = ([0] * beats_to_track) + [row[0] for row in songs[key].beat_importance]\n",
    "    notes = (['0000'] * beats_to_track) + songs[key].notes\n",
    "    if abs(len(beat_importance) - len(notes) > 5):\n",
    "        print ('Lengths dont match for {0}'.format(key))\n",
    "        continue\n",
    "    length = min(len(beat_importance), len(notes)) - beats_to_track\n",
    "    features = np.array([get_features_for_row(notes[i][0]) for i in range(-beats_to_track, length)])\n",
    "    for i in range(length):\n",
    "        row = notes[i + beats_to_track][0]\n",
    "        (blank, steps, mines, hold_starts, roll_starts, hold_ends) = [row.count(note_type) for note_type in note_types]\n",
    "        if steps == 1 and blank == 3:\n",
    "            X_one_note.append(get_features(i, features, beat_importance))\n",
    "            y_one_note.append(class_map_one_note[row])\n",
    "            \n",
    "        if steps == 2 and blank == 2:\n",
    "            X_two_note.append(get_features(i, features, beat_importance))\n",
    "            y_two_note.append(class_map_two_note[row])\n",
    "\n",
    "X_one_note = np.array(X_one_note)\n",
    "y_one_note = np.array(y_one_note)\n",
    "X_two_note = np.array(X_two_note)\n",
    "y_two_note = np.array(y_two_note)"
   ]
  },
  {
   "cell_type": "code",
   "execution_count": 101,
   "metadata": {
    "collapsed": true
   },
   "outputs": [],
   "source": [
    "def build_model(num_classes):\n",
    "    model = Sequential()\n",
    "\n",
    "    model.add(Dense(500, input_dim=275, init='uniform'))\n",
    "    model.add(BatchNormalization())\n",
    "    model.add(Activation('tanh'))\n",
    "    model.add(Dropout(0.5))\n",
    "\n",
    "    model.add(Dense(500, init='uniform'))\n",
    "    model.add(BatchNormalization())\n",
    "    model.add(Activation('tanh'))\n",
    "    model.add(Dropout(0.5))\n",
    "\n",
    "    model.add(Dense(500, init='uniform'))\n",
    "    model.add(BatchNormalization())\n",
    "    model.add(Activation('tanh'))\n",
    "    model.add(Dropout(0.5))\n",
    "\n",
    "    model.add(Dense(num_classes, init='uniform'))\n",
    "    model.add(BatchNormalization())\n",
    "    model.add(Activation('softmax'))\n",
    "\n",
    "    model.compile(loss='categorical_crossentropy',\n",
    "                               optimizer='adadelta',\n",
    "                               metrics=['accuracy'])\n",
    "    \n",
    "    return model"
   ]
  },
  {
   "cell_type": "code",
   "execution_count": 102,
   "metadata": {
    "collapsed": false
   },
   "outputs": [],
   "source": [
    "y_one_note_hot = np.zeros((len(y_one_note), num_classes_one_note))\n",
    "y_one_note_hot[np.arange(len(y_one_note)), y_one_note] = 1\n",
    "y_two_note_hot = np.zeros((len(y_two_note), num_classes_two_note))\n",
    "y_two_note_hot[np.arange(len(y_two_note)), y_two_note] = 1"
   ]
  },
  {
   "cell_type": "code",
   "execution_count": 103,
   "metadata": {
    "collapsed": false
   },
   "outputs": [
    {
     "name": "stdout",
     "output_type": "stream",
     "text": [
      "Epoch 1/5\n",
      "73489/73489 [==============================] - 51s - loss: 1.3136 - acc: 0.3568    \n",
      "Epoch 2/5\n",
      "73489/73489 [==============================] - 52s - loss: 1.2592 - acc: 0.3832    \n",
      "Epoch 3/5\n",
      "73489/73489 [==============================] - 53s - loss: 1.2434 - acc: 0.3892    \n",
      "Epoch 4/5\n",
      "73489/73489 [==============================] - 53s - loss: 1.2319 - acc: 0.3978    \n",
      "Epoch 5/5\n",
      "73489/73489 [==============================] - 54s - loss: 1.2229 - acc: 0.4059    \n"
     ]
    }
   ],
   "source": [
    "y_one_note_model = build_model(num_classes_one_note)\n",
    "y_one_note_model.fit(X_one_note, y_one_note_hot, nb_epoch=5, batch_size=50)\n",
    "y_one_note_model.save('models/y_one_note_model.h5')"
   ]
  },
  {
   "cell_type": "code",
   "execution_count": 104,
   "metadata": {
    "collapsed": false
   },
   "outputs": [
    {
     "name": "stdout",
     "output_type": "stream",
     "text": [
      "Epoch 1/5\n",
      "5225/5225 [==============================] - 24s - loss: 1.9048 - acc: 0.1958    \n",
      "Epoch 2/5\n",
      "5225/5225 [==============================] - 24s - loss: 1.7633 - acc: 0.2281    \n",
      "Epoch 3/5\n",
      "5225/5225 [==============================] - 25s - loss: 1.7409 - acc: 0.2593    \n",
      "Epoch 4/5\n",
      "5225/5225 [==============================] - 25s - loss: 1.7373 - acc: 0.2588    \n",
      "Epoch 5/5\n",
      "5225/5225 [==============================] - 27s - loss: 1.7255 - acc: 0.2612    \n"
     ]
    }
   ],
   "source": [
    "y_two_note_model = build_model(num_classes_two_note)\n",
    "y_two_note_model.fit(X_two_note, y_two_note_hot, nb_epoch=5, batch_size=5)\n",
    "y_two_note_model.save('models/y_two_note_model.h5')"
   ]
  },
  {
   "cell_type": "code",
   "execution_count": 208,
   "metadata": {
    "collapsed": true
   },
   "outputs": [],
   "source": [
    "def normalize_importance(i, beat_importance):\n",
    "    surrounding_beats = beat_importance[max(i - 12,0):min(i + 12,len(beat_importance))]\n",
    "    average = sum(surrounding_beats) / float(len(surrounding_beats))\n",
    "    return beat_importance[i] - (average / 2)"
   ]
  },
  {
   "cell_type": "code",
   "execution_count": 211,
   "metadata": {
    "collapsed": false
   },
   "outputs": [],
   "source": [
    "pattern = ['1000', '0100', '0001', '0010', '0100', '1000', '0001', '0010']\n",
    "def get_output(song):\n",
    "    predicted_notes = []\n",
    "    length = len(song.beat_importance)\n",
    "    beat_importance = [importance[0] for importance in song.beat_importance]\n",
    "    beat_importance = [normalize_importance(i, beat_importance) for i in range(len(beat_importance))]\n",
    "    beat_importance_sorted = sorted(beat_importance)\n",
    "    one_note_cutoff = beat_importance_sorted[int(0.88 * length)]\n",
    "    two_note_cutoff = beat_importance_sorted[int(0.97 * length)]\n",
    "    dummy_rows = [row for eigth in pattern for row in [eigth] + ['0000'] * 5]\n",
    "    features = [get_features(row) for row in dummy_rows]\n",
    "    for importance in beat_importance:\n",
    "        if importance < one_note_cutoff:\n",
    "            prediction = '0000'\n",
    "        elif importance < two_note_cutoff:\n",
    "            X_row = [np.array(features[-(beats_to_track - 1):]).flatten()]\n",
    "            prediction_values = y_one_note_model.predict(np.array(X_row))\n",
    "            prediction = class_reverse_map_one_note[np.argmax(prediction_values)]\n",
    "        else:\n",
    "            X_row = [np.array(features[-(beats_to_track - 1):]).flatten()]\n",
    "            prediction_values = y_two_note_model.predict(np.array(X_row))\n",
    "            prediction = class_reverse_map_two_note[np.argmax(prediction_values)]\n",
    "\n",
    "        predicted_notes.append(prediction)\n",
    "        features.append(get_features(prediction))\n",
    "    return predicted_notes"
   ]
  },
  {
   "cell_type": "code",
   "execution_count": 210,
   "metadata": {
    "collapsed": false
   },
   "outputs": [],
   "source": [
    "song = songs['In The Groove~Lemmings on the Run']\n",
    "song = songs['In The Groove~Infection']\n",
    "song = songs['In The Groove~July']\n",
    "song.predicted_notes = get_output(song)\n",
    "step_song(song)"
   ]
  },
  {
   "cell_type": "code",
   "execution_count": 114,
   "metadata": {
    "collapsed": true
   },
   "outputs": [],
   "source": [
    "def write_song_header(output_stepfile, song):\n",
    "    keys = ['TITLE', 'MUSIC', 'OFFSET', 'SAMPLESTART', 'SAMPLELENGTH', 'SELECTABLE', 'BPMS']\n",
    "    header_info = {\n",
    "        'TITLE': song.name,\n",
    "        'MUSIC': '{0}.{1}'.format(song.name, song.extension),\n",
    "        'OFFSET': -song.offset,\n",
    "        'SAMPLESTART': song.offset + 32 * song.beat_length,\n",
    "        'SAMPLELENGTH': 32 * song.beat_length,\n",
    "        'SELECTABLE': 'YES',\n",
    "        'BPMS': '0.000={:.3f}'.format(song.bpm)\n",
    "    }\n",
    "    \n",
    "    for key in keys:\n",
    "        print (\"#{0}:{1};\".format(key, str(header_info[key])), file=output_stepfile)\n",
    "        \n",
    "def write_step_header(output_stepfile, song):\n",
    "    print(\"\\n//---------------dance-single - J. Zukewich----------------\", file=output_stepfile)\n",
    "    print (\"#NOTES:\", file=output_stepfile)\n",
    "    for detail in ['dance-single', 'J. Zukewich', 'Expert', '9', '0.242,0.312,0.204,0.000,0.000']:\n",
    "        print ('\\t{0}:'.format(detail), file=output_stepfile)\n",
    "    \n",
    "    for i in range(len(song.predicted_notes)):\n",
    "        row = song.predicted_notes[i]\n",
    "        print (row, file=output_stepfile)\n",
    "        if i % steps_per_bar == steps_per_bar - 1:\n",
    "            print (\",\", file=output_stepfile)\n",
    "\n",
    "    print (\"0000;\", file=output_stepfile)\n",
    "    \n",
    "def step_song(song):\n",
    "    if song.name + '.sm' in os.listdir(song.folder) and not song.name + '.sm.backup' in os.listdir(song.folder):\n",
    "        os.rename(song.stepfile_name, song.stepfile_name + '.backup')\n",
    "            \n",
    "    output_stepfile=open(song.stepfile_name, 'w')\n",
    "    write_song_header(output_stepfile, song)\n",
    "    write_step_header(output_stepfile, song)\n",
    "    output_stepfile.close()"
   ]
  },
  {
   "cell_type": "code",
   "execution_count": null,
   "metadata": {
    "collapsed": true
   },
   "outputs": [],
   "source": []
  }
 ],
 "metadata": {
  "kernelspec": {
   "display_name": "Python 3",
   "language": "python",
   "name": "python3"
  },
  "language_info": {
   "codemirror_mode": {
    "name": "ipython",
    "version": 3
   },
   "file_extension": ".py",
   "mimetype": "text/x-python",
   "name": "python",
   "nbconvert_exporter": "python",
   "pygments_lexer": "ipython3",
   "version": "3.5.1"
  }
 },
 "nbformat": 4,
 "nbformat_minor": 0
}
