{
 "cells": [
  {
   "cell_type": "code",
   "execution_count": 60,
   "metadata": {
    "collapsed": true
   },
   "outputs": [],
   "source": [
    "from __future__ import print_function\n",
    "%matplotlib inline\n",
    "import copy\n",
    "import pandas as pd\n",
    "import numpy as np\n",
    "import librosa\n",
    "import seaborn as sb\n",
    "import matplotlib.pyplot as plt\n",
    "import itertools\n",
    "import re\n",
    "import random\n",
    "import gc\n",
    "from os import listdir\n",
    "from os.path import isfile, join\n",
    "from numpy import median, diff"
   ]
  },
  {
   "cell_type": "markdown",
   "metadata": {},
   "source": [
    "# Helpers to read .sm and return notes and meta data\n",
    "- get_notes_from_note_string(note_string)\n",
    "- get_notes_and_metadata(file)\n",
    "- get_song_steps()"
   ]
  },
  {
   "cell_type": "code",
   "execution_count": 61,
   "metadata": {
    "collapsed": true
   },
   "outputs": [],
   "source": [
    "regex_notes_with_metadata = '#NOTES:n     dance-single((?:(?!//-).)*);'\n",
    "regex_metadata_split = ':n     (.*):n     (.*):n     (.*):n     (.*):n     (.*):(.*);'\n",
    "def get_notes_from_note_string(note_string):\n",
    "    note_strings_split = re.split(r'n', note_string)[1:-1]\n",
    "    notes = []\n",
    "    bar = []\n",
    "    for row in note_strings_split:\n",
    "        if len(row) == 4:\n",
    "            bar.append(row)\n",
    "        else:\n",
    "            notes.append(bar)\n",
    "            bar = []\n",
    "    return notes\n",
    "\n",
    "def get_notes_and_metadata(file):\n",
    "    difficulty_map = {}\n",
    "    with open(file) as txt:\n",
    "        step_file = txt.read()\n",
    "        step_file = step_file.replace('\\n', 'n')\n",
    "        notes_with_metadata_groups = re.finditer(regex_notes_with_metadata, step_file)\n",
    "        for match in notes_with_metadata_groups:\n",
    "            notes_with_metadata = match.group(0)\n",
    "            split_data = re.search(regex_metadata_split, notes_with_metadata)\n",
    "            difficulty = split_data.group(4)\n",
    "            metadata = split_data.group(5)\n",
    "            notes = get_notes_from_note_string(split_data.group(6))\n",
    "            notes_with_metadata_map = {\n",
    "                'DIFFICULTY': difficulty,\n",
    "                'METADATA': metadata,\n",
    "                'NOTES': notes,\n",
    "            }\n",
    "            difficulty_map[difficulty] = notes_with_metadata_map\n",
    "    return difficulty_map"
   ]
  },
  {
   "cell_type": "markdown",
   "metadata": {},
   "source": [
    "# Notes Structure\n",
    "- Normal notes are 1\n",
    "\n",
    "1000\n",
    "- Holds start 2 end 3\n",
    "\n",
    "2000\n",
    "0000\n",
    "0000\n",
    "3000\n",
    "- Rolls start 4 end 3\n",
    "\n",
    "4000\n",
    "0000\n",
    "0000\n",
    "3000\n",
    "- Mines are M\n",
    "\n",
    "MMMM"
   ]
  },
  {
   "cell_type": "code",
   "execution_count": 95,
   "metadata": {
    "collapsed": true
   },
   "outputs": [],
   "source": [
    "notes_per_bar = 48\n",
    "def padBar(bar):\n",
    "    pad = int(48 / len(bar)) if len(bar) != 0 else 1\n",
    "    return [row for note in bar for row in [note] + (pad - 1) * ['0000']]\n",
    "\n",
    "def get_plain_padded_notes_from_note_string(pack, song):\n",
    "    folder = 'StepMania/Songs/{0}/{1}/'.format(pack, song)\n",
    "    stepfile = folder + next(file for file in listdir(folder) if file.endswith('.ssc') or file.endswith('.sm'))\n",
    "    notes_and_metadata = get_notes_and_metadata(stepfile)\n",
    "    notes_for_difficulty = min(notes_and_metadata.values(), key=lambda steps:abs(int(steps['DIFFICULTY']) - 9))['NOTES']\n",
    "    return [row for bar in notes_for_difficulty for row in padBar(bar)]"
   ]
  },
  {
   "cell_type": "code",
   "execution_count": 97,
   "metadata": {
    "collapsed": false
   },
   "outputs": [
    {
     "name": "stdout",
     "output_type": "stream",
     "text": [
      "Song Already Loaded\n",
      "Song Already Loaded\n",
      "Song Already Loaded\n",
      "Song Already Loaded\n",
      "Song Already Loaded\n",
      "Song Already Loaded\n",
      "Song Already Loaded\n",
      "Song Already Loaded\n",
      "Song Already Loaded\n",
      "Song Already Loaded\n"
     ]
    }
   ],
   "source": [
    "packs = ['In The Groove', 'In The Groove 2', 'In The Groove 3', 'In The Groove Rebirth', 'In The Groove Rebirth +', 'In The Groove Rebirth 2 (BETA)', 'Piece of Cake', 'Piece of Cake 2', 'Piece of Cake 3', 'Piece of Cake 4', 'Piece of Cake 5']\n",
    "packs = ['Piece of Cake', 'Piece of Cake 2', 'Piece of Cake 3', 'Piece of Cake 4', 'Piece of Cake 5']\n",
    "\n",
    "for pack in packs:\n",
    "    songs = [song for song in listdir('StepMania/Songs/{0}'.format(pack)) if song != '.DS_Store']\n",
    "    for song in songs:\n",
    "        if '{0}~{1}_notes.csv'.format(pack, song) in listdir('data'):\n",
    "            print ('Song Already Loaded')\n",
    "        else:\n",
    "            notes = get_plain_padded_notes_from_note_string(pack, song)\n",
    "            pd.DataFrame(notes).to_csv('data/{0}~{1}_notes.csv'.format(pack, song), index=False)"
   ]
  },
  {
   "cell_type": "code",
   "execution_count": null,
   "metadata": {
    "collapsed": true
   },
   "outputs": [],
   "source": []
  }
 ],
 "metadata": {
  "kernelspec": {
   "display_name": "Python 3",
   "language": "python",
   "name": "python3"
  },
  "language_info": {
   "codemirror_mode": {
    "name": "ipython",
    "version": 3
   },
   "file_extension": ".py",
   "mimetype": "text/x-python",
   "name": "python",
   "nbconvert_exporter": "python",
   "pygments_lexer": "ipython3",
   "version": "3.5.1"
  }
 },
 "nbformat": 4,
 "nbformat_minor": 0
}
