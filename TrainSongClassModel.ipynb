{
 "cells": [
  {
   "cell_type": "code",
   "execution_count": 1,
   "metadata": {
    "collapsed": false
   },
   "outputs": [
    {
     "name": "stderr",
     "output_type": "stream",
     "text": [
      "Using Theano backend.\n"
     ]
    }
   ],
   "source": [
    "import pandas as pd\n",
    "import numpy as np\n",
    "import random\n",
    "import gc\n",
    "from os import listdir\n",
    "from keras.models import Sequential, load_model\n",
    "from keras.layers import Dense, Activation, Dropout, BatchNormalization, LSTM\n",
    "from sklearn.preprocessing import MinMaxScaler\n",
    "from sklearn.externals import joblib\n",
    "np.random.seed(0)"
   ]
  },
  {
   "cell_type": "markdown",
   "metadata": {},
   "source": [
    "# Note types\n",
    "- 0: nothing\n",
    "- 1: step\n",
    "- 2: hold start\n",
    "- 3: hold/roll end\n",
    "- 4: roll start\n",
    "- M: mine\n",
    "\n",
    "# Classes\n",
    "- 0: nothing\n",
    "- 1: one note\n",
    "- 2: two notes\n",
    "- 3: three or four notes\n",
    "- 4: hold start\n",
    "- 5: roll start\n",
    "- 6: mine"
   ]
  },
  {
   "cell_type": "code",
   "execution_count": 2,
   "metadata": {
    "collapsed": false
   },
   "outputs": [],
   "source": [
    "samples_back_included_indices = [0, 1, 2, 3, 4, 6, 8, 9, 12, 16, 24, 36, 48]\n",
    "samples_back_included = len(samples_back_included_indices)\n",
    "num_classes = 7\n",
    "num_features = 44\n",
    "num_features_total = (num_features * samples_back_included)\n",
    "save_files = listdir('data')\n",
    "\n",
    "def get_features_for_index(beat_features, index):\n",
    "    return beat_features[index] if index >= 0 else [0] * num_features\n",
    "\n",
    "def get_class_for_index_expanded(notes, index):\n",
    "    if index < 0:\n",
    "        return [1, 0, 0, 0, 0, 0, 0]\n",
    "    row = notes[index][0]\n",
    "    (steps, holds, rolls, mines) = [row.count(char) for char in ['1', '2', '4', 'M']]\n",
    "    if steps == 0 and mines == 0 and holds == 0 and rolls == 0:\n",
    "        return [1, 0, 0, 0, 0, 0, 0]\n",
    "    steps += (holds + rolls)\n",
    "    return [int(i) for i in [False, steps == 1, steps == 2, steps > 2, holds > 0, rolls > 0, mines > 0]]\n",
    "\n",
    "def get_class_for_index(notes, index):\n",
    "    classes_expanded = get_class_for_index_expanded(notes, index)\n",
    "    return [i for i in range(7) if classes_expanded[i]]\n",
    "    \n",
    "importance_rankings = [48, 24, 12, 6, 3, 16, 8, 4, 2, 1]\n",
    "def get_beat_importance(index):\n",
    "    for i in range(len(importance_rankings)):\n",
    "        if index % importance_rankings[i] == 0:\n",
    "            return i\n",
    "\n",
    "def get_features_for_song(X, y, key):\n",
    "    if '{0}_beat_features.csv'.format(key) in save_files and '{0}_notes.csv'.format(key) in save_files:\n",
    "        beat_features_rotated = pd.read_csv('data/{0}_beat_features.csv'.format(key)).values\n",
    "        notes = pd.read_csv('data/{0}_notes.csv'.format(key), converters={'0': lambda x: str(x)}).values\n",
    "        beat_features = np.flipud(np.rot90(np.array(beat_features_rotated)))\n",
    "        num_notes = min(len(notes), len(beat_features))\n",
    "        new_beat_features = []\n",
    "        for beat_feature_row, i in zip(beat_features, range(len(beat_features))):\n",
    "            new_beat_feature_row = np.concatenate((beat_feature_row, [i % 48, get_beat_importance(i), i / 48, num_notes - i / 48]), axis=0)\n",
    "            new_beat_features.append(new_beat_feature_row)\n",
    "\n",
    "        for i in range(num_notes):\n",
    "            class_num = get_class_for_index_expanded(notes, i)\n",
    "            features = [feature for j in samples_back_included_indices for feature in get_features_for_index(new_beat_features, i - j)]\n",
    "            X.append(features)\n",
    "            y.append(class_num)\n",
    "\n",
    "def build_training_data(songs):\n",
    "    X = []\n",
    "    y = []\n",
    "    for song_data in songs:\n",
    "        get_features_for_song(X, y, song_data[0])\n",
    "    return np.array(X), np.array(y)"
   ]
  },
  {
   "cell_type": "markdown",
   "metadata": {},
   "source": [
    "# Full Model"
   ]
  },
  {
   "cell_type": "code",
   "execution_count": 4,
   "metadata": {
    "collapsed": false
   },
   "outputs": [
    {
     "name": "stdout",
     "output_type": "stream",
     "text": [
      "Epoch 1/8\n",
      "601248/601248 [==============================] - 382s - loss: 0.8513 - acc: 0.8600   \n",
      "Epoch 2/8\n",
      "601248/601248 [==============================] - 382s - loss: 0.5453 - acc: 0.8804   \n",
      "Epoch 3/8\n",
      "601248/601248 [==============================] - 388s - loss: 0.4691 - acc: 0.8821   \n",
      "Epoch 4/8\n",
      "601248/601248 [==============================] - 386s - loss: 0.4380 - acc: 0.8823   \n",
      "Epoch 5/8\n",
      "601248/601248 [==============================] - 388s - loss: 0.4212 - acc: 0.8827   \n",
      "Epoch 6/8\n",
      "601248/601248 [==============================] - 387s - loss: 0.4110 - acc: 0.8827   \n",
      "Epoch 7/8\n",
      "601248/601248 [==============================] - 390s - loss: 0.4036 - acc: 0.8833   \n",
      "Epoch 8/8\n",
      "601248/601248 [==============================] - 386s - loss: 0.3981 - acc: 0.8837   \n"
     ]
    }
   ],
   "source": [
    "%%time\n",
    "songs_to_use = pd.read_csv('data/songs_to_use.csv').values\n",
    "X, y = build_training_data(songs_to_use)\n",
    "\n",
    "scaler = MinMaxScaler(feature_range=(0, 1))\n",
    "X = scaler.fit_transform(X)\n",
    "joblib.dump(scaler, 'models/song_class_scaler/scaler.pkl')\n",
    "\n",
    "X = np.reshape(X, (X.shape[0], samples_back_included, num_features))\n",
    "gc.collect()\n",
    "\n",
    "batch_size = 96\n",
    "\n",
    "model = Sequential()\n",
    "\n",
    "model.add(LSTM(128, batch_input_shape=[batch_size, samples_back_included, num_features], stateful=True))\n",
    "model.add(BatchNormalization())\n",
    "model.add(Activation('softsign'))\n",
    "model.add(Dropout(0.2))\n",
    "\n",
    "model.add(Dense(num_classes))\n",
    "model.add(BatchNormalization())\n",
    "model.add(Activation('softmax'))\n",
    "\n",
    "model.compile(loss='categorical_crossentropy',\n",
    "              optimizer='adagrad',\n",
    "              metrics=['accuracy'])\n",
    "\n",
    "cutoff = int(len(X) / batch_size) * batch_size\n",
    "model.fit(X[:cutoff], y[:cutoff], nb_epoch=8, batch_size=batch_size, verbose=1)\n",
    "model.save('models/song_class_model.h5')"
   ]
  },
  {
   "cell_type": "code",
   "execution_count": null,
   "metadata": {
    "collapsed": true
   },
   "outputs": [],
   "source": []
  }
 ],
 "metadata": {
  "anaconda-cloud": {},
  "kernelspec": {
   "display_name": "Python 3",
   "language": "python",
   "name": "python3"
  },
  "language_info": {
   "codemirror_mode": {
    "name": "ipython",
    "version": 3
   },
   "file_extension": ".py",
   "mimetype": "text/x-python",
   "name": "python",
   "nbconvert_exporter": "python",
   "pygments_lexer": "ipython3",
   "version": "3.5.1"
  }
 },
 "nbformat": 4,
 "nbformat_minor": 0
}
