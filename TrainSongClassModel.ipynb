{
 "cells": [
  {
   "cell_type": "code",
   "execution_count": 11,
   "metadata": {
    "collapsed": false
   },
   "outputs": [],
   "source": [
    "import pandas as pd\n",
    "import numpy as np\n",
    "import random\n",
    "import gc\n",
    "from os import listdir\n",
    "from keras.models import Sequential, load_model\n",
    "from keras.layers import Dense, Activation, Dropout, BatchNormalization\n",
    "from keras.optimizers import SGD, RMSprop\n",
    "from sklearn import tree\n",
    "from sklearn.ensemble import RandomForestClassifier\n",
    "from sklearn.cross_validation import train_test_split, cross_val_score"
   ]
  },
  {
   "cell_type": "markdown",
   "metadata": {},
   "source": [
    "# Note types\n",
    "- 0: nothing\n",
    "- 1: step\n",
    "- 2: hold start\n",
    "- 3: hold/roll end\n",
    "- 4: roll start\n",
    "- M: mine\n",
    "\n",
    "# Classes\n",
    "- 0: nothing\n",
    "- 1: one note\n",
    "- 2: two notes\n",
    "- 3: three or four notes\n",
    "- 4: hold start\n",
    "- 5: roll start\n",
    "- 6: mine"
   ]
  },
  {
   "cell_type": "code",
   "execution_count": 5,
   "metadata": {
    "collapsed": false
   },
   "outputs": [],
   "source": [
    "samples_back_included = 8\n",
    "num_classes = 7\n",
    "num_features = 40\n",
    "num_features_total = (num_features * samples_back_included) + 4\n",
    "save_files = listdir('data')\n",
    "\n",
    "def get_features_for_index(beat_features, notes, index):\n",
    "    if index < 0:\n",
    "        return [0] * num_features\n",
    "    return beat_features[index]\n",
    "\n",
    "def get_class_for_index(notes, index):\n",
    "    if index < 0:\n",
    "        return [1, 0, 0, 0, 0, 0, 0]\n",
    "    row = notes[index][0]\n",
    "    (steps, holds, rolls, mines) = [row.count(char) for char in ['1', '2', '4', 'M']]\n",
    "    steps += (holds + rolls)\n",
    "    return [int(i) for i in [steps == 0 and mines == 0, steps == 1, steps == 2, steps > 2, holds > 0, rolls > 0, mines > 0]]\n",
    "    \n",
    "importance_rankings = [48, 24, 12, 16, 6, 8, 3, 4, 2, 1]\n",
    "def get_beat_importance(index):\n",
    "    for i in range(len(importance_rankings)):\n",
    "        if index % importance_rankings[i] == 0:\n",
    "            return i\n",
    "\n",
    "def get_features_for_song(key, is_full):\n",
    "    X = []\n",
    "    y = []\n",
    "    if '{0}_beat_features.csv'.format(key) in save_files and '{0}_notes.csv'.format(key) in save_files:\n",
    "        beat_features_rotated = pd.read_csv('data/{0}_beat_features.csv'.format(key)).values\n",
    "        notes = pd.read_csv('data/{0}_notes.csv'.format(key), converters={'0': lambda x: str(x)}).values\n",
    "        beat_features = np.flipud(np.rot90(np.array(beat_features_rotated)))\n",
    "        num_notes = min(len(notes), len(beat_features))\n",
    "        for i in range(num_notes):\n",
    "            row_y = get_class_for_index(notes, i)\n",
    "            if is_full or (not (row_y == 0 and random.randint(0, 5) != 0)):\n",
    "                features = [feature for j in range(samples_back_included) for feature in get_features_for_index(beat_features, notes, i - j)]\n",
    "                features.append(i % 48)\n",
    "                features.append(get_beat_importance(i))\n",
    "                features.append(i / 48)\n",
    "                features.append(num_notes - i / 48)\n",
    "                X.append(features)\n",
    "                y.append(row_y)\n",
    "    return np.array(X), np.array(y)\n",
    "\n",
    "# Total 243 songs\n",
    "def build_training_data(is_full = False):\n",
    "    X = []\n",
    "    y = []\n",
    "    songs_to_use = pd.read_csv('data/songs_to_use.csv').values\n",
    "    for song_data in songs_to_use:\n",
    "        song_X, song_y = get_features_for_song(song_data[0], is_full)\n",
    "        X.extend(song_X)\n",
    "        y.extend(song_y)\n",
    "    return np.array(X), np.array(y)"
   ]
  },
  {
   "cell_type": "code",
   "execution_count": 6,
   "metadata": {
    "collapsed": false
   },
   "outputs": [],
   "source": [
    "X, y = build_training_data(True)\n",
    "#X_train, X_test, y_train, y_test = train_test_split(X, y, test_size=0.2, random_state=42)\n",
    "#X = None\n",
    "#y = None\n",
    "#X_train, y_train = np.array(X_train), np.array(y_train)\n",
    "#X_test, y_test = np.array(X_test), np.array(y_test)"
   ]
  },
  {
   "cell_type": "code",
   "execution_count": 7,
   "metadata": {
    "collapsed": true
   },
   "outputs": [],
   "source": [
    "class_weight = {\n",
    "    0: 1,\n",
    "    1: 2,\n",
    "    2: 4,\n",
    "    3: 8,\n",
    "    4: 4,\n",
    "    5: 4,\n",
    "    6: 6\n",
    "}"
   ]
  },
  {
   "cell_type": "code",
   "execution_count": 9,
   "metadata": {
    "collapsed": false
   },
   "outputs": [],
   "source": [
    "def train_and_test(beat_feature_model):\n",
    "    print ('Train Error')\n",
    "    print (beat_feature_model.evaluate(X_train, y_train, batch_size=64))\n",
    "    print ('Test Error')\n",
    "    print (beat_feature_model.evaluate(X_test, y_test, batch_size=64))\n",
    "    print ('\\n')"
   ]
  },
  {
   "cell_type": "code",
   "execution_count": null,
   "metadata": {
    "collapsed": false
   },
   "outputs": [
    {
     "name": "stdout",
     "output_type": "stream",
     "text": [
      "      Iter       Train Loss   Remaining Time \n",
      "         1        9789.0957            2.16s\n"
     ]
    }
   ],
   "source": [
    "from sklearn.ensemble import GradientBoostingClassifier\n",
    "y_transformed = np.array(list(map(lambda one_hot: np.argmax(one_hot), y)))\n",
    "gb_clf = GradientBoostingClassifier(n_estimators=5, max_depth=1, verbose=True)\n",
    "split = 0.75 * len(X)\n",
    "gb_clf.fit(X[:10000], y_transformed[:10000])"
   ]
  },
  {
   "cell_type": "code",
   "execution_count": 27,
   "metadata": {
    "collapsed": false
   },
   "outputs": [
    {
     "name": "stderr",
     "output_type": "stream",
     "text": [
      "/Users/jgzuke/anaconda3/lib/python3.5/site-packages/ipykernel/__main__.py:1: DeprecationWarning: using a non-integer number instead of an integer will result in an error in the future\n",
      "  if __name__ == '__main__':\n"
     ]
    },
    {
     "data": {
      "text/plain": [
       "0.83963224385798019"
      ]
     },
     "execution_count": 27,
     "metadata": {},
     "output_type": "execute_result"
    }
   ],
   "source": [
    "gb_clf.score(X[split:], y_transformed[split:])"
   ]
  },
  {
   "cell_type": "code",
   "execution_count": 10,
   "metadata": {
    "collapsed": false
   },
   "outputs": [
    {
     "name": "stdout",
     "output_type": "stream",
     "text": [
      "Epoch 1/50\n",
      "601265/601265 [==============================] - 175s - loss: 0.8015 - acc: 0.8473   \n",
      "Epoch 2/50\n",
      "601265/601265 [==============================] - 183s - loss: 0.5107 - acc: 0.8711   \n",
      "Epoch 3/50\n",
      "601265/601265 [==============================] - 165s - loss: 0.4587 - acc: 0.8730   \n",
      "Epoch 4/50\n",
      "601265/601265 [==============================] - 160s - loss: 0.4362 - acc: 0.8745   \n",
      "Epoch 5/50\n",
      "601265/601265 [==============================] - 161s - loss: 0.4237 - acc: 0.8755   \n",
      "Epoch 6/50\n",
      "601265/601265 [==============================] - 169s - loss: 0.4150 - acc: 0.8763   \n",
      "Epoch 7/50\n",
      "601265/601265 [==============================] - 158s - loss: 0.4087 - acc: 0.8767   \n",
      "Epoch 8/50\n",
      "601265/601265 [==============================] - 142s - loss: 0.4036 - acc: 0.8777   \n",
      "Epoch 9/50\n",
      "601265/601265 [==============================] - 145s - loss: 0.3999 - acc: 0.8781   \n",
      "Epoch 10/50\n",
      "601265/601265 [==============================] - 144s - loss: 0.3966 - acc: 0.8785   \n",
      "Epoch 11/50\n",
      "601265/601265 [==============================] - 144s - loss: 0.3936 - acc: 0.8791   \n",
      "Epoch 12/50\n",
      "601265/601265 [==============================] - 147s - loss: 0.3914 - acc: 0.8795   \n",
      "Epoch 13/50\n",
      "601265/601265 [==============================] - 146s - loss: 0.3886 - acc: 0.8801   \n",
      "Epoch 14/50\n",
      "601265/601265 [==============================] - 146s - loss: 0.3868 - acc: 0.8800   \n",
      "Epoch 15/50\n",
      "601265/601265 [==============================] - 150s - loss: 0.3848 - acc: 0.8806   \n",
      "Epoch 16/50\n",
      "601265/601265 [==============================] - 146s - loss: 0.3830 - acc: 0.8814   \n",
      "Epoch 17/50\n",
      "601265/601265 [==============================] - 150s - loss: 0.3813 - acc: 0.8815   \n",
      "Epoch 18/50\n",
      "601265/601265 [==============================] - 149s - loss: 0.3799 - acc: 0.8815   \n",
      "Epoch 19/50\n",
      "601265/601265 [==============================] - 151s - loss: 0.3783 - acc: 0.8821   \n",
      "Epoch 20/50\n",
      "601265/601265 [==============================] - 149s - loss: 0.3775 - acc: 0.8822   \n",
      "Epoch 21/50\n",
      "601265/601265 [==============================] - 150s - loss: 0.3763 - acc: 0.8824   \n",
      "Epoch 22/50\n",
      "601265/601265 [==============================] - 150s - loss: 0.3745 - acc: 0.8826   \n",
      "Epoch 23/50\n",
      "601265/601265 [==============================] - 152s - loss: 0.3728 - acc: 0.8835   \n",
      "Epoch 24/50\n",
      "601265/601265 [==============================] - 151s - loss: 0.3722 - acc: 0.8832   \n",
      "Epoch 25/50\n",
      "601265/601265 [==============================] - 152s - loss: 0.3710 - acc: 0.8833   \n",
      "Epoch 26/50\n",
      "601265/601265 [==============================] - 152s - loss: 0.3704 - acc: 0.8837   \n",
      "Epoch 27/50\n",
      "601265/601265 [==============================] - 154s - loss: 0.3692 - acc: 0.8839   \n",
      "Epoch 28/50\n",
      "601265/601265 [==============================] - 153s - loss: 0.3683 - acc: 0.8842   \n",
      "Epoch 29/50\n",
      "601265/601265 [==============================] - 154s - loss: 0.3673 - acc: 0.8843   \n",
      "Epoch 30/50\n",
      "601265/601265 [==============================] - 154s - loss: 0.3663 - acc: 0.8844   \n",
      "Epoch 31/50\n",
      "601265/601265 [==============================] - 155s - loss: 0.3657 - acc: 0.8845   \n",
      "Epoch 32/50\n",
      "601265/601265 [==============================] - 154s - loss: 0.3647 - acc: 0.8849   \n",
      "Epoch 33/50\n",
      "601265/601265 [==============================] - 155s - loss: 0.3642 - acc: 0.8852   \n",
      "Epoch 34/50\n",
      "601265/601265 [==============================] - 155s - loss: 0.3633 - acc: 0.8855   \n",
      "Epoch 35/50\n",
      "601265/601265 [==============================] - 156s - loss: 0.3624 - acc: 0.8855   \n",
      "Epoch 36/50\n",
      "601265/601265 [==============================] - 156s - loss: 0.3616 - acc: 0.8859   \n",
      "Epoch 37/50\n",
      "601265/601265 [==============================] - 156s - loss: 0.3610 - acc: 0.8860   \n",
      "Epoch 38/50\n",
      "601265/601265 [==============================] - 157s - loss: 0.3605 - acc: 0.8861   \n",
      "Epoch 39/50\n",
      "601265/601265 [==============================] - 156s - loss: 0.3598 - acc: 0.8862   \n",
      "Epoch 40/50\n",
      "601265/601265 [==============================] - 157s - loss: 0.3588 - acc: 0.8868   \n",
      "Epoch 41/50\n",
      "601265/601265 [==============================] - 156s - loss: 0.3584 - acc: 0.8864   \n",
      "Epoch 42/50\n",
      "601265/601265 [==============================] - 159s - loss: 0.3577 - acc: 0.8868   \n",
      "Epoch 43/50\n",
      "601265/601265 [==============================] - 159s - loss: 0.3569 - acc: 0.8872   \n",
      "Epoch 44/50\n",
      "601265/601265 [==============================] - 160s - loss: 0.3562 - acc: 0.8874   \n",
      "Epoch 45/50\n",
      "601265/601265 [==============================] - 160s - loss: 0.3560 - acc: 0.8873   \n",
      "Epoch 46/50\n",
      "601265/601265 [==============================] - 159s - loss: 0.3552 - acc: 0.8873   \n",
      "Epoch 47/50\n",
      "601265/601265 [==============================] - 158s - loss: 0.3550 - acc: 0.8876   \n",
      "Epoch 48/50\n",
      "601265/601265 [==============================] - 159s - loss: 0.3544 - acc: 0.8874   \n",
      "Epoch 49/50\n",
      "601265/601265 [==============================] - 159s - loss: 0.3538 - acc: 0.8878   \n",
      "Epoch 50/50\n",
      "601265/601265 [==============================] - 160s - loss: 0.3538 - acc: 0.8879   \n",
      "Train Error\n"
     ]
    },
    {
     "ename": "NameError",
     "evalue": "name 'X_train' is not defined",
     "output_type": "error",
     "traceback": [
      "\u001b[0;31m---------------------------------------------------------------------------\u001b[0m",
      "\u001b[0;31mNameError\u001b[0m                                 Traceback (most recent call last)",
      "\u001b[0;32m<ipython-input-10-77d5d740df0b>\u001b[0m in \u001b[0;36m<module>\u001b[0;34m()\u001b[0m\n\u001b[1;32m     20\u001b[0m \u001b[0;34m\u001b[0m\u001b[0m\n\u001b[1;32m     21\u001b[0m \u001b[0mmodel\u001b[0m\u001b[0;34m.\u001b[0m\u001b[0mfit\u001b[0m\u001b[0;34m(\u001b[0m\u001b[0mX\u001b[0m\u001b[0;34m,\u001b[0m \u001b[0my\u001b[0m\u001b[0;34m,\u001b[0m \u001b[0mnb_epoch\u001b[0m\u001b[0;34m=\u001b[0m\u001b[0;36m50\u001b[0m\u001b[0;34m,\u001b[0m \u001b[0mbatch_size\u001b[0m\u001b[0;34m=\u001b[0m\u001b[0;36m64\u001b[0m\u001b[0;34m,\u001b[0m \u001b[0mverbose\u001b[0m\u001b[0;34m=\u001b[0m\u001b[0;36m1\u001b[0m\u001b[0;34m)\u001b[0m\u001b[0;34m\u001b[0m\u001b[0m\n\u001b[0;32m---> 22\u001b[0;31m \u001b[0mtrain_and_test\u001b[0m\u001b[0;34m(\u001b[0m\u001b[0mmodel\u001b[0m\u001b[0;34m)\u001b[0m\u001b[0;34m\u001b[0m\u001b[0m\n\u001b[0m\u001b[1;32m     23\u001b[0m \u001b[0mmodel\u001b[0m\u001b[0;34m.\u001b[0m\u001b[0msave\u001b[0m\u001b[0;34m(\u001b[0m\u001b[0;34m'models/song_class_model.h5'\u001b[0m\u001b[0;34m)\u001b[0m\u001b[0;34m\u001b[0m\u001b[0m\n\u001b[1;32m     24\u001b[0m \u001b[0mmodel\u001b[0m \u001b[0;34m=\u001b[0m \u001b[0;32mNone\u001b[0m\u001b[0;34m\u001b[0m\u001b[0m\n",
      "\u001b[0;32m<ipython-input-9-360ec8a5c6b6>\u001b[0m in \u001b[0;36mtrain_and_test\u001b[0;34m(beat_feature_model)\u001b[0m\n\u001b[1;32m      1\u001b[0m \u001b[0;32mdef\u001b[0m \u001b[0mtrain_and_test\u001b[0m\u001b[0;34m(\u001b[0m\u001b[0mbeat_feature_model\u001b[0m\u001b[0;34m)\u001b[0m\u001b[0;34m:\u001b[0m\u001b[0;34m\u001b[0m\u001b[0m\n\u001b[1;32m      2\u001b[0m     \u001b[0mprint\u001b[0m \u001b[0;34m(\u001b[0m\u001b[0;34m'Train Error'\u001b[0m\u001b[0;34m)\u001b[0m\u001b[0;34m\u001b[0m\u001b[0m\n\u001b[0;32m----> 3\u001b[0;31m     \u001b[0mprint\u001b[0m \u001b[0;34m(\u001b[0m\u001b[0mbeat_feature_model\u001b[0m\u001b[0;34m.\u001b[0m\u001b[0mevaluate\u001b[0m\u001b[0;34m(\u001b[0m\u001b[0mX_train\u001b[0m\u001b[0;34m,\u001b[0m \u001b[0my_train\u001b[0m\u001b[0;34m,\u001b[0m \u001b[0mbatch_size\u001b[0m\u001b[0;34m=\u001b[0m\u001b[0;36m64\u001b[0m\u001b[0;34m)\u001b[0m\u001b[0;34m)\u001b[0m\u001b[0;34m\u001b[0m\u001b[0m\n\u001b[0m\u001b[1;32m      4\u001b[0m     \u001b[0mprint\u001b[0m \u001b[0;34m(\u001b[0m\u001b[0;34m'Test Error'\u001b[0m\u001b[0;34m)\u001b[0m\u001b[0;34m\u001b[0m\u001b[0m\n\u001b[1;32m      5\u001b[0m     \u001b[0mprint\u001b[0m \u001b[0;34m(\u001b[0m\u001b[0mbeat_feature_model\u001b[0m\u001b[0;34m.\u001b[0m\u001b[0mevaluate\u001b[0m\u001b[0;34m(\u001b[0m\u001b[0mX_test\u001b[0m\u001b[0;34m,\u001b[0m \u001b[0my_test\u001b[0m\u001b[0;34m,\u001b[0m \u001b[0mbatch_size\u001b[0m\u001b[0;34m=\u001b[0m\u001b[0;36m64\u001b[0m\u001b[0;34m)\u001b[0m\u001b[0;34m)\u001b[0m\u001b[0;34m\u001b[0m\u001b[0m\n",
      "\u001b[0;31mNameError\u001b[0m: name 'X_train' is not defined"
     ]
    }
   ],
   "source": [
    "model = Sequential()\n",
    "\n",
    "model.add(Dense(512, input_shape=(324,)))\n",
    "model.add(BatchNormalization())\n",
    "model.add(Activation('relu'))\n",
    "model.add(Dropout(0.2))\n",
    "\n",
    "model.add(Dense(512))\n",
    "model.add(BatchNormalization())\n",
    "model.add(Activation('relu'))\n",
    "model.add(Dropout(0.2))\n",
    "\n",
    "model.add(Dense(num_classes))\n",
    "model.add(BatchNormalization())\n",
    "model.add(Activation('softmax'))\n",
    "\n",
    "model.compile(loss='categorical_crossentropy',\n",
    "              optimizer='adagrad',\n",
    "              metrics=['accuracy'])\n",
    "\n",
    "model.fit(X, y, nb_epoch=50, batch_size=64, verbose=1)\n",
    "model.save('models/song_class_model.h5')\n",
    "model = None\n",
    "gc.collect()"
   ]
  },
  {
   "cell_type": "code",
   "execution_count": null,
   "metadata": {
    "collapsed": false
   },
   "outputs": [],
   "source": [
    "model = Sequential()\n",
    "\n",
    "model.add(Dense(512, input_shape=(324,)))\n",
    "model.add(BatchNormalization())\n",
    "model.add(Activation('relu'))\n",
    "model.add(Dropout(0.2))\n",
    "\n",
    "model.add(Dense(512))\n",
    "model.add(BatchNormalization())\n",
    "model.add(Activation('relu'))\n",
    "model.add(Dropout(0.2))\n",
    "\n",
    "model.add(Dense(num_classes))\n",
    "model.add(BatchNormalization())\n",
    "model.add(Activation('softmax'))\n",
    "\n",
    "model.compile(loss='categorical_crossentropy',\n",
    "              optimizer='adagrad',\n",
    "              metrics=['accuracy'])\n",
    "\n",
    "model.fit(X, y, nb_epoch=50, batch_size=64, verbose=1, class_weight=class_weight)\n",
    "model.save('models/song_class_model_weighted.h5')\n",
    "model = None\n",
    "gc.collect()"
   ]
  },
  {
   "cell_type": "code",
   "execution_count": null,
   "metadata": {
    "collapsed": true
   },
   "outputs": [],
   "source": []
  }
 ],
 "metadata": {
  "anaconda-cloud": {},
  "kernelspec": {
   "display_name": "Python 3",
   "language": "python",
   "name": "python3"
  },
  "language_info": {
   "codemirror_mode": {
    "name": "ipython",
    "version": 3
   },
   "file_extension": ".py",
   "mimetype": "text/x-python",
   "name": "python",
   "nbconvert_exporter": "python",
   "pygments_lexer": "ipython3",
   "version": "3.5.1"
  }
 },
 "nbformat": 4,
 "nbformat_minor": 0
}
