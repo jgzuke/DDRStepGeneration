{
 "cells": [
  {
   "cell_type": "code",
   "execution_count": 13,
   "metadata": {
    "collapsed": false
   },
   "outputs": [],
   "source": [
    "from __future__ import print_function\n",
    "%matplotlib inline\n",
    "import copy\n",
    "import pandas as pd\n",
    "import numpy as np\n",
    "import librosa\n",
    "import seaborn as sb\n",
    "import matplotlib.pyplot as plt\n",
    "import itertools\n",
    "import re\n",
    "import random\n",
    "import gc\n",
    "from os import listdir\n",
    "from os.path import isfile, join\n",
    "from numpy import median, diff\n",
    "from keras.models import Sequential\n",
    "from keras.layers import Dense, Activation, Dropout"
   ]
  },
  {
   "cell_type": "code",
   "execution_count": 14,
   "metadata": {
    "collapsed": false
   },
   "outputs": [],
   "source": [
    "# start with each input secion maps to one note\n",
    "# train model for that (just list comprhension on noets for contains 1 maps to true)\n",
    "\n",
    "# then move to bars eg section of 4 bars maps to output for each note\n",
    "# error = probability of note being true vs was it really\n",
    "\n",
    "# try bar + prev notes (home use weird dimensioned data?) to predict next notes\n",
    "\n",
    "# try feeding in non structured data (bpm, position of time in song, song length, \n",
    "# things about feel of song (generated features))\n",
    "# try using keras merge layer to add extra features"
   ]
  },
  {
   "cell_type": "code",
   "execution_count": 15,
   "metadata": {
    "collapsed": false
   },
   "outputs": [],
   "source": [
    "samples_back_included = 24\n",
    "num_features = 42\n",
    "\n",
    "def get_features_for_index(beat_features, notes, index):\n",
    "    if index < 0:\n",
    "        return [0] * num_features\n",
    "    features = beat_features[index]\n",
    "    misc_features = [index % 48, get_steps_for_index(notes, index - 1)]\n",
    "    return np.concatenate((features, misc_features))\n",
    "\n",
    "def get_steps_for_index(notes, index):\n",
    "    if index < 0:\n",
    "        return 0\n",
    "    row = notes[index][0]\n",
    "    return int('1' in row or '2' in row or '4' in row)\n",
    "\n",
    "def build_batch_generator():\n",
    "    songs_to_use = pd.read_csv('data/songs_to_use.csv').values\n",
    "    save_files = listdir('data')\n",
    "    for song_data in songs_to_use[:100]:\n",
    "        if '{0}_beat_features.csv'.format(song_data[0]) in save_files and '{0}_notes.csv'.format(song_data[0]) in save_files:\n",
    "            X = []\n",
    "            y = []\n",
    "            beat_features_rotated = pd.read_csv('data/{0}_beat_features.csv'.format(song_data[0])).values\n",
    "            notes = pd.read_csv('data/{0}_notes.csv'.format(song_data[0]), converters={'0': lambda x: str(x)}).values\n",
    "            beat_features = np.flipud(np.rot90(np.array(beat_features_rotated)))\n",
    "            for i in range(min(len(notes), len(beat_features))):\n",
    "                features = [feature for j in range(samples_back_included) for feature in get_features_for_index(beat_features, notes, i - j)]\n",
    "                X.append(features)\n",
    "                y.append(get_steps_for_index(notes, i))\n",
    "            yield (np.array(X), np.array(y))"
   ]
  },
  {
   "cell_type": "code",
   "execution_count": 39,
   "metadata": {
    "collapsed": false
   },
   "outputs": [],
   "source": [
    "import theano\n",
    "import theano.tensor as T\n",
    "epsilon = 1.0e-9\n",
    "\n",
    "def custom_objective(y_true, y_pred):\n",
    "    y_pred = T.clip(y_pred, epsilon, 1.0 - epsilon)\n",
    "    y_pred /= y_pred.sum(axis=-1, keepdims=True)\n",
    "    cce = T.nnet.categorical_crossentropy(y_pred, y_true)\n",
    "    return y_pred\n",
    "\n",
    "beat_feature_model = Sequential()\n",
    "beat_feature_model.add(Dense(64, input_dim=samples_back_included * num_features, init='uniform', activation='relu'))\n",
    "beat_feature_model.add(Dense(64, activation='relu'))\n",
    "beat_feature_model.add(Dense(1, activation='sigmoid'))\n",
    "\n",
    "beat_feature_model.compile(loss=custom_objective,\n",
    "                           optimizer='rmsprop',\n",
    "                           metrics=['accuracy'])"
   ]
  },
  {
   "cell_type": "code",
   "execution_count": 44,
   "metadata": {
    "collapsed": false
   },
   "outputs": [
    {
     "name": "stdout",
     "output_type": "stream",
     "text": [
      "[array(1.0, dtype=float32), array(0.15544871985912323, dtype=float32)]\n",
      "[array(1.0, dtype=float32), array(0.1026570051908493, dtype=float32)]\n"
     ]
    }
   ],
   "source": [
    "gen = build_batch_generator()\n",
    "#for data in gen:\n",
    "for i in range(5):\n",
    "    X, y = next(gen)\n",
    "    beat_feature_model.train_on_batch(X, y)\n",
    "\n",
    "gen = build_batch_generator()\n",
    "for i in range(2):\n",
    "    X, y = next(gen)\n",
    "    print (beat_feature_model.test_on_batch(X, y))"
   ]
  },
  {
   "cell_type": "code",
   "execution_count": 45,
   "metadata": {
    "collapsed": false
   },
   "outputs": [],
   "source": [
    "X, y = next(gen)\n",
    "predictions = beat_feature_model.predict(X)"
   ]
  },
  {
   "cell_type": "code",
   "execution_count": 46,
   "metadata": {
    "collapsed": false
   },
   "outputs": [
    {
     "name": "stdout",
     "output_type": "stream",
     "text": [
      "Length: 4080\n"
     ]
    },
    {
     "data": {
      "image/png": "[encoded data removed]",
      "text/plain": [
       "<matplotlib.figure.Figure at 0x11f028f60>"
      ]
     },
     "metadata": {},
     "output_type": "display_data"
    }
   ],
   "source": [
    "print ('Length: ' + str(len(predictions)))\n",
    "test = [predictions[i] for i in range(len(predictions)) if i % 24 == 0]\n",
    "sb.set_style(\"darkgrid\")\n",
    "plt.plot(test)\n",
    "plt.show()"
   ]
  },
  {
   "cell_type": "code",
   "execution_count": 47,
   "metadata": {
    "collapsed": false
   },
   "outputs": [
    {
     "data": {
      "text/plain": [
       "[array([ 0.99999952], dtype=float32),\n",
       " array([ 1.], dtype=float32),\n",
       " array([ 1.], dtype=float32),\n",
       " array([ 1.], dtype=float32),\n",
       " array([ 1.], dtype=float32),\n",
       " array([ 1.], dtype=float32),\n",
       " array([ 1.], dtype=float32),\n",
       " array([ 1.], dtype=float32),\n",
       " array([ 1.], dtype=float32),\n",
       " array([ 1.], dtype=float32),\n",
       " array([ 1.], dtype=float32),\n",
       " array([ 1.], dtype=float32),\n",
       " array([ 1.], dtype=float32),\n",
       " array([ 1.], dtype=float32),\n",
       " array([ 1.], dtype=float32),\n",
       " array([ 1.], dtype=float32),\n",
       " array([ 1.], dtype=float32),\n",
       " array([ 1.], dtype=float32),\n",
       " array([ 1.], dtype=float32),\n",
       " array([ 1.], dtype=float32),\n",
       " array([ 1.], dtype=float32),\n",
       " array([ 1.], dtype=float32),\n",
       " array([ 1.], dtype=float32),\n",
       " array([ 1.], dtype=float32),\n",
       " array([ 1.], dtype=float32),\n",
       " array([ 1.], dtype=float32),\n",
       " array([ 1.], dtype=float32),\n",
       " array([ 1.], dtype=float32),\n",
       " array([ 1.], dtype=float32),\n",
       " array([ 1.], dtype=float32),\n",
       " array([ 1.], dtype=float32),\n",
       " array([ 1.], dtype=float32),\n",
       " array([ 1.], dtype=float32),\n",
       " array([ 1.], dtype=float32),\n",
       " array([ 1.], dtype=float32),\n",
       " array([ 1.], dtype=float32),\n",
       " array([ 1.], dtype=float32),\n",
       " array([ 1.], dtype=float32),\n",
       " array([ 1.], dtype=float32),\n",
       " array([ 1.], dtype=float32),\n",
       " array([ 1.], dtype=float32),\n",
       " array([ 1.], dtype=float32),\n",
       " array([ 1.], dtype=float32),\n",
       " array([ 1.], dtype=float32),\n",
       " array([ 1.], dtype=float32),\n",
       " array([ 1.], dtype=float32),\n",
       " array([ 1.], dtype=float32),\n",
       " array([ 1.], dtype=float32),\n",
       " array([ 1.], dtype=float32),\n",
       " array([ 1.], dtype=float32),\n",
       " array([ 1.], dtype=float32),\n",
       " array([ 1.], dtype=float32),\n",
       " array([ 1.], dtype=float32),\n",
       " array([ 1.], dtype=float32),\n",
       " array([ 1.], dtype=float32),\n",
       " array([ 1.], dtype=float32),\n",
       " array([ 1.], dtype=float32),\n",
       " array([ 1.], dtype=float32),\n",
       " array([ 1.], dtype=float32),\n",
       " array([ 1.], dtype=float32),\n",
       " array([ 1.], dtype=float32),\n",
       " array([ 1.], dtype=float32),\n",
       " array([ 1.], dtype=float32),\n",
       " array([ 1.], dtype=float32),\n",
       " array([ 1.], dtype=float32),\n",
       " array([ 1.], dtype=float32),\n",
       " array([ 1.], dtype=float32),\n",
       " array([ 1.], dtype=float32),\n",
       " array([ 1.], dtype=float32),\n",
       " array([ 1.], dtype=float32),\n",
       " array([ 1.], dtype=float32),\n",
       " array([ 1.], dtype=float32),\n",
       " array([ 1.], dtype=float32),\n",
       " array([ 1.], dtype=float32),\n",
       " array([ 1.], dtype=float32),\n",
       " array([ 1.], dtype=float32),\n",
       " array([ 1.], dtype=float32),\n",
       " array([ 1.], dtype=float32),\n",
       " array([ 1.], dtype=float32),\n",
       " array([ 1.], dtype=float32),\n",
       " array([ 1.], dtype=float32),\n",
       " array([ 1.], dtype=float32),\n",
       " array([ 1.], dtype=float32),\n",
       " array([ 1.], dtype=float32),\n",
       " array([ 1.], dtype=float32),\n",
       " array([ 1.], dtype=float32),\n",
       " array([ 1.], dtype=float32),\n",
       " array([ 1.], dtype=float32),\n",
       " array([ 1.], dtype=float32),\n",
       " array([ 1.], dtype=float32),\n",
       " array([ 1.], dtype=float32),\n",
       " array([ 1.], dtype=float32),\n",
       " array([ 1.], dtype=float32),\n",
       " array([ 1.], dtype=float32),\n",
       " array([ 1.], dtype=float32),\n",
       " array([ 1.], dtype=float32),\n",
       " array([ 1.], dtype=float32),\n",
       " array([ 1.], dtype=float32),\n",
       " array([ 1.], dtype=float32),\n",
       " array([ 1.], dtype=float32),\n",
       " array([ 1.], dtype=float32),\n",
       " array([ 1.], dtype=float32),\n",
       " array([ 1.], dtype=float32),\n",
       " array([ 1.], dtype=float32),\n",
       " array([ 1.], dtype=float32),\n",
       " array([ 1.], dtype=float32),\n",
       " array([ 1.], dtype=float32),\n",
       " array([ 1.], dtype=float32),\n",
       " array([ 1.], dtype=float32),\n",
       " array([ 1.], dtype=float32),\n",
       " array([ 1.], dtype=float32),\n",
       " array([ 1.], dtype=float32),\n",
       " array([ 1.], dtype=float32),\n",
       " array([ 1.], dtype=float32),\n",
       " array([ 1.], dtype=float32),\n",
       " array([ 1.], dtype=float32),\n",
       " array([ 1.], dtype=float32),\n",
       " array([ 1.], dtype=float32),\n",
       " array([ 1.], dtype=float32),\n",
       " array([ 1.], dtype=float32),\n",
       " array([ 1.], dtype=float32),\n",
       " array([ 1.], dtype=float32),\n",
       " array([ 1.], dtype=float32),\n",
       " array([ 1.], dtype=float32),\n",
       " array([ 1.], dtype=float32),\n",
       " array([ 1.], dtype=float32),\n",
       " array([ 1.], dtype=float32),\n",
       " array([ 1.], dtype=float32),\n",
       " array([ 1.], dtype=float32),\n",
       " array([ 1.], dtype=float32),\n",
       " array([ 1.], dtype=float32),\n",
       " array([ 1.], dtype=float32),\n",
       " array([ 1.], dtype=float32),\n",
       " array([ 1.], dtype=float32),\n",
       " array([ 1.], dtype=float32),\n",
       " array([ 1.], dtype=float32),\n",
       " array([ 1.], dtype=float32),\n",
       " array([ 1.], dtype=float32),\n",
       " array([ 1.], dtype=float32),\n",
       " array([ 1.], dtype=float32),\n",
       " array([ 1.], dtype=float32),\n",
       " array([ 1.], dtype=float32),\n",
       " array([ 1.], dtype=float32),\n",
       " array([ 1.], dtype=float32),\n",
       " array([ 1.], dtype=float32),\n",
       " array([ 1.], dtype=float32),\n",
       " array([ 1.], dtype=float32),\n",
       " array([ 1.], dtype=float32),\n",
       " array([ 1.], dtype=float32),\n",
       " array([ 1.], dtype=float32),\n",
       " array([ 1.], dtype=float32),\n",
       " array([ 1.], dtype=float32),\n",
       " array([ 1.], dtype=float32),\n",
       " array([ 1.], dtype=float32),\n",
       " array([ 1.], dtype=float32),\n",
       " array([ 1.], dtype=float32),\n",
       " array([ 1.], dtype=float32),\n",
       " array([ 1.], dtype=float32),\n",
       " array([ 1.], dtype=float32),\n",
       " array([ 1.], dtype=float32),\n",
       " array([ 1.], dtype=float32),\n",
       " array([ 1.], dtype=float32),\n",
       " array([ 1.], dtype=float32),\n",
       " array([ 1.], dtype=float32),\n",
       " array([ 1.], dtype=float32),\n",
       " array([ 1.], dtype=float32),\n",
       " array([ 1.], dtype=float32),\n",
       " array([ 1.], dtype=float32),\n",
       " array([ 1.], dtype=float32),\n",
       " array([ 1.], dtype=float32)]"
      ]
     },
     "execution_count": 47,
     "metadata": {},
     "output_type": "execute_result"
    }
   ],
   "source": [
    "test"
   ]
  },
  {
   "cell_type": "code",
   "execution_count": 165,
   "metadata": {
    "collapsed": true
   },
   "outputs": [],
   "source": [
    "test = pd.read_csv('data/In The Groove~Anubis_beat_features.csv').values"
   ]
  },
  {
   "cell_type": "code",
   "execution_count": 168,
   "metadata": {
    "collapsed": false
   },
   "outputs": [
    {
     "data": {
      "text/plain": [
       "2587"
      ]
     },
     "execution_count": 168,
     "metadata": {},
     "output_type": "execute_result"
    }
   ],
   "source": [
    "len(test[0])"
   ]
  },
  {
   "cell_type": "code",
   "execution_count": null,
   "metadata": {
    "collapsed": true
   },
   "outputs": [],
   "source": []
  },
  {
   "cell_type": "code",
   "execution_count": 112,
   "metadata": {
    "collapsed": false
   },
   "outputs": [
    {
     "name": "stdout",
     "output_type": "stream",
     "text": [
      "Epoch 1/10\n",
      "1000/1000 [==============================] - 0s - loss: 0.3267 - acc: 0.9160     \n",
      "Epoch 2/10\n",
      "1000/1000 [==============================] - 0s - loss: 0.3035 - acc: 0.9160     \n",
      "Epoch 3/10\n",
      "1000/1000 [==============================] - 0s - loss: 0.2968 - acc: 0.9160     \n",
      "Epoch 4/10\n",
      "1000/1000 [==============================] - 0s - loss: 0.2947 - acc: 0.9160     \n",
      "Epoch 5/10\n",
      "1000/1000 [==============================] - 0s - loss: 0.3047 - acc: 0.9160     \n",
      "Epoch 6/10\n",
      "1000/1000 [==============================] - 0s - loss: 0.2985 - acc: 0.9160     \n",
      "Epoch 7/10\n",
      "1000/1000 [==============================] - 0s - loss: 0.3028 - acc: 0.9160     \n",
      "Epoch 8/10\n",
      "1000/1000 [==============================] - 0s - loss: 0.2981 - acc: 0.9160     \n",
      "Epoch 9/10\n",
      "1000/1000 [==============================] - 0s - loss: 0.2936 - acc: 0.9160     \n",
      "Epoch 10/10\n",
      "1000/1000 [==============================] - 0s - loss: 0.2879 - acc: 0.9160     \n"
     ]
    },
    {
     "data": {
      "text/plain": [
       "<keras.callbacks.History at 0x12a24d630>"
      ]
     },
     "execution_count": 112,
     "metadata": {},
     "output_type": "execute_result"
    }
   ],
   "source": [
    "beat_feature_model.fit(X[:1000], y[:1000], nb_epoch=10, batch_size=32)"
   ]
  },
  {
   "cell_type": "code",
   "execution_count": null,
   "metadata": {
    "collapsed": true
   },
   "outputs": [],
   "source": [
    "beat_feature_model = Sequential([\n",
    "    Dense(32, input_dim=784),\n",
    "    Activation('relu'),\n",
    "    Dense(10),\n",
    "    Activation('softmax'),\n",
    "])\n",
    "\n",
    "misc_feature_model = Sequential([\n",
    "    Dense(32, input_dim=4),\n",
    "    Activation('relu'),\n",
    "])\n",
    "\n",
    "model = Sequential([\n",
    "    Merge([beat_feature_model, misc_feature_model], mode='concat'),\n",
    "    Activation('relu'),\n",
    "    Dense(10),\n",
    "    Activation('softmax'),\n",
    "])\n",
    "\n",
    "def mean_pred(y_true, y_pred):\n",
    "    return K.mean(y_pred)\n",
    "\n",
    "def false_rates(y_true, y_pred):\n",
    "    false_neg = ...\n",
    "    false_pos = ...\n",
    "    return {\n",
    "        'false_neg': false_neg,\n",
    "        'false_pos': false_pos,\n",
    "    }\n",
    "\n",
    "model.compile(loss='mean_squared_error', optimizer='sgd', metrics=['accuracy', mean_pred, false_rates])\n",
    "\n",
    "model.fit(data, labels, nb_epoch=10, batch_size=32)\n",
    "model.predict(self, x, batch_size=32, verbose=0)"
   ]
  }
 ],
 "metadata": {
  "anaconda-cloud": {},
  "kernelspec": {
   "display_name": "Python 3",
   "language": "python",
   "name": "python3"
  },
  "language_info": {
   "codemirror_mode": {
    "name": "ipython",
    "version": 3
   },
   "file_extension": ".py",
   "mimetype": "text/x-python",
   "name": "python",
   "nbconvert_exporter": "python",
   "pygments_lexer": "ipython3",
   "version": "3.5.1"
  }
 },
 "nbformat": 4,
 "nbformat_minor": 0
}
