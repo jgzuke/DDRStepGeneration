{
 "cells": [
  {
   "cell_type": "code",
   "execution_count": 1,
   "metadata": {
    "collapsed": false
   },
   "outputs": [
    {
     "name": "stderr",
     "output_type": "stream",
     "text": [
      "Using Theano backend.\n"
     ]
    }
   ],
   "source": [
    "from __future__ import print_function\n",
    "import copy\n",
    "import pandas as pd\n",
    "import numpy as np\n",
    "import librosa\n",
    "import seaborn as sb\n",
    "import matplotlib.pyplot as plt\n",
    "import itertools\n",
    "import re\n",
    "import random\n",
    "import gc\n",
    "import math\n",
    "import os\n",
    "from operator import itemgetter, attrgetter, methodcaller\n",
    "from os import listdir\n",
    "from os.path import isfile, join\n",
    "from numpy import median, diff\n",
    "from keras.models import Sequential, load_model\n",
    "from keras.layers import Dense, Activation, Dropout, BatchNormalization"
   ]
  },
  {
   "cell_type": "markdown",
   "metadata": {},
   "source": [
    "# Output of song"
   ]
  },
  {
   "cell_type": "code",
   "execution_count": 2,
   "metadata": {
    "collapsed": true
   },
   "outputs": [],
   "source": [
    "def write_song_header(output_stepfile, song):\n",
    "    keys = ['TITLE', 'MUSIC', 'OFFSET', 'SAMPLESTART', 'SAMPLELENGTH', 'SELECTABLE', 'BPMS']\n",
    "    header_info = {\n",
    "        'TITLE': song.name,\n",
    "        'MUSIC': '{0}.{1}'.format(song.name, song.extension),\n",
    "        'OFFSET': -song.offset,\n",
    "        'SAMPLESTART': song.offset + 32 * song.beat_length,\n",
    "        'SAMPLELENGTH': 32 * song.beat_length,\n",
    "        'SELECTABLE': 'YES',\n",
    "        'BPMS': '0.000={:.3f}'.format(song.bpm)\n",
    "    }\n",
    "    \n",
    "    for key in keys:\n",
    "        print (\"#{0}:{1};\".format(key, str(header_info[key])), file=output_stepfile)\n",
    "        \n",
    "def write_step_header(output_stepfile, song):\n",
    "    print(\"\\n//---------------dance-single - J. Zukewich----------------\", file=output_stepfile)\n",
    "    print (\"#NOTES:\", file=output_stepfile)\n",
    "    for detail in ['dance-single', 'J. Zukewich', 'Expert', '9', '0.242,0.312,0.204,0.000,0.000']:\n",
    "        print ('\\t{0}:'.format(detail), file=output_stepfile)\n",
    "    \n",
    "    for i in range(len(song.predicted_notes)):\n",
    "        row = song.predicted_notes[i]\n",
    "        print (row, file=output_stepfile)\n",
    "        if i % steps_per_bar == steps_per_bar - 1:\n",
    "            print (\",\", file=output_stepfile)\n",
    "\n",
    "    print (\"0000;\", file=output_stepfile)\n",
    "    \n",
    "def step_song(song):\n",
    "    if song.name + '.sm' in os.listdir(song.folder) and not song.name + '.sm.backup' in os.listdir(song.folder):\n",
    "        os.rename(song.stepfile_name, song.stepfile_name + '.backup')\n",
    "            \n",
    "    output_stepfile=open(song.stepfile_name, 'w')\n",
    "    write_song_header(output_stepfile, song)\n",
    "    write_step_header(output_stepfile, song)\n",
    "    output_stepfile.close()"
   ]
  },
  {
   "cell_type": "markdown",
   "metadata": {},
   "source": [
    "# Instead of training models for each note\n",
    "- decide which will have notes, for now pick x with one, y with another (train model for this + holds, hands, mines, rolls etc later)\n",
    "- for each note that will have something, decide what combo it has (train from prev notes (not all 48, pick more relevant ones)) (4 for one note, 6 for 2, 4 for 3) and pick highest class"
   ]
  },
  {
   "cell_type": "markdown",
   "metadata": {},
   "source": [
    "### TODOS\n",
    "- try to predict hold/roll there (would need to train on later beat info as well)\n",
    "- generate percent of single double notes etc with a nn"
   ]
  },
  {
   "cell_type": "markdown",
   "metadata": {},
   "source": [
    "## Classes\n",
    "- 1: one note\n",
    "- 2: two notes\n",
    "- 3: three or four notes\n",
    "- 4: hold start\n",
    "- 5: roll start\n",
    "- 6: mine"
   ]
  },
  {
   "cell_type": "code",
   "execution_count": 3,
   "metadata": {
    "collapsed": true
   },
   "outputs": [],
   "source": [
    "steps_per_bar = 48\n",
    "class SongFile:\n",
    "    def __init__(self, key, folder, stepfile, music_file):\n",
    "        misc = pd.read_csv('data/{0}_misc.csv'.format(key)).values\n",
    "        self.note_classes = pd.read_csv('generated_data/{0}_note_classes_generated.csv'.format(key), converters={'0': lambda x: float(x)}).values\n",
    "        self.notes = pd.read_csv('data/{0}_notes.csv'.format(key), converters={'0': lambda x: str(x)}).values\n",
    "        self.folder = folder\n",
    "        self.name = key.split('~')[1]\n",
    "        self.music_name = music_file\n",
    "        self.stepfile_name = stepfile\n",
    "        self.offset = misc[0][0]\n",
    "        self.beat_length = 60. / misc[1][0]\n",
    "        self.bpm = misc[1][0]\n",
    "        self.extension = music_file.split('.')[1]"
   ]
  },
  {
   "cell_type": "code",
   "execution_count": 4,
   "metadata": {
    "collapsed": true
   },
   "outputs": [],
   "source": [
    "songs_to_use = pd.read_csv('data/songs_to_use.csv').values\n",
    "save_files = listdir('data')\n",
    "save_files_generated = listdir('generated_data')\n",
    "songs = {}\n",
    "for song_data in songs_to_use:\n",
    "    key = song_data[0]\n",
    "    if '{0}_misc.csv'.format(key) in save_files and '{0}_note_classes_generated.csv'.format(key) in save_files_generated:\n",
    "        songs[key] = SongFile(key, song_data[1], song_data[2], song_data[3])"
   ]
  },
  {
   "cell_type": "code",
   "execution_count": 114,
   "metadata": {
    "collapsed": false
   },
   "outputs": [],
   "source": [
    "beats_to_track = 48\n",
    "num_classes_one_note = 4\n",
    "num_classes_two_note = 6\n",
    "class_map_one_note = {\n",
    "    '1000': 0,\n",
    "    '0100': 1,\n",
    "    '0010': 2,\n",
    "    '0001': 3\n",
    "}\n",
    "class_reverse_map_one_note = ['1000', '0100', '0010', '0001']\n",
    "\n",
    "class_map_two_note = {\n",
    "    '1001': 0,\n",
    "    '0110': 1,\n",
    "    '1100': 2,\n",
    "    '1010': 3,\n",
    "    '0101': 4,\n",
    "    '0011': 5\n",
    "}\n",
    "class_reverse_map_two_note = ['1001', '0110', '1100', '1010', '0101', '0011']\n",
    "\n",
    "note_types = ['0', '1', 'M', '2', '4', '3']\n",
    "\n",
    "def get_features_for_row(row):\n",
    "    return [int(char == target) for target in note_types for char in row]\n",
    "\n",
    "empty_row = [1, 1, 1, 1, 0, 0, 0, 0, 0, 0, 0, 0, 0, 0, 0, 0, 0, 0, 0, 0, 0, 0, 0, 0]\n",
    "def get_previous_notes(index, features):\n",
    "    previous_notes = [features[i] for i in range(index, index + song_padding) if not np.array_equal(features[i], empty_row)]\n",
    "    return [empty_row] * (8 - len(previous_notes)) + previous_notes[-8:]\n",
    "    \n",
    "song_padding = beats_to_track * 2\n",
    "song_end_padding = beats_to_track * 2\n",
    "important_indices = [1, 2, 3, 4, 8, 16, 20, 6, 12, 18, 24, 30, 36, 42, 48, 54, 60, 66, 72, 78, 84, 90, 96]\n",
    "important_indices_classes = [-96, -84, -72, -60, -48, -36, -24, -12, 0, 1, 2, 3, 4, 8, 16, 20, 6, 12, 18, 24, 30, 36, 42, 48, 54, 60, 66, 72, 78, 84, 90, 96]\n",
    "def get_features(index, features, note_classes):\n",
    "    indices = [index + song_padding - i for i in important_indices]\n",
    "    indices_classes = [index + song_padding - i for i in important_indices_classes]\n",
    "    past_classes = np.array([note_classes[i] for i in indices_classes]).flatten()\n",
    "    past_features = np.array([features[i] for i in indices]).flatten()\n",
    "    previous_notes = np.array(get_previous_notes(index, features)).flatten()\n",
    "    return np.concatenate((past_classes, past_features, previous_notes), axis = 0)"
   ]
  },
  {
   "cell_type": "code",
   "execution_count": 254,
   "metadata": {
    "collapsed": false
   },
   "outputs": [],
   "source": [
    "def get_model_class_for_notes(row):\n",
    "    note_counts = [row.count(note_type) for note_type in note_types]\n",
    "    (blank, steps, mines, hold_starts, roll_starts, hold_ends) = note_counts\n",
    "    \n",
    "    model_classes = []\n",
    "    if steps + hold_starts + roll_starts == 1:\n",
    "        model_classes.append(1)\n",
    "\n",
    "    if steps + hold_starts + roll_starts == 2:\n",
    "        model_classes.append(2)\n",
    "        \n",
    "    if steps + hold_starts + roll_starts > 2:\n",
    "        model_classes.append(3)\n",
    "        \n",
    "    if hold_starts > 0:\n",
    "        model_classes.append(4)\n",
    "        \n",
    "    if roll_starts > 0:\n",
    "        model_classes.append(5)\n",
    "        \n",
    "    if mines > 0:\n",
    "        model_classes.append(6)\n",
    "        \n",
    "    return model_classes\n",
    "\n",
    "def get_model_output_for_class(model_class, row):\n",
    "    if model_class == 1 or model_class == 2 or model_class == 3:\n",
    "        return [int(char == '1' or char == '2' or char == '4') for char in row]\n",
    "    if model_class == 4:\n",
    "        return [int(char == '2') for char in row]\n",
    "    if model_class == 5:\n",
    "        return [int(char == '4') for char in row]\n",
    "    if model_class == 6:\n",
    "        return [int(char == 'M') for char in row]\n",
    "\n",
    "def get_hold_length(notes, note_row, note_column):\n",
    "    i = 0\n",
    "    while i < len(notes) - note_row:\n",
    "        if notes[note_row + i][0][note_column] == '3':\n",
    "            return i\n",
    "        i += 1\n",
    "    return False"
   ]
  },
  {
   "cell_type": "code",
   "execution_count": 255,
   "metadata": {
    "collapsed": false
   },
   "outputs": [],
   "source": [
    "hold_X = []\n",
    "roll_X = []\n",
    "hold_y = []\n",
    "roll_y = []\n",
    "X = [[] for i in range(7)]\n",
    "y = [[] for i in range(7)]\n",
    "for key in list(songs.keys()):\n",
    "    note_classes = np.concatenate((([[1, 0, 0, 0, 0, 0, 0]] * song_padding), songs[key].note_classes, ([[1, 0, 0, 0, 0, 0, 0]] * song_end_padding)), axis = 0)\n",
    "    notes = np.concatenate((([['0000']] * song_padding), songs[key].notes), axis = 0)\n",
    "    if abs(len(note_classes) - len(notes) > 250):\n",
    "        print ('Lengths dont match for {0}'.format(key))\n",
    "        print ('{0} vs {1}'.format(len(note_classes), len(notes)))\n",
    "        continue\n",
    "    length = min(len(note_classes) - song_padding - song_end_padding, len(notes) - song_padding)\n",
    "    features = np.array([get_features_for_row(notes[i][0]) for i in range(0, length + song_padding)])\n",
    "    for i in range(length):\n",
    "        row = notes[i + song_padding][0]\n",
    "        model_classes = get_model_class_for_notes(row)\n",
    "        for model_class in model_classes:\n",
    "            X_row = get_features(i, features, note_classes)\n",
    "            X[model_class].append(X_row)\n",
    "            y[model_class].append(get_model_output_for_class(model_class, row))\n",
    "            if model_class == 4:\n",
    "                for j in range(4):\n",
    "                    if row[j] == '2':\n",
    "                        length = get_hold_length(notes, i + song_padding, j)\n",
    "                        if length:\n",
    "                            hold_X.append(X_row)\n",
    "                            hold_y.append(length)\n",
    "            if model_class == 5:\n",
    "                for j in range(4):\n",
    "                    if row[j] == '4':\n",
    "                        length = get_hold_length(notes, i + song_padding, j)\n",
    "                        if length:\n",
    "                            roll_X.append(X_row)\n",
    "                            roll_y.append(length)\n",
    "\n",
    "X = [np.array(X_for_class) for X_for_class in X]\n",
    "y = [np.array(y_for_class) for y_for_class in y]\n",
    "hold_X = np.array(hold_X)\n",
    "roll_X = np.array(roll_X)"
   ]
  },
  {
   "cell_type": "code",
   "execution_count": 133,
   "metadata": {
    "collapsed": false
   },
   "outputs": [],
   "source": [
    "def build_model(num_classes):\n",
    "    model = Sequential()\n",
    "\n",
    "    model.add(Dense(100, input_dim=968, init='uniform'))\n",
    "    model.add(BatchNormalization())\n",
    "    model.add(Activation('tanh'))\n",
    "    model.add(Dropout(0.5))\n",
    "\n",
    "    model.add(Dense(500, init='uniform'))\n",
    "    model.add(BatchNormalization())\n",
    "    model.add(Activation('tanh'))\n",
    "    model.add(Dropout(0.5))\n",
    "\n",
    "    model.add(Dense(500, init='uniform'))\n",
    "    model.add(BatchNormalization())\n",
    "    model.add(Activation('tanh'))\n",
    "    model.add(Dropout(0.5))\n",
    "\n",
    "    model.add(Dense(num_classes, init='uniform'))\n",
    "    model.add(BatchNormalization())\n",
    "    model.add(Activation('softmax'))\n",
    "\n",
    "    model.compile(loss='categorical_crossentropy',\n",
    "                               optimizer='adadelta',\n",
    "                               metrics=['accuracy'])\n",
    "    \n",
    "    return model"
   ]
  },
  {
   "cell_type": "code",
   "execution_count": 304,
   "metadata": {
    "collapsed": true
   },
   "outputs": [],
   "source": [
    "hold_lengths = [3, 6, 9, 12, 18, 24, 36, 48]\n",
    "def get_closest_hold_lengths(lengths):\n",
    "    closest = [np.argmax([-abs(length - aprox) for aprox in hold_lengths]) for length in lengths]\n",
    "    closest_one_hot = np.zeros((len(closest), len(hold_lengths)))\n",
    "    closest_one_hot[np.arange(len(closest)), closest] = 1\n",
    "    return closest_one_hot"
   ]
  },
  {
   "cell_type": "code",
   "execution_count": 305,
   "metadata": {
    "collapsed": false
   },
   "outputs": [
    {
     "name": "stdout",
     "output_type": "stream",
     "text": [
      "Epoch 1/2\n",
      "6859/6859 [==============================] - 76s - loss: 1.9570 - acc: 0.2840    \n",
      "Epoch 2/2\n",
      "6859/6859 [==============================] - 68s - loss: 1.8615 - acc: 0.2843    \n"
     ]
    },
    {
     "data": {
      "text/plain": [
       "<keras.callbacks.History at 0x16abf5e48>"
      ]
     },
     "execution_count": 305,
     "metadata": {},
     "output_type": "execute_result"
    }
   ],
   "source": [
    "hold_model = build_model(len(hold_lengths))\n",
    "hold_y_transformed = get_closest_hold_lengths(hold_y)\n",
    "hold_model.fit(hold_X, hold_y_transformed, nb_epoch=2, batch_size=1)"
   ]
  },
  {
   "cell_type": "code",
   "execution_count": 306,
   "metadata": {
    "collapsed": false
   },
   "outputs": [
    {
     "name": "stdout",
     "output_type": "stream",
     "text": [
      "Epoch 1/2\n",
      "237/237 [==============================] - 2s - loss: 2.0733 - acc: 0.2278     \n",
      "Epoch 2/2\n",
      "237/237 [==============================] - 2s - loss: 2.0642 - acc: 0.2363     \n"
     ]
    },
    {
     "data": {
      "text/plain": [
       "<keras.callbacks.History at 0x1496d4fd0>"
      ]
     },
     "execution_count": 306,
     "metadata": {},
     "output_type": "execute_result"
    }
   ],
   "source": [
    "roll_model = build_model(len(hold_lengths))\n",
    "roll_y_transformed = get_closest_hold_lengths(roll_y)\n",
    "roll_model.fit(roll_X, roll_y_transformed, nb_epoch=2, batch_size=1)"
   ]
  },
  {
   "cell_type": "code",
   "execution_count": 2,
   "metadata": {
    "collapsed": false
   },
   "outputs": [
    {
     "ename": "NameError",
     "evalue": "name 'hold_model' is not defined",
     "output_type": "error",
     "traceback": [
      "\u001b[0;31m---------------------------------------------------------------------------\u001b[0m",
      "\u001b[0;31mNameError\u001b[0m                                 Traceback (most recent call last)",
      "\u001b[0;32m<ipython-input-2-d9c8314b3b71>\u001b[0m in \u001b[0;36m<module>\u001b[0;34m()\u001b[0m\n\u001b[0;32m----> 1\u001b[0;31m \u001b[0mhold_model\u001b[0m\u001b[0;34m.\u001b[0m\u001b[0msave\u001b[0m\u001b[0;34m(\u001b[0m\u001b[0;34m'models/hold_length_model.h5'\u001b[0m\u001b[0;34m)\u001b[0m\u001b[0;34m\u001b[0m\u001b[0m\n\u001b[0m\u001b[1;32m      2\u001b[0m \u001b[0mroll_model\u001b[0m\u001b[0;34m.\u001b[0m\u001b[0msave\u001b[0m\u001b[0;34m(\u001b[0m\u001b[0;34m'models/roll_length_model.h5'\u001b[0m\u001b[0;34m)\u001b[0m\u001b[0;34m\u001b[0m\u001b[0m\n",
      "\u001b[0;31mNameError\u001b[0m: name 'hold_model' is not defined"
     ]
    }
   ],
   "source": [
    "hold_model.save('models/hold_length_model.h5')\n",
    "roll_model.save('models/roll_length_model.h5')"
   ]
  },
  {
   "cell_type": "code",
   "execution_count": 231,
   "metadata": {
    "collapsed": false
   },
   "outputs": [
    {
     "name": "stdout",
     "output_type": "stream",
     "text": [
      "Epoch 1/10\n",
      "82708/82708 [==============================] - 813s - loss: 1.3826 - acc: 0.2744   \n",
      "Epoch 2/10\n",
      "82708/82708 [==============================] - 813s - loss: 1.3824 - acc: 0.2747   \n",
      "Epoch 3/10\n",
      "82708/82708 [==============================] - 799s - loss: 1.3824 - acc: 0.2751   \n",
      "Epoch 4/10\n",
      "82708/82708 [==============================] - 815s - loss: 1.3824 - acc: 0.2745   \n",
      "Epoch 5/10\n",
      "82708/82708 [==============================] - 844s - loss: 1.3825 - acc: 0.2749   \n",
      "Epoch 6/10\n",
      "82708/82708 [==============================] - 867s - loss: 1.3824 - acc: 0.2753   \n",
      "Epoch 7/10\n",
      "82708/82708 [==============================] - 937s - loss: 1.3824 - acc: 0.2733   \n",
      "Epoch 8/10\n",
      "82708/82708 [==============================] - 981s - loss: 1.3825 - acc: 0.2752   \n",
      "Epoch 9/10\n",
      "82708/82708 [==============================] - 949s - loss: 1.3824 - acc: 0.2745   \n",
      "Epoch 10/10\n",
      "82708/82708 [==============================] - 979s - loss: 1.3825 - acc: 0.2744   \n",
      "Epoch 1/10\n",
      "6598/6598 [==============================] - 80s - loss: 2.7703 - acc: 0.2337    \n",
      "Epoch 2/10\n",
      "6598/6598 [==============================] - 77s - loss: 2.7708 - acc: 0.2273    \n",
      "Epoch 3/10\n",
      "6598/6598 [==============================] - 78s - loss: 2.7708 - acc: 0.1775    \n",
      "Epoch 4/10\n",
      "6598/6598 [==============================] - 79s - loss: 2.7712 - acc: 0.1520    \n",
      "Epoch 5/10\n",
      "6598/6598 [==============================] - 80s - loss: 2.7712 - acc: 0.2166    \n",
      "Epoch 6/10\n",
      "6598/6598 [==============================] - 80s - loss: 2.7712 - acc: 0.2207    \n",
      "Epoch 7/10\n",
      "6598/6598 [==============================] - 62s - loss: 2.7712 - acc: 0.1690    \n",
      "Epoch 8/10\n",
      "6598/6598 [==============================] - 61s - loss: 2.7714 - acc: 0.2361    \n",
      "Epoch 9/10\n",
      "6598/6598 [==============================] - 62s - loss: 2.7715 - acc: 0.1769    \n",
      "Epoch 10/10\n",
      "6598/6598 [==============================] - 57s - loss: 2.7715 - acc: 0.2270    \n",
      "Epoch 1/10\n",
      "36/36 [==============================] - 0s - loss: 4.5058 - acc: 0.8333     \n",
      "Epoch 2/10\n",
      "36/36 [==============================] - 0s - loss: 4.5054 - acc: 0.1389     \n",
      "Epoch 3/10\n",
      "36/36 [==============================] - 0s - loss: 4.5052 - acc: 0.4444     \n",
      "Epoch 4/10\n",
      "36/36 [==============================] - 0s - loss: 4.5050 - acc: 0.7778     \n",
      "Epoch 5/10\n",
      "36/36 [==============================] - 0s - loss: 4.5048 - acc: 0.4722     \n",
      "Epoch 6/10\n",
      "36/36 [==============================] - 0s - loss: 4.5046 - acc: 0.3889     \n",
      "Epoch 7/10\n",
      "36/36 [==============================] - 0s - loss: 4.5044 - acc: 0.5833     \n",
      "Epoch 8/10\n",
      "36/36 [==============================] - 0s - loss: 4.5043 - acc: 0.0278     \n",
      "Epoch 9/10\n",
      "36/36 [==============================] - 0s - loss: 4.5041 - acc: 0.0278     \n",
      "Epoch 10/10\n",
      "36/36 [==============================] - 0s - loss: 4.5040 - acc: 0.0000e+00     \n",
      "Epoch 1/10\n",
      "6484/6484 [==============================] - 55s - loss: 1.4874 - acc: 0.2582    \n",
      "Epoch 2/10\n",
      "6484/6484 [==============================] - 52s - loss: 1.4875 - acc: 0.2515    \n",
      "Epoch 3/10\n",
      "6484/6484 [==============================] - 52s - loss: 1.4875 - acc: 0.2497    \n",
      "Epoch 4/10\n",
      "6484/6484 [==============================] - 52s - loss: 1.4874 - acc: 0.2560    \n",
      "Epoch 5/10\n",
      "6484/6484 [==============================] - 52s - loss: 1.4875 - acc: 0.2349    \n",
      "Epoch 6/10\n",
      "6484/6484 [==============================] - 52s - loss: 1.4875 - acc: 0.2403    \n",
      "Epoch 7/10\n",
      "6484/6484 [==============================] - 52s - loss: 1.4875 - acc: 0.2483    \n",
      "Epoch 8/10\n",
      "6484/6484 [==============================] - 52s - loss: 1.4875 - acc: 0.2542    \n",
      "Epoch 9/10\n",
      "6484/6484 [==============================] - 52s - loss: 1.4875 - acc: 0.2435    \n",
      "Epoch 10/10\n",
      "6484/6484 [==============================] - 52s - loss: 1.4874 - acc: 0.2428    \n",
      "Epoch 1/10\n",
      "228/228 [==============================] - 1s - loss: 1.4657 - acc: 0.1798     \n",
      "Epoch 2/10\n",
      "228/228 [==============================] - 1s - loss: 1.4656 - acc: 0.2281     \n",
      "Epoch 3/10\n",
      "228/228 [==============================] - 1s - loss: 1.4655 - acc: 0.2281     \n",
      "Epoch 4/10\n",
      "228/228 [==============================] - 1s - loss: 1.4655 - acc: 0.2632     \n",
      "Epoch 5/10\n",
      "228/228 [==============================] - 1s - loss: 1.4654 - acc: 0.2193     \n",
      "Epoch 6/10\n",
      "228/228 [==============================] - 1s - loss: 1.4654 - acc: 0.2500     \n",
      "Epoch 7/10\n",
      "228/228 [==============================] - 1s - loss: 1.4654 - acc: 0.2281     \n",
      "Epoch 8/10\n",
      "228/228 [==============================] - 1s - loss: 1.4653 - acc: 0.2193     \n",
      "Epoch 9/10\n",
      "228/228 [==============================] - 1s - loss: 1.4653 - acc: 0.2281     \n",
      "Epoch 10/10\n",
      "228/228 [==============================] - 1s - loss: 1.4653 - acc: 0.2456     \n",
      "Epoch 1/10\n",
      "3985/3985 [==============================] - 33s - loss: 1.9707 - acc: 0.2361    \n",
      "Epoch 2/10\n",
      "3985/3985 [==============================] - 32s - loss: 1.9707 - acc: 0.2595    \n",
      "Epoch 3/10\n",
      "3985/3985 [==============================] - 32s - loss: 1.9707 - acc: 0.2341    \n",
      "Epoch 4/10\n",
      "3985/3985 [==============================] - 32s - loss: 1.9707 - acc: 0.2442    \n",
      "Epoch 5/10\n",
      "3985/3985 [==============================] - 32s - loss: 1.9706 - acc: 0.2394    \n",
      "Epoch 6/10\n",
      "3985/3985 [==============================] - 32s - loss: 1.9707 - acc: 0.2266    \n",
      "Epoch 7/10\n",
      "3985/3985 [==============================] - 32s - loss: 1.9707 - acc: 0.2728    \n",
      "Epoch 8/10\n",
      "3985/3985 [==============================] - 33s - loss: 1.9707 - acc: 0.2527    \n",
      "Epoch 9/10\n",
      "3985/3985 [==============================] - 33s - loss: 1.9707 - acc: 0.2597    \n",
      "Epoch 10/10\n",
      "3985/3985 [==============================] - 32s - loss: 1.9707 - acc: 0.2482    \n"
     ]
    }
   ],
   "source": [
    "models = []\n",
    "models.append(None)\n",
    "for i in range(1, 7):\n",
    "    model = build_model(4)\n",
    "    model.fit(X[i], y[i], nb_epoch=2, batch_size=math.ceil(len(X[i]) / 10000))\n",
    "    model.save('models/note_model_{0}.h5'.format(i))\n",
    "    models.append(model)"
   ]
  },
  {
   "cell_type": "code",
   "execution_count": 308,
   "metadata": {
    "collapsed": false
   },
   "outputs": [],
   "source": [
    "def step_song_by_name(name):\n",
    "    song = songs['In The Groove~{0}'.format(name)]\n",
    "    song.predicted_notes = get_output(song)\n",
    "    step_song(song)\n",
    "\n",
    "step_song_by_name('Anubis')\n",
    "#step_song_by_name('Bend Your Mind')\n",
    "#step_song_by_name('Boogie Down')\n",
    "#step_song_by_name('Bouff')\n",
    "step_song_by_name('Bubble Dancer')"
   ]
  },
  {
   "cell_type": "code",
   "execution_count": null,
   "metadata": {
    "collapsed": true
   },
   "outputs": [],
   "source": []
  }
 ],
 "metadata": {
  "kernelspec": {
   "display_name": "Python 3",
   "language": "python",
   "name": "python3"
  },
  "language_info": {
   "codemirror_mode": {
    "name": "ipython",
    "version": 3
   },
   "file_extension": ".py",
   "mimetype": "text/x-python",
   "name": "python",
   "nbconvert_exporter": "python",
   "pygments_lexer": "ipython3",
   "version": "3.5.1"
  }
 },
 "nbformat": 4,
 "nbformat_minor": 0
}
