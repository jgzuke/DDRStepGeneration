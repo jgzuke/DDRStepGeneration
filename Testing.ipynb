{
 "cells": [
  {
   "cell_type": "code",
   "execution_count": 99,
   "metadata": {
    "collapsed": true
   },
   "outputs": [],
   "source": [
    "import librosa\n",
    "song_name = 'A'\n",
    "mp3_name = 'StepMania/Songs/StepMania 5/{0}/{0}.mp3'.format(song_name)\n",
    "stepfile_name = 'StepMania/Songs/StepMania 5/{0}/{0}.ssc'.format(song_name)"
   ]
  },
  {
   "cell_type": "code",
   "execution_count": 100,
   "metadata": {
    "collapsed": true
   },
   "outputs": [],
   "source": [
    "song_data, sample_rate = librosa.load(mp3_name)"
   ]
  },
  {
   "cell_type": "code",
   "execution_count": 101,
   "metadata": {
    "collapsed": false
   },
   "outputs": [],
   "source": [
    "tempo, beat_frames = librosa.beat.beat_track(y=y, sr=sr)"
   ]
  },
  {
   "cell_type": "code",
   "execution_count": 102,
   "metadata": {
    "collapsed": true
   },
   "outputs": [],
   "source": [
    "beat_times = librosa.frames_to_time(beat_frames, sr=sr)"
   ]
  },
  {
   "cell_type": "code",
   "execution_count": 111,
   "metadata": {
    "collapsed": true
   },
   "outputs": [],
   "source": [
    "def write_song_header(output_stepfile):\n",
    "    keys = ['VERSION', 'TITLE', 'MUSIC', 'OFFSET', 'SAMPLESTART', 'SAMPLELENGTH']\n",
    "    beat_to_start = 32\n",
    "    beats_to_play = 32\n",
    "    header_info = {\n",
    "        'VERSION': 0.01,\n",
    "        'TITLE': song_name,\n",
    "        'MUSIC': '{0}.mp3'.format(song_name),\n",
    "        'OFFSET': -0.090,\n",
    "        'SAMPLESTART': beat_times[beat_to_start],\n",
    "        'SAMPLELENGTH': 60*beats_to_play/tempo\n",
    "    }\n",
    "    for key in keys:\n",
    "        print (\"#{0}:{1};\".format(key, str(header_info[key])), file=output_stepfile)"
   ]
  },
  {
   "cell_type": "code",
   "execution_count": 112,
   "metadata": {
    "collapsed": true
   },
   "outputs": [],
   "source": [
    "def write_step_header(output_stepfile):\n",
    "    print(\"//---------------dance-single - ----------------\", file=output_stepfile)\n",
    "    keys = ['NOTEDATA', 'CHARTNAME', 'STEPSTYPE', 'DIFFICULTY', 'METER', 'RADARVALUES', 'BPMS']\n",
    "    step_info = {\n",
    "        'NOTEDATA': '',\n",
    "        'CHARTNAME': 'Kommisar',\n",
    "        'STEPSTYPE': 'dance-single',\n",
    "        'DIFFICULTY': 'Beginner',\n",
    "        'METER': 1,\n",
    "        'RADARVALUES': '0.234,0.292,0.008,0,0,211,212,1,0,0,0,0,0,0,0.234,0.292,0.008,0,0,211,212,1,0,0,0,0,0,0',\n",
    "        'BPMS': '0={:.2f}'.format(tempo)\n",
    "    }\n",
    "    for key in keys:\n",
    "        print (\"#{0}:{1};\".format(key, str(step_info[key])), file=output_stepfile)"
   ]
  },
  {
   "cell_type": "code",
   "execution_count": 113,
   "metadata": {
    "collapsed": true
   },
   "outputs": [],
   "source": [
    "def write_notes(output_stepfile):\n",
    "    print (\"#NOTES:\", file=output_stepfile)\n",
    "    \n",
    "    for i in range(5):\n",
    "        print (\"0101\\n,\", file=output_stepfile)\n",
    "    print (\"0000;\", file=output_stepfile)"
   ]
  },
  {
   "cell_type": "code",
   "execution_count": 114,
   "metadata": {
    "collapsed": false
   },
   "outputs": [],
   "source": [
    "output_stepfile=open(stepfile_name, 'w')\n",
    "from __future__ import print_function\n",
    "write_song_header(output_stepfile)\n",
    "write_step_header(output_stepfile)\n",
    "write_notes(output_stepfile)\n",
    "output_stepfile.close()"
   ]
  },
  {
   "cell_type": "code",
   "execution_count": null,
   "metadata": {
    "collapsed": true
   },
   "outputs": [],
   "source": []
  }
 ],
 "metadata": {
  "kernelspec": {
   "display_name": "Python 3",
   "language": "python",
   "name": "python3"
  },
  "language_info": {
   "codemirror_mode": {
    "name": "ipython",
    "version": 3
   },
   "file_extension": ".py",
   "mimetype": "text/x-python",
   "name": "python",
   "nbconvert_exporter": "python",
   "pygments_lexer": "ipython3",
   "version": "3.5.1"
  }
 },
 "nbformat": 4,
 "nbformat_minor": 0
}
