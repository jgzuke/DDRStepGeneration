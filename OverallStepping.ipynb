{
 "cells": [
  {
   "cell_type": "code",
   "execution_count": 27,
   "metadata": {
    "collapsed": false
   },
   "outputs": [
    {
     "name": "stderr",
     "output_type": "stream",
     "text": [
      "Using Theano backend.\n"
     ]
    }
   ],
   "source": [
    "from __future__ import print_function\n",
    "%matplotlib inline\n",
    "import copy\n",
    "import pandas as pd\n",
    "import numpy as np\n",
    "import librosa\n",
    "import seaborn as sb\n",
    "import matplotlib.pyplot as plt\n",
    "import itertools\n",
    "import re\n",
    "import random\n",
    "import gc\n",
    "from os import listdir\n",
    "from os.path import isfile, join\n",
    "from numpy import median, diff\n",
    "from keras.models import Sequential, load_model\n",
    "from keras.layers import Dense, Activation, Dropout, BatchNormalization\n",
    "from sklearn import tree\n",
    "from sklearn.ensemble import RandomForestClassifier"
   ]
  },
  {
   "cell_type": "code",
   "execution_count": 18,
   "metadata": {
    "collapsed": true
   },
   "outputs": [],
   "source": [
    "sample_rate_down = 1\n",
    "hop_length_down = 8\n",
    "sr = 11025 * 16 / sample_rate_down\n",
    "hop_length = 512 / (sample_rate_down * hop_length_down)\n",
    "samples_per_beat = 24 / 4\n",
    "steps_per_bar = 24\n",
    "class SongFile:\n",
    "    # misc includes\n",
    "    # - offset\n",
    "    # - bpm\n",
    "    def load_misc_from_music(self, y):\n",
    "        _, beat_frames = librosa.beat.beat_track(y=y, sr=sr, hop_length=hop_length)\n",
    "        beat_times = librosa.frames_to_time(beat_frames, sr=sr, hop_length=hop_length)\n",
    "        self.offset = beat_times[0]\n",
    "        self.bpm = get_beats(beat_times, beat_frames)\n",
    "\n",
    "    def load_misc_from_stepfile(self):\n",
    "        with open(self.stepfile, \"r\") as txt:\n",
    "            step_file = txt.read()\n",
    "            step_file = step_file.replace('\\n', 'n')\n",
    "            bpm_search = re.search('#BPMS:([0-9.=,]*);', step_file)\n",
    "            bpm_string = bpm_search.group(1)\n",
    "            self.bpm = float(bpm_string.split('=')[1]) if len(bpm_string.split(',')) == 1 else 0\n",
    "            \n",
    "            offset_search = re.search('#OFFSET:([0-9.-]*);', step_file)\n",
    "            self.offset = -float(offset_search.group(1))\n",
    "\n",
    "    def calculate_indices(self, y):\n",
    "        # take samples_per_beat samples for each beat (need 3rds, 8ths)\n",
    "        seconds = len(y) / sr\n",
    "        num_samples = int(seconds * samples_per_beat * self.bpm / 60)\n",
    "        beat_length = 60. / self.bpm\n",
    "        sample_length = beat_length / samples_per_beat\n",
    "        \n",
    "        if self.offset < 0:\n",
    "            self.offset += 4 * beat_length\n",
    "        \n",
    "        sample_times = [self.offset + (sample_length * i) for i in range(num_samples)]\n",
    "        # only take samples where music still playing\n",
    "        self.indices = [round(time * sr) for time in sample_times if round(time * sr) < len(y)]\n",
    "        \n",
    "    def calculate_features(self, y):\n",
    "        y_harmonic, y_percussive = librosa.effects.hpss(y)\n",
    "        beat_frames = librosa.samples_to_frames(self.indices)\n",
    "\n",
    "        # Compute MFCC features from the raw signal\n",
    "        mfcc = librosa.feature.mfcc(y=y, sr=sr, hop_length=hop_length, n_mfcc=13)\n",
    "\n",
    "        # And the first-order differences (delta features)\n",
    "        mfcc_delta = librosa.feature.delta(mfcc)\n",
    "\n",
    "        # Stack and synchronize between beat events\n",
    "        # This time, we'll use the mean value (default) instead of median\n",
    "        beat_mfcc_delta = librosa.feature.sync(np.vstack([mfcc, mfcc_delta]), beat_frames)\n",
    "\n",
    "        # Compute chroma features from the harmonic signal\n",
    "        chromagram = librosa.feature.chroma_cqt(y=y_harmonic, sr=sr)\n",
    "\n",
    "        # Aggregate chroma features between beat events\n",
    "        # We'll use the median value of each feature between beat frames\n",
    "        beat_chroma = librosa.feature.sync(chromagram, beat_frames, aggregate=np.median)\n",
    "\n",
    "        custom_hop = 256\n",
    "        onset_env = librosa.onset.onset_strength(y=y, sr=sr, hop_length=custom_hop)\n",
    "        onsets = librosa.onset.onset_detect(y=y, sr=sr, onset_envelope=onset_env, hop_length=custom_hop)\n",
    "\n",
    "        i = 0\n",
    "        onset_happened_in_frame = [0] * (len(self.indices) + 1)\n",
    "        for onset in onsets:\n",
    "            onset_scaled = onset * custom_hop\n",
    "            while abs(onset_scaled - self.indices[i]) > abs(onset_scaled - self.indices[i + 1]):\n",
    "                i += 1\n",
    "            onset_happened_in_frame[i] = max(onset_env[onset], onset_env[onset + 1], onset_env[onset + 2], onset_env[onset + 3], onset_env[onset + 4])\n",
    "\n",
    "        indices = [0]\n",
    "        indices.extend(self.indices)\n",
    "        max_offset_bounds = [(int(indices[i] / custom_hop), int(indices[i + 1] / custom_hop)) for i in range(len(indices) - 1)]\n",
    "        max_offset_strengths = [max(onset_env[bounds[0]:bounds[1]]) for bounds in max_offset_bounds]\n",
    "        max_offset_strengths.append(0)\n",
    "\n",
    "        # Finally, stack all beat-synchronous features together\n",
    "        self.beat_features = np.vstack([beat_chroma, beat_mfcc_delta, [onset_happened_in_frame, max_offset_strengths]])\n",
    "\n",
    "    def __init__(self, key, folder, stepfile, music_file, load_type):\n",
    "        key = key\n",
    "        self.folder = folder\n",
    "        self.stepfile = stepfile\n",
    "        self.music_file = music_file\n",
    "        y = None\n",
    "        print ('Loading song {0}'.format(key))\n",
    "        \n",
    "        if load_type == 'from_music' or load_type == 'from_stepfile':\n",
    "            if load_type == 'from_music':\n",
    "                print ('Loading music')\n",
    "                y, _ = librosa.load(self.music_file, sr=sr)\n",
    "                print ('Calculating misc from music')\n",
    "                self.load_misc_from_music(y)\n",
    "            else:\n",
    "                print ('Loading misc from stepfile')\n",
    "                self.load_misc_from_stepfile()\n",
    "                if self.bpm == 0:\n",
    "                    raise Exception('Inconsistent bpm')\n",
    "                print ('Loading music')\n",
    "                y, _ = librosa.load(self.music_file, sr=sr)\n",
    "                \n",
    "\n",
    "            print ('Calculating indices')\n",
    "            self.calculate_indices(y)\n",
    "            print ('Calculating features')\n",
    "            self.calculate_features(y)\n",
    "            print ('Saving song\\n')\n",
    "            pd.DataFrame([self.offset, self.bpm]).to_csv('data/{0}_misc.csv'.format(key), index=False)\n",
    "            pd.DataFrame(self.beat_features).to_csv('data/{0}_beat_features.csv'.format(key), index=False)\n",
    "            \n",
    "        if load_type == 'from_store':\n",
    "            if not '{0}_beat_features.csv'.format(key) in listdir('data'):\n",
    "                print ('Song hasnt been loaded yet')\n",
    "            else:\n",
    "                [self.offset], [self.bpm] = pd.read_csv('data/{0}_misc.csv'.format(key)).values\n",
    "                self.beat_features = pd.read_csv('data/{0}_beat_features.csv'.format(key)).values\n",
    "\n",
    "\n",
    "# # Some useful functions to load induvidual or lists of songs\n",
    "# - load_song(pack: String, pack: String, force_new: Bool)\n",
    "# - load_songs(songs: Array(Pair(String~pack, String~title)), force_new: Bool)\n",
    "# - load_all_songs(force_new: Bool)\n",
    "\n",
    "# In[4]:\n",
    "\n",
    "def load_songs(songs, load_type):\n",
    "    return {'{0}~{1}'.format(song[0], song[1]): SongFile(song[0], song[1], load_type) for song in songs}\n",
    "\n",
    "def load_all_songs(load_type):\n",
    "    songs = [('In The Groove', song) for song in listdir('StepMania/Songs/In The Groove') if song != '.DS_Store']\n",
    "    songs.extend([('a_test', song) for song in ['A', 'B', 'C']])\n",
    "    return load_songs(songs, load_type)\n",
    "\n",
    "\n",
    "# # Functions to get bpm from song\n",
    "# - get_beats(beat_times: Array(Float), beat_frames: Array(Int))\n",
    "\n",
    "# In[5]:\n",
    "\n",
    "def get_beats(beat_times, beat_frames):\n",
    "    changes = []\n",
    "    changes_time = []\n",
    "    for i in range(len(beat_frames) - 1):\n",
    "        changes.append(beat_frames[i + 1] - beat_frames[i])\n",
    "        changes_time.append(beat_times[i + 1] - beat_times[i])\n",
    "\n",
    "    sorted_changes = sorted(changes)\n",
    "    median = sorted_changes[int(len(changes) / 2)]\n",
    "    median = max(set(sorted_changes), key=sorted_changes.count)\n",
    "\n",
    "    changes_counted = [False] * len(changes)\n",
    "    time_changes_sum = 0\n",
    "    time_changes_count = 0\n",
    "    for i in range(len(changes)):\n",
    "        # can use other factors (eg if song has a slow part take double beats into accout)\n",
    "        # in [0.5, 1, 2]:\n",
    "        for change_factor in [1]:\n",
    "            if abs((changes[i] * change_factor) - median) <= hop_length_down:\n",
    "                changes_counted[i] = True\n",
    "                time_changes_sum += (changes_time[i] * change_factor)\n",
    "                time_changes_count += change_factor\n",
    "            \n",
    "    average = time_changes_sum / time_changes_count\n",
    "    \n",
    "    time_differences = []\n",
    "    earliest_proper_beat = 1\n",
    "    for i in range(1, len(beat_times) - 1):\n",
    "        if changes_counted[i] & changes_counted[i - 1]:\n",
    "            earliest_proper_beat = i\n",
    "            break\n",
    "            \n",
    "    last_proper_beat = len(beat_times) -2\n",
    "    for i in range(1, len(beat_times) - 1):\n",
    "        if changes_counted[len(beat_times) - i - 1] & changes_counted[len(beat_times) - i - 2]:\n",
    "            last_proper_beat = len(beat_times) - i - 1\n",
    "            break\n",
    "    \n",
    "    time_differences = []\n",
    "    buffer = 5\n",
    "    for i in range(20):\n",
    "        start_beat = earliest_proper_beat + buffer * i\n",
    "        if changes_counted[start_beat] & changes_counted[start_beat - 1]:\n",
    "            for j in range(20):\n",
    "                end_beat = last_proper_beat - buffer * j\n",
    "                if changes_counted[end_beat] & changes_counted[end_beat - 1]:\n",
    "                    time_differences.append(beat_times[end_beat] - beat_times[start_beat])\n",
    "        \n",
    "    # get num beats, round, and make new average\n",
    "    new_averages = [time_difference / round(time_difference / average) for time_difference in time_differences]\n",
    "    #print (new_averages)\n",
    "    new_averages.sort()\n",
    "    num_averages = len(new_averages)\n",
    "    #new_average = sum(new_averages[5:num_averages - 5]) / (num_averages - 10)\n",
    "    new_average = new_averages[int(num_averages/2)]\n",
    "    bpm = 60./new_average\n",
    "    while bpm >= 200:\n",
    "        bpm /= 2\n",
    "    while bpm < 100:\n",
    "        bpm *= 2\n",
    "    return bpm"
   ]
  },
  {
   "cell_type": "code",
   "execution_count": 23,
   "metadata": {
    "collapsed": true
   },
   "outputs": [],
   "source": [
    "def get_song_features(key):\n",
    "    pack, song = key.split('~')\n",
    "    folder = 'StepMania/Songs/{0}/{1}/'.format(pack, song)\n",
    "    stepfiles = [file for file in listdir(folder) if file.endswith('.ssc') or file.endswith('.sm')]\n",
    "    musicfiles = [file for file in listdir(folder) if file.endswith('.ogg') or file.endswith('.mp3')]\n",
    "    stepfile = folder + stepfiles[0]\n",
    "    music = folder + musicfiles[0]\n",
    "\n",
    "\n",
    "    song_data = [key, folder, stepfile, music]\n",
    "    \n",
    "    if '{0}_beat_features.csv'.format(song_data[0]) in listdir('data'):\n",
    "        print ('Song Already Loaded')\n",
    "    else:\n",
    "        SongFile(song_data[0], song_data[1], song_data[2], song_data[3], 'from_stepfile')\n",
    "\n",
    "    gc.collect()"
   ]
  },
  {
   "cell_type": "code",
   "execution_count": 25,
   "metadata": {
    "collapsed": false
   },
   "outputs": [
    {
     "name": "stdout",
     "output_type": "stream",
     "text": [
      "Song Already Loaded\n",
      "Song Already Loaded\n",
      "Loading song a_test~Boogie Down\n",
      "Loading misc from stepfile\n",
      "Loading music\n",
      "Calculating indices\n",
      "Calculating features\n"
     ]
    },
    {
     "name": "stderr",
     "output_type": "stream",
     "text": [
      "/Users/jgzuke/anaconda3/lib/python3.5/site-packages/numpy/core/numeric.py:482: VisibleDeprecationWarning: using a non-integer number instead of an integer will result in an error in the future\n",
      "  return array(a, dtype, copy=False, order=order)\n"
     ]
    },
    {
     "name": "stdout",
     "output_type": "stream",
     "text": [
      "Saving song\n",
      "\n",
      "Loading song a_test~Bouff\n",
      "Loading misc from stepfile\n",
      "Loading music\n",
      "Calculating indices\n",
      "Calculating features\n"
     ]
    },
    {
     "name": "stderr",
     "output_type": "stream",
     "text": [
      "/Users/jgzuke/anaconda3/lib/python3.5/site-packages/numpy/core/numeric.py:482: VisibleDeprecationWarning: using a non-integer number instead of an integer will result in an error in the future\n",
      "  return array(a, dtype, copy=False, order=order)\n"
     ]
    },
    {
     "name": "stdout",
     "output_type": "stream",
     "text": [
      "Saving song\n",
      "\n",
      "Loading song a_test~Bubble Dancer\n",
      "Loading misc from stepfile\n",
      "Loading music\n",
      "Calculating indices\n",
      "Calculating features\n"
     ]
    },
    {
     "name": "stderr",
     "output_type": "stream",
     "text": [
      "/Users/jgzuke/anaconda3/lib/python3.5/site-packages/numpy/core/numeric.py:482: VisibleDeprecationWarning: using a non-integer number instead of an integer will result in an error in the future\n",
      "  return array(a, dtype, copy=False, order=order)\n"
     ]
    },
    {
     "name": "stdout",
     "output_type": "stream",
     "text": [
      "Saving song\n",
      "\n"
     ]
    },
    {
     "data": {
      "text/plain": [
       "[None, None, None, None, None]"
      ]
     },
     "execution_count": 25,
     "metadata": {},
     "output_type": "execute_result"
    }
   ],
   "source": [
    "songs = ['Anubis', 'Bend Your Mind', 'Boogie Down', 'Bouff', 'Bubble Dancer']\n",
    "[get_song_features('a_test~{0}'.format(song)) for song in songs]"
   ]
  },
  {
   "cell_type": "code",
   "execution_count": 29,
   "metadata": {
    "collapsed": false
   },
   "outputs": [],
   "source": [
    "samples_back_included = 8\n",
    "num_classes = 5\n",
    "num_features = 40\n",
    "num_features_total = (num_features * samples_back_included) + 4\n",
    "save_files = listdir('data')\n",
    "\n",
    "def get_features_for_index(beat_features, notes, index):\n",
    "    if index < 0:\n",
    "        return [0] * num_features\n",
    "    return beat_features[index]\n",
    "\n",
    "def get_class_for_index(notes, index):\n",
    "    if index < 0:\n",
    "        return (0, 0)\n",
    "    return notes[index][0].count('1')\n",
    "    \n",
    "importance_rankings = [48, 24, 12, 16, 6, 8, 3, 4, 2, 1]\n",
    "def get_beat_importance(index):\n",
    "    for i in range(len(importance_rankings)):\n",
    "        if index % importance_rankings[i] == 0:\n",
    "            return i\n",
    "\n",
    "def get_features_for_song(key, is_full):\n",
    "    X = []\n",
    "    y = []\n",
    "    if '{0}_beat_features.csv'.format(key) in save_files and '{0}_notes.csv'.format(key) in save_files:\n",
    "        beat_features_rotated = pd.read_csv('data/{0}_beat_features.csv'.format(key)).values\n",
    "        notes = pd.read_csv('data/{0}_notes.csv'.format(key), converters={'0': lambda x: str(x)}).values\n",
    "        beat_features = np.flipud(np.rot90(np.array(beat_features_rotated)))\n",
    "        num_notes = min(len(notes), len(beat_features))\n",
    "        for i in range(num_notes):\n",
    "            row_y = get_class_for_index(notes, i)\n",
    "            if is_full or (not (row_y == 0 and random.randint(0, 20) != 0) and not (row_y == 1 and random.randint(0, 3) != 0)):\n",
    "                features = [feature for j in range(samples_back_included) for feature in get_features_for_index(beat_features, notes, i - j)]\n",
    "                features.append(i % 48)\n",
    "                features.append(get_beat_importance(i))\n",
    "                features.append(i / 48)\n",
    "                features.append(num_notes - i / 48)\n",
    "                X.append(features)\n",
    "                y.append(row_y)\n",
    "    return np.array(X), np.array(y)\n",
    "\n",
    "def build_batch_generator():\n",
    "    songs_to_use = pd.read_csv('data/songs_to_use.csv').values\n",
    "    for song_data in songs_to_use:\n",
    "        yield (get_features_for_song(song_data[0]))\n",
    "\n",
    "# Total 243 songs\n",
    "def build_training_data(songs_start, songs_end, is_full = False):\n",
    "    X = []\n",
    "    y = []\n",
    "    songs_to_use = pd.read_csv('data/songs_to_use.csv').values\n",
    "    for song_data in songs_to_use[songs_start:songs_end]:\n",
    "        song_X, song_y = get_features_for_song(song_data[0], is_full)\n",
    "        X.extend(song_X)\n",
    "        y.extend(song_y)\n",
    "    return X, y\n",
    "\n",
    "def calculate_importance(row):\n",
    "    return (1 - row[0]) * (row[1] + row[2] * 2 + row[3] * 30 + row[4] * 40)\n",
    "\n",
    "def step_song(key, clf):\n",
    "    song_X, song_y = get_features_for_song(key, True)\n",
    "    new_song_y = clf.predict(song_X)\n",
    "    beat_importance = [calculate_importance(row) for row in new_song_y]\n",
    "    \n",
    "    #print ('Length: ' + str(len(new_song_y)))\n",
    "    #plt.plot([new_song_y[i] for i in range(len(new_song_y)) if i % 12 == 0])\n",
    "    #plt.show()\n",
    "    \n",
    "    pd.DataFrame(beat_importance).to_csv('generated_data/{0}_importance_generated.csv'.format(key), index=False)"
   ]
  },
  {
   "cell_type": "code",
   "execution_count": 30,
   "metadata": {
    "collapsed": true
   },
   "outputs": [],
   "source": [
    "beat_feature_model = load_model('models/beat_importance_model.h5')"
   ]
  },
  {
   "cell_type": "code",
   "execution_count": 31,
   "metadata": {
    "collapsed": false
   },
   "outputs": [
    {
     "ename": "Exception",
     "evalue": "Error when checking : expected dense_input_2 to have shape (None, 324) but got array with shape (0, 1)",
     "output_type": "error",
     "traceback": [
      "\u001b[0;31m---------------------------------------------------------------------------\u001b[0m",
      "\u001b[0;31mException\u001b[0m                                 Traceback (most recent call last)",
      "\u001b[0;32m<ipython-input-31-a5e613caaa55>\u001b[0m in \u001b[0;36m<module>\u001b[0;34m()\u001b[0m\n\u001b[1;32m      1\u001b[0m \u001b[0mkeys\u001b[0m \u001b[0;34m=\u001b[0m \u001b[0;34m[\u001b[0m\u001b[0;34m'a_test~{0}'\u001b[0m\u001b[0;34m.\u001b[0m\u001b[0mformat\u001b[0m\u001b[0;34m(\u001b[0m\u001b[0msong\u001b[0m\u001b[0;34m)\u001b[0m \u001b[0;32mfor\u001b[0m \u001b[0msong\u001b[0m \u001b[0;32min\u001b[0m \u001b[0;34m[\u001b[0m\u001b[0;34m'Anubis'\u001b[0m\u001b[0;34m,\u001b[0m \u001b[0;34m'Bend Your Mind'\u001b[0m\u001b[0;34m,\u001b[0m \u001b[0;34m'Boogie Down'\u001b[0m\u001b[0;34m,\u001b[0m \u001b[0;34m'Bouff'\u001b[0m\u001b[0;34m,\u001b[0m \u001b[0;34m'Bubble Dancer'\u001b[0m\u001b[0;34m]\u001b[0m\u001b[0;34m]\u001b[0m\u001b[0;34m\u001b[0m\u001b[0m\n\u001b[0;32m----> 2\u001b[0;31m \u001b[0;34m[\u001b[0m\u001b[0mstep_song\u001b[0m\u001b[0;34m(\u001b[0m\u001b[0mkey\u001b[0m\u001b[0;34m,\u001b[0m \u001b[0mbeat_feature_model\u001b[0m\u001b[0;34m)\u001b[0m \u001b[0;32mfor\u001b[0m \u001b[0mkey\u001b[0m \u001b[0;32min\u001b[0m \u001b[0mkeys\u001b[0m\u001b[0;34m]\u001b[0m\u001b[0;34m\u001b[0m\u001b[0m\n\u001b[0m",
      "\u001b[0;32m<ipython-input-31-a5e613caaa55>\u001b[0m in \u001b[0;36m<listcomp>\u001b[0;34m(.0)\u001b[0m\n\u001b[1;32m      1\u001b[0m \u001b[0mkeys\u001b[0m \u001b[0;34m=\u001b[0m \u001b[0;34m[\u001b[0m\u001b[0;34m'a_test~{0}'\u001b[0m\u001b[0;34m.\u001b[0m\u001b[0mformat\u001b[0m\u001b[0;34m(\u001b[0m\u001b[0msong\u001b[0m\u001b[0;34m)\u001b[0m \u001b[0;32mfor\u001b[0m \u001b[0msong\u001b[0m \u001b[0;32min\u001b[0m \u001b[0;34m[\u001b[0m\u001b[0;34m'Anubis'\u001b[0m\u001b[0;34m,\u001b[0m \u001b[0;34m'Bend Your Mind'\u001b[0m\u001b[0;34m,\u001b[0m \u001b[0;34m'Boogie Down'\u001b[0m\u001b[0;34m,\u001b[0m \u001b[0;34m'Bouff'\u001b[0m\u001b[0;34m,\u001b[0m \u001b[0;34m'Bubble Dancer'\u001b[0m\u001b[0;34m]\u001b[0m\u001b[0;34m]\u001b[0m\u001b[0;34m\u001b[0m\u001b[0m\n\u001b[0;32m----> 2\u001b[0;31m \u001b[0;34m[\u001b[0m\u001b[0mstep_song\u001b[0m\u001b[0;34m(\u001b[0m\u001b[0mkey\u001b[0m\u001b[0;34m,\u001b[0m \u001b[0mbeat_feature_model\u001b[0m\u001b[0;34m)\u001b[0m \u001b[0;32mfor\u001b[0m \u001b[0mkey\u001b[0m \u001b[0;32min\u001b[0m \u001b[0mkeys\u001b[0m\u001b[0;34m]\u001b[0m\u001b[0;34m\u001b[0m\u001b[0m\n\u001b[0m",
      "\u001b[0;32m<ipython-input-29-3ae216f34d78>\u001b[0m in \u001b[0;36mstep_song\u001b[0;34m(key, clf)\u001b[0m\n\u001b[1;32m     62\u001b[0m \u001b[0;32mdef\u001b[0m \u001b[0mstep_song\u001b[0m\u001b[0;34m(\u001b[0m\u001b[0mkey\u001b[0m\u001b[0;34m,\u001b[0m \u001b[0mclf\u001b[0m\u001b[0;34m)\u001b[0m\u001b[0;34m:\u001b[0m\u001b[0;34m\u001b[0m\u001b[0m\n\u001b[1;32m     63\u001b[0m     \u001b[0msong_X\u001b[0m\u001b[0;34m,\u001b[0m \u001b[0msong_y\u001b[0m \u001b[0;34m=\u001b[0m \u001b[0mget_features_for_song\u001b[0m\u001b[0;34m(\u001b[0m\u001b[0mkey\u001b[0m\u001b[0;34m,\u001b[0m \u001b[0;32mTrue\u001b[0m\u001b[0;34m)\u001b[0m\u001b[0;34m\u001b[0m\u001b[0m\n\u001b[0;32m---> 64\u001b[0;31m     \u001b[0mnew_song_y\u001b[0m \u001b[0;34m=\u001b[0m \u001b[0mclf\u001b[0m\u001b[0;34m.\u001b[0m\u001b[0mpredict\u001b[0m\u001b[0;34m(\u001b[0m\u001b[0msong_X\u001b[0m\u001b[0;34m)\u001b[0m\u001b[0;34m\u001b[0m\u001b[0m\n\u001b[0m\u001b[1;32m     65\u001b[0m     \u001b[0mbeat_importance\u001b[0m \u001b[0;34m=\u001b[0m \u001b[0;34m[\u001b[0m\u001b[0mcalculate_importance\u001b[0m\u001b[0;34m(\u001b[0m\u001b[0mrow\u001b[0m\u001b[0;34m)\u001b[0m \u001b[0;32mfor\u001b[0m \u001b[0mrow\u001b[0m \u001b[0;32min\u001b[0m \u001b[0mnew_song_y\u001b[0m\u001b[0;34m]\u001b[0m\u001b[0;34m\u001b[0m\u001b[0m\n\u001b[1;32m     66\u001b[0m \u001b[0;34m\u001b[0m\u001b[0m\n",
      "\u001b[0;32m/Users/jgzuke/anaconda3/lib/python3.5/site-packages/keras/models.py\u001b[0m in \u001b[0;36mpredict\u001b[0;34m(self, x, batch_size, verbose)\u001b[0m\n\u001b[1;32m    669\u001b[0m         \u001b[0;32mif\u001b[0m \u001b[0mself\u001b[0m\u001b[0;34m.\u001b[0m\u001b[0mmodel\u001b[0m \u001b[0;32mis\u001b[0m \u001b[0;32mNone\u001b[0m\u001b[0;34m:\u001b[0m\u001b[0;34m\u001b[0m\u001b[0m\n\u001b[1;32m    670\u001b[0m             \u001b[0mself\u001b[0m\u001b[0;34m.\u001b[0m\u001b[0mbuild\u001b[0m\u001b[0;34m(\u001b[0m\u001b[0;34m)\u001b[0m\u001b[0;34m\u001b[0m\u001b[0m\n\u001b[0;32m--> 671\u001b[0;31m         \u001b[0;32mreturn\u001b[0m \u001b[0mself\u001b[0m\u001b[0;34m.\u001b[0m\u001b[0mmodel\u001b[0m\u001b[0;34m.\u001b[0m\u001b[0mpredict\u001b[0m\u001b[0;34m(\u001b[0m\u001b[0mx\u001b[0m\u001b[0;34m,\u001b[0m \u001b[0mbatch_size\u001b[0m\u001b[0;34m=\u001b[0m\u001b[0mbatch_size\u001b[0m\u001b[0;34m,\u001b[0m \u001b[0mverbose\u001b[0m\u001b[0;34m=\u001b[0m\u001b[0mverbose\u001b[0m\u001b[0;34m)\u001b[0m\u001b[0;34m\u001b[0m\u001b[0m\n\u001b[0m\u001b[1;32m    672\u001b[0m \u001b[0;34m\u001b[0m\u001b[0m\n\u001b[1;32m    673\u001b[0m     \u001b[0;32mdef\u001b[0m \u001b[0mpredict_on_batch\u001b[0m\u001b[0;34m(\u001b[0m\u001b[0mself\u001b[0m\u001b[0;34m,\u001b[0m \u001b[0mx\u001b[0m\u001b[0;34m)\u001b[0m\u001b[0;34m:\u001b[0m\u001b[0;34m\u001b[0m\u001b[0m\n",
      "\u001b[0;32m/Users/jgzuke/anaconda3/lib/python3.5/site-packages/keras/engine/training.py\u001b[0m in \u001b[0;36mpredict\u001b[0;34m(self, x, batch_size, verbose)\u001b[0m\n\u001b[1;32m   1159\u001b[0m         x = standardize_input_data(x, self.input_names,\n\u001b[1;32m   1160\u001b[0m                                    \u001b[0mself\u001b[0m\u001b[0;34m.\u001b[0m\u001b[0minternal_input_shapes\u001b[0m\u001b[0;34m,\u001b[0m\u001b[0;34m\u001b[0m\u001b[0m\n\u001b[0;32m-> 1161\u001b[0;31m                                    check_batch_dim=False)\n\u001b[0m\u001b[1;32m   1162\u001b[0m         \u001b[0;32mif\u001b[0m \u001b[0mself\u001b[0m\u001b[0;34m.\u001b[0m\u001b[0mstateful\u001b[0m\u001b[0;34m:\u001b[0m\u001b[0;34m\u001b[0m\u001b[0m\n\u001b[1;32m   1163\u001b[0m             \u001b[0;32mif\u001b[0m \u001b[0mx\u001b[0m\u001b[0;34m[\u001b[0m\u001b[0;36m0\u001b[0m\u001b[0;34m]\u001b[0m\u001b[0;34m.\u001b[0m\u001b[0mshape\u001b[0m\u001b[0;34m[\u001b[0m\u001b[0;36m0\u001b[0m\u001b[0;34m]\u001b[0m \u001b[0;34m>\u001b[0m \u001b[0mbatch_size\u001b[0m \u001b[0;32mand\u001b[0m \u001b[0mx\u001b[0m\u001b[0;34m[\u001b[0m\u001b[0;36m0\u001b[0m\u001b[0;34m]\u001b[0m\u001b[0;34m.\u001b[0m\u001b[0mshape\u001b[0m\u001b[0;34m[\u001b[0m\u001b[0;36m0\u001b[0m\u001b[0;34m]\u001b[0m \u001b[0;34m%\u001b[0m \u001b[0mbatch_size\u001b[0m \u001b[0;34m!=\u001b[0m \u001b[0;36m0\u001b[0m\u001b[0;34m:\u001b[0m\u001b[0;34m\u001b[0m\u001b[0m\n",
      "\u001b[0;32m/Users/jgzuke/anaconda3/lib/python3.5/site-packages/keras/engine/training.py\u001b[0m in \u001b[0;36mstandardize_input_data\u001b[0;34m(data, names, shapes, check_batch_dim, exception_prefix)\u001b[0m\n\u001b[1;32m    106\u001b[0m                                         \u001b[0;34m' to have shape '\u001b[0m \u001b[0;34m+\u001b[0m \u001b[0mstr\u001b[0m\u001b[0;34m(\u001b[0m\u001b[0mshapes\u001b[0m\u001b[0;34m[\u001b[0m\u001b[0mi\u001b[0m\u001b[0;34m]\u001b[0m\u001b[0;34m)\u001b[0m \u001b[0;34m+\u001b[0m\u001b[0;34m\u001b[0m\u001b[0m\n\u001b[1;32m    107\u001b[0m                                         \u001b[0;34m' but got array with shape '\u001b[0m \u001b[0;34m+\u001b[0m\u001b[0;34m\u001b[0m\u001b[0m\n\u001b[0;32m--> 108\u001b[0;31m                                         str(array.shape))\n\u001b[0m\u001b[1;32m    109\u001b[0m     \u001b[0;32mreturn\u001b[0m \u001b[0marrays\u001b[0m\u001b[0;34m\u001b[0m\u001b[0m\n\u001b[1;32m    110\u001b[0m \u001b[0;34m\u001b[0m\u001b[0m\n",
      "\u001b[0;31mException\u001b[0m: Error when checking : expected dense_input_2 to have shape (None, 324) but got array with shape (0, 1)"
     ]
    }
   ],
   "source": [
    "keys = ['a_test~{0}'.format(song) for song in ['Anubis', 'Bend Your Mind', 'Boogie Down', 'Bouff', 'Bubble Dancer']]\n",
    "[step_song(key, beat_feature_model) for key in keys]"
   ]
  },
  {
   "cell_type": "code",
   "execution_count": null,
   "metadata": {
    "collapsed": true
   },
   "outputs": [],
   "source": []
  }
 ],
 "metadata": {
  "kernelspec": {
   "display_name": "Python 3",
   "language": "python",
   "name": "python3"
  },
  "language_info": {
   "codemirror_mode": {
    "name": "ipython",
    "version": 3
   },
   "file_extension": ".py",
   "mimetype": "text/x-python",
   "name": "python",
   "nbconvert_exporter": "python",
   "pygments_lexer": "ipython3",
   "version": "3.5.1"
  }
 },
 "nbformat": 4,
 "nbformat_minor": 0
}
