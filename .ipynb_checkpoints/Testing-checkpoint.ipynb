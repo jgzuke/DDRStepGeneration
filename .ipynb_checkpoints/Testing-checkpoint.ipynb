{
 "cells": [
  {
   "cell_type": "code",
   "execution_count": 1,
   "metadata": {
    "collapsed": false
   },
   "outputs": [],
   "source": [
    "%matplotlib inline\n",
    "import copy\n",
    "import pandas as pd\n",
    "import numpy as np\n",
    "import librosa\n",
    "import seaborn as sb\n",
    "import matplotlib.pyplot as plt\n",
    "import itertools\n",
    "import re\n",
    "import random\n",
    "from os import listdir\n",
    "from os.path import isfile, join\n",
    "from __future__ import print_function\n",
    "from numpy import median, diff"
   ]
  },
  {
   "cell_type": "markdown",
   "metadata": {},
   "source": [
    "# SongFile:\n",
    "### Fields\n",
    "- beat_frames:  \n",
    "- beat_times: \n",
    "- bpm: \n",
    "- bpm_string: \n",
    "- beat_length: \n",
    "- sample_times: \n",
    "- indices: \n",
    "- music_samples: \n",
    "- data: \n",
    "\n",
    "- pack\n",
    "- name\n",
    "- extension\n",
    "- music_file\n",
    "- stepfile\n",
    "### Output\n",
    "- data/{0}_beat_times.csv\n",
    "- data/{0}_beat_frames.csv\n",
    "- data/{0}_music_samples.csv\n",
    "\n",
    "# TODO separate music and stepfile (dont assume scc, or always use sm)"
   ]
  },
  {
   "cell_type": "code",
   "execution_count": 18,
   "metadata": {
    "collapsed": false
   },
   "outputs": [
    {
     "name": "stdout",
     "output_type": "stream",
     "text": [
      "[    99    862   1617   2369   3121   3873   4625   5377   6143   7631\n",
      "   8383   9143   9895  10647  12153  13283  14412  15164  15918  16670\n",
      "  17422  18174  19300  20432  21184  22299  23442  24943  26446  27943\n",
      "  28695  29447  30199  30951  31703  32455  33207  33963  34715  35467\n",
      "  36950  37713  38465  39217  39969  40721  41473  42225  42977  43729\n",
      "  44481  45233  45985  46737  47489  48981  49740  50492  51244  51996\n",
      "  52748  53500  54252  55004  55756  56508  57260  58014  58766  59525\n",
      "  61007  61760  62519  63271  64025  64777  65529  66281  67033  67785\n",
      "  68537  69289  70405  71527  72285  73037  73789  74555  76040  76792\n",
      "  77544  78296  79048  79800  80552  81304  82056  82808  83560  84312\n",
      "  85064  85816  86568  87320  88072  88824  89576  90328  91080  91832\n",
      "  92584  93336  94088  94840  95592  96344  97096  97848  98600  99355\n",
      " 100107 100859 101611 102365 103487 104606 105359 106111 106863 107615\n",
      " 108367 109119 109871 110623 111375 112127 112879 113631 114383 115135\n",
      " 115887 116639 118147 118899 120400 121531 122648 123400 124152 124904\n",
      " 125656 126408 127160 127912 128664 129416 130168 130920 131672 132424\n",
      " 133176 133928 134680 135432 136184 136936 137688 138440 139192 139944\n",
      " 140696 141448 142200 142952 143704 144456 145952 146704 147456 148208\n",
      " 148960 149712 150464 151216 151968 152720 153472 154224 154976 155728\n",
      " 156480 157232 157984 158736 159488 160240 160992 161744 162496 163248\n",
      " 164000 164752 166256 167760 168512 169631 170383 171503 173002 173754\n",
      " 174506 175258 176010 176762 177514 178266 179018 179770 180522 181274\n",
      " 182026 182778 183530 184282 185034 185786 186538 187290 188042 188794\n",
      " 189546 190298 191050 191802 192554 194057 194810 195562 196314 197066\n",
      " 197818 198570 199322 200074 200826 201578 202330 203085 203837 204593\n",
      " 205345 206097 206849 207601 208353 209105 210600 212107 212859 213626\n",
      " 215120 216244 217373 218125 218877 220381 221133 221885 222637 223389\n",
      " 224141 224893 226027 227150 227905 229397 230151 230903 231655 232407\n",
      " 233159 233911 234663 235415 236167 236919 238430 239922 240675 242175\n",
      " 242927 243679 244431 245183 245935 246687 247439 248191 248943 249695\n",
      " 250447 251199 251951 252703 253455 254207 254959 255711 256463 257215\n",
      " 257967 258719 259842 260976 261728 262859 264354 265853 266987 268492\n",
      " 269244 269997 270750 271864 272992 273751 274503 275255 276007 276759\n",
      " 277878 279010 280516 281268 282020 282772 283524 284276 285028 285780\n",
      " 286534 287289 288782 289905 291409 292539 293297 294796 295923 297422\n",
      " 298556 299310 300809 301941 303435 304562 305321 306826 307952 309455\n",
      " 310577 311330 312089 312845 314344 315843 316602]\n",
      "[   13   204   390   531   672   837  1001  1144  1330  1520  1708  1896\n",
      "  2084  2271  2413  2557  2742  2930  3118  3306  3495  3681  3870  4057\n",
      "  4246  4433  4620  4808  4997  5185  5373  5560  5749  5936  6123  6311\n",
      "  6501  6688  6875  7063  7252  7441  7627  7816  8004  8191  8380  8566\n",
      "  8754  8941  9130  9320  9508  9695  9881 10070 10259 10446 10633 10822\n",
      " 11010 11198 11385 11573 11761 11949 12137 12325 12514 12702 12888 13077\n",
      " 13265 13454 13641 13829 14017 14205 14392 14580 14769 14955 15145 15333\n",
      " 15521 15708 15896 16083 16272 16460 16647 16835 17023 17211 17400 17587\n",
      " 17775 17964 18152 18340 18528 18715 18903 19090 19278 19466 19655 19842\n",
      " 20030 20219 20406 20594 20780 20923 21065 21250 21438 21627 21814 22003\n",
      " 22191 22379 22565 22754 22942 23131 23317 23506 23694 23882 24069 24258\n",
      " 24446 24634 24821 25009 25198 25386 25575 25763 25950 26138 26325 26514\n",
      " 26703 26889 27033 27217 27360 27549 27736 27925 28111 28300 28488 28676\n",
      " 28863 29051 29239 29427 29615 29849 30084 30273 30460 30648 30837 31024\n",
      " 31212 31400 31588 31776 31964 32152 32340 32528 32716 32905 33091 33280\n",
      " 33467 33655 33844 34032 34220 34407 34594 34783 34971 35159 35347 35535\n",
      " 35722 35911 36097 36239 36427 36662 36849 36991 37179 37413 37601 37744\n",
      " 37930 38165 38353 38495 38683 38916 39106 39293 39481]\n",
      "[ 0.03591837  0.31274376  0.58666667  0.85950113  1.1323356   1.40517007\n",
      "  1.67800454  1.950839    2.22875283  2.76861678]\n",
      "[ 0.03773243  0.59210884  1.13197279  1.54122449  1.95047619  2.42938776\n",
      "  2.90539683  3.32045351  3.86031746  4.41179138]\n",
      "367\n",
      "213\n"
     ]
    }
   ],
   "source": [
    "print (song_data_temp_2['In The Groove~Anubis'].beat_frames)\n",
    "print (song_data_temp['In The Groove~Anubis'].beat_frames)\n",
    "print (song_data_temp_2['In The Groove~Anubis'].beat_times[:10])\n",
    "print (song_data_temp['In The Groove~Anubis'].beat_times[:10])\n",
    "print (len(song_data_temp_2['In The Groove~Anubis'].beat_frames))\n",
    "print (len(song_data_temp['In The Groove~Anubis'].beat_frames))"
   ]
  },
  {
   "cell_type": "code",
   "execution_count": 28,
   "metadata": {
    "collapsed": true
   },
   "outputs": [],
   "source": [
    "sample_rate_down = 4\n",
    "hop_length_down = 8\n",
    "sr = 11025 * 16 / sample_rate_down\n",
    "hop_length = 512 / (sample_rate_down * hop_length_down)\n",
    "samples_per_second = 24 * 4\n",
    "steps_per_bar = 12\n",
    "class SongFile:\n",
    "    def load_new(self):\n",
    "        data, _ = librosa.load(self.music_file, sr=sr)\n",
    "        _, self.beat_frames = librosa.beat.beat_track(y=data, sr=sr, hop_length=hop_length)\n",
    "        self.beat_times = librosa.frames_to_time(self.beat_frames, sr=sr, hop_length=hop_length)\n",
    "        '''\n",
    "        seconds = len(data) / sr\n",
    "        times = get_beats(self.beat_times, self.beat_frames)\n",
    "        self.bpm = times[0][1]\n",
    "        self.bpm_string = get_time_string(times)\n",
    "        \n",
    "        self.beat_length = 60. / self.bpm\n",
    "        bps = self.bpm / 60\n",
    "        # take 24 samples for each beat (need 3rds, 8ths)\n",
    "        num_samples = int(bps * seconds * samples_per_second)\n",
    "        beat_time = self.beat_length / samples_per_second\n",
    "        \n",
    "        sample_times = [self.beat_times[0] + (beat_time * i) for i in range(num_samples)]\n",
    "        # only take samples where music still playing\n",
    "        self.sample_times = [time for time in sample_times if round(time * sr) < len(data)]\n",
    "        self.indices = [round(time * sr) for time in self.sample_times]\n",
    "        self.music_samples = [data[index] for index in self.indices]\n",
    "        '''\n",
    "        self.data = data\n",
    "    \n",
    "    def __init__(self, pack, name, extension, force_new):\n",
    "        self.pack = pack\n",
    "        self.name = name\n",
    "        self.extension = extension\n",
    "        self.music_file = 'StepMania/Songs/{0}/{1}/{1}.{2}'.format(pack, name, extension)\n",
    "        self.stepfile = 'StepMania/Songs/{0}/{1}/{1}.ssc'.format(pack, name)\n",
    "        \n",
    "        key = '{0}~{1}'.format(pack, name)\n",
    "        if force_new or (not '{0}_beat_frames.csv'.format(key) in listdir('data')):\n",
    "            print ('Calculating beats for {0}'.format(key))\n",
    "            self.load_new()\n",
    "                        \n",
    "            print ('Saving calculated beats for {0}'.format(key))\n",
    "            #pd.DataFrame(self.beat_times).to_csv('data/{0}_beat_times.csv'.format(key), index=False)\n",
    "            #pd.DataFrame(self.beat_frames).to_csv('data/{0}_beat_frames.csv'.format(key), index=False)\n",
    "            #pd.DataFrame(self.music_samples).to_csv('data/{0}_music_samples.csv'.format(key), index=False)\n",
    "        else:\n",
    "            #print ('Loading beats from save for {0}'.format(key))\n",
    "            self.beat_frames = pd.read_csv('data/{0}_beat_frames.csv'.format(key)).values.flatten()\n",
    "            self.beat_times = pd.read_csv('data/{0}_beat_times.csv'.format(key)).values.flatten()\n",
    "            self.music_samples = pd.read_csv('data/{0}_music_samples.csv'.format(key)).values.flatten()"
   ]
  },
  {
   "cell_type": "markdown",
   "metadata": {},
   "source": [
    "# Some useful functions to load induvidual or lists of songs\n",
    "- load_song(pack: String, pack: String, force_new: Bool)\n",
    "- load_songs(songs: Array(Pair(String~pack, String~title)), force_new: Bool)\n",
    "- load_all_songs(force_new: Bool)"
   ]
  },
  {
   "cell_type": "code",
   "execution_count": 3,
   "metadata": {
    "collapsed": false
   },
   "outputs": [],
   "source": [
    "def load_song(pack, title, force_new):\n",
    "    folder_path = 'StepMania/Songs/{0}/{1}'.format(pack, title)\n",
    "    song = next(file for file in listdir(folder_path) if file.endswith('.ogg') or file.endswith('.mp3'))\n",
    "    extension = song.split('.')[1]\n",
    "    key = '{0}~{1}'.format(pack, title)\n",
    "    return SongFile(pack, title, extension, force_new)\n",
    "\n",
    "def load_songs(songs, force_new):\n",
    "    return {'{0}~{1}'.format(song[0], song[1]): load_song(song[0], song[1], force_new) for song in songs}\n",
    "\n",
    "def load_all_songs(force_new):\n",
    "    songs = [('In The Groove', song) for song in listdir('StepMania/Songs/In The Groove') if song != '.DS_Store']\n",
    "    songs.extend([('a_test', song) for song in ['A', 'B', 'C']])\n",
    "    return load_songs(songs, force_new)"
   ]
  },
  {
   "cell_type": "markdown",
   "metadata": {},
   "source": [
    "# Functions to get bpm from song\n",
    "- get_beats(beat_times: Array(Float), beat_frames: Array(Int))\n",
    "- get_time_string(times: Array(Pair(Float~timeToStart, Float~bpm)))"
   ]
  },
  {
   "cell_type": "code",
   "execution_count": 70,
   "metadata": {
    "collapsed": false
   },
   "outputs": [],
   "source": [
    "def get_beats(beat_times, beat_frames):\n",
    "    changes = []\n",
    "    changes_time = []\n",
    "    for i in range(len(beat_frames) - 1):\n",
    "        changes.append(beat_frames[i + 1] - beat_frames[i])\n",
    "        changes_time.append(beat_times[i + 1] - beat_times[i])\n",
    "\n",
    "    sorted_changes = sorted(changes)\n",
    "    median = sorted_changes[int(len(changes) / 2)]\n",
    "    median = max(set(sorted_changes), key=sorted_changes.count)\n",
    "            \n",
    "    changes_counted = [(abs(change - median) <= hop_length_down or abs((change/2) - median) <= hop_length_down or abs((change*2) - median) <= hop_length_down) for change in changes]\n",
    "    print (median)\n",
    "    print (changes_counted)\n",
    "    print (changes)\n",
    "    frame_changes_counted = list(itertools.compress(changes, changes_counted))\n",
    "    time_changes_counted = list(itertools.compress(changes_time, changes_counted))\n",
    "    sum_counted_changes = 0\n",
    "    for i in range(len(frame_changes_counted)):\n",
    "        if abs(frame_changes_counted[i] - median) <= hop_length_down:\n",
    "            sum_counted_changes += time_changes_counted[i]\n",
    "        if abs((frame_changes_counted[i]/2) - median) <= hop_length_down:\n",
    "            sum_counted_changes += (time_changes_counted[i]/2)\n",
    "        if abs((frame_changes_counted[i]*2) - median) <= hop_length_down:\n",
    "            sum_counted_changes += (time_changes_counted[i]*2)\n",
    "    \n",
    "    average = sum_counted_changes / len(time_changes_counted)\n",
    "    print (average)\n",
    "    \n",
    "    time_differences = []\n",
    "    earliest_proper_beat = 1\n",
    "    for i in range(1, len(beat_times) - 1):\n",
    "        if changes_counted[i] & changes_counted[i - 1]:\n",
    "            earliest_proper_beat = i\n",
    "            break\n",
    "            \n",
    "    last_proper_beat = len(beat_times) -2\n",
    "    for i in range(1, len(beat_times) - 1):\n",
    "        if changes_counted[len(beat_times) - i - 1] & changes_counted[len(beat_times) - i - 2]:\n",
    "            last_proper_beat = len(beat_times) - i - 1\n",
    "            break\n",
    "    \n",
    "    time_differences = []\n",
    "    buffer = 5\n",
    "    for i in range(20):\n",
    "        start_beat = earliest_proper_beat + buffer * i\n",
    "        if changes_counted[start_beat] & changes_counted[start_beat - 1]:\n",
    "            for j in range(20):\n",
    "                end_beat = last_proper_beat - buffer * j\n",
    "                if changes_counted[end_beat] & changes_counted[end_beat - 1]:\n",
    "                    time_differences.append(beat_times[end_beat] - beat_times[start_beat])\n",
    "        \n",
    "    # get num beats, round, and make new average\n",
    "    new_averages = [time_difference / round(time_difference / average) for time_difference in time_differences]\n",
    "    #print (new_averages)\n",
    "    new_averages.sort()\n",
    "    num_averages = len(new_averages)\n",
    "    #new_average = sum(new_averages[5:num_averages - 5]) / (num_averages - 10)\n",
    "    new_average = new_averages[int(num_averages/2)]\n",
    "    return [(0, 60./new_average)]\n",
    "    \n",
    "def get_time_string(times):\n",
    "    time_strings = []\n",
    "    for time in times:\n",
    "        if time[0] != 0:\n",
    "            time_strings.append(',')\n",
    "        time_strings.append('{:}={:.5f}'.format(time[0], time[1]))\n",
    "    return ''.join(time_strings)"
   ]
  },
  {
   "cell_type": "markdown",
   "metadata": {},
   "source": [
    "# Helpers to test get_beats() above\n",
    "- get_bpm(file: String)\n",
    "- get_song_bpms()\n",
    "- test_get_beats(song_data: Map(SongData))"
   ]
  },
  {
   "cell_type": "code",
   "execution_count": 20,
   "metadata": {
    "collapsed": false
   },
   "outputs": [],
   "source": [
    "def get_bpm(file):\n",
    "    with open(file, \"r\") as ins:\n",
    "        for line in ins:\n",
    "            if line.startswith('#BPMS:'):\n",
    "                result = re.search('#BPMS:(.*);', line)\n",
    "                bpm_string = result.group(1)\n",
    "                if len(bpm_string.split(',')) == 1:\n",
    "                    return float(bpm_string.split('=')[1])\n",
    "                return 0\n",
    "    return 0\n",
    "\n",
    "def get_song_bpms(song_data):\n",
    "    song_bpms = {}\n",
    "    for key, song in song_data.items():\n",
    "        song_bpms[key] = get_bpm('StepMania/Songs/{0}/{1}/{1}.sm'.format(song.pack, song.name))\n",
    "    return song_bpms\n",
    "\n",
    "def test_get_beats(song_data):\n",
    "    song_bpms = get_song_bpms(song_data)\n",
    "    errors = []\n",
    "    for key in song_data:\n",
    "        song = song_data[key]\n",
    "        real_beat = song_bpms[key]\n",
    "        if real_beat != 0:\n",
    "            prediced_beat = get_beats(song.beat_times, song.beat_frames)[0][1]\n",
    "            for i in range (1,4):\n",
    "                if abs((prediced_beat * (i + 1) / (i)) - real_beat) < abs(prediced_beat - real_beat):\n",
    "                    prediced_beat *= (i + 1) / (i)\n",
    "            print ('{0:.3f} - {1:.3f} = {2:.3f}'.format(prediced_beat, real_beat, prediced_beat - real_beat))\n",
    "\n",
    "#test_get_beats(song_data)"
   ]
  },
  {
   "cell_type": "code",
   "execution_count": 33,
   "metadata": {
    "collapsed": false
   },
   "outputs": [],
   "source": [
    "#songs = [('In The Groove', song) for song in listdir('StepMania/Songs/In The Groove') if song != '.DS_Store']\n",
    "#song_data_temp = load_songs(songs, True)"
   ]
  },
  {
   "cell_type": "code",
   "execution_count": 34,
   "metadata": {
    "collapsed": false
   },
   "outputs": [],
   "source": [
    "#song_data_temp_2 = load_songs([('In The Groove', song) for song in ['Bend Your Mind', 'Boogie Down', 'Bouff']], True)"
   ]
  },
  {
   "cell_type": "code",
   "execution_count": 71,
   "metadata": {
    "collapsed": false
   },
   "outputs": [
    {
     "name": "stdout",
     "output_type": "stream",
     "text": [
      "0.214283962512\n"
     ]
    },
    {
     "data": {
      "text/plain": [
       "[(0, 279.97496565174208)]"
      ]
     },
     "execution_count": 71,
     "metadata": {},
     "output_type": "execute_result"
    }
   ],
   "source": [
    "song = song_data_temp_2['In The Groove~Bend Your Mind']\n",
    "get_beats(song.beat_times, song.beat_frames)\n",
    "#test_get_beats(song_data_temp_2)"
   ]
  },
  {
   "cell_type": "code",
   "execution_count": 7,
   "metadata": {
    "collapsed": false
   },
   "outputs": [
    {
     "name": "stdout",
     "output_type": "stream",
     "text": [
      "132.295 - 132.300 = -0.005\n",
      "200.851 - 200.000 = 0.851\n",
      "133.007 - 132.998 = 0.009\n",
      "119.982 - 119.985 = -0.003\n",
      "137.995 - 137.997 = -0.002\n",
      "135.999 - 136.020 = -0.021\n",
      "137.989 - 137.980 = 0.009\n",
      "133.999 - 134.000 = -0.001\n",
      "138.444 - 138.000 = 0.444\n",
      "160.005 - 160.000 = 0.005\n",
      "123.060 - 123.065 = -0.005\n",
      "138.012 - 138.000 = 0.012\n",
      "168.002 - 168.000 = 0.002\n",
      "145.996 - 146.021 = -0.025\n",
      "134.008 - 134.000 = 0.008\n",
      "134.009 - 134.003 = 0.006\n",
      "129.990 - 130.000 = -0.010\n",
      "175.002 - 175.000 = 0.002\n",
      "170.002 - 170.000 = 0.002\n",
      "107.410 - 107.000 = 0.410\n",
      "144.629 - 145.000 = -0.371\n",
      "135.275 - 135.000 = 0.275\n",
      "331.022 - 330.000 = 1.022\n",
      "128.011 - 128.019 = -0.008\n",
      "137.013 - 137.002 = 0.011\n",
      "160.006 - 160.001 = 0.005\n",
      "132.013 - 132.010 = 0.003\n",
      "99.998 - 100.000 = -0.002\n",
      "111.768 - 110.715 = 1.053\n",
      "125.710 - 124.997 = 0.713\n",
      "131.646 - 131.618 = 0.028\n",
      "142.744 - 142.003 = 0.741\n",
      "160.003 - 160.000 = 0.003\n",
      "100.007 - 100.030 = -0.023\n",
      "194.007 - 193.980 = 0.027\n",
      "138.001 - 138.000 = 0.001\n",
      "171.024 - 170.000 = 1.024\n",
      "142.999 - 143.000 = -0.001\n",
      "139.602 - 140.087 = -0.485\n",
      "192.377 - 192.405 = -0.028\n",
      "137.999 - 138.000 = -0.001\n",
      "126.119 - 126.110 = 0.009\n",
      "194.989 - 195.000 = -0.011\n",
      "138.005 - 138.000 = 0.005\n",
      "200.092 - 200.099 = -0.007\n",
      "139.990 - 140.000 = -0.010\n",
      "129.212 - 129.214 = -0.002\n",
      "135.324 - 135.000 = 0.324\n",
      "163.011 - 163.000 = 0.011\n",
      "109.474 - 110.000 = -0.526\n",
      "137.522 - 137.512 = 0.010\n"
     ]
    }
   ],
   "source": [
    "test_get_beats(song_data_temp)"
   ]
  },
  {
   "cell_type": "code",
   "execution_count": 96,
   "metadata": {
    "collapsed": false
   },
   "outputs": [
    {
     "name": "stdout",
     "output_type": "stream",
     "text": [
      "139.990 - 140.000 = -0.010\n",
      "109.474 - 110.000 = -0.526\n",
      "175.002 - 175.000 = 0.002\n"
     ]
    }
   ],
   "source": [
    "test_get_beats(song_data_temp)"
   ]
  },
  {
   "cell_type": "code",
   "execution_count": 91,
   "metadata": {
    "collapsed": false
   },
   "outputs": [
    {
     "name": "stdout",
     "output_type": "stream",
     "text": [
      "139.992 - 140.000 = -0.008\n",
      "110.000 - 110.000 = -0.000\n",
      "175.002 - 175.000 = 0.002\n"
     ]
    }
   ],
   "source": [
    "test_get_beats(song_data_temp)"
   ]
  },
  {
   "cell_type": "markdown",
   "metadata": {},
   "source": [
    "# Helpers to read .sm and return notes and meta data\n",
    "- get_notes_from_note_string(note_string)\n",
    "- get_notes_and_metadata(file)\n",
    "- get_song_steps()"
   ]
  },
  {
   "cell_type": "code",
   "execution_count": 10,
   "metadata": {
    "collapsed": false
   },
   "outputs": [],
   "source": [
    "regex_notes_with_metadata = '#NOTES:n     dance-single((?:(?!//-).)*);'\n",
    "regex_metadata_split = ':n     (.*):n     (.*):n     (.*):n     (.*):n     (.*):(.*);'\n",
    "def get_notes_from_note_string(note_string):\n",
    "    measure_comments = re.findall('( )*//( )*measure( )*[0-9]*', note_string)\n",
    "    note_strings_split = re.split(r'n', note_string)[1:-1]\n",
    "    notes = []\n",
    "    bar = []\n",
    "    for row in note_strings_split:\n",
    "        if len(row) == 4:\n",
    "            bar.append(row)\n",
    "        else:\n",
    "            notes.append(bar)\n",
    "            bar = []\n",
    "    return note_strings_split\n",
    "\n",
    "def get_notes_and_metadata(file):\n",
    "    difficulty_map = {}\n",
    "    with open(file) as txt:\n",
    "        step_file = txt.read()\n",
    "        step_file = step_file.replace('\\n', 'n')\n",
    "        notes_with_metadata_groups = re.finditer(regex_notes_with_metadata, step_file)\n",
    "        for match in notes_with_metadata_groups:\n",
    "            notes_with_metadata = match.group(0)\n",
    "            split_data = re.search(regex_metadata_split, notes_with_metadata)\n",
    "            difficulty = split_data.group(4)\n",
    "            metadata = split_data.group(5)\n",
    "            notes = get_notes_from_note_string(split_data.group(6))\n",
    "            notes_with_metadata_map = {\n",
    "                'DIFFICULTY': difficulty,\n",
    "                'METADATA': metadata,\n",
    "                'NOTES': notes,\n",
    "            }\n",
    "            difficulty_map[difficulty] = notes_with_metadata_map\n",
    "    return difficulty_map\n",
    "\n",
    "def get_song_steps():\n",
    "    songs = [song for song in listdir('StepMania/Songs/In The Groove')]\n",
    "    songs.remove('.DS_Store')\n",
    "    song_steps = {}\n",
    "    for song in songs:\n",
    "        song_steps['In The Groove~{0}'.format(song)] = get_notes_and_metadata('StepMania/Songs/In The Groove/{0}/{0}.sm'.format(song))\n",
    "    return song_steps"
   ]
  },
  {
   "cell_type": "code",
   "execution_count": 12,
   "metadata": {
    "collapsed": false
   },
   "outputs": [],
   "source": [
    "def write_song_header(output_stepfile, song):\n",
    "    keys = ['VERSION', 'TITLE', 'MUSIC', 'OFFSET', 'SAMPLESTART', 'SAMPLELENGTH']\n",
    "    \n",
    "    header_info = {\n",
    "        'VERSION': 0.82,\n",
    "        'TITLE': song.name,\n",
    "        'MUSIC': '{0}.{1}'.format(song.name, song.extension),\n",
    "        'OFFSET': -song.beat_times[0],\n",
    "        'SAMPLESTART': song.beat_times[0] + 32 * song.beat_length,\n",
    "        'SAMPLELENGTH': 32 * song.beat_length\n",
    "    }\n",
    "    \n",
    "    for key in keys:\n",
    "        print (\"#{0}:{1};\".format(key, str(header_info[key])), file=output_stepfile)\n",
    "        \n",
    "def write_step_header(output_stepfile, song):\n",
    "    print(\"//---------------dance-single - ----------------\", file=output_stepfile)\n",
    "    keys = ['NOTEDATA', 'CHARTNAME', 'STEPSTYPE', 'DIFFICULTY', 'METER', 'RADARVALUES', 'BPMS']\n",
    "        \n",
    "    step_info = {\n",
    "        'NOTEDATA': '',\n",
    "        'CHARTNAME': 'Kommisar',\n",
    "        'STEPSTYPE': 'dance-single',\n",
    "        'DIFFICULTY': 'Expert',\n",
    "        'METER': 9,\n",
    "        'RADARVALUES': '0.234,0.292,0.008,0,0,211,212,1,0,0,0,0,0,0,0.234,0.292,0.008,0,0,211,212,1,0,0,0,0,0,0',\n",
    "        'BPMS': song.bpm_string\n",
    "    }\n",
    "    for key in keys:\n",
    "        print (\"#{0}:{1};\".format(key, str(step_info[key])), file=output_stepfile)\n",
    "        \n",
    "def write_notes_simple(output_stepfile, song):\n",
    "    print (\"#NOTES:\", file=output_stepfile)\n",
    "    \n",
    "    for i in range(40):\n",
    "        print (\"0001\\n0001\\n0001\\n0001\\n,\", file=output_stepfile)\n",
    "    print (\"0000;\", file=output_stepfile)\n",
    "    \n",
    "def write_notes(output_stepfile, song):\n",
    "    print (\"#NOTES:\", file=output_stepfile)\n",
    "    \n",
    "    samples = song.music_samples\n",
    "    # take steps_per_bar / 4 samples per beat (steps_per_bar per bar)\n",
    "    steps_per_beat = steps_per_bar / 4\n",
    "    filter_ammount = samples_per_second / steps_per_beat\n",
    "    \n",
    "    absolute_samples = [samples[i] for i in range(len(samples)) if i % filter_ammount == 0]\n",
    "    # show 1 / 3 of all notes\n",
    "    cutoff_index = int(len(absolute_samples) / 3)\n",
    "    cutoff = sorted(absolute_samples)[-cutoff_index]\n",
    "    indices = [sample > cutoff for sample in absolute_samples]\n",
    "    \n",
    "    for i in range(len(indices)):\n",
    "        if indices[i]:\n",
    "            print (\"0001\", file=output_stepfile)\n",
    "        else:\n",
    "            print (\"0000\", file=output_stepfile)\n",
    "        if i % steps_per_bar == 0 and i != 0:\n",
    "            print (\",\", file=output_stepfile)\n",
    "\n",
    "    print (\"0000;\", file=output_stepfile)\n",
    "    \n",
    "def step_song(song):\n",
    "    output_stepfile=open(song.stepfile, 'w')\n",
    "    write_song_header(output_stepfile, song)\n",
    "    write_step_header(output_stepfile, song)\n",
    "    write_notes(output_stepfile, song)\n",
    "    output_stepfile.close()"
   ]
  },
  {
   "cell_type": "code",
   "execution_count": 3,
   "metadata": {
    "collapsed": false
   },
   "outputs": [],
   "source": [
    "#song_data = load_all_songs(False)"
   ]
  },
  {
   "cell_type": "code",
   "execution_count": 1101,
   "metadata": {
    "collapsed": false
   },
   "outputs": [
    {
     "name": "stdout",
     "output_type": "stream",
     "text": [
      "Calculating beats for a_test~A\n"
     ]
    },
    {
     "name": "stderr",
     "output_type": "stream",
     "text": [
      "/Users/jgzuke/anaconda3/lib/python3.5/site-packages/ipykernel/__main__.py:25: VisibleDeprecationWarning: using a non-integer number instead of an integer will result in an error in the future\n",
      "/Users/jgzuke/anaconda3/lib/python3.5/site-packages/ipykernel/__main__.py:26: VisibleDeprecationWarning: using a non-integer number instead of an integer will result in an error in the future\n",
      "/Users/jgzuke/anaconda3/lib/python3.5/site-packages/ipykernel/__main__.py:27: VisibleDeprecationWarning: using a non-integer number instead of an integer will result in an error in the future\n"
     ]
    },
    {
     "name": "stdout",
     "output_type": "stream",
     "text": [
      "Saving calculated beats for a_test~A\n"
     ]
    }
   ],
   "source": [
    "#song_data = load_all_songs(False)\n",
    "\n",
    "import copy\n",
    "song = load_song('a_test', 'A', True)\n",
    "song2 = copy.deepcopy(song)\n",
    "song3 = copy.deepcopy(song)\n",
    "song2.name = 'A2'\n",
    "song3.name = 'A3'\n",
    "song2.stepfile = 'StepMania/Songs/{0}/{1}/{1}.ssc'.format('a_test', 'A2')\n",
    "song3.stepfile = 'StepMania/Songs/{0}/{1}/{1}.ssc'.format('a_test', 'A3')"
   ]
  },
  {
   "cell_type": "code",
   "execution_count": 1102,
   "metadata": {
    "collapsed": false
   },
   "outputs": [],
   "source": [
    "step_song(song)\n",
    "#step_song(song2)\n",
    "#step_song(song3)"
   ]
  },
  {
   "cell_type": "code",
   "execution_count": 20,
   "metadata": {
    "collapsed": false
   },
   "outputs": [
    {
     "name": "stdout",
     "output_type": "stream",
     "text": [
      "Calculating beats for a_test~WeBelongTogether\n"
     ]
    },
    {
     "name": "stderr",
     "output_type": "stream",
     "text": [
      "/Users/jgzuke/anaconda3/lib/python3.5/site-packages/ipykernel/__main__.py:25: VisibleDeprecationWarning: using a non-integer number instead of an integer will result in an error in the future\n"
     ]
    },
    {
     "name": "stdout",
     "output_type": "stream",
     "text": [
      "Saving calculated beats for a_test~WeBelongTogether\n",
      "Calculating beats for a_test~CallMeBaby\n",
      "Saving calculated beats for a_test~CallMeBaby\n"
     ]
    }
   ],
   "source": [
    "#song = load_song('a_test', 'A', True)\n",
    "#song2 = load_song('a_test', 'Fire', True)\n",
    "#song3 = load_song('a_test', 'WeBelongTogether', True)\n",
    "#song4 = load_song('a_test', 'CallMeBaby', True)"
   ]
  },
  {
   "cell_type": "code",
   "execution_count": 23,
   "metadata": {
    "collapsed": false
   },
   "outputs": [],
   "source": [
    "backup1 = copy.deepcopy(song)\n",
    "backup2 = copy.deepcopy(song2)\n",
    "backup3 = copy.deepcopy(song3)\n",
    "backup4 = copy.deepcopy(song4)"
   ]
  },
  {
   "cell_type": "code",
   "execution_count": 26,
   "metadata": {
    "collapsed": false
   },
   "outputs": [],
   "source": [
    "y_harmonic, y_percussive = librosa.effects.hpss(song.data)"
   ]
  },
  {
   "cell_type": "code",
   "execution_count": 53,
   "metadata": {
    "collapsed": false
   },
   "outputs": [],
   "source": [
    "beat_frames = librosa.samples_to_frames(song.indices)"
   ]
  },
  {
   "cell_type": "code",
   "execution_count": 44,
   "metadata": {
    "collapsed": false
   },
   "outputs": [],
   "source": [
    "# Compute MFCC features from the raw signal\n",
    "mfcc = librosa.feature.mfcc(y=song.data, sr=sr, hop_length=512, n_mfcc=13)"
   ]
  },
  {
   "cell_type": "code",
   "execution_count": 31,
   "metadata": {
    "collapsed": true
   },
   "outputs": [],
   "source": [
    "# And the first-order differences (delta features)\n",
    "mfcc_delta = librosa.feature.delta(mfcc)"
   ]
  },
  {
   "cell_type": "code",
   "execution_count": 54,
   "metadata": {
    "collapsed": false
   },
   "outputs": [],
   "source": [
    "# Stack and synchronize between beat events\n",
    "# This time, we'll use the mean value (default) instead of median\n",
    "beat_mfcc_delta = librosa.feature.sync(np.vstack([mfcc, mfcc_delta]), beat_frames)"
   ]
  },
  {
   "cell_type": "code",
   "execution_count": 34,
   "metadata": {
    "collapsed": false
   },
   "outputs": [
    {
     "name": "stderr",
     "output_type": "stream",
     "text": [
      "/Users/jgzuke/anaconda3/lib/python3.5/site-packages/numpy/core/numeric.py:482: VisibleDeprecationWarning: using a non-integer number instead of an integer will result in an error in the future\n",
      "  return array(a, dtype, copy=False, order=order)\n"
     ]
    }
   ],
   "source": [
    "# Compute chroma features from the harmonic signal\n",
    "chromagram = librosa.feature.chroma_cqt(y=y_harmonic, sr=sr)"
   ]
  },
  {
   "cell_type": "code",
   "execution_count": 55,
   "metadata": {
    "collapsed": true
   },
   "outputs": [],
   "source": [
    "# Aggregate chroma features between beat events\n",
    "# We'll use the median value of each feature between beat frames\n",
    "beat_chroma = librosa.feature.sync(chromagram, beat_frames, aggregate=np.median)"
   ]
  },
  {
   "cell_type": "code",
   "execution_count": 56,
   "metadata": {
    "collapsed": true
   },
   "outputs": [],
   "source": [
    "# Finally, stack all beat-synchronous features together\n",
    "beat_features = np.vstack([beat_chroma, beat_mfcc_delta])"
   ]
  },
  {
   "cell_type": "code",
   "execution_count": 57,
   "metadata": {
    "collapsed": false
   },
   "outputs": [
    {
     "name": "stdout",
     "output_type": "stream",
     "text": [
      "38\n",
      "37761\n"
     ]
    }
   ],
   "source": [
    "print (len(beat_features))\n",
    "print (len(beat_features[0]))"
   ]
  },
  {
   "cell_type": "code",
   "execution_count": 43,
   "metadata": {
    "collapsed": false
   },
   "outputs": [
    {
     "data": {
      "text/plain": [
       "37760"
      ]
     },
     "execution_count": 43,
     "metadata": {},
     "output_type": "execute_result"
    }
   ],
   "source": [
    "len(beat_frames)"
   ]
  },
  {
   "cell_type": "code",
   "execution_count": 49,
   "metadata": {
    "collapsed": false
   },
   "outputs": [
    {
     "data": {
      "text/plain": [
       "33659324"
      ]
     },
     "execution_count": 49,
     "metadata": {},
     "output_type": "execute_result"
    }
   ],
   "source": [
    "len(song.data)"
   ]
  },
  {
   "cell_type": "code",
   "execution_count": null,
   "metadata": {
    "collapsed": true
   },
   "outputs": [],
   "source": []
  }
 ],
 "metadata": {
  "anaconda-cloud": {},
  "kernelspec": {
   "display_name": "Python 3",
   "language": "python",
   "name": "python3"
  },
  "language_info": {
   "codemirror_mode": {
    "name": "ipython",
    "version": 3
   },
   "file_extension": ".py",
   "mimetype": "text/x-python",
   "name": "python",
   "nbconvert_exporter": "python",
   "pygments_lexer": "ipython3",
   "version": "3.5.1"
  }
 },
 "nbformat": 4,
 "nbformat_minor": 0
}
