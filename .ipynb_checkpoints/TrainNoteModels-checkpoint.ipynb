{
 "cells": [
  {
   "cell_type": "code",
   "execution_count": 1,
   "metadata": {
    "collapsed": false
   },
   "outputs": [
    {
     "name": "stderr",
     "output_type": "stream",
     "text": [
      "Using Theano backend.\n"
     ]
    }
   ],
   "source": [
    "import pandas as pd\n",
    "import numpy as np\n",
    "import random\n",
    "import gc\n",
    "from os import listdir\n",
    "from keras.models import Sequential, load_model\n",
    "from keras.layers import Dense, Activation, Dropout, BatchNormalization, LSTM\n",
    "from sklearn.preprocessing import MinMaxScaler"
   ]
  },
  {
   "cell_type": "code",
   "execution_count": 2,
   "metadata": {
    "collapsed": false
   },
   "outputs": [],
   "source": [
    "import copy\n",
    "import pandas as pd\n",
    "import numpy as np\n",
    "import librosa\n",
    "import seaborn as sb\n",
    "import matplotlib.pyplot as plt\n",
    "import itertools\n",
    "import re\n",
    "import random\n",
    "import gc\n",
    "import math\n",
    "import os\n",
    "from sklearn.utils import shuffle\n",
    "from operator import itemgetter, attrgetter, methodcaller\n",
    "from os import listdir\n",
    "from os.path import isfile, join\n",
    "from numpy import median, diff\n",
    "from xgboost import XGBClassifier\n",
    "from keras.models import Sequential, load_model\n",
    "from keras.layers import Dense, Activation, Dropout, BatchNormalization\n",
    "from sklearn.cross_validation import train_test_split, cross_val_score\n",
    "from sklearn.externals import joblib\n",
    "from sklearn.linear_model import SGDClassifier\n",
    "from sklearn.ensemble import RandomForestClassifier\n",
    "from mlxtend.classifier import EnsembleVoteClassifier\n",
    "np.random.seed(0)"
   ]
  },
  {
   "cell_type": "markdown",
   "metadata": {},
   "source": [
    "### TODOS\n",
    "- generate percent of single double notes etc with a nn"
   ]
  },
  {
   "cell_type": "markdown",
   "metadata": {},
   "source": [
    "## Classes\n",
    "- 0: one note\n",
    "- 1: two notes\n",
    "- 2: three or four notes\n",
    "- 3: hold start\n",
    "- 4: roll start\n",
    "- 5: mine"
   ]
  },
  {
   "cell_type": "code",
   "execution_count": 3,
   "metadata": {
    "collapsed": false
   },
   "outputs": [],
   "source": [
    "songs_to_use_full = pd.read_csv('data/songs_to_use.csv').values\n",
    "save_files = listdir('data')\n",
    "songs_to_use = [song_data for song_data in songs_to_use_full if '{0}_misc.csv'.format(song_data[0]) in save_files]\n",
    "np.random.shuffle(songs_to_use)"
   ]
  },
  {
   "cell_type": "code",
   "execution_count": 4,
   "metadata": {
    "collapsed": true
   },
   "outputs": [],
   "source": [
    "def get_class_for_index_expanded(notes, index):\n",
    "    if index < 0:\n",
    "        return [0, 0, 0, 0, 0, 0]\n",
    "    row = notes[index][0]\n",
    "    (steps, holds, rolls, mines) = [row.count(char) for char in ['1', '2', '4', 'M']]\n",
    "    if steps == 0 and mines == 0 and holds == 0 and rolls == 0:\n",
    "        return [0, 0, 0, 0, 0, 0]\n",
    "    steps += (holds + rolls)\n",
    "    return [int(i) for i in [steps == 1, steps == 2, steps > 2, holds > 0, rolls > 0, mines > 0]]\n",
    "\n",
    "def get_class_for_index(notes, index):\n",
    "    classes_expanded = get_class_for_index_expanded(notes, index)\n",
    "    return [i for i in range(6) if classes_expanded[i]]"
   ]
  },
  {
   "cell_type": "code",
   "execution_count": 5,
   "metadata": {
    "collapsed": true
   },
   "outputs": [],
   "source": [
    "steps_per_bar = 48\n",
    "class SongFile:\n",
    "    def __init__(self, key):\n",
    "        misc = pd.read_csv('data/{0}_misc.csv'.format(key)).values\n",
    "        self.bpm = misc[1][0]\n",
    "        self.notes = pd.read_csv('data/{0}_notes.csv'.format(key), converters={'0': lambda x: str(x)}).values\n",
    "        self.note_classes = [get_class_for_index_expanded(self.notes, i) for i in range(len(self.notes))]"
   ]
  },
  {
   "cell_type": "code",
   "execution_count": 6,
   "metadata": {
    "collapsed": false
   },
   "outputs": [],
   "source": [
    "beats_to_track = 48\n",
    "note_types = ['1', 'M', '2', '4', '3']\n",
    "def get_features_for_row(row):\n",
    "    return [int(char == target) for target in note_types for char in row]\n",
    "\n",
    "empty_row = [0, 0, 0, 0, 0, 0, 0, 0, 0, 0, 0, 0, 0, 0, 0, 0, 0, 0, 0, 0]\n",
    "def get_previous_notes(index, features):\n",
    "    previous_notes = [features[i] for i in range(index, index + song_padding) if not np.array_equal(features[i], empty_row)]\n",
    "    return [empty_row] * (8 - len(previous_notes)) + previous_notes[-8:]\n",
    "    \n",
    "song_padding = beats_to_track * 2\n",
    "song_end_padding = beats_to_track * 2\n",
    "important_indices = [1, 2, 3, 4, 8, 16, 20, 6, 12, 18, 24, 30, 36, 42, 48, 54, 60, 66, 72, 78, 84, 90, 96]\n",
    "important_indices_classes = [-96, -84, -72, -60, -48, -36, -24, -12, 0, 1, 2, 3, 4, 8, 16, 20, 6, 12, 18, 24, 30, 36, 42, 48, 54, 60, 66, 72, 78, 84, 90, 96]\n",
    "def get_features(index, features, note_classes):\n",
    "    indices = [index + song_padding - i for i in important_indices]\n",
    "    indices_classes = [index + song_padding - i for i in important_indices_classes]\n",
    "    past_classes = np.array([note_classes[i] for i in indices_classes]).flatten()\n",
    "    past_features = np.array([features[i] for i in indices]).flatten()\n",
    "    previous_notes = np.array(get_previous_notes(index, features)).flatten()\n",
    "    return np.concatenate((past_classes, past_features, previous_notes), axis = 0)"
   ]
  },
  {
   "cell_type": "code",
   "execution_count": 7,
   "metadata": {
    "collapsed": false
   },
   "outputs": [],
   "source": [
    "def get_model_output_for_class(model_class, row):\n",
    "    if model_class == 0 or model_class == 1 or model_class == 2:\n",
    "        return [int(char == '1' or char == '2' or char == '4') for char in row]\n",
    "    if model_class == 3:\n",
    "        return [int(char == '2') for char in row]\n",
    "    if model_class == 4:\n",
    "        return [int(char == '4') for char in row]\n",
    "    if model_class == 5:\n",
    "        return [int(char == 'M') for char in row]\n",
    "\n",
    "def get_hold_length(notes, note_row, note_column):\n",
    "    i = 0\n",
    "    while i < len(notes) - note_row:\n",
    "        if notes[note_row + i][0][note_column] == '3':\n",
    "            return i\n",
    "        i += 1\n",
    "    return False"
   ]
  },
  {
   "cell_type": "code",
   "execution_count": 8,
   "metadata": {
    "collapsed": false
   },
   "outputs": [],
   "source": [
    "def get_features_for_songs(songs):\n",
    "    hold_X = []\n",
    "    roll_X = []\n",
    "    hold_y = []\n",
    "    roll_y = []\n",
    "    X = [[] for i in range(6)]\n",
    "    y = [[] for i in range(6)]\n",
    "    for song in songs:\n",
    "        note_classes = np.concatenate((([[0, 0, 0, 0, 0, 0]] * song_padding), song.note_classes, ([[0, 0, 0, 0, 0, 0]] * song_end_padding)), axis = 0)\n",
    "        notes = np.concatenate((([['0000']] * song_padding), song.notes), axis = 0)\n",
    "        if abs(len(note_classes) - len(notes) > 250):\n",
    "            print ('Lengths dont match for {0}'.format(key))\n",
    "            print ('{0} vs {1}'.format(len(note_classes), len(notes)))\n",
    "            continue\n",
    "        length = min(len(note_classes) - song_padding - song_end_padding, len(notes) - song_padding)\n",
    "        features = np.array([get_features_for_row(notes[i][0]) for i in range(0, length + song_padding)])\n",
    "        for i in range(length):\n",
    "            row = notes[i + song_padding][0]\n",
    "            model_classes = get_class_for_index(notes, i + song_padding)\n",
    "            for model_class in model_classes:\n",
    "                X_row = get_features(i, features, note_classes)\n",
    "                X[model_class].append(X_row)\n",
    "                y[model_class].append(get_model_output_for_class(model_class, row))\n",
    "                \n",
    "                if model_class == 3:\n",
    "                    for j in range(4):\n",
    "                        if row[j] == '2':\n",
    "                            length = get_hold_length(notes, i + song_padding, j)\n",
    "                            if length:\n",
    "                                hold_X.append(X_row)\n",
    "                                hold_y.append(length)\n",
    "                if model_class == 4:\n",
    "                    for j in range(4):\n",
    "                        if row[j] == '4':\n",
    "                            length = get_hold_length(notes, i + song_padding, j)\n",
    "                            if length:\n",
    "                                roll_X.append(X_row)\n",
    "                                roll_y.append(length)\n",
    "\n",
    "    X = [np.array(X_for_class) for X_for_class in X]\n",
    "    y = [np.array(y_for_class) for y_for_class in y]\n",
    "    return X, y, np.array(hold_X), np.array(hold_y), np.array(roll_X), np.array(roll_y)"
   ]
  },
  {
   "cell_type": "code",
   "execution_count": 9,
   "metadata": {
    "collapsed": false
   },
   "outputs": [
    {
     "name": "stdout",
     "output_type": "stream",
     "text": [
      "CPU times: user 3.77 s, sys: 176 ms, total: 3.94 s\n",
      "Wall time: 4.13 s\n"
     ]
    }
   ],
   "source": [
    "%%time\n",
    "songs = [SongFile(song_data[0]) for song_data in songs_to_use]\n",
    "X_array, y_array, hold_X, hold_y, roll_X, roll_y = get_features_for_songs(songs[:1]) # total 217"
   ]
  },
  {
   "cell_type": "code",
   "execution_count": 13,
   "metadata": {
    "collapsed": false
   },
   "outputs": [
    {
     "data": {
      "text/plain": [
       "812"
      ]
     },
     "execution_count": 13,
     "metadata": {},
     "output_type": "execute_result"
    }
   ],
   "source": [
    "len(X_array[0][0])"
   ]
  },
  {
   "cell_type": "code",
   "execution_count": 238,
   "metadata": {
    "collapsed": false
   },
   "outputs": [
    {
     "name": "stdout",
     "output_type": "stream",
     "text": [
      "CPU times: user 2min 27s, sys: 4.19 s, total: 2min 31s\n",
      "Wall time: 2min 47s\n"
     ]
    }
   ],
   "source": [
    "%%time\n",
    "songs = [SongFile(song_data[0]) for song_data in songs_to_use]\n",
    "X_array, y_array, hold_X, hold_y, roll_X, roll_y = get_features_for_songs(songs) # total 217"
   ]
  },
  {
   "cell_type": "code",
   "execution_count": 235,
   "metadata": {
    "collapsed": false
   },
   "outputs": [],
   "source": [
    "model = Sequential()\n",
    "\n",
    "model.add(Dense(512, input_dim=812))\n",
    "model.add(BatchNormalization())\n",
    "model.add(Activation('relu'))\n",
    "model.add(Dropout(0.8))\n",
    "\n",
    "model.add(Dense(1))\n",
    "\n",
    "model.compile(loss='mse',\n",
    "              optimizer='adagrad')\n",
    "\n",
    "model.fit(hold_X, hold_y, nb_epoch=8, batch_size=32, verbose=0)\n",
    "model.save('models/hold_length_model.h5')"
   ]
  },
  {
   "cell_type": "code",
   "execution_count": 236,
   "metadata": {
    "collapsed": false
   },
   "outputs": [],
   "source": [
    "model = Sequential()\n",
    "\n",
    "model.add(Dense(256, input_dim=812))\n",
    "model.add(BatchNormalization())\n",
    "model.add(Activation('relu'))\n",
    "model.add(Dropout(0.8))\n",
    "\n",
    "model.add(Dense(1))\n",
    "\n",
    "model.compile(loss='mse',\n",
    "              optimizer='adagrad')\n",
    "\n",
    "model.fit(roll_X, roll_y, nb_epoch=40, batch_size=16, verbose=0)\n",
    "model.save('models/roll_length_model.h5')"
   ]
  },
  {
   "cell_type": "code",
   "execution_count": 239,
   "metadata": {
    "collapsed": false
   },
   "outputs": [],
   "source": [
    "class_arrays = [\n",
    "    ['1000', '0100', '0010', '0001'],\n",
    "    ['1100', '1010', '1001', '0110', '0101', '0011'],\n",
    "    ['1110', '1101', '1011', '0111', '1111'],\n",
    "    ['1000', '0100', '0010', '0001', '2', '3', '4'],\n",
    "    ['1000', '0100', '0010', '0001', '2', '3', '4'],\n",
    "    ['1000', '0100', '0010', '0001', '2', '3', '4'],\n",
    "]\n",
    "class_maps = [dict((class_array[i], i) for i in range(len(class_array))) for class_array in class_arrays]\n",
    "def get_class(class_map, y_row):\n",
    "    as_string = ''.join(str(x) for x in y_row)\n",
    "    pos_count = as_string.count('1')\n",
    "    return class_map[str(pos_count)] if '2' in class_map and pos_count > 1 else class_map[as_string]\n",
    "\n",
    "def get_y_not_one_hot(y):\n",
    "    return [[get_class(class_map, y_row) for y_row in y_section] for class_map, y_section in zip(class_maps, y)]"
   ]
  },
  {
   "cell_type": "code",
   "execution_count": 240,
   "metadata": {
    "collapsed": false
   },
   "outputs": [],
   "source": [
    "y_class_array = get_y_not_one_hot(y_array)"
   ]
  },
  {
   "cell_type": "markdown",
   "metadata": {},
   "source": [
    "# Note Models"
   ]
  },
  {
   "cell_type": "code",
   "execution_count": 257,
   "metadata": {
    "collapsed": false
   },
   "outputs": [
    {
     "name": "stdout",
     "output_type": "stream",
     "text": [
      "0.529438368555\n",
      "0.945452102647\n",
      "0.8\n",
      "0.621385176185\n",
      "0.98023715415\n",
      "0.745413870246\n",
      "CPU times: user 36min 13s, sys: 14.7 s, total: 36min 28s\n",
      "Wall time: 10min 13s\n"
     ]
    }
   ],
   "source": [
    "%%time\n",
    "max_depths = [7, 9, 3, 6, 5, 5]\n",
    "min_child_weights = [3, 3, 3, 3, 3, 3]\n",
    "num_estimators = [120, 120, 60, 50, 75, 90]\n",
    "for max_depth, min_child_weight, n_estimators, X, y, i in zip(max_depths, min_child_weights, num_estimators, X_array, y_class_array, range(6)):\n",
    "    xgb_clf = XGBClassifier(max_depth=max_depth, min_child_weight=min_child_weight, learning_rate=0.1, n_estimators=n_estimators, subsample=0.70, colsample_bytree=0.70, objective=\"multi:softprob\")\n",
    "    xgb_clf.fit(X, y)\n",
    "    print (xgb_clf.score(X, y))\n",
    "    joblib.dump(xgb_clf, 'models/note_class_xgb/clf_{0}.pkl'.format(i))"
   ]
  },
  {
   "cell_type": "code",
   "execution_count": null,
   "metadata": {
    "collapsed": true
   },
   "outputs": [],
   "source": []
  }
 ],
 "metadata": {
  "kernelspec": {
   "display_name": "Python 3",
   "language": "python",
   "name": "python3"
  },
  "language_info": {
   "codemirror_mode": {
    "name": "ipython",
    "version": 3
   },
   "file_extension": ".py",
   "mimetype": "text/x-python",
   "name": "python",
   "nbconvert_exporter": "python",
   "pygments_lexer": "ipython3",
   "version": "3.5.1"
  }
 },
 "nbformat": 4,
 "nbformat_minor": 0
}
