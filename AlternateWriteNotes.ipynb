{
 "cells": [
  {
   "cell_type": "code",
   "execution_count": 1,
   "metadata": {
    "collapsed": false
   },
   "outputs": [
    {
     "name": "stderr",
     "output_type": "stream",
     "text": [
      "Using Theano backend.\n"
     ]
    }
   ],
   "source": [
    "from __future__ import print_function\n",
    "import copy\n",
    "import pandas as pd\n",
    "import numpy as np\n",
    "import librosa\n",
    "import seaborn as sb\n",
    "import matplotlib.pyplot as plt\n",
    "import itertools\n",
    "import re\n",
    "import random\n",
    "import gc\n",
    "import os\n",
    "from os import listdir\n",
    "from os.path import isfile, join\n",
    "from numpy import median, diff\n",
    "from keras.models import Sequential, load_model\n",
    "from keras.layers import Dense, Activation, Dropout, BatchNormalization"
   ]
  },
  {
   "cell_type": "markdown",
   "metadata": {},
   "source": [
    "# Instead of training models for each note\n",
    "- decide which will have notes, for now pick x with one, y with another (train model for this + holds, hands, mines, rolls etc later)\n",
    "- for each note that will have something, decide what combo it has (train from prev notes (not all 48, pick more relevant ones)) (4 for one note, 6 for 2, 4 for 3) and pick highest class"
   ]
  },
  {
   "cell_type": "code",
   "execution_count": 2,
   "metadata": {
    "collapsed": true
   },
   "outputs": [],
   "source": [
    "steps_per_bar = 48\n",
    "class SongFile:\n",
    "    def __init__(self, key, folder, stepfile, music_file):\n",
    "        misc = pd.read_csv('data/{0}_misc.csv'.format(key)).values\n",
    "        self.beat_importance = pd.read_csv('generated_data/{0}_importance_generated.csv'.format(key), converters={'0': lambda x: float(x)}).values\n",
    "        self.notes = pd.read_csv('data/{0}_notes.csv'.format(key), converters={'0': lambda x: str(x)}).values\n",
    "        self.folder = folder\n",
    "        self.name = key.split('~')[1]\n",
    "        self.music_name = music_file\n",
    "        self.stepfile_name = stepfile\n",
    "        self.offset = misc[0][0]\n",
    "        self.beat_length = 60. / misc[1][0]\n",
    "        self.bpm = misc[1][0]\n",
    "        self.extension = music_file.split('.')[1]"
   ]
  },
  {
   "cell_type": "code",
   "execution_count": 3,
   "metadata": {
    "collapsed": true
   },
   "outputs": [],
   "source": [
    "songs_to_use = pd.read_csv('data/songs_to_use.csv').values\n",
    "save_files = listdir('data')\n",
    "save_files_generated = listdir('generated_data')\n",
    "songs = {}\n",
    "for song_data in songs_to_use:\n",
    "    key = song_data[0]\n",
    "    if '{0}_misc.csv'.format(key) in save_files and '{0}_importance_generated.csv'.format(key) in save_files_generated:\n",
    "        songs[key] = SongFile(key, song_data[1], song_data[2], song_data[3])"
   ]
  },
  {
   "cell_type": "code",
   "execution_count": 4,
   "metadata": {
    "collapsed": true
   },
   "outputs": [],
   "source": [
    "beats_to_track = 48\n",
    "num_classes = 3\n",
    "class_map_one_note = {\n",
    "    '1000': 0,\n",
    "    '0100': 1,\n",
    "    '0010': 2,\n",
    "    '0001': 3\n",
    "}\n",
    "\n",
    "class_map_two_notes = {\n",
    "    '1001': 0,\n",
    "    '0110': 1,\n",
    "    '1100': 2,\n",
    "    '1010': 3,\n",
    "    '0101': 4,\n",
    "    '0011': 5\n",
    "}\n",
    "\n",
    "def get_is_note(i, notes):\n",
    "    if i < 0:\n",
    "        return [0, 0, 0, 0]\n",
    "    return [char == '1' for char in notes[i][0]]\n",
    "\n",
    "def get_is_mine(i, notes):\n",
    "    if i < 0:\n",
    "        return [0, 0, 0, 0]\n",
    "    return [char == 'M' for char in notes[i][0]]\n",
    "\n",
    "def get_note_class(note):\n",
    "    if i < 0:\n",
    "        return 0\n",
    "    return class_map[note] if note in class_map else 0\n",
    "\n",
    "def get_row_classes(row):\n",
    "    return [get_note_class(note) for note in row[0]]"
   ]
  },
  {
   "cell_type": "code",
   "execution_count": 14,
   "metadata": {
    "collapsed": false
   },
   "outputs": [
    {
     "data": {
      "text/plain": [
       "0"
      ]
     },
     "execution_count": 14,
     "metadata": {},
     "output_type": "execute_result"
    }
   ],
   "source": [
    "songs['In The Groove~Oasis'].notes[0][0].count('1')"
   ]
  },
  {
   "cell_type": "code",
   "execution_count": null,
   "metadata": {
    "collapsed": true
   },
   "outputs": [],
   "source": [
    "# [12, 24, 36, 48, 6, 18, 4, 8, 1, 2, 3]\n",
    "X_one_note = []\n",
    "y_one_note = []\n",
    "X_two_notes = []\n",
    "y_two_notes = []\n",
    "for key in songs:\n",
    "    beat_importance = songs[key].beat_importance\n",
    "    notes = songs[key].notes\n",
    "    length = min(len(beat_importance), len(notes))\n",
    "    is_note = np.array([get_is_note(j, notes) for j in range(-beats_to_track, length)])\n",
    "    is_mine = np.array([get_is_note(j, notes) for j in range(-beats_to_track, length)])\n",
    "    importances = [0 if j < 0 else beat_importance[j][0] for j in range(-beats_to_track, length)]\n",
    "    for i in range(length):\n",
    "        steps = notes[i][0].count('1')\n",
    "        if notes[i][0].count('1')\n",
    "        \n",
    "        if get_row_classes(notes[i]) != [0, 0, 0, 0] or random.randint(0, 5) == 0:\n",
    "            X_row = np.concatenate((is_note[i:i + beats_to_track - 1].flatten(), is_mine[i:i + beats_to_track - 1].flatten(), importances[i:i + beats_to_track]), axis=0)\n",
    "            X.append(X_row)\n",
    "            y.append(get_row_classes(notes[i]))\n",
    "\n",
    "X = np.array(X)\n",
    "y = np.array(y)"
   ]
  },
  {
   "cell_type": "code",
   "execution_count": 5,
   "metadata": {
    "collapsed": true
   },
   "outputs": [],
   "source": [
    "def build_model():\n",
    "    model = Sequential()\n",
    "\n",
    "    model.add(Dense(200, input_dim=424, init='uniform'))\n",
    "    model.add(BatchNormalization())\n",
    "    model.add(Activation('tanh'))\n",
    "    model.add(Dropout(0.5))\n",
    "\n",
    "    model.add(Dense(500, init='uniform'))\n",
    "    model.add(BatchNormalization())\n",
    "    model.add(Activation('tanh'))\n",
    "    model.add(Dropout(0.5))\n",
    "\n",
    "    model.add(Dense(500, init='uniform'))\n",
    "    model.add(BatchNormalization())\n",
    "    model.add(Activation('tanh'))\n",
    "    model.add(Dropout(0.5))\n",
    "\n",
    "    model.add(Dense(num_classes, init='uniform'))\n",
    "    model.add(BatchNormalization())\n",
    "    model.add(Activation('softmax'))\n",
    "\n",
    "    model.compile(loss='categorical_crossentropy',\n",
    "                               optimizer='adadelta',\n",
    "                               metrics=['accuracy'])\n",
    "    \n",
    "    return model"
   ]
  },
  {
   "cell_type": "code",
   "execution_count": null,
   "metadata": {
    "collapsed": true
   },
   "outputs": [],
   "source": [
    "#TODO: build models for either side instead of one left one right\n",
    "def train_models(should_calculate, save_path):\n",
    "    models = []\n",
    "    for i in range(4):\n",
    "        if should_calculate:\n",
    "            y_transformed = [row[i] for row in y]\n",
    "            y_one_hot = np.zeros((len(y_transformed), num_classes))\n",
    "            y_one_hot[np.arange(len(y_transformed)), y_transformed] = 1\n",
    "\n",
    "            models.append(build_model())\n",
    "            models[i].fit(np.array(X)[:50000], np.array(y_one_hot)[:50000], nb_epoch=3, batch_size=10)\n",
    "            models[i].save(save_path.format(i))\n",
    "        else:\n",
    "            models.append(load_model(save_path.format(i)))\n",
    "    return models"
   ]
  }
 ],
 "metadata": {
  "kernelspec": {
   "display_name": "Python 3",
   "language": "python",
   "name": "python3"
  },
  "language_info": {
   "codemirror_mode": {
    "name": "ipython",
    "version": 3
   },
   "file_extension": ".py",
   "mimetype": "text/x-python",
   "name": "python",
   "nbconvert_exporter": "python",
   "pygments_lexer": "ipython3",
   "version": "3.5.1"
  }
 },
 "nbformat": 4,
 "nbformat_minor": 0
}
