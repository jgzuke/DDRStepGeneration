{
 "cells": [
  {
   "cell_type": "code",
   "execution_count": 1,
   "metadata": {
    "collapsed": false
   },
   "outputs": [
    {
     "name": "stderr",
     "output_type": "stream",
     "text": [
      "Using Theano backend.\n"
     ]
    }
   ],
   "source": [
    "import pandas as pd\n",
    "import numpy as np\n",
    "import random\n",
    "import gc\n",
    "from os import listdir\n",
    "from keras.models import Sequential, load_model\n",
    "from keras.layers import Dense, Activation, Dropout, BatchNormalization, LSTM\n",
    "from sklearn.preprocessing import MinMaxScaler\n",
    "np.random.seed(0)"
   ]
  },
  {
   "cell_type": "markdown",
   "metadata": {},
   "source": [
    "# Note types\n",
    "- 0: nothing\n",
    "- 1: step\n",
    "- 2: hold start\n",
    "- 3: hold/roll end\n",
    "- 4: roll start\n",
    "- M: mine\n",
    "\n",
    "# Classes\n",
    "- 0: nothing\n",
    "- 1: one note\n",
    "- 2: two notes\n",
    "- 3: three or four notes\n",
    "- 4: hold start\n",
    "- 5: roll start\n",
    "- 6: mine"
   ]
  },
  {
   "cell_type": "code",
   "execution_count": 11,
   "metadata": {
    "collapsed": false
   },
   "outputs": [],
   "source": [
    "samples_back_included_indices = [0, 1, 2, 3, 4, 6, 8, 9, 12, 16, 24, 36, 48]\n",
    "samples_back_included = len(samples_back_included_indices)\n",
    "num_classes = 7\n",
    "num_features = 44\n",
    "num_features_total = (num_features * samples_back_included)\n",
    "save_files = listdir('data')\n",
    "\n",
    "def get_features_for_index(beat_features, index):\n",
    "    return beat_features[index] if index >= 0 else [0] * num_features\n",
    "\n",
    "def get_class_for_index_expanded(notes, index):\n",
    "    if index < 0:\n",
    "        return [1, 0, 0, 0, 0, 0, 0]\n",
    "    row = notes[index][0]\n",
    "    (steps, holds, rolls, mines) = [row.count(char) for char in ['1', '2', '4', 'M']]\n",
    "    if steps == 0 and mines == 0 and holds == 0 and rolls == 0:\n",
    "        return [1, 0, 0, 0, 0, 0, 0]\n",
    "    steps += (holds + rolls)\n",
    "    return [int(i) for i in [False, steps == 1, steps == 2, steps > 2, holds > 0, rolls > 0, mines > 0]]\n",
    "\n",
    "def get_class_for_index(notes, index):\n",
    "    classes_expanded = get_class_for_index_expanded(notes, index)\n",
    "    return [i for i in range(7) if classes_expanded[i]]\n",
    "    \n",
    "importance_rankings = [48, 24, 12, 16, 6, 8, 3, 4, 2, 1]\n",
    "def get_beat_importance(index):\n",
    "    for i in range(len(importance_rankings)):\n",
    "        if index % importance_rankings[i] == 0:\n",
    "            return i\n",
    "\n",
    "def get_features_for_song(X, y, key):\n",
    "    if '{0}_beat_features.csv'.format(key) in save_files and '{0}_notes.csv'.format(key) in save_files:\n",
    "        beat_features_rotated = pd.read_csv('data/{0}_beat_features.csv'.format(key)).values\n",
    "        notes = pd.read_csv('data/{0}_notes.csv'.format(key), converters={'0': lambda x: str(x)}).values\n",
    "        beat_features = np.flipud(np.rot90(np.array(beat_features_rotated)))\n",
    "        num_notes = min(len(notes), len(beat_features))\n",
    "        new_beat_features = []\n",
    "        for beat_feature_row, i in zip(beat_features, range(len(beat_features))):\n",
    "            new_beat_feature_row = np.concatenate((beat_feature_row, [i % 48, get_beat_importance(i), i / 48, num_notes - i / 48]), axis=0)\n",
    "            new_beat_features.append(new_beat_feature_row)\n",
    "\n",
    "        for i in range(num_notes):\n",
    "            class_num = get_class_for_index_expanded(notes, i)\n",
    "            features = [feature for j in samples_back_included_indices for feature in get_features_for_index(new_beat_features, i - j)]\n",
    "            X.append(features)\n",
    "            y.append(class_num)\n",
    "\n",
    "def build_training_data(songs):\n",
    "    X = []\n",
    "    y = []\n",
    "    for song_data in songs:\n",
    "        get_features_for_song(X, y, song_data[0])\n",
    "    return np.array(X), np.array(y)"
   ]
  },
  {
   "cell_type": "code",
   "execution_count": null,
   "metadata": {
    "collapsed": true
   },
   "outputs": [],
   "source": [
    "# Total 243 songs\n",
    "songs_to_use = pd.read_csv('data/songs_to_use.csv').values\n",
    "np.random.shuffle(songs_to_use)"
   ]
  },
  {
   "cell_type": "code",
   "execution_count": 3,
   "metadata": {
    "collapsed": false
   },
   "outputs": [
    {
     "name": "stdout",
     "output_type": "stream",
     "text": [
      "CPU times: user 1min 27s, sys: 22.8 s, total: 1min 49s\n",
      "Wall time: 1min 59s\n"
     ]
    }
   ],
   "source": [
    "%%time\n",
    "X_train, y_train = build_training_data(songs_to_use[:194])\n",
    "X_test, y_test = build_training_data(songs_to_use[194:])\n",
    "\n",
    "scaler = MinMaxScaler(feature_range=(0, 1))\n",
    "X_train = scaler.fit_transform(X_train)\n",
    "X_test = scaler.transform(X_test)\n",
    "\n",
    "X_train = np.reshape(X_train, (X_train.shape[0], samples_back_included, num_features))\n",
    "X_test = np.reshape(X_test, (X_test.shape[0], samples_back_included, num_features))\n",
    "gc.collect()"
   ]
  },
  {
   "cell_type": "code",
   "execution_count": 4,
   "metadata": {
    "collapsed": false
   },
   "outputs": [
    {
     "name": "stdout",
     "output_type": "stream",
     "text": [
      "Train on 491968 samples, validate on 109248 samples\n",
      "Epoch 1/8\n",
      "491968/491968 [==============================] - 196s - loss: 0.8154 - acc: 0.8568 - val_loss: 0.5901 - val_acc: 0.8813\n",
      "Epoch 2/8\n",
      "491968/491968 [==============================] - 202s - loss: 0.5148 - acc: 0.8789 - val_loss: 0.4884 - val_acc: 0.8826\n",
      "Epoch 3/8\n",
      "491968/491968 [==============================] - 203s - loss: 0.4552 - acc: 0.8801 - val_loss: 0.4581 - val_acc: 0.8828\n",
      "Epoch 4/8\n",
      "491968/491968 [==============================] - 206s - loss: 0.4297 - acc: 0.8806 - val_loss: 0.4355 - val_acc: 0.8845\n",
      "Epoch 5/8\n",
      "491968/491968 [==============================] - 211s - loss: 0.4157 - acc: 0.8814 - val_loss: 0.4253 - val_acc: 0.8848\n",
      "Epoch 6/8\n",
      "491968/491968 [==============================] - 215s - loss: 0.4061 - acc: 0.8818 - val_loss: 0.4206 - val_acc: 0.8851\n",
      "Epoch 7/8\n",
      "491968/491968 [==============================] - 219s - loss: 0.3997 - acc: 0.8821 - val_loss: 0.4200 - val_acc: 0.8849\n",
      "Epoch 8/8\n",
      "491968/491968 [==============================] - 225s - loss: 0.3941 - acc: 0.8831 - val_loss: 0.4169 - val_acc: 0.8841\n",
      "109248/109248 [==============================] - 25s    \n",
      "[0.41685305384773919, 0.8840985647334505]\n",
      "CPU times: user 53min 2s, sys: 1min 26s, total: 54min 28s\n",
      "Wall time: 28min 39s\n"
     ]
    }
   ],
   "source": [
    "%%time\n",
    "model = Sequential()\n",
    "\n",
    "model.add(LSTM(128, batch_input_shape=[64, samples_back_included, num_features], stateful=True))\n",
    "model.add(BatchNormalization())\n",
    "model.add(Activation('softsign'))\n",
    "model.add(Dropout(0.2))\n",
    "\n",
    "model.add(Dense(num_classes))\n",
    "model.add(BatchNormalization())\n",
    "model.add(Activation('softmax'))\n",
    "\n",
    "model.compile(loss='categorical_crossentropy',\n",
    "              optimizer='adagrad',\n",
    "              metrics=['accuracy'])\n",
    "\n",
    "batch_size = 64\n",
    "train_cutoff = int(len(X_train) / batch_size) * batch_size\n",
    "test_cutoff = int(len(X_test) / batch_size) * batch_size\n",
    "model.fit(X_train[:train_cutoff], y_train[:train_cutoff], nb_epoch=8, batch_size=batch_size, verbose=1, validation_data=(X_test[:test_cutoff], y_test[:test_cutoff]))\n",
    "print (model.evaluate(X_test[:test_cutoff], y_test[:test_cutoff], batch_size=batch_size))"
   ]
  },
  {
   "cell_type": "markdown",
   "metadata": {},
   "source": [
    "# Full Model"
   ]
  },
  {
   "cell_type": "code",
   "execution_count": 15,
   "metadata": {
    "collapsed": false
   },
   "outputs": [
    {
     "name": "stdout",
     "output_type": "stream",
     "text": [
      "Epoch 1/8\n",
      "601216/601216 [==============================] - 343s - loss: 0.7671 - acc: 0.8603   \n",
      "Epoch 2/8\n",
      "601216/601216 [==============================] - 345s - loss: 0.4905 - acc: 0.8798   \n",
      "Epoch 3/8\n",
      "601216/601216 [==============================] - 345s - loss: 0.4410 - acc: 0.8807   \n",
      "Epoch 4/8\n",
      "601216/601216 [==============================] - 347s - loss: 0.4200 - acc: 0.8819   \n",
      "Epoch 5/8\n",
      "601216/601216 [==============================] - 346s - loss: 0.4080 - acc: 0.8827   \n",
      "Epoch 6/8\n",
      "601216/601216 [==============================] - 347s - loss: 0.4002 - acc: 0.8832   \n",
      "Epoch 7/8\n",
      "601216/601216 [==============================] - 347s - loss: 0.3941 - acc: 0.8841   \n",
      "Epoch 8/8\n",
      "601216/601216 [==============================] - 349s - loss: 0.3895 - acc: 0.8849   \n",
      "CPU times: user 1h 29min 30s, sys: 4min 38s, total: 1h 34min 8s\n",
      "Wall time: 52min 21s\n"
     ]
    }
   ],
   "source": [
    "%%time\n",
    "X, y = build_training_data(songs_to_use)\n",
    "\n",
    "scaler = MinMaxScaler(feature_range=(0, 1))\n",
    "X = scaler.fit_transform(X)\n",
    "\n",
    "X = np.reshape(X, (X.shape[0], samples_back_included, num_features))\n",
    "gc.collect()\n",
    "\n",
    "model = Sequential()\n",
    "\n",
    "model.add(LSTM(128, batch_input_shape=[64, samples_back_included, num_features], stateful=True))\n",
    "model.add(BatchNormalization())\n",
    "model.add(Activation('softsign'))\n",
    "model.add(Dropout(0.2))\n",
    "\n",
    "model.add(Dense(num_classes))\n",
    "model.add(BatchNormalization())\n",
    "model.add(Activation('softmax'))\n",
    "\n",
    "model.compile(loss='categorical_crossentropy',\n",
    "              optimizer='adagrad',\n",
    "              metrics=['accuracy'])\n",
    "\n",
    "cutoff = int(len(X) / batch_size) * batch_size\n",
    "model.fit(X[:cutoff], y[:cutoff], nb_epoch=8, batch_size=batch_size, verbose=1)\n",
    "model.save('models/song_class_model.h5')"
   ]
  },
  {
   "cell_type": "code",
   "execution_count": null,
   "metadata": {
    "collapsed": true
   },
   "outputs": [],
   "source": []
  }
 ],
 "metadata": {
  "anaconda-cloud": {},
  "kernelspec": {
   "display_name": "Python 3",
   "language": "python",
   "name": "python3"
  },
  "language_info": {
   "codemirror_mode": {
    "name": "ipython",
    "version": 3
   },
   "file_extension": ".py",
   "mimetype": "text/x-python",
   "name": "python",
   "nbconvert_exporter": "python",
   "pygments_lexer": "ipython3",
   "version": "3.5.1"
  }
 },
 "nbformat": 4,
 "nbformat_minor": 0
}
