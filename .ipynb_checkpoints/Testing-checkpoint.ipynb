{
 "cells": [
  {
   "cell_type": "code",
   "execution_count": 189,
   "metadata": {
    "collapsed": false
   },
   "outputs": [],
   "source": [
    "%matplotlib inline\n",
    "import pandas as pd\n",
    "import numpy as np\n",
    "import librosa\n",
    "import seaborn as sb\n",
    "import matplotlib.pyplot as plt\n",
    "import itertools\n",
    "from aubio import source, tempo\n",
    "from numpy import median, diff\n",
    "song_name = 'A'\n",
    "song_format = 'mp3'\n",
    "mp3_name = 'StepMania/Songs/StepMania 5/{0}/{0}.{1}'.format(song_name, song_format)\n",
    "stepfile_name = 'StepMania/Songs/StepMania 5/{0}/{0}.ssc'.format(song_name)"
   ]
  },
  {
   "cell_type": "code",
   "execution_count": 190,
   "metadata": {
    "collapsed": false
   },
   "outputs": [],
   "source": [
    "song_data, sample_rate = librosa.load(mp3_name, sr=22050*8)"
   ]
  },
  {
   "cell_type": "code",
   "execution_count": 191,
   "metadata": {
    "collapsed": false
   },
   "outputs": [],
   "source": [
    "tempo, beat_frames = librosa.beat.beat_track(y=song_data, sr=sample_rate)"
   ]
  },
  {
   "cell_type": "code",
   "execution_count": 192,
   "metadata": {
    "collapsed": false
   },
   "outputs": [],
   "source": [
    "beat_times = librosa.frames_to_time(beat_frames, sr=sample_rate)"
   ]
  },
  {
   "cell_type": "code",
   "execution_count": 215,
   "metadata": {
    "collapsed": false
   },
   "outputs": [],
   "source": [
    "def get_beats(beat_times, beat_frames):\n",
    "    changes = []\n",
    "    changes_time = []\n",
    "    for i in range(len(beat_frames) - 1):\n",
    "        changes.append(beat_frames[i + 1] - beat_frames[i])\n",
    "        changes_time.append(beat_times[i + 1] - beat_times[i])\n",
    "\n",
    "    changes.sort()\n",
    "    changes_time.sort()\n",
    "    median = changes[int(len(changes) / 2)]\n",
    "\n",
    "    changes_counted = [abs(change - median) < 2 for change in changes]\n",
    "    time_changes_counted = list(itertools.compress(changes_time, changes_counted))\n",
    "    average = sum(time_changes_counted) / len(time_changes_counted)\n",
    "    \n",
    "    buffer = 0\n",
    "    time_difference = beat_times[len(beat_times) - buffer - 1] - beat_times[buffer]\n",
    "    num_beats = round(time_difference / average)\n",
    "    new_average = time_difference / num_beats\n",
    "    return [(0, 60./new_average)]\n",
    "    \n",
    "def get_time_string(beat_times, beat_frames):\n",
    "    times = get_beats(beat_times)\n",
    "    time_strings = []\n",
    "    for time in times:\n",
    "        if time[0] != 0:\n",
    "            time_strings.append(',')\n",
    "        time_strings.append('{:}={:.3f}'.format(time[0], time[1]))\n",
    "    return ''.join(time_strings)\n",
    "\n",
    "def test_get_beats(beat_times, beat_frames):\n",
    "    a = get_beats(beat_times)\n",
    "    a.append((500, 1))\n",
    "    time = beat_times[0]\n",
    "    beat_times_mock = [time]\n",
    "    for i in range(len(a) - 1):\n",
    "        for j in range(a[i+1][0] - a[i][0]):\n",
    "            time += 60/a[i][1]\n",
    "            beat_times_mock.append(time)\n",
    "\n",
    "    beat_times_pd = pd.DataFrame(beat_times, columns=['VALUE'])\n",
    "    beat_times_pd['REAL'] = True\n",
    "    beat_times_pd\n",
    "    beat_times_mock_pd = pd.DataFrame(beat_times, columns=['VALUE'])\n",
    "    beat_times_mock_pd['REAL'] = False\n",
    "    both = beat_times_pd.append(beat_times_mock_pd)\n",
    "    both['BEAT']=both.index\n",
    "    linestyles = [\"--\", \"-\"]*390\n",
    "    fig, (ax) = plt.subplots(1,1, figsize=(20,7))\n",
    "    graph = sb.pointplot(x='BEAT', y='VALUE', hue='REAL', linestyles=linestyles, data=both, ax=ax)\n",
    "    \n",
    "#test_get_beats(beat_times)"
   ]
  },
  {
   "cell_type": "code",
   "execution_count": 216,
   "metadata": {
    "collapsed": true
   },
   "outputs": [],
   "source": [
    "def write_song_header(output_stepfile):\n",
    "    keys = ['VERSION', 'TITLE', 'MUSIC', 'OFFSET', 'SAMPLESTART', 'SAMPLELENGTH']\n",
    "    beat_to_start = 32\n",
    "    beats_to_play = 32\n",
    "    header_info = {\n",
    "        'VERSION': 0.82,\n",
    "        'TITLE': song_name,\n",
    "        'MUSIC': '{0}.mp3'.format(song_name),\n",
    "        'OFFSET': -0.090,\n",
    "        'SAMPLESTART': beat_times[beat_to_start],\n",
    "        'SAMPLELENGTH': 60*beats_to_play/tempo\n",
    "    }\n",
    "    for key in keys:\n",
    "        print (\"#{0}:{1};\".format(key, str(header_info[key])), file=output_stepfile)\n",
    "        \n",
    "def write_step_header(output_stepfile):\n",
    "    print(\"//---------------dance-single - ----------------\", file=output_stepfile)\n",
    "    keys = ['NOTEDATA', 'CHARTNAME', 'STEPSTYPE', 'DIFFICULTY', 'METER', 'RADARVALUES', 'BPMS']\n",
    "    step_info = {\n",
    "        'NOTEDATA': '',\n",
    "        'CHARTNAME': 'Kommisar',\n",
    "        'STEPSTYPE': 'dance-single',\n",
    "        'DIFFICULTY': 'Beginner',\n",
    "        'METER': 1,\n",
    "        'RADARVALUES': '0.234,0.292,0.008,0,0,211,212,1,0,0,0,0,0,0,0.234,0.292,0.008,0,0,211,212,1,0,0,0,0,0,0',\n",
    "        'BPMS': get_time_string(beat_times, beat_frames)\n",
    "    }\n",
    "    for key in keys:\n",
    "        print (\"#{0}:{1};\".format(key, str(step_info[key])), file=output_stepfile)\n",
    "        \n",
    "def write_notes(output_stepfile):\n",
    "    print (\"#NOTES:\", file=output_stepfile)\n",
    "    \n",
    "    for i in range(80):\n",
    "        print (\"0101\\n0001\\n0101\\n0001\\n,\", file=output_stepfile)\n",
    "    print (\"0000;\", file=output_stepfile)"
   ]
  },
  {
   "cell_type": "code",
   "execution_count": 217,
   "metadata": {
    "collapsed": false
   },
   "outputs": [],
   "source": [
    "output_stepfile=open(stepfile_name, 'w')\n",
    "from __future__ import print_function\n",
    "write_song_header(output_stepfile)\n",
    "write_step_header(output_stepfile)\n",
    "write_notes(output_stepfile)\n",
    "output_stepfile.close()"
   ]
  },
  {
   "cell_type": "code",
   "execution_count": null,
   "metadata": {
    "collapsed": false
   },
   "outputs": [],
   "source": []
  },
  {
   "cell_type": "code",
   "execution_count": 218,
   "metadata": {
    "collapsed": false
   },
   "outputs": [
    {
     "ename": "IndexError",
     "evalue": "index 275 is out of bounds for axis 0 with size 275",
     "output_type": "error",
     "traceback": [
      "\u001b[0;31m---------------------------------------------------------------------------\u001b[0m",
      "\u001b[0;31mIndexError\u001b[0m                                Traceback (most recent call last)",
      "\u001b[0;32m<ipython-input-218-f2fe386c2f4b>\u001b[0m in \u001b[0;36m<module>\u001b[0;34m()\u001b[0m\n\u001b[1;32m      2\u001b[0m \u001b[0mtempo2\u001b[0m\u001b[0;34m,\u001b[0m \u001b[0mbeat_frames2\u001b[0m \u001b[0;34m=\u001b[0m \u001b[0mlibrosa\u001b[0m\u001b[0;34m.\u001b[0m\u001b[0mbeat\u001b[0m\u001b[0;34m.\u001b[0m\u001b[0mbeat_track\u001b[0m\u001b[0;34m(\u001b[0m\u001b[0my\u001b[0m\u001b[0;34m=\u001b[0m\u001b[0msong_data2\u001b[0m\u001b[0;34m,\u001b[0m \u001b[0msr\u001b[0m\u001b[0;34m=\u001b[0m\u001b[0msample_rate2\u001b[0m\u001b[0;34m)\u001b[0m\u001b[0;34m\u001b[0m\u001b[0m\n\u001b[1;32m      3\u001b[0m \u001b[0mbeat_times2\u001b[0m \u001b[0;34m=\u001b[0m \u001b[0mlibrosa\u001b[0m\u001b[0;34m.\u001b[0m\u001b[0mframes_to_time\u001b[0m\u001b[0;34m(\u001b[0m\u001b[0mbeat_frames2\u001b[0m\u001b[0;34m,\u001b[0m \u001b[0msr\u001b[0m\u001b[0;34m=\u001b[0m\u001b[0msample_rate2\u001b[0m\u001b[0;34m)\u001b[0m\u001b[0;34m\u001b[0m\u001b[0m\n\u001b[0;32m----> 4\u001b[0;31m \u001b[0mget_beats\u001b[0m\u001b[0;34m(\u001b[0m\u001b[0mbeat_times2\u001b[0m\u001b[0;34m)\u001b[0m\u001b[0;34m\u001b[0m\u001b[0m\n\u001b[0m",
      "\u001b[0;32m<ipython-input-215-2da13a130abd>\u001b[0m in \u001b[0;36mget_beats\u001b[0;34m(beat_times)\u001b[0m\n\u001b[1;32m      4\u001b[0m     \u001b[0;32mfor\u001b[0m \u001b[0mi\u001b[0m \u001b[0;32min\u001b[0m \u001b[0mrange\u001b[0m\u001b[0;34m(\u001b[0m\u001b[0mlen\u001b[0m\u001b[0;34m(\u001b[0m\u001b[0mbeat_frames\u001b[0m\u001b[0;34m)\u001b[0m \u001b[0;34m-\u001b[0m \u001b[0;36m1\u001b[0m\u001b[0;34m)\u001b[0m\u001b[0;34m:\u001b[0m\u001b[0;34m\u001b[0m\u001b[0m\n\u001b[1;32m      5\u001b[0m         \u001b[0mchanges\u001b[0m\u001b[0;34m.\u001b[0m\u001b[0mappend\u001b[0m\u001b[0;34m(\u001b[0m\u001b[0mbeat_frames\u001b[0m\u001b[0;34m[\u001b[0m\u001b[0mi\u001b[0m \u001b[0;34m+\u001b[0m \u001b[0;36m1\u001b[0m\u001b[0;34m]\u001b[0m \u001b[0;34m-\u001b[0m \u001b[0mbeat_frames\u001b[0m\u001b[0;34m[\u001b[0m\u001b[0mi\u001b[0m\u001b[0;34m]\u001b[0m\u001b[0;34m)\u001b[0m\u001b[0;34m\u001b[0m\u001b[0m\n\u001b[0;32m----> 6\u001b[0;31m         \u001b[0mchanges_time\u001b[0m\u001b[0;34m.\u001b[0m\u001b[0mappend\u001b[0m\u001b[0;34m(\u001b[0m\u001b[0mbeat_times\u001b[0m\u001b[0;34m[\u001b[0m\u001b[0mi\u001b[0m \u001b[0;34m+\u001b[0m \u001b[0;36m1\u001b[0m\u001b[0;34m]\u001b[0m \u001b[0;34m-\u001b[0m \u001b[0mbeat_times\u001b[0m\u001b[0;34m[\u001b[0m\u001b[0mi\u001b[0m\u001b[0;34m]\u001b[0m\u001b[0;34m)\u001b[0m\u001b[0;34m\u001b[0m\u001b[0m\n\u001b[0m\u001b[1;32m      7\u001b[0m \u001b[0;34m\u001b[0m\u001b[0m\n\u001b[1;32m      8\u001b[0m     \u001b[0mchanges\u001b[0m\u001b[0;34m.\u001b[0m\u001b[0msort\u001b[0m\u001b[0;34m(\u001b[0m\u001b[0;34m)\u001b[0m\u001b[0;34m\u001b[0m\u001b[0m\n",
      "\u001b[0;31mIndexError\u001b[0m: index 275 is out of bounds for axis 0 with size 275"
     ]
    }
   ],
   "source": [
    "song_data2, sample_rate2 = librosa.load('StepMania/Songs/StepMania 5/B/B.ogg', sr=22050*8)\n",
    "tempo2, beat_frames2 = librosa.beat.beat_track(y=song_data2, sr=sample_rate2)\n",
    "beat_times2 = librosa.frames_to_time(beat_frames2, sr=sample_rate2)"
   ]
  },
  {
   "cell_type": "code",
   "execution_count": 220,
   "metadata": {
    "collapsed": false
   },
   "outputs": [
    {
     "data": {
      "text/plain": [
       "array([   0.43247166,    0.86204082,    1.29160998,    1.72117914,\n",
       "          2.28716553,    2.71963719,    3.14630385,    3.57587302,\n",
       "          4.00544218,    4.57433107,    5.00390023,    5.43056689,\n",
       "          5.72081633,    6.14748299,    6.57414966,    6.8614966 ,\n",
       "          7.29106576,    7.71482993,    8.00507937,    8.43174603,\n",
       "          8.79165533,    9.14866213,    9.57823129,   10.00489796,\n",
       "         10.43446712,   10.86403628,   11.29070295,   11.72027211,\n",
       "         12.14693878,   12.57650794,   13.14829932,   13.57496599,\n",
       "         14.00453515,   14.43410431,   14.86077098,   15.28743764,\n",
       "         15.57768707,   16.00435374,   16.4339229 ,   16.86349206,\n",
       "         17.29015873,   17.71972789,   18.14639456,   18.57596372,\n",
       "         19.00553288,   19.43219955,   19.86176871,   20.28843537,\n",
       "         20.57578231,   21.00535147,   21.43492063,   21.8615873 ,\n",
       "         22.29115646,   22.71782313,   23.14739229,   23.57696145,\n",
       "         24.00362812,   24.43029478,   24.72054422,   25.14430839,\n",
       "         25.43455782,   25.86122449,   26.29079365,   26.72036281,\n",
       "         27.14993197,   27.59401361,   28.0061678 ,   28.57505669,\n",
       "         29.00752834,   29.43419501,   29.86666667,   30.29043084,\n",
       "         30.72580499,   31.15827664,   31.58494331,   32.00580499,\n",
       "         32.43537415,   32.86494331,   33.30321995,   33.72117914,\n",
       "         34.29006803,   34.71963719,   35.14920635,   35.581678  ,\n",
       "         36.00544218,   36.57433107,   37.00680272,   37.43346939,\n",
       "         37.86013605,   38.29260771,   38.8614966 ,   39.29106576,\n",
       "         39.72063492,   40.15020408,   40.57687075,   41.14575964,\n",
       "         41.57823129,   42.00489796,   42.43736961,   42.86403628,\n",
       "         43.43292517,   43.86249433,   44.29206349,   44.71873016,\n",
       "         45.14829932,   45.569161  ,   46.00743764,   46.43410431,\n",
       "         46.86077098,   47.22068027,   47.57768707,   48.00145125,\n",
       "         48.4339229 ,   48.86058957,   49.29015873,   49.71972789,\n",
       "         50.14639456,   50.57596372,   51.00553288,   51.43219955,\n",
       "         51.78920635,   52.14911565,   52.57578231,   53.00535147,\n",
       "         53.43492063,   53.8644898 ,   54.29405896,   54.71782313,\n",
       "         55.15029478,   55.57696145,   56.00362812,   56.37514739,\n",
       "         56.72344671,   57.14721088,   57.57678005,   58.00634921,\n",
       "         58.43301587,   58.86258503,   59.2892517 ,   59.72172336,\n",
       "         60.14839002,   60.5721542 ,   60.86820862,   61.29197279,\n",
       "         61.71863946,   62.14820862,   62.58068027,   63.14666667,\n",
       "         63.57623583,   64.00290249,   64.4092517 ,   64.85043084,\n",
       "         65.29160998,   65.74439909,   66.19718821,   66.62095238,\n",
       "         67.04761905,   67.4800907 ,   67.92126984,   68.36244898,\n",
       "         68.8152381 ,   69.25931973,   69.70340136,   70.12426304,\n",
       "         70.55963719,   71.01823129,   71.45650794,   71.87156463,\n",
       "         72.30403628,   72.73070295,   73.14866213,   73.5753288 ,\n",
       "         74.00489796,   74.43156463,   74.86403628,   75.29360544,\n",
       "         75.7231746 ,   76.14984127,   76.58231293,   77.00897959,\n",
       "         77.43564626,   77.8739229 ,   78.35283447,   78.86077098,\n",
       "         79.29324263,   79.7199093 ,   80.14947846,   80.57614512,\n",
       "         80.9999093 ,   81.43528345,   81.85904762,   82.29151927,\n",
       "         82.72108844,   83.1506576 ,   83.57732426,   84.00399093,\n",
       "         84.43356009,   84.86022676,   85.42911565,   85.8615873 ,\n",
       "         86.28825397,   86.71782313,   87.14739229,   87.57696145,\n",
       "         88.00653061,   88.38095238,   88.76117914,   89.14721088,\n",
       "         89.57678005,   90.00634921,   90.43011338,   90.86258503,\n",
       "         91.2921542 ,   91.71882086,   92.14839002,   92.57795918,\n",
       "         92.94077098,   93.30648526,   93.71863946,   94.14820862,\n",
       "         94.57777778,   95.00444444,   95.43401361,   95.86068027,\n",
       "         96.21768707,   96.57759637,   97.01006803,   97.4338322 ,\n",
       "         97.86630385,   98.29006803,   98.72253968,   99.14920635,\n",
       "         99.57877551,  100.00544218,  100.57433107,  101.00390023,\n",
       "        101.43056689,  101.86303855,  102.28390023,  102.85569161,\n",
       "        103.29106576,  103.71192744,  104.14730159,  104.57396825,\n",
       "        105.00643991,  105.42730159,  105.86267574,  106.28063492,\n",
       "        106.57959184,  107.0062585 ,  107.43002268,  107.86249433,\n",
       "        108.28045351,  108.72163265,  109.14539683,  109.57786848,\n",
       "        110.00163265,  110.43410431,  110.85496599,  111.15102041,\n",
       "        111.57768707,  112.00145125,  112.4339229 ,  112.85188209,\n",
       "        113.29015873,  113.71102041,  114.00997732,  114.4337415 ,\n",
       "        114.86040816,  115.29868481,  115.71664399,  116.14911565,\n",
       "        116.57287982,  117.00535147,  117.42621315])"
      ]
     },
     "execution_count": 220,
     "metadata": {},
     "output_type": "execute_result"
    }
   ],
   "source": [
    "beat_times2"
   ]
  },
  {
   "cell_type": "code",
   "execution_count": null,
   "metadata": {
    "collapsed": true
   },
   "outputs": [],
   "source": []
  }
 ],
 "metadata": {
  "anaconda-cloud": {},
  "kernelspec": {
   "display_name": "Python [default]",
   "language": "python",
   "name": "python3"
  },
  "language_info": {
   "codemirror_mode": {
    "name": "ipython",
    "version": 3
   },
   "file_extension": ".py",
   "mimetype": "text/x-python",
   "name": "python",
   "nbconvert_exporter": "python",
   "pygments_lexer": "ipython3",
   "version": "3.5.2"
  }
 },
 "nbformat": 4,
 "nbformat_minor": 0
}
