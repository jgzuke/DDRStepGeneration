{
 "cells": [
  {
   "cell_type": "code",
   "execution_count": 4,
   "metadata": {
    "collapsed": false
   },
   "outputs": [],
   "source": [
    "%matplotlib inline\n",
    "import pandas as pd\n",
    "import numpy as np\n",
    "import librosa\n",
    "import seaborn as sb\n",
    "import matplotlib.pyplot as plt\n",
    "song_name = 'A'\n",
    "mp3_name = 'StepMania/Songs/StepMania 5/{0}/{0}.mp3'.format(song_name)\n",
    "stepfile_name = 'StepMania/Songs/StepMania 5/{0}/{0}.ssc'.format(song_name)"
   ]
  },
  {
   "cell_type": "code",
   "execution_count": 6,
   "metadata": {
    "collapsed": false
   },
   "outputs": [],
   "source": [
    "song_data, sample_rate = librosa.load(mp3_name)"
   ]
  },
  {
   "cell_type": "code",
   "execution_count": 8,
   "metadata": {
    "collapsed": false
   },
   "outputs": [],
   "source": [
    "tempo, beat_frames = librosa.beat.beat_track(y=song_data, sr=sample_rate)"
   ]
  },
  {
   "cell_type": "code",
   "execution_count": 9,
   "metadata": {
    "collapsed": false
   },
   "outputs": [],
   "source": [
    "beat_times = librosa.frames_to_time(beat_frames, sr=sample_rate)"
   ]
  },
  {
   "cell_type": "code",
   "execution_count": 16,
   "metadata": {
    "collapsed": false
   },
   "outputs": [],
   "source": [
    "def get_beats(beat_times):\n",
    "    range_start = 0\n",
    "    time_sum = beat_times[1] - beat_times[0]\n",
    "    beats = 1\n",
    "    times = []\n",
    "    for i in range(1, len(beat_times) - 1):\n",
    "        time_difference = beat_times[i+1] - beat_times[i]\n",
    "\n",
    "        # check if far from average\n",
    "        if abs(((time_sum / beats) / time_difference) - 1) > -0.05:\n",
    "            # more than 5% off average, put it in new time\n",
    "            bpm_for_section = 60 / (time_sum / beats)\n",
    "            times.append((range_start, bpm_for_section))\n",
    "            range_start += beats\n",
    "            time_sum = 0\n",
    "            beats = 0\n",
    "\n",
    "        time_sum += time_difference\n",
    "        beats += 1\n",
    "    return times\n",
    "\n",
    "def get_time_string(beat_times):\n",
    "    times = get_beats(beat_times)\n",
    "    time_strings = []\n",
    "    for time in times:\n",
    "        if time[0] != 0:\n",
    "            time_strings.append(',')\n",
    "        time_strings.append('{:}={:.2f}'.format(time[0], time[1]))\n",
    "    return ''.join(time_strings)\n",
    "\n",
    "def test_get_beats(beat_times):\n",
    "    a = get_beats(beat_times)\n",
    "    a.append((500, 1))\n",
    "    time = beat_times[0]\n",
    "    beat_times_mock = [time]\n",
    "    for i in range(len(a) - 1):\n",
    "        for j in range(a[i+1][0] - a[i][0]):\n",
    "            time += 60/a[i][1]\n",
    "            beat_times_mock.append(time)\n",
    "\n",
    "    beat_times_pd = pd.DataFrame(beat_times, columns=['VALUE'])\n",
    "    beat_times_pd['REAL'] = True\n",
    "    beat_times_pd\n",
    "    beat_times_mock_pd = pd.DataFrame(beat_times, columns=['VALUE'])\n",
    "    beat_times_mock_pd['REAL'] = False\n",
    "    both = beat_times_pd.append(beat_times_mock_pd)\n",
    "    both['BEAT']=both.index\n",
    "    linestyles = [\"--\", \"-\"]*390\n",
    "    fig, (ax) = plt.subplots(1,1, figsize=(20,7))\n",
    "    graph = sb.pointplot(x='BEAT', y='VALUE', hue='REAL', linestyles=linestyles, data=both, ax=ax)\n",
    "    \n",
    "#test_get_beats(beat_times)"
   ]
  },
  {
   "cell_type": "code",
   "execution_count": 17,
   "metadata": {
    "collapsed": true
   },
   "outputs": [],
   "source": [
    "def write_song_header(output_stepfile):\n",
    "    keys = ['VERSION', 'TITLE', 'MUSIC', 'OFFSET', 'SAMPLESTART', 'SAMPLELENGTH']\n",
    "    beat_to_start = 32\n",
    "    beats_to_play = 32\n",
    "    header_info = {\n",
    "        'VERSION': 0.82,\n",
    "        'TITLE': song_name,\n",
    "        'MUSIC': '{0}.mp3'.format(song_name),\n",
    "        'OFFSET': -0.090,\n",
    "        'SAMPLESTART': beat_times[beat_to_start],\n",
    "        'SAMPLELENGTH': 60*beats_to_play/tempo\n",
    "    }\n",
    "    for key in keys:\n",
    "        print (\"#{0}:{1};\".format(key, str(header_info[key])), file=output_stepfile)\n",
    "        \n",
    "def write_step_header(output_stepfile):\n",
    "    print(\"//---------------dance-single - ----------------\", file=output_stepfile)\n",
    "    keys = ['NOTEDATA', 'CHARTNAME', 'STEPSTYPE', 'DIFFICULTY', 'METER', 'RADARVALUES', 'BPMS']\n",
    "    step_info = {\n",
    "        'NOTEDATA': '',\n",
    "        'CHARTNAME': 'Kommisar',\n",
    "        'STEPSTYPE': 'dance-single',\n",
    "        'DIFFICULTY': 'Beginner',\n",
    "        'METER': 1,\n",
    "        'RADARVALUES': '0.234,0.292,0.008,0,0,211,212,1,0,0,0,0,0,0,0.234,0.292,0.008,0,0,211,212,1,0,0,0,0,0,0',\n",
    "        'BPMS': get_time_string(beat_times)\n",
    "    }\n",
    "    for key in keys:\n",
    "        print (\"#{0}:{1};\".format(key, str(step_info[key])), file=output_stepfile)\n",
    "        \n",
    "def write_notes(output_stepfile):\n",
    "    print (\"#NOTES:\", file=output_stepfile)\n",
    "    \n",
    "    for i in range(80):\n",
    "        print (\"0101\\n0001\\n0101\\n0001\\n,\", file=output_stepfile)\n",
    "    print (\"0000;\", file=output_stepfile)"
   ]
  },
  {
   "cell_type": "code",
   "execution_count": 18,
   "metadata": {
    "collapsed": false
   },
   "outputs": [],
   "source": [
    "output_stepfile=open(stepfile_name, 'w')\n",
    "from __future__ import print_function\n",
    "write_song_header(output_stepfile)\n",
    "write_step_header(output_stepfile)\n",
    "write_notes(output_stepfile)\n",
    "output_stepfile.close()"
   ]
  },
  {
   "cell_type": "code",
   "execution_count": 19,
   "metadata": {
    "collapsed": true
   },
   "outputs": [],
   "source": [
    "import aubio"
   ]
  },
  {
   "cell_type": "code",
   "execution_count": 25,
   "metadata": {
    "collapsed": false
   },
   "outputs": [
    {
     "data": {
      "text/plain": [
       "92.913836084167244"
      ]
     },
     "execution_count": 25,
     "metadata": {},
     "output_type": "execute_result"
    }
   ],
   "source": [
    "from aubio import source, tempo\n",
    "from numpy import median, diff\n",
    "\n",
    "#samplerate, win_s, hop_s = 44100, 1024, 512\n",
    "samplerate, win_s, hop_s = sample_rate, 1024, 512\n",
    "\n",
    "s = source(mp3_name, samplerate, hop_s)\n",
    "samplerate = s.samplerate\n",
    "o = tempo(\"specdiff\", win_s, hop_s, samplerate)\n",
    "# List of beats, in samples\n",
    "beats = []\n",
    "# Total number of frames read\n",
    "total_frames = 0\n",
    "\n",
    "while True:\n",
    "    samples, read = s()\n",
    "    is_beat = o(samples)\n",
    "    if is_beat:\n",
    "        this_beat = o.get_last_s()\n",
    "        beats.append(this_beat)\n",
    "        #if o.get_confidence() > .2 and len(beats) > 2.:\n",
    "        #    break\n",
    "    total_frames += read\n",
    "    if read < hop_s:\n",
    "        break\n",
    "\n",
    "# Convert to periods and to bpm \n",
    "if len(beats) > 1:\n",
    "    if len(beats) < 4:\n",
    "        print(\"few beats found in {:s}\".format(mp3_name))\n",
    "    bpms = 60./diff(beats)\n",
    "    b = median(bpms)\n",
    "else:\n",
    "    b = 0\n",
    "    print(\"not enough beats found in {:s}\".format(mp3_name))\n",
    "b"
   ]
  },
  {
   "cell_type": "code",
   "execution_count": 26,
   "metadata": {
    "collapsed": false
   },
   "outputs": [
    {
     "data": {
      "text/plain": [
       "array([  91.34847385,   61.68983177,   93.68357023,   61.28123134,\n",
       "         93.81642332,   89.30745956,   94.62166485,   85.34380916,\n",
       "         94.66224009,   57.00868796,   92.48509776,   89.26520101,\n",
       "         92.71201676,   89.65840784,   92.91383608,   92.91383608,\n",
       "         90.8903313 ,   92.75753425,   85.18994044,   92.8681651 ,\n",
       "         62.45873614,   92.71201676,   58.91251503,   93.18218307,\n",
       "         84.7804573 ,   91.45594995,   76.76233099,   96.42876192,\n",
       "         71.5019434 ,   94.76397332,  158.36725653,   95.28928524,\n",
       "         95.28957389,   82.133247  ,   92.5952156 ,   72.84829987,\n",
       "         93.63734864,   70.01101667,   93.24792279,   87.68555349,\n",
       "         93.20178479,   58.6228951 ,   91.62670395,   63.99349025,\n",
       "         95.24831499,   73.5161815 ,   94.76397332,   75.15775893,\n",
       "         95.3788499 ,   75.68213641,   94.83882638,  147.37678498,\n",
       "         92.65985649,   92.66640744,   75.17895381,   95.10490864,\n",
       "         72.54472748,   95.46858308,  143.3682138 ,   94.9607868 ,\n",
       "         87.28677266,   94.95448069,   94.95390745,   82.54337444,\n",
       "         94.77082517,   85.81988815,   95.04284247,   61.28964883,\n",
       "         94.84568906,   82.63097064,   95.61308912,   61.46905373,\n",
       "         95.59275061,   68.35091867,   95.88295538,   70.50735617,\n",
       "         94.83196469,   67.61400371,   92.34270148,   75.24333013,\n",
       "         95.19355073,   84.95492625,   96.01523679,   59.46083676,\n",
       "         95.32335776,   61.01835364,   96.29563418,   77.92396183,\n",
       "         95.12561538,   86.64007932,   95.66950111,   57.91701648,\n",
       "         93.01823859,   75.52623239,   95.22121322,  108.24792501,\n",
       "         94.8788727 ,   50.49452313,   95.04284247,  114.65360392,\n",
       "         94.95448069,   86.20038802,   95.20046485,   95.20737997,\n",
       "         83.56518967,   94.62771334,   88.33535517,   95.00265765,\n",
       "         87.84299708,   94.72915839,   86.58380033,   94.96136012,\n",
       "         94.96136012,   82.58931759,   94.62202062,   85.61481433,\n",
       "         92.89408096,   90.02403901,   94.47992503,   51.11082226,\n",
       "         94.90635258,   70.17453689,   94.74399441,   86.65153485,\n",
       "         95.42687958,   88.99511135,   95.00839625,   50.11195718,\n",
       "         94.84568906,  121.53175707,   94.86628307,   81.71655981,\n",
       "         95.14633114,   95.14518002,   85.1789834 ,   94.78396066,\n",
       "         73.30853771,   95.22813136,  108.1943126 ,   95.11180988,\n",
       "         50.48836388,   95.22121322,  141.64841499,   95.64739364,\n",
       "         95.65553731,  118.05097721,   91.52540006,   52.01889114,\n",
       "         74.14693016,   96.80950329,   96.80950329,   74.53554606,\n",
       "         94.40507058,   96.83095904,   94.63568429,   57.76005288,\n",
       "         94.52080479,   89.00719815,   94.825104  ,   86.82181497,\n",
       "         94.61519027,   57.80335605,   94.89261065,   61.36952094,\n",
       "         94.70976444,   71.04109267,   95.30314231,  107.59628408,\n",
       "         94.825104  ,   50.54027827,   94.89375566,   72.6804924 ,\n",
       "         94.79767114,   70.59026282,   95.03595123,   70.02956367,\n",
       "         94.88688602,   70.31193842,   94.92009849])"
      ]
     },
     "execution_count": 26,
     "metadata": {},
     "output_type": "execute_result"
    }
   ],
   "source": [
    "bpms"
   ]
  },
  {
   "cell_type": "code",
   "execution_count": null,
   "metadata": {
    "collapsed": true
   },
   "outputs": [],
   "source": []
  }
 ],
 "metadata": {
  "anaconda-cloud": {},
  "kernelspec": {
   "display_name": "Python [default]",
   "language": "python",
   "name": "python3"
  },
  "language_info": {
   "codemirror_mode": {
    "name": "ipython",
    "version": 3
   },
   "file_extension": ".py",
   "mimetype": "text/x-python",
   "name": "python",
   "nbconvert_exporter": "python",
   "pygments_lexer": "ipython3",
   "version": "3.5.2"
  }
 },
 "nbformat": 4,
 "nbformat_minor": 0
}
