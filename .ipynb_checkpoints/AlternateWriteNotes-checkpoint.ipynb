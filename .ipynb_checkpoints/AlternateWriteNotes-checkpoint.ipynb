{
 "cells": [
  {
   "cell_type": "code",
   "execution_count": 382,
   "metadata": {
    "collapsed": false
   },
   "outputs": [],
   "source": [
    "from __future__ import print_function\n",
    "import copy\n",
    "import pandas as pd\n",
    "import numpy as np\n",
    "import librosa\n",
    "import seaborn as sb\n",
    "import matplotlib.pyplot as plt\n",
    "import itertools\n",
    "import re\n",
    "import random\n",
    "import gc\n",
    "import os\n",
    "from operator import itemgetter, attrgetter, methodcaller\n",
    "from os import listdir\n",
    "from os.path import isfile, join\n",
    "from numpy import median, diff\n",
    "from keras.models import Sequential, load_model\n",
    "from keras.layers import Dense, Activation, Dropout, BatchNormalization"
   ]
  },
  {
   "cell_type": "markdown",
   "metadata": {},
   "source": [
    "# Instead of training models for each note\n",
    "- decide which will have notes, for now pick x with one, y with another (train model for this + holds, hands, mines, rolls etc later)\n",
    "- for each note that will have something, decide what combo it has (train from prev notes (not all 48, pick more relevant ones)) (4 for one note, 6 for 2, 4 for 3) and pick highest class"
   ]
  },
  {
   "cell_type": "markdown",
   "metadata": {},
   "source": [
    "### TODOS\n",
    "- try to predict hold/roll there (would need to train on later beat info as well)\n",
    "- generate percent of single double notes etc with a nn"
   ]
  },
  {
   "cell_type": "code",
   "execution_count": 338,
   "metadata": {
    "collapsed": true
   },
   "outputs": [],
   "source": [
    "steps_per_bar = 48\n",
    "class SongFile:\n",
    "    def __init__(self, key, folder, stepfile, music_file):\n",
    "        misc = pd.read_csv('data/{0}_misc.csv'.format(key)).values\n",
    "        self.note_classes = pd.read_csv('generated_data/{0}_note_classes_generated.csv'.format(key), converters={'0': lambda x: float(x)}).values\n",
    "        self.notes = pd.read_csv('data/{0}_notes.csv'.format(key), converters={'0': lambda x: str(x)}).values\n",
    "        self.folder = folder\n",
    "        self.name = key.split('~')[1]\n",
    "        self.music_name = music_file\n",
    "        self.stepfile_name = stepfile\n",
    "        self.offset = misc[0][0]\n",
    "        self.beat_length = 60. / misc[1][0]\n",
    "        self.bpm = misc[1][0]\n",
    "        self.extension = music_file.split('.')[1]"
   ]
  },
  {
   "cell_type": "code",
   "execution_count": 339,
   "metadata": {
    "collapsed": true
   },
   "outputs": [],
   "source": [
    "songs_to_use = pd.read_csv('data/songs_to_use.csv').values\n",
    "save_files = listdir('data')\n",
    "save_files_generated = listdir('generated_data')\n",
    "songs = {}\n",
    "for song_data in songs_to_use:\n",
    "    key = song_data[0]\n",
    "    if '{0}_misc.csv'.format(key) in save_files and '{0}_note_classes_generated.csv'.format(key) in save_files_generated:\n",
    "        songs[key] = SongFile(key, song_data[1], song_data[2], song_data[3])"
   ]
  },
  {
   "cell_type": "code",
   "execution_count": 356,
   "metadata": {
    "collapsed": false
   },
   "outputs": [],
   "source": [
    "beats_to_track = 48\n",
    "num_classes_one_note = 4\n",
    "num_classes_two_note = 6\n",
    "class_map_one_note = {\n",
    "    '1000': 0,\n",
    "    '0100': 1,\n",
    "    '0010': 2,\n",
    "    '0001': 3\n",
    "}\n",
    "class_reverse_map_one_note = ['1000', '0100', '0010', '0001']\n",
    "\n",
    "class_map_two_note = {\n",
    "    '1001': 0,\n",
    "    '0110': 1,\n",
    "    '1100': 2,\n",
    "    '1010': 3,\n",
    "    '0101': 4,\n",
    "    '0011': 5\n",
    "}\n",
    "class_reverse_map_two_note = ['1001', '0110', '1100', '1010', '0101', '0011']\n",
    "\n",
    "note_types = ['0', '1', 'M', '2', '4', '3']\n",
    "\n",
    "def get_features_for_row(row):\n",
    "    return [int(char == target) for target in note_types for char in row]\n",
    "\n",
    "important_indices = [1, 2, 3, 4, 8, 16, 20, 6, 12, 18, 24, 30, 36, 42, 48, 54, 60, 66, 72, 78, 84, 90, 96]\n",
    "def get_features(index, features, note_classes):\n",
    "    indices = [index + song_padding - i for i in important_indices]\n",
    "    return np.array([np.concatenate((note_classes[i], features[i]), axis = 0) for i in indices]).flatten()"
   ]
  },
  {
   "cell_type": "code",
   "execution_count": 365,
   "metadata": {
    "collapsed": false
   },
   "outputs": [],
   "source": [
    "song_padding = beats_to_track * 2\n",
    "X_one_note = []\n",
    "y_one_note = []\n",
    "X_two_note = []\n",
    "y_two_note = []\n",
    "for key in songs:\n",
    "    note_classes = np.concatenate((([[1, 0, 0, 0, 0, 0, 0]] * song_padding), songs[key].note_classes), axis = 0)\n",
    "    notes = np.concatenate((([['0000']] * song_padding), songs[key].notes), axis = 0)\n",
    "    if abs(len(note_classes) - len(notes) > 250):\n",
    "        print ('Lengths dont match for {0}'.format(key))\n",
    "        print ('{0} vs {1}'.format(len(note_classes), len(notes)))\n",
    "        continue\n",
    "    length = min(len(note_classes), len(notes)) - song_padding\n",
    "    features = np.array([get_features_for_row(notes[i][0]) for i in range(-song_padding, length)])\n",
    "    for i in range(length):\n",
    "        row = notes[i + song_padding][0]\n",
    "        (blank, steps, mines, hold_starts, roll_starts, hold_ends) = [row.count(note_type) for note_type in note_types]\n",
    "        if steps == 1 and blank == 3:\n",
    "            X_one_note.append(get_features(i, features, note_classes))\n",
    "            y_one_note.append([int(char == '1') for char in row])\n",
    "            \n",
    "        if steps == 2 and blank == 2:\n",
    "            X_two_note.append(get_features(i, features, note_classes))\n",
    "            y_two_note.append([int(char == '1') for char in row])\n",
    "\n",
    "X_one_note = np.array(X_one_note)\n",
    "y_one_note = np.array(y_one_note)\n",
    "X_two_note = np.array(X_two_note)\n",
    "y_two_note = np.array(y_two_note)"
   ]
  },
  {
   "cell_type": "code",
   "execution_count": 360,
   "metadata": {
    "collapsed": true
   },
   "outputs": [],
   "source": [
    "def build_model(num_classes):\n",
    "    model = Sequential()\n",
    "\n",
    "    model.add(Dense(100, input_dim=713, init='uniform'))\n",
    "    model.add(BatchNormalization())\n",
    "    model.add(Activation('tanh'))\n",
    "    model.add(Dropout(0.5))\n",
    "\n",
    "    model.add(Dense(500, init='uniform'))\n",
    "    model.add(BatchNormalization())\n",
    "    model.add(Activation('tanh'))\n",
    "    model.add(Dropout(0.5))\n",
    "\n",
    "    model.add(Dense(500, init='uniform'))\n",
    "    model.add(BatchNormalization())\n",
    "    model.add(Activation('tanh'))\n",
    "    model.add(Dropout(0.5))\n",
    "\n",
    "    model.add(Dense(num_classes, init='uniform'))\n",
    "    model.add(BatchNormalization())\n",
    "    model.add(Activation('softmax'))\n",
    "\n",
    "    model.compile(loss='categorical_crossentropy',\n",
    "                               optimizer='adadelta',\n",
    "                               metrics=['accuracy'])\n",
    "    \n",
    "    return model"
   ]
  },
  {
   "cell_type": "code",
   "execution_count": 361,
   "metadata": {
    "collapsed": false
   },
   "outputs": [],
   "source": [
    "#y_one_note_hot = np.zeros((len(y_one_note), num_classes_one_note))\n",
    "#y_one_note_hot[np.arange(len(y_one_note)), y_one_note] = 1\n",
    "#y_two_note_hot = np.zeros((len(y_two_note), num_classes_two_note))\n",
    "#y_two_note_hot[np.arange(len(y_two_note)), y_two_note] = 1"
   ]
  },
  {
   "cell_type": "code",
   "execution_count": 366,
   "metadata": {
    "collapsed": false
   },
   "outputs": [
    {
     "name": "stdout",
     "output_type": "stream",
     "text": [
      "Epoch 1/1\n",
      "73149/73149 [==============================] - 30s - loss: 1.3946 - acc: 0.2653    \n"
     ]
    }
   ],
   "source": [
    "models = []\n",
    "for i in range(7):\n",
    "    model = \n",
    "    \n",
    "    models.append(model)\n",
    "y_one_note_model = build_model(4)\n",
    "y_one_note_model.fit(X_one_note, y_one_note, nb_epoch=1, batch_size=50)\n",
    "y_one_note_model.save('models/y_one_note_model.h5')\n",
    "# Dense 1000: 63s - loss: 1.3934 - acc: 0.2707\n",
    "# Dense 550: 53s - loss: 1.3903 - acc: 0.2703\n",
    "# Dense 100: 30s - loss: 1.3950 - acc: 0.2699"
   ]
  },
  {
   "cell_type": "code",
   "execution_count": 368,
   "metadata": {
    "collapsed": false
   },
   "outputs": [
    {
     "name": "stdout",
     "output_type": "stream",
     "text": [
      "Epoch 1/1\n",
      "5160/5160 [==============================] - 14s - loss: 2.9074 - acc: 0.2479    \n"
     ]
    }
   ],
   "source": [
    "y_two_note_model = build_model(4)\n",
    "y_two_note_model.fit(X_two_note, y_two_note, nb_epoch=1, batch_size=5)\n",
    "y_two_note_model.save('models/y_two_note_model.h5')"
   ]
  },
  {
   "cell_type": "code",
   "execution_count": null,
   "metadata": {
    "collapsed": true
   },
   "outputs": [],
   "source": [
    "X = [[]] * 7\n",
    "y = [[]] * 7\n",
    "for key in songs:\n",
    "    note_classes = np.concatenate((([[1, 0, 0, 0, 0, 0, 0]] * song_padding), songs[key].note_classes), axis = 0)\n",
    "    notes = np.concatenate((([['0000']] * song_padding), songs[key].notes), axis = 0)\n",
    "    if abs(len(note_classes) - len(notes) > 250):\n",
    "        print ('Lengths dont match for {0}'.format(key))\n",
    "        print ('{0} vs {1}'.format(len(note_classes), len(notes)))\n",
    "        continue\n",
    "    length = min(len(note_classes), len(notes)) - song_padding\n",
    "    features = np.array([get_features_for_row(notes[i][0]) for i in range(-song_padding, length)])\n",
    "    for i in range(length):\n",
    "        row = notes[i + song_padding][0]\n",
    "        (blank, steps, mines, hold_starts, roll_starts, hold_ends) = [row.count(note_type) for note_type in note_types]\n",
    "        steps += hold_starts + roll_starts\n",
    "        if steps == 1:\n",
    "            X[1].append(get_features(i, features, note_classes))\n",
    "            y[1].append([int(char == '1' or char == '2' or char == '4') for char in row])\n",
    "            \n",
    "        if steps == 2:\n",
    "            X[2].append(get_features(i, features, note_classes))\n",
    "            y[2].append([int(char == '1' or char == '2' or char == '4') for char in row])\n",
    "\n",
    "X = [np.array(X_for_class) for X_for_class in X]\n",
    "y = [np.array(y_for_class) for y_for_class in y]"
   ]
  },
  {
   "cell_type": "markdown",
   "metadata": {},
   "source": [
    "# Classes\n",
    "- 0: nothing\n",
    "- 1: one note\n",
    "- 2: two notes\n",
    "- 3: three or four notes\n",
    "- 4: hold start\n",
    "- 5: roll start\n",
    "- 6: mine"
   ]
  },
  {
   "cell_type": "code",
   "execution_count": 449,
   "metadata": {
    "collapsed": true
   },
   "outputs": [],
   "source": [
    "def get_average_for_class(note_classes, i, class_num):\n",
    "    surrounding_beats = note_classes[max(i - 24,0):min(i + 24,len(note_classes))]\n",
    "    return sum([beat[class_num] for beat in surrounding_beats]) / float(len(surrounding_beats))\n",
    "\n",
    "def normalize_row(note_classes, i):\n",
    "    return [note_classes[i][class_num] - get_average_for_class(note_classes, i, class_num) for class_num in range(7)]\n",
    "    \n",
    "def normalize_classes(note_classes):\n",
    "    return [normalize_row(note_classes, i) for i in range(len(note_classes))]"
   ]
  },
  {
   "cell_type": "code",
   "execution_count": 450,
   "metadata": {
    "collapsed": true
   },
   "outputs": [],
   "source": [
    "pattern = ['1000', '0100', '0001', '0010', '0100', '1000', '0001', '0010', '1000', '0100', '0001', '0010', '0100', '1000', '0001', '0010']\n",
    "cutoff_per_class = [0, 0.9, 0.97, 0.99, 0.99, 0.99, 0.99]\n",
    "def get_output(song):\n",
    "    predicted_notes = []\n",
    "    # maybe normalize with surroundings here?\n",
    "    normalized_note_classes = normalize_classes(song.note_classes)\n",
    "    sortedLists = [sorted(normalized_note_classes, key=itemgetter(i)) for i in range(7)]\n",
    "    num_samples = len(song.note_classes)\n",
    "    cutoffs = [sortedLists[i][int(num_samples * cutoff_per_class[i])][i] for i in range(7)]\n",
    "    \n",
    "    note_classes = np.concatenate((([[1, 0, 0, 0, 0, 0, 0]] * song_padding), song.note_classes), axis = 0)\n",
    "    dummy_rows = [row for eigth in pattern for row in [eigth] + ['0000'] * 5]\n",
    "    features = [get_features_for_row(row) for row in dummy_rows]\n",
    "    for i in range(num_samples):\n",
    "        note_class = song.note_classes[i]\n",
    "        normalized_note_class = normalized_note_classes[i]\n",
    "        if normalized_note_class[2] > cutoffs[2]:\n",
    "            X_row = get_features(len(features) - song_padding, features, note_classes)\n",
    "            prediction_values = y_one_note_model.predict(np.array([X_row]))[0]\n",
    "            cutoff = sorted(prediction_values)[2]\n",
    "            prediction = ''.join(['1' if value > cutoff else '0' for value in prediction_values])\n",
    "        elif normalized_note_class[1] > cutoffs[1]:\n",
    "            X_row = get_features(len(features) - song_padding, features, note_classes)\n",
    "            prediction_values = y_two_note_model.predict(np.array([X_row]))[0]\n",
    "            cutoff = sorted(prediction_values)[1]\n",
    "            prediction = ''.join(['1' if value > cutoff else '0' for value in prediction_values])\n",
    "        else:\n",
    "            prediction = '0000'\n",
    "\n",
    "        predicted_notes.append(prediction)\n",
    "        features.append(get_features_for_row(prediction))\n",
    "    return predicted_notes"
   ]
  },
  {
   "cell_type": "code",
   "execution_count": 452,
   "metadata": {
    "collapsed": false
   },
   "outputs": [],
   "source": [
    "song = songs['In The Groove~Lemmings on the Run']\n",
    "song = songs['In The Groove~Infection']\n",
    "song = songs['In The Groove~July']\n",
    "song.predicted_notes = get_output(song)\n",
    "step_song(song)"
   ]
  },
  {
   "cell_type": "code",
   "execution_count": 453,
   "metadata": {
    "collapsed": true
   },
   "outputs": [],
   "source": [
    "a = song.note_classes"
   ]
  },
  {
   "cell_type": "code",
   "execution_count": 457,
   "metadata": {
    "collapsed": true
   },
   "outputs": [],
   "source": [
    "b = np.array(normalize_classes(song.note_classes))"
   ]
  },
  {
   "cell_type": "code",
   "execution_count": 459,
   "metadata": {
    "collapsed": false
   },
   "outputs": [
    {
     "data": {
      "text/plain": [
       "array([[  9.49594498e-01,   4.20812555e-02,   1.93656201e-03,\n",
       "          1.01939877e-04,   1.71089510e-03,   5.52011188e-04,\n",
       "          4.02283063e-03],\n",
       "       [  9.86023903e-01,   1.12156728e-02,   4.54962690e-04,\n",
       "          8.43358721e-05,   5.76494320e-04,   3.73267219e-04,\n",
       "          1.27134717e-03],\n",
       "       [  9.84605849e-01,   1.24302963e-02,   4.99614573e-04,\n",
       "          8.56916522e-05,   6.21342391e-04,   3.92166578e-04,\n",
       "          1.36504218e-03],\n",
       "       [  9.85516250e-01,   1.17485840e-02,   4.60565585e-04,\n",
       "          8.27549957e-05,   5.41534799e-04,   3.80951155e-04,\n",
       "          1.26936077e-03],\n",
       "       [  9.88388181e-01,   9.48203076e-03,   3.45575361e-04,\n",
       "          7.55064102e-05,   3.89814028e-04,   3.39633552e-04,\n",
       "          9.79245058e-04],\n",
       "       [  9.89977837e-01,   8.31787847e-03,   2.80883833e-04,\n",
       "          6.77514472e-05,   2.76932667e-04,   3.00909858e-04,\n",
       "          7.77790148e-04],\n",
       "       [  9.80041146e-01,   1.69166755e-02,   7.35904381e-04,\n",
       "          7.88201869e-05,   6.76414696e-04,   3.59830883e-04,\n",
       "          1.19122979e-03],\n",
       "       [  9.66569662e-01,   2.84790881e-02,   1.46395189e-03,\n",
       "          8.69675787e-05,   1.51809386e-03,   3.89957568e-04,\n",
       "          1.49225222e-03],\n",
       "       [  8.66802633e-01,   1.15596108e-01,   7.13286409e-03,\n",
       "          9.16675635e-05,   5.85292932e-03,   4.62775002e-04,\n",
       "          4.06103767e-03],\n",
       "       [  9.23758864e-01,   6.50916025e-02,   3.85014224e-03,\n",
       "          9.39440288e-05,   3.74149438e-03,   4.45627258e-04,\n",
       "          3.01833893e-03]])"
      ]
     },
     "execution_count": 459,
     "metadata": {},
     "output_type": "execute_result"
    }
   ],
   "source": [
    "a[:10]"
   ]
  },
  {
   "cell_type": "code",
   "execution_count": 460,
   "metadata": {
    "collapsed": false
   },
   "outputs": [
    {
     "data": {
      "text/plain": [
       "array([[  1.07613428e-01,  -8.66409174e-02,  -1.27340258e-02,\n",
       "          1.62010714e-05,  -5.36129719e-03,   9.64751307e-05,\n",
       "         -2.98987387e-03],\n",
       "       [  1.68924848e-01,  -1.36783520e-01,  -1.75165897e-02,\n",
       "         -2.86746945e-07,  -7.98450068e-03,  -8.31096910e-05,\n",
       "         -6.55686011e-03],\n",
       "       [  1.61850975e-01,  -1.31029217e-01,  -1.68477304e-02,\n",
       "          8.20221780e-07,  -7.64860285e-03,  -6.48998696e-05,\n",
       "         -6.26134470e-03],\n",
       "       [  1.58645172e-01,  -1.28465006e-01,  -1.63773972e-02,\n",
       "         -2.70635765e-06,  -7.49024973e-03,  -8.05391982e-05,\n",
       "         -6.22927482e-03],\n",
       "       [  1.65973803e-01,  -1.34807654e-01,  -1.66597359e-02,\n",
       "         -1.06079860e-05,  -7.66113307e-03,  -1.30806713e-04,\n",
       "         -6.70388216e-03],\n",
       "       [  1.66228314e-01,  -1.35081672e-01,  -1.64335336e-02,\n",
       "         -1.90831516e-05,  -7.62575129e-03,  -1.76499592e-04,\n",
       "         -6.89179340e-03],\n",
       "       [  1.51458317e-01,  -1.22573395e-01,  -1.54704554e-02,\n",
       "         -8.08119051e-06,  -6.99164925e-03,  -1.17081397e-04,\n",
       "         -6.29763435e-03],\n",
       "       [  1.51290402e-01,  -1.22304078e-01,  -1.59433106e-02,\n",
       "          3.10621192e-07,  -6.56173198e-03,  -9.11420934e-05,\n",
       "         -6.39047861e-03],\n",
       "       [  4.69452241e-02,  -3.14772586e-02,  -9.78912129e-03,\n",
       "          4.81371808e-06,  -2.00869436e-03,  -1.89713473e-05,\n",
       "         -3.65597876e-03],\n",
       "       [  1.16116172e-01,  -9.23334209e-02,  -1.41863530e-02,\n",
       "          7.31883351e-06,  -4.50998667e-03,  -3.97320193e-05,\n",
       "         -5.05398594e-03]])"
      ]
     },
     "execution_count": 460,
     "metadata": {},
     "output_type": "execute_result"
    }
   ],
   "source": [
    "b[:10]"
   ]
  },
  {
   "cell_type": "code",
   "execution_count": null,
   "metadata": {
    "collapsed": true
   },
   "outputs": [],
   "source": [
    "def write_song_header(output_stepfile, song):\n",
    "    keys = ['TITLE', 'MUSIC', 'OFFSET', 'SAMPLESTART', 'SAMPLELENGTH', 'SELECTABLE', 'BPMS']\n",
    "    header_info = {\n",
    "        'TITLE': song.name,\n",
    "        'MUSIC': '{0}.{1}'.format(song.name, song.extension),\n",
    "        'OFFSET': -song.offset,\n",
    "        'SAMPLESTART': song.offset + 32 * song.beat_length,\n",
    "        'SAMPLELENGTH': 32 * song.beat_length,\n",
    "        'SELECTABLE': 'YES',\n",
    "        'BPMS': '0.000={:.3f}'.format(song.bpm)\n",
    "    }\n",
    "    \n",
    "    for key in keys:\n",
    "        print (\"#{0}:{1};\".format(key, str(header_info[key])), file=output_stepfile)\n",
    "        \n",
    "def write_step_header(output_stepfile, song):\n",
    "    print(\"\\n//---------------dance-single - J. Zukewich----------------\", file=output_stepfile)\n",
    "    print (\"#NOTES:\", file=output_stepfile)\n",
    "    for detail in ['dance-single', 'J. Zukewich', 'Expert', '9', '0.242,0.312,0.204,0.000,0.000']:\n",
    "        print ('\\t{0}:'.format(detail), file=output_stepfile)\n",
    "    \n",
    "    for i in range(len(song.predicted_notes)):\n",
    "        row = song.predicted_notes[i]\n",
    "        print (row, file=output_stepfile)\n",
    "        if i % steps_per_bar == steps_per_bar - 1:\n",
    "            print (\",\", file=output_stepfile)\n",
    "\n",
    "    print (\"0000;\", file=output_stepfile)\n",
    "    \n",
    "def step_song(song):\n",
    "    if song.name + '.sm' in os.listdir(song.folder) and not song.name + '.sm.backup' in os.listdir(song.folder):\n",
    "        os.rename(song.stepfile_name, song.stepfile_name + '.backup')\n",
    "            \n",
    "    output_stepfile=open(song.stepfile_name, 'w')\n",
    "    write_song_header(output_stepfile, song)\n",
    "    write_step_header(output_stepfile, song)\n",
    "    output_stepfile.close()"
   ]
  },
  {
   "cell_type": "code",
   "execution_count": null,
   "metadata": {
    "collapsed": true
   },
   "outputs": [],
   "source": []
  }
 ],
 "metadata": {
  "kernelspec": {
   "display_name": "Python 3",
   "language": "python",
   "name": "python3"
  },
  "language_info": {
   "codemirror_mode": {
    "name": "ipython",
    "version": 3
   },
   "file_extension": ".py",
   "mimetype": "text/x-python",
   "name": "python",
   "nbconvert_exporter": "python",
   "pygments_lexer": "ipython3",
   "version": "3.5.1"
  }
 },
 "nbformat": 4,
 "nbformat_minor": 0
}
