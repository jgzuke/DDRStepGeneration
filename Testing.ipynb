{
 "cells": [
  {
   "cell_type": "code",
   "execution_count": null,
   "metadata": {
    "collapsed": false
   },
   "outputs": [],
   "source": [
    "#VERSION:0.83;\n",
    "#TITLE:A;\n",
    "#ARTIST:Kommisar;\n",
    "#BANNER:springbn.png;\n",
    "#BACKGROUND:spring.png;\n",
    "#MUSIC:test.mp3;\n",
    "#OFFSET:-0.090;\n",
    "#SAMPLESTART:105.760;\n",
    "#SAMPLELENGTH:15;\n",
    "#SELECTABLE:YES;\n",
    "#DISPLAYBPM:282;\n",
    "#BPMS:0=281.685;\n",
    "#TIMESIGNATURES:0=4=4;\n",
    "#TICKCOUNTS:0=2;\n",
    "#COMBOS:0=1;\n",
    "#SPEEDS:0=1=0=0;\n",
    "#SCROLLS:0=1;\n",
    "#LABELS:0=Song Start;\n",
    "\n",
    "//---------------dance-single - ----------------\n",
    "#NOTEDATA:;\n",
    "#CHARTNAME:Kommisar;\n",
    "#STEPSTYPE:dance-single;\n",
    "#DESCRIPTION:;\n",
    "#CHARTSTYLE:;\n",
    "#DIFFICULTY:Beginner;\n",
    "#METER:1;\n",
    "#RADARVALUES:0.234,0.292,0.008,0,0,211,212,1,0,0,0,0,0,0,0.234,0.292,0.008,0,0,211,212,1,0,0,0,0,0,0;\n",
    "#CREDIT:Kommisar;\n",
    "#OFFSET:-0.090;\n",
    "#BPMS:0=10.685,\n",
    "5=300;\n",
    "#TIMESIGNATURES:0=4=4;\n",
    "#TICKCOUNTS:0=2;\n",
    "#COMBOS:0=1;\n",
    "#SPEEDS:0=1=0=0;\n",
    "#SCROLLS:0=1;\n",
    "#LABELS:0=Song Start;\n",
    "#NOTES:\n",
    "0001\n",
    "0001\n",
    "0001\n",
    "0001\n",
    ",\n",
    "0000\n",
    "0000\n",
    "0000\n",
    "0000;"
   ]
  },
  {
   "cell_type": "code",
   "execution_count": 7,
   "metadata": {
    "collapsed": true
   },
   "outputs": [],
   "source": [
    "import librosa"
   ]
  },
  {
   "cell_type": "code",
   "execution_count": 21,
   "metadata": {
    "collapsed": true
   },
   "outputs": [],
   "source": [
    "y, sr = librosa.load(\"test.mp3\")"
   ]
  },
  {
   "cell_type": "code",
   "execution_count": 22,
   "metadata": {
    "collapsed": false
   },
   "outputs": [
    {
     "name": "stdout",
     "output_type": "stream",
     "text": [
      "Estimated tempo: 184.57 beats per minute\n"
     ]
    }
   ],
   "source": [
    "tempo, beat_frames = librosa.beat.beat_track(y=y, sr=sr)\n",
    "\n",
    "print('Estimated tempo: {:.2f} beats per minute'.format(tempo))"
   ]
  },
  {
   "cell_type": "code",
   "execution_count": 25,
   "metadata": {
    "collapsed": true
   },
   "outputs": [],
   "source": [
    "beat_times = librosa.frames_to_time(beat_frames, sr=sr)"
   ]
  },
  {
   "cell_type": "code",
   "execution_count": null,
   "metadata": {
    "collapsed": false
   },
   "outputs": [],
   "source": [
    "len(y)"
   ]
  },
  {
   "cell_type": "code",
   "execution_count": 44,
   "metadata": {
    "collapsed": false
   },
   "outputs": [],
   "source": [
    "output_stepfile=open('StepMania/Songs/StepMania 5/A/A.ssc', 'w')\n",
    "from __future__ import print_function\n",
    "print(\"#VERSION:0.83;\", file=output_stepfile)\n",
    "print(\"#TITLE:A;\", file=output_stepfile)\n",
    "print(\"#MUSIC:test.mp3;\", file=output_stepfile)\n",
    "print(\"#OFFSET:-0.090;\", file=output_stepfile)\n",
    "print(\"#SAMPLESTART:105.760;\", file=output_stepfile)\n",
    "print(\"#SAMPLELENGTH:15;\", file=output_stepfile)\n",
    "print(\"//---------------dance-single - ----------------\", file=output_stepfile)\n",
    "print(\"#NOTEDATA:;\", file=output_stepfile)\n",
    "print(\"#CHARTNAME:Kommisar;\", file=output_stepfile)\n",
    "print(\"#STEPSTYPE:dance-single;\", file=output_stepfile)\n",
    "print(\"#DIFFICULTY:Beginner;\", file=output_stepfile)\n",
    "print(\"#METER:1;\", file=output_stepfile)\n",
    "print(\"#RADARVALUES:0.234,0.292,0.008,0,0,211,212,1,0,0,0,0,0,0,0.234,0.292,0.008,0,0,211,212,1,0,0,0,0,0,0;\", file=output_stepfile)\n",
    "print(\"#BPMS:0=184.57;\", file=output_stepfile)\n",
    "\n",
    "print(\"#NOTES:\", file=output_stepfile)\n",
    "\n",
    "print(\"hi thersdfasfde\", file=output_stepfile)\n",
    "output_stepfile.close()"
   ]
  },
  {
   "cell_type": "code",
   "execution_count": 50,
   "metadata": {
    "collapsed": false
   },
   "outputs": [],
   "source": [
    "a = {\n",
    "    'VERSION': 0.82,\n",
    "    'TITLE': 'A',\n",
    "    'MUSIC': 'test.mp3',\n",
    "    'OFFSET': ,\n",
    "    'SAMPLESTART': ,\n",
    "}"
   ]
  },
  {
   "cell_type": "code",
   "execution_count": 51,
   "metadata": {
    "collapsed": false
   },
   "outputs": [
    {
     "data": {
      "text/plain": [
       "{'MUSIC': 'test.mp3', 'TITLE': 'A', 'VERSION': 0.82}"
      ]
     },
     "execution_count": 51,
     "metadata": {},
     "output_type": "execute_result"
    }
   ],
   "source": [
    "a"
   ]
  },
  {
   "cell_type": "code",
   "execution_count": null,
   "metadata": {
    "collapsed": true
   },
   "outputs": [],
   "source": []
  }
 ],
 "metadata": {
  "kernelspec": {
   "display_name": "Python 3",
   "language": "python",
   "name": "python3"
  },
  "language_info": {
   "codemirror_mode": {
    "name": "ipython",
    "version": 3
   },
   "file_extension": ".py",
   "mimetype": "text/x-python",
   "name": "python",
   "nbconvert_exporter": "python",
   "pygments_lexer": "ipython3",
   "version": "3.5.1"
  }
 },
 "nbformat": 4,
 "nbformat_minor": 0
}
