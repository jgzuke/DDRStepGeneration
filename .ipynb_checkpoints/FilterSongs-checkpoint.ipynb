{
 "cells": [
  {
   "cell_type": "code",
   "execution_count": 3,
   "metadata": {
    "collapsed": true
   },
   "outputs": [],
   "source": [
    "from __future__ import print_function\n",
    "import copy\n",
    "import pandas as pd\n",
    "import numpy as np\n",
    "import librosa\n",
    "import seaborn as sb\n",
    "import matplotlib.pyplot as plt\n",
    "import itertools\n",
    "import re\n",
    "import random\n",
    "import gc\n",
    "from os import listdir\n",
    "from os.path import isfile, join\n",
    "from numpy import median, diff"
   ]
  },
  {
   "cell_type": "code",
   "execution_count": 4,
   "metadata": {
    "collapsed": false
   },
   "outputs": [
    {
     "name": "stdout",
     "output_type": "stream",
     "text": [
      "Error loading song In The Groove Rebirth~Sonic Vision\n",
      "\n",
      "Error loading song In The Groove Rebirth 2 (BETA)~Z Reboot\n",
      "\n"
     ]
    }
   ],
   "source": [
    "song_data = []\n",
    "packs = ['In The Groove', 'In The Groove 2', 'In The Groove 3', 'In The Groove Rebirth', 'In The Groove Rebirth +', 'In The Groove Rebirth 2 (BETA)', 'Piece of Cake', 'Piece of Cake 2', 'Piece of Cake 3', 'Piece of Cake 4', 'Piece of Cake 5']\n",
    "for pack in packs:\n",
    "    songs = [song for song in listdir('StepMania/Songs/{0}'.format(pack)) if song != '.DS_Store' and not song.endswith('.png') and not song.endswith('.db')]\n",
    "    for song in songs:\n",
    "        try:\n",
    "            key = '{0}~{1}'.format(pack, song)\n",
    "            folder = 'StepMania/Songs/{0}/{1}/'.format(pack, song)\n",
    "            stepfiles = [file for file in listdir(folder) if file.endswith('.ssc') or file.endswith('.sm')]\n",
    "            musicfiles = [file for file in listdir(folder) if file.endswith('.ogg') or file.endswith('.mp3')]\n",
    "            if len(stepfiles) != 1:\n",
    "                continue\n",
    "            if len(musicfiles) != 1:\n",
    "                continue\n",
    "\n",
    "            stepfile = folder + stepfiles[0]\n",
    "            music = folder + musicfiles[0]\n",
    "            \n",
    "            bpm = 0\n",
    "            offset = 0\n",
    "\n",
    "            with open(stepfile, \"r\") as txt:\n",
    "                step_file = txt.read()\n",
    "                step_file = step_file.replace('\\n', 'n')\n",
    "                bpm_search = re.search('#BPMS:([0-9.=,]*);', step_file)\n",
    "                bpm_string = bpm_search.group(1)\n",
    "                bpm = float(bpm_string.split('=')[1]) if len(bpm_string.split(',')) == 1 else 0\n",
    "\n",
    "                offset_search = re.search('#OFFSET:([0-9.-]*);', step_file)\n",
    "                offset = -float(offset_search.group(1))\n",
    "\n",
    "            if bpm == 0 or offset < 0:\n",
    "                continue\n",
    "\n",
    "            song_data.append([key, folder, stepfile, music])\n",
    "        except:\n",
    "            print ('Error loading song {0}~{1}\\n'.format(pack, song)) "
   ]
  },
  {
   "cell_type": "code",
   "execution_count": 5,
   "metadata": {
    "collapsed": false
   },
   "outputs": [],
   "source": [
    "song_data_df = pd.DataFrame(song_data, columns=['KEY', 'FOLDER', 'STEPFILE', 'MUSIC'])\n",
    "song_data_df.to_csv('data/songs_to_use.csv', index=False)"
   ]
  },
  {
   "cell_type": "code",
   "execution_count": null,
   "metadata": {
    "collapsed": true
   },
   "outputs": [],
   "source": []
  }
 ],
 "metadata": {
  "kernelspec": {
   "display_name": "Python 3",
   "language": "python",
   "name": "python3"
  },
  "language_info": {
   "codemirror_mode": {
    "name": "ipython",
    "version": 3
   },
   "file_extension": ".py",
   "mimetype": "text/x-python",
   "name": "python",
   "nbconvert_exporter": "python",
   "pygments_lexer": "ipython3",
   "version": "3.5.1"
  }
 },
 "nbformat": 4,
 "nbformat_minor": 0
}
