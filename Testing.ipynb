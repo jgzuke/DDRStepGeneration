{
 "cells": [
  {
   "cell_type": "code",
   "execution_count": 5,
   "metadata": {
    "collapsed": false
   },
   "outputs": [],
   "source": [
    "%matplotlib inline\n",
    "import pandas as pd\n",
    "import numpy as np\n",
    "import librosa\n",
    "import seaborn as sb\n",
    "import matplotlib.pyplot as plt\n",
    "import itertools\n",
    "import re\n",
    "import random\n",
    "from os import listdir\n",
    "from os.path import isfile, join\n",
    "from __future__ import print_function\n",
    "from numpy import median, diff"
   ]
  },
  {
   "cell_type": "markdown",
   "metadata": {},
   "source": [
    "# SongFile:\n",
    "### Fields\n",
    "- beat_frames:  \n",
    "- beat_times: \n",
    "- bpm: \n",
    "- bpm_string: \n",
    "- beat_length: \n",
    "- sample_times: \n",
    "- indices: \n",
    "- music_samples: \n",
    "- data: \n",
    "### Output\n",
    "- data/{0}_beat_times.csv\n",
    "- data/{0}_beat_frames.csv\n",
    "- data/{0}_music_samples.csv"
   ]
  },
  {
   "cell_type": "code",
   "execution_count": 6,
   "metadata": {
    "collapsed": true
   },
   "outputs": [],
   "source": [
    "sample_rate = 22050*8\n",
    "samples_per_second = 24 * 4\n",
    "steps_per_bar = 12\n",
    "class SongFile:\n",
    "    def load_new(self):\n",
    "        data, _ = librosa.load(self.music_file, sr=sample_rate)\n",
    "        _, self.beat_frames = librosa.beat.beat_track(y=data, sr=sample_rate)\n",
    "        self.beat_times = librosa.frames_to_time(self.beat_frames, sr=sample_rate)\n",
    "\n",
    "        seconds = len(data) / sample_rate\n",
    "        times = get_beats(self.beat_times, self.beat_frames)\n",
    "        self.bpm = times[0][1]\n",
    "        self.bpm_string = get_time_string(times)\n",
    "        \n",
    "        self.beat_length = 60. / self.bpm\n",
    "        bps = self.bpm / 60\n",
    "        # take 24 samples for each beat (need 3rds, 8ths)\n",
    "        num_samples = int(bps * seconds * samples_per_second) - samples_per_second # -1 to avoid out of bounds for now\n",
    "        beat_time = self.beat_length / samples_per_second\n",
    "        self.sample_times = [beat_times[0] + (beat_time * i) for i in range(num_samples)]\n",
    "        \n",
    "        self.indices = [round(time * sample_rate) for time in self.sample_times]\n",
    "        self.music_samples = [data[index] for index in self.indices]\n",
    "        self.data = data\n",
    "    \n",
    "    def __init__(self, pack, name, extension, force_new):\n",
    "        self.pack = pack\n",
    "        self.name = name\n",
    "        self.extension = extension\n",
    "        self.music_file = 'StepMania/Songs/{0}/{1}/{1}.{2}'.format(pack, name, extension)\n",
    "        self.stepfile = 'StepMania/Songs/{0}/{1}/{1}.ssc'.format(pack, name)\n",
    "        \n",
    "        key = '{0}~{1}'.format(pack, name)\n",
    "        if force_new or (not '{0}_beat_frames.csv'.format(key) in listdir('data')):\n",
    "            print ('Calculating beats for {0}'.format(key))\n",
    "            self.load_new()\n",
    "                        \n",
    "            print ('Saving calculated beats for {0}'.format(key))\n",
    "            pd.DataFrame(self.beat_times).to_csv('data/{0}_beat_times.csv'.format(key), index=False)\n",
    "            pd.DataFrame(self.beat_frames).to_csv('data/{0}_beat_frames.csv'.format(key), index=False)\n",
    "            pd.DataFrame(self.music_samples).to_csv('data/{0}_music_samples.csv'.format(key), index=False)\n",
    "        else:\n",
    "            #print ('Loading beats from save for {0}'.format(key))\n",
    "            self.beat_frames = pd.read_csv('data/{0}_beat_frames.csv'.format(key)).values.flatten()\n",
    "            self.beat_times = pd.read_csv('data/{0}_beat_times.csv'.format(key)).values.flatten()\n",
    "            self.music_samples = pd.read_csv('data/{0}_music_samples.csv'.format(key)).values.flatten()"
   ]
  },
  {
   "cell_type": "markdown",
   "metadata": {},
   "source": [
    "# Some useful functions to load induvidual or lists of songs\n",
    "- load_song(pack: String, pack: String, force_new: Bool)\n",
    "- load_songs(songs: Array(Pair(String~pack, String~title)), force_new: Bool)\n",
    "- load_all_songs(force_new: Bool)"
   ]
  },
  {
   "cell_type": "code",
   "execution_count": 7,
   "metadata": {
    "collapsed": false
   },
   "outputs": [],
   "source": [
    "def load_song(pack, title, force_new):\n",
    "    folder_path = 'StepMania/Songs/{0}/{1}'.format(pack, title)\n",
    "    song = next(file for file in listdir(folder_path) if file.endswith('.ogg') or file.endswith('.mp3'))\n",
    "    extension = song.split('.')[1]\n",
    "    key = '{0}~{1}'.format(pack, title)\n",
    "    return SongFile(pack, title, extension, force_new)\n",
    "\n",
    "def load_songs(songs, force_new):\n",
    "    return {'{0}~{1}'.format(song[0], song[1]): load_song(song[0], song[1], force_new) for song in songs}\n",
    "\n",
    "def load_all_songs(force_new):\n",
    "    songs = [('In The Groove', song) for song in listdir('StepMania/Songs/In The Groove') if song != '.DS_Store']\n",
    "    songs.extend([('a_test', song) for song in ['A', 'C', 'C']])\n",
    "    return load_songs(songs, force_new)"
   ]
  },
  {
   "cell_type": "markdown",
   "metadata": {},
   "source": [
    "# Functions to get bpm from song\n",
    "- get_beats(beat_times: Array(Float), beat_frames: Array(Int))\n",
    "- get_time_string(times: Array(Pair(Float~timeToStart, Float~bpm)))"
   ]
  },
  {
   "cell_type": "code",
   "execution_count": 8,
   "metadata": {
    "collapsed": false
   },
   "outputs": [],
   "source": [
    "def get_beats(beat_times, beat_frames):\n",
    "    changes = []\n",
    "    changes_time = []\n",
    "    for i in range(len(beat_frames) - 1):\n",
    "        changes.append(beat_frames[i + 1] - beat_frames[i])\n",
    "        changes_time.append(beat_times[i + 1] - beat_times[i])\n",
    "\n",
    "    sorted_changes = sorted(changes)\n",
    "    median = sorted_changes[int(len(changes) / 2)]\n",
    "\n",
    "    changes_counted = [abs(change - median) < 2 for change in changes]\n",
    "    time_changes_counted = list(itertools.compress(changes_time, changes_counted))\n",
    "    average = sum(time_changes_counted) / len(time_changes_counted)\n",
    "    \n",
    "    time_differences = []\n",
    "    earliest_proper_beat = 1\n",
    "    for i in range(1, len(beat_times) - 1):\n",
    "        if changes_counted[i] & changes_counted[i - 1]:\n",
    "            earliest_proper_beat = i\n",
    "            break\n",
    "            \n",
    "    last_proper_beat = len(beat_times) -2\n",
    "    for i in range(1, len(beat_times) - 1):\n",
    "        if changes_counted[len(beat_times) - i - 1] & changes_counted[len(beat_times) - i - 2]:\n",
    "            last_proper_beat = len(beat_times) - i - 1\n",
    "            break\n",
    "    \n",
    "    time_differences = []\n",
    "    buffer = 5\n",
    "    for i in range(20):\n",
    "        start_beat = earliest_proper_beat + buffer * i\n",
    "        if changes_counted[start_beat] & changes_counted[start_beat - 1]:\n",
    "            for j in range(20):\n",
    "                end_beat = last_proper_beat - buffer * j\n",
    "                if changes_counted[end_beat] & changes_counted[end_beat - 1]:\n",
    "                    time_differences.append(beat_times[end_beat] - beat_times[start_beat])\n",
    "        \n",
    "    # get num beats, round, and make new average\n",
    "    new_averages = [time_difference / round(time_difference / average) for time_difference in time_differences]\n",
    "    #print (new_averages)\n",
    "    new_averages.sort()\n",
    "    num_averages = len(new_averages)\n",
    "    #new_average = sum(new_averages[5:num_averages - 5]) / (num_averages - 10)\n",
    "    new_average = new_averages[int(num_averages/2)]\n",
    "    return [(0, 60./new_average)]\n",
    "    \n",
    "def get_time_string(times):\n",
    "    time_strings = []\n",
    "    for time in times:\n",
    "        if time[0] != 0:\n",
    "            time_strings.append(',')\n",
    "        time_strings.append('{:}={:.5f}'.format(time[0], time[1]))\n",
    "    return ''.join(time_strings)"
   ]
  },
  {
   "cell_type": "markdown",
   "metadata": {},
   "source": [
    "# Helpers to test get_beats() above\n",
    "- get_bpm(file: String)\n",
    "- get_song_bpms()\n",
    "- test_get_beats(song_data: Map(SongData))"
   ]
  },
  {
   "cell_type": "code",
   "execution_count": 9,
   "metadata": {
    "collapsed": false
   },
   "outputs": [],
   "source": [
    "def get_bpm(file):\n",
    "    with open(file, \"r\") as ins:\n",
    "        for line in ins:\n",
    "            if line.startswith('#BPMS:'):\n",
    "                result = re.search('#BPMS:(.*);', line)\n",
    "                bpm_string = result.group(1)\n",
    "                if len(bpm_string.split(',')) == 1:\n",
    "                    return float(bpm_string.split('=')[1])\n",
    "                return 0\n",
    "    return 0\n",
    "\n",
    "def get_song_bpms():\n",
    "    songs = [song for song in listdir('StepMania/Songs/In The Groove')]\n",
    "    songs.remove('.DS_Store')\n",
    "    song_bpms = {}\n",
    "    for song in songs:\n",
    "        song_bpms['In The Groove~{0}'.format(song)] = get_bpm('StepMania/Songs/In The Groove/{0}/{0}.sm'.format(song))\n",
    "\n",
    "    song_bpms['_test~A'] = 181.685\n",
    "    song_bpms['_test~B'] = 140\n",
    "    song_bpms['_test~C'] = 180\n",
    "    return song_bpms\n",
    "\n",
    "def test_get_beats(song_data):\n",
    "    song_bpms = get_song_bpms()\n",
    "    errors = []\n",
    "    for key in song_data:\n",
    "        song = song_data[key]\n",
    "        real_beat = song_bpms[key]\n",
    "        if real_beat != 0:\n",
    "            prediced_beat = get_beats(song.beat_times, song.beat_frames)[0][1]\n",
    "            for i in range (1,4):\n",
    "                if abs((prediced_beat * (i + 1) / (i)) - real_beat) < abs(prediced_beat - real_beat):\n",
    "                    prediced_beat *= (i + 1) / (i)\n",
    "            errors.append(abs(prediced_beat - real_beat))\n",
    "    print (sorted(['{0:.3f}'.format(error) for error in errors]))\n",
    "\n",
    "#test_get_beats(song_data)"
   ]
  },
  {
   "cell_type": "markdown",
   "metadata": {},
   "source": [
    "# Helpers to read .ssc and return notes and meta data\n",
    "- get_notes_from_note_string(note_string)\n",
    "- get_notes_and_metadata(file)\n",
    "- get_song_steps()"
   ]
  },
  {
   "cell_type": "code",
   "execution_count": 10,
   "metadata": {
    "collapsed": false
   },
   "outputs": [],
   "source": [
    "regex_notes_with_metadata = '#NOTES:n     dance-single((?:(?!//-).)*);'\n",
    "regex_metadata_split = ':n     (.*):n     (.*):n     (.*):n     (.*):n     (.*):(.*);'\n",
    "def get_notes_from_note_string(note_string):\n",
    "    measure_comments = re.findall('( )*//( )*measure( )*[0-9]*', note_string)\n",
    "    note_strings_split = re.split(r'n', note_string)[1:-1]\n",
    "    notes = []\n",
    "    bar = []\n",
    "    for row in note_strings_split:\n",
    "        if len(row) == 4:\n",
    "            bar.append(row)\n",
    "        else:\n",
    "            notes.append(bar)\n",
    "            bar = []\n",
    "    return note_strings_split\n",
    "\n",
    "def get_notes_and_metadata(file):\n",
    "    difficulty_map = {}\n",
    "    with open(file) as txt:\n",
    "        step_file = txt.read()\n",
    "        step_file = step_file.replace('\\n', 'n')\n",
    "        notes_with_metadata_groups = re.finditer(regex_notes_with_metadata, step_file)\n",
    "        for match in notes_with_metadata_groups:\n",
    "            notes_with_metadata = match.group(0)\n",
    "            split_data = re.search(regex_metadata_split, notes_with_metadata)\n",
    "            difficulty = split_data.group(4)\n",
    "            metadata = split_data.group(5)\n",
    "            notes = get_notes_from_note_string(split_data.group(6))\n",
    "            notes_with_metadata_map = {\n",
    "                'DIFFICULTY': difficulty,\n",
    "                'METADATA': metadata,\n",
    "                'NOTES': notes,\n",
    "            }\n",
    "            difficulty_map[difficulty] = notes_with_metadata_map\n",
    "    return difficulty_map\n",
    "\n",
    "def get_song_steps():\n",
    "    songs = [song for song in listdir('StepMania/Songs/In The Groove')]\n",
    "    songs.remove('.DS_Store')\n",
    "    song_steps = {}\n",
    "    for song in songs:\n",
    "        song_steps['In The Groove~{0}'.format(song)] = get_notes_and_metadata('StepMania/Songs/In The Groove/{0}/{0}.sm'.format(song))\n",
    "    return song_steps"
   ]
  },
  {
   "cell_type": "code",
   "execution_count": 12,
   "metadata": {
    "collapsed": false
   },
   "outputs": [],
   "source": [
    "def write_song_header(output_stepfile, song):\n",
    "    keys = ['VERSION', 'TITLE', 'MUSIC', 'OFFSET', 'SAMPLESTART', 'SAMPLELENGTH']\n",
    "    \n",
    "    header_info = {\n",
    "        'VERSION': 0.82,\n",
    "        'TITLE': song.name,\n",
    "        'MUSIC': '{0}.{1}'.format(song.name, song.extension),\n",
    "        'OFFSET': -song.beat_times[0],\n",
    "        'SAMPLESTART': song.beat_times[0] + 32 * song.beat_length,\n",
    "        'SAMPLELENGTH': 32 * song.beat_length\n",
    "    }\n",
    "    \n",
    "    for key in keys:\n",
    "        print (\"#{0}:{1};\".format(key, str(header_info[key])), file=output_stepfile)\n",
    "        \n",
    "def write_step_header(output_stepfile, song):\n",
    "    print(\"//---------------dance-single - ----------------\", file=output_stepfile)\n",
    "    keys = ['NOTEDATA', 'CHARTNAME', 'STEPSTYPE', 'DIFFICULTY', 'METER', 'RADARVALUES', 'BPMS']\n",
    "        \n",
    "    step_info = {\n",
    "        'NOTEDATA': '',\n",
    "        'CHARTNAME': 'Kommisar',\n",
    "        'STEPSTYPE': 'dance-single',\n",
    "        'DIFFICULTY': 'Expert',\n",
    "        'METER': 9,\n",
    "        'RADARVALUES': '0.234,0.292,0.008,0,0,211,212,1,0,0,0,0,0,0,0.234,0.292,0.008,0,0,211,212,1,0,0,0,0,0,0',\n",
    "        'BPMS': song.bpm_string\n",
    "    }\n",
    "    for key in keys:\n",
    "        print (\"#{0}:{1};\".format(key, str(step_info[key])), file=output_stepfile)\n",
    "        \n",
    "def write_notes_simple(output_stepfile, song):\n",
    "    print (\"#NOTES:\", file=output_stepfile)\n",
    "    \n",
    "    for i in range(40):\n",
    "        print (\"0001\\n0001\\n0001\\n0001\\n,\", file=output_stepfile)\n",
    "    print (\"0000;\", file=output_stepfile)\n",
    "    \n",
    "def write_notes(output_stepfile, song):\n",
    "    print (\"#NOTES:\", file=output_stepfile)\n",
    "    \n",
    "    samples = song.music_samples\n",
    "    # take steps_per_bar / 4 samples per beat (steps_per_bar per bar)\n",
    "    steps_per_beat = steps_per_bar / 4\n",
    "    filter_ammount = samples_per_second / steps_per_beat\n",
    "    \n",
    "    absolute_samples = [samples[i] for i in range(len(samples)) if i % filter_ammount == 0]\n",
    "    # show 1 / 3 of all notes\n",
    "    cutoff_index = int(len(absolute_samples) / 3)\n",
    "    cutoff = sorted(absolute_samples)[-cutoff_index]\n",
    "    indices = [sample > cutoff for sample in absolute_samples]\n",
    "    \n",
    "    for i in range(len(indices)):\n",
    "        if indices[i]:\n",
    "            print (\"0001\", file=output_stepfile)\n",
    "        else:\n",
    "            print (\"0000\", file=output_stepfile)\n",
    "        if i % steps_per_bar == 0 and i != 0:\n",
    "            print (\",\", file=output_stepfile)\n",
    "\n",
    "    print (\"0000;\", file=output_stepfile)\n",
    "    \n",
    "def step_song(song):\n",
    "    output_stepfile=open(song.stepfile, 'w')\n",
    "    write_song_header(output_stepfile, song)\n",
    "    write_step_header(output_stepfile, song)\n",
    "    write_notes(output_stepfile, song)\n",
    "    output_stepfile.close()"
   ]
  },
  {
   "cell_type": "code",
   "execution_count": 3,
   "metadata": {
    "collapsed": false
   },
   "outputs": [],
   "source": [
    "#song_data = load_all_songs(False)"
   ]
  },
  {
   "cell_type": "code",
   "execution_count": 1101,
   "metadata": {
    "collapsed": false
   },
   "outputs": [
    {
     "name": "stdout",
     "output_type": "stream",
     "text": [
      "Calculating beats for a_test~A\n"
     ]
    },
    {
     "name": "stderr",
     "output_type": "stream",
     "text": [
      "/Users/jgzuke/anaconda3/lib/python3.5/site-packages/ipykernel/__main__.py:25: VisibleDeprecationWarning: using a non-integer number instead of an integer will result in an error in the future\n",
      "/Users/jgzuke/anaconda3/lib/python3.5/site-packages/ipykernel/__main__.py:26: VisibleDeprecationWarning: using a non-integer number instead of an integer will result in an error in the future\n",
      "/Users/jgzuke/anaconda3/lib/python3.5/site-packages/ipykernel/__main__.py:27: VisibleDeprecationWarning: using a non-integer number instead of an integer will result in an error in the future\n"
     ]
    },
    {
     "name": "stdout",
     "output_type": "stream",
     "text": [
      "Saving calculated beats for a_test~A\n"
     ]
    }
   ],
   "source": [
    "#song_data = load_all_songs(False)\n",
    "\n",
    "import copy\n",
    "song = load_song('a_test', 'A', True)\n",
    "song2 = copy.deepcopy(song)\n",
    "song3 = copy.deepcopy(song)\n",
    "song2.name = 'A2'\n",
    "song3.name = 'A3'\n",
    "song2.stepfile = 'StepMania/Songs/{0}/{1}/{1}.ssc'.format('a_test', 'A2')\n",
    "song3.stepfile = 'StepMania/Songs/{0}/{1}/{1}.ssc'.format('a_test', 'A3')"
   ]
  },
  {
   "cell_type": "code",
   "execution_count": 1102,
   "metadata": {
    "collapsed": false
   },
   "outputs": [],
   "source": [
    "step_song(song)\n",
    "#step_song(song2)\n",
    "#step_song(song3)"
   ]
  },
  {
   "cell_type": "code",
   "execution_count": 13,
   "metadata": {
    "collapsed": false
   },
   "outputs": [
    {
     "name": "stdout",
     "output_type": "stream",
     "text": [
      "Calculating beats for a_test~A\n"
     ]
    },
    {
     "ename": "NameError",
     "evalue": "name 'beat_times' is not defined",
     "output_type": "error",
     "traceback": [
      "\u001b[0;31m---------------------------------------------------------------------------\u001b[0m",
      "\u001b[0;31mNameError\u001b[0m                                 Traceback (most recent call last)",
      "\u001b[0;32m<ipython-input-13-7eea66f1fb70>\u001b[0m in \u001b[0;36m<module>\u001b[0;34m()\u001b[0m\n\u001b[0;32m----> 1\u001b[0;31m \u001b[0msong\u001b[0m \u001b[0;34m=\u001b[0m \u001b[0mload_song\u001b[0m\u001b[0;34m(\u001b[0m\u001b[0;34m'a_test'\u001b[0m\u001b[0;34m,\u001b[0m \u001b[0;34m'A'\u001b[0m\u001b[0;34m,\u001b[0m \u001b[0;32mTrue\u001b[0m\u001b[0;34m)\u001b[0m\u001b[0;34m\u001b[0m\u001b[0m\n\u001b[0m",
      "\u001b[0;32m<ipython-input-7-a074b1687fa6>\u001b[0m in \u001b[0;36mload_song\u001b[0;34m(pack, title, force_new)\u001b[0m\n\u001b[1;32m      4\u001b[0m     \u001b[0mextension\u001b[0m \u001b[0;34m=\u001b[0m \u001b[0msong\u001b[0m\u001b[0;34m.\u001b[0m\u001b[0msplit\u001b[0m\u001b[0;34m(\u001b[0m\u001b[0;34m'.'\u001b[0m\u001b[0;34m)\u001b[0m\u001b[0;34m[\u001b[0m\u001b[0;36m1\u001b[0m\u001b[0;34m]\u001b[0m\u001b[0;34m\u001b[0m\u001b[0m\n\u001b[1;32m      5\u001b[0m     \u001b[0mkey\u001b[0m \u001b[0;34m=\u001b[0m \u001b[0;34m'{0}~{1}'\u001b[0m\u001b[0;34m.\u001b[0m\u001b[0mformat\u001b[0m\u001b[0;34m(\u001b[0m\u001b[0mpack\u001b[0m\u001b[0;34m,\u001b[0m \u001b[0mtitle\u001b[0m\u001b[0;34m)\u001b[0m\u001b[0;34m\u001b[0m\u001b[0m\n\u001b[0;32m----> 6\u001b[0;31m     \u001b[0;32mreturn\u001b[0m \u001b[0mSongFile\u001b[0m\u001b[0;34m(\u001b[0m\u001b[0mpack\u001b[0m\u001b[0;34m,\u001b[0m \u001b[0mtitle\u001b[0m\u001b[0;34m,\u001b[0m \u001b[0mextension\u001b[0m\u001b[0;34m,\u001b[0m \u001b[0mforce_new\u001b[0m\u001b[0;34m)\u001b[0m\u001b[0;34m\u001b[0m\u001b[0m\n\u001b[0m\u001b[1;32m      7\u001b[0m \u001b[0;34m\u001b[0m\u001b[0m\n\u001b[1;32m      8\u001b[0m \u001b[0;32mdef\u001b[0m \u001b[0mload_songs\u001b[0m\u001b[0;34m(\u001b[0m\u001b[0msongs\u001b[0m\u001b[0;34m,\u001b[0m \u001b[0mforce_new\u001b[0m\u001b[0;34m)\u001b[0m\u001b[0;34m:\u001b[0m\u001b[0;34m\u001b[0m\u001b[0m\n",
      "\u001b[0;32m<ipython-input-6-71c62c0ecad3>\u001b[0m in \u001b[0;36m__init__\u001b[0;34m(self, pack, name, extension, force_new)\u001b[0m\n\u001b[1;32m     34\u001b[0m         \u001b[0;32mif\u001b[0m \u001b[0mforce_new\u001b[0m \u001b[0;32mor\u001b[0m \u001b[0;34m(\u001b[0m\u001b[0;32mnot\u001b[0m \u001b[0;34m'{0}_beat_frames.csv'\u001b[0m\u001b[0;34m.\u001b[0m\u001b[0mformat\u001b[0m\u001b[0;34m(\u001b[0m\u001b[0mkey\u001b[0m\u001b[0;34m)\u001b[0m \u001b[0;32min\u001b[0m \u001b[0mlistdir\u001b[0m\u001b[0;34m(\u001b[0m\u001b[0;34m'data'\u001b[0m\u001b[0;34m)\u001b[0m\u001b[0;34m)\u001b[0m\u001b[0;34m:\u001b[0m\u001b[0;34m\u001b[0m\u001b[0m\n\u001b[1;32m     35\u001b[0m             \u001b[0mprint\u001b[0m \u001b[0;34m(\u001b[0m\u001b[0;34m'Calculating beats for {0}'\u001b[0m\u001b[0;34m.\u001b[0m\u001b[0mformat\u001b[0m\u001b[0;34m(\u001b[0m\u001b[0mkey\u001b[0m\u001b[0;34m)\u001b[0m\u001b[0;34m)\u001b[0m\u001b[0;34m\u001b[0m\u001b[0m\n\u001b[0;32m---> 36\u001b[0;31m             \u001b[0mself\u001b[0m\u001b[0;34m.\u001b[0m\u001b[0mload_new\u001b[0m\u001b[0;34m(\u001b[0m\u001b[0;34m)\u001b[0m\u001b[0;34m\u001b[0m\u001b[0m\n\u001b[0m\u001b[1;32m     37\u001b[0m \u001b[0;34m\u001b[0m\u001b[0m\n\u001b[1;32m     38\u001b[0m             \u001b[0mprint\u001b[0m \u001b[0;34m(\u001b[0m\u001b[0;34m'Saving calculated beats for {0}'\u001b[0m\u001b[0;34m.\u001b[0m\u001b[0mformat\u001b[0m\u001b[0;34m(\u001b[0m\u001b[0mkey\u001b[0m\u001b[0;34m)\u001b[0m\u001b[0;34m)\u001b[0m\u001b[0;34m\u001b[0m\u001b[0m\n",
      "\u001b[0;32m<ipython-input-6-71c62c0ecad3>\u001b[0m in \u001b[0;36mload_new\u001b[0;34m(self)\u001b[0m\n\u001b[1;32m     18\u001b[0m         \u001b[0mnum_samples\u001b[0m \u001b[0;34m=\u001b[0m \u001b[0mint\u001b[0m\u001b[0;34m(\u001b[0m\u001b[0mbps\u001b[0m \u001b[0;34m*\u001b[0m \u001b[0mseconds\u001b[0m \u001b[0;34m*\u001b[0m \u001b[0msamples_per_second\u001b[0m\u001b[0;34m)\u001b[0m \u001b[0;34m-\u001b[0m \u001b[0msamples_per_second\u001b[0m \u001b[0;31m# -1 to avoid out of bounds for now\u001b[0m\u001b[0;34m\u001b[0m\u001b[0m\n\u001b[1;32m     19\u001b[0m         \u001b[0mbeat_time\u001b[0m \u001b[0;34m=\u001b[0m \u001b[0mself\u001b[0m\u001b[0;34m.\u001b[0m\u001b[0mbeat_length\u001b[0m \u001b[0;34m/\u001b[0m \u001b[0msamples_per_second\u001b[0m\u001b[0;34m\u001b[0m\u001b[0m\n\u001b[0;32m---> 20\u001b[0;31m         \u001b[0mself\u001b[0m\u001b[0;34m.\u001b[0m\u001b[0msample_times\u001b[0m \u001b[0;34m=\u001b[0m \u001b[0;34m[\u001b[0m\u001b[0mbeat_times\u001b[0m\u001b[0;34m[\u001b[0m\u001b[0;36m0\u001b[0m\u001b[0;34m]\u001b[0m \u001b[0;34m+\u001b[0m \u001b[0;34m(\u001b[0m\u001b[0mbeat_time\u001b[0m \u001b[0;34m*\u001b[0m \u001b[0mi\u001b[0m\u001b[0;34m)\u001b[0m \u001b[0;32mfor\u001b[0m \u001b[0mi\u001b[0m \u001b[0;32min\u001b[0m \u001b[0mrange\u001b[0m\u001b[0;34m(\u001b[0m\u001b[0mnum_samples\u001b[0m\u001b[0;34m)\u001b[0m\u001b[0;34m]\u001b[0m\u001b[0;34m\u001b[0m\u001b[0m\n\u001b[0m\u001b[1;32m     21\u001b[0m \u001b[0;34m\u001b[0m\u001b[0m\n\u001b[1;32m     22\u001b[0m         \u001b[0mself\u001b[0m\u001b[0;34m.\u001b[0m\u001b[0mindices\u001b[0m \u001b[0;34m=\u001b[0m \u001b[0;34m[\u001b[0m\u001b[0mround\u001b[0m\u001b[0;34m(\u001b[0m\u001b[0mtime\u001b[0m \u001b[0;34m*\u001b[0m \u001b[0msample_rate\u001b[0m\u001b[0;34m)\u001b[0m \u001b[0;32mfor\u001b[0m \u001b[0mtime\u001b[0m \u001b[0;32min\u001b[0m \u001b[0mself\u001b[0m\u001b[0;34m.\u001b[0m\u001b[0msample_times\u001b[0m\u001b[0;34m]\u001b[0m\u001b[0;34m\u001b[0m\u001b[0m\n",
      "\u001b[0;32m<ipython-input-6-71c62c0ecad3>\u001b[0m in \u001b[0;36m<listcomp>\u001b[0;34m(.0)\u001b[0m\n\u001b[1;32m     18\u001b[0m         \u001b[0mnum_samples\u001b[0m \u001b[0;34m=\u001b[0m \u001b[0mint\u001b[0m\u001b[0;34m(\u001b[0m\u001b[0mbps\u001b[0m \u001b[0;34m*\u001b[0m \u001b[0mseconds\u001b[0m \u001b[0;34m*\u001b[0m \u001b[0msamples_per_second\u001b[0m\u001b[0;34m)\u001b[0m \u001b[0;34m-\u001b[0m \u001b[0msamples_per_second\u001b[0m \u001b[0;31m# -1 to avoid out of bounds for now\u001b[0m\u001b[0;34m\u001b[0m\u001b[0m\n\u001b[1;32m     19\u001b[0m         \u001b[0mbeat_time\u001b[0m \u001b[0;34m=\u001b[0m \u001b[0mself\u001b[0m\u001b[0;34m.\u001b[0m\u001b[0mbeat_length\u001b[0m \u001b[0;34m/\u001b[0m \u001b[0msamples_per_second\u001b[0m\u001b[0;34m\u001b[0m\u001b[0m\n\u001b[0;32m---> 20\u001b[0;31m         \u001b[0mself\u001b[0m\u001b[0;34m.\u001b[0m\u001b[0msample_times\u001b[0m \u001b[0;34m=\u001b[0m \u001b[0;34m[\u001b[0m\u001b[0mbeat_times\u001b[0m\u001b[0;34m[\u001b[0m\u001b[0;36m0\u001b[0m\u001b[0;34m]\u001b[0m \u001b[0;34m+\u001b[0m \u001b[0;34m(\u001b[0m\u001b[0mbeat_time\u001b[0m \u001b[0;34m*\u001b[0m \u001b[0mi\u001b[0m\u001b[0;34m)\u001b[0m \u001b[0;32mfor\u001b[0m \u001b[0mi\u001b[0m \u001b[0;32min\u001b[0m \u001b[0mrange\u001b[0m\u001b[0;34m(\u001b[0m\u001b[0mnum_samples\u001b[0m\u001b[0;34m)\u001b[0m\u001b[0;34m]\u001b[0m\u001b[0;34m\u001b[0m\u001b[0m\n\u001b[0m\u001b[1;32m     21\u001b[0m \u001b[0;34m\u001b[0m\u001b[0m\n\u001b[1;32m     22\u001b[0m         \u001b[0mself\u001b[0m\u001b[0;34m.\u001b[0m\u001b[0mindices\u001b[0m \u001b[0;34m=\u001b[0m \u001b[0;34m[\u001b[0m\u001b[0mround\u001b[0m\u001b[0;34m(\u001b[0m\u001b[0mtime\u001b[0m \u001b[0;34m*\u001b[0m \u001b[0msample_rate\u001b[0m\u001b[0;34m)\u001b[0m \u001b[0;32mfor\u001b[0m \u001b[0mtime\u001b[0m \u001b[0;32min\u001b[0m \u001b[0mself\u001b[0m\u001b[0;34m.\u001b[0m\u001b[0msample_times\u001b[0m\u001b[0;34m]\u001b[0m\u001b[0;34m\u001b[0m\u001b[0m\n",
      "\u001b[0;31mNameError\u001b[0m: name 'beat_times' is not defined"
     ]
    }
   ],
   "source": [
    "song = load_song('a_test', 'A', True)"
   ]
  },
  {
   "cell_type": "code",
   "execution_count": null,
   "metadata": {
    "collapsed": true
   },
   "outputs": [],
   "source": [
    "self.y_harmonic, self.y_percussive = librosa.effects.hpss(song.data)\n"
   ]
  }
 ],
 "metadata": {
  "anaconda-cloud": {},
  "kernelspec": {
   "display_name": "Python 3",
   "language": "python",
   "name": "python3"
  },
  "language_info": {
   "codemirror_mode": {
    "name": "ipython",
    "version": 3
   },
   "file_extension": ".py",
   "mimetype": "text/x-python",
   "name": "python",
   "nbconvert_exporter": "python",
   "pygments_lexer": "ipython3",
   "version": "3.5.1"
  }
 },
 "nbformat": 4,
 "nbformat_minor": 0
}
