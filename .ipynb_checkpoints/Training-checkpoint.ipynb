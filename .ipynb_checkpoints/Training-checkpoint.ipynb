{
 "cells": [
  {
   "cell_type": "code",
   "execution_count": 13,
   "metadata": {
    "collapsed": false
   },
   "outputs": [],
   "source": [
    "from __future__ import print_function\n",
    "%matplotlib inline\n",
    "import copy\n",
    "import pandas as pd\n",
    "import numpy as np\n",
    "import librosa\n",
    "import seaborn as sb\n",
    "import matplotlib.pyplot as plt\n",
    "import itertools\n",
    "import re\n",
    "import random\n",
    "import gc\n",
    "from os import listdir\n",
    "from os.path import isfile, join\n",
    "from numpy import median, diff\n",
    "from keras.models import Sequential\n",
    "from keras.layers import Dense, Activation, Dropout"
   ]
  },
  {
   "cell_type": "code",
   "execution_count": 14,
   "metadata": {
    "collapsed": false
   },
   "outputs": [],
   "source": [
    "# start with each input secion maps to one note\n",
    "# train model for that (just list comprhension on noets for contains 1 maps to true)\n",
    "\n",
    "# then move to bars eg section of 4 bars maps to output for each note\n",
    "# error = probability of note being true vs was it really\n",
    "\n",
    "# try bar + prev notes (home use weird dimensioned data?) to predict next notes\n",
    "\n",
    "# try feeding in non structured data (bpm, position of time in song, song length, \n",
    "# things about feel of song (generated features))\n",
    "# try using keras merge layer to add extra features"
   ]
  },
  {
   "cell_type": "code",
   "execution_count": 85,
   "metadata": {
    "collapsed": false
   },
   "outputs": [],
   "source": [
    "samples_back_included = 24\n",
    "num_classes = 5\n",
    "num_features = 40 + 1 + num_classes\n",
    "\n",
    "def get_features_for_index(beat_features, notes, index):\n",
    "    if index < 0:\n",
    "        return [0] * num_features\n",
    "    features = beat_features[index]\n",
    "    misc_features = get_steps_for_index(notes, index - 1)\n",
    "    misc_features.append(index % 48)\n",
    "    return np.concatenate((features, misc_features))\n",
    "\n",
    "def get_steps_for_index(notes, index):\n",
    "    if index < 0:\n",
    "        return [True, False, False, False, False]\n",
    "    row = notes[index][0]\n",
    "    steps = row.count('1')\n",
    "    mines = row.count('M')\n",
    "    return [int(feature) for feature in [steps == 0, steps >= 1, steps >= 2, steps >= 3, mines > 0]]\n",
    "\n",
    "def build_batch_generator():\n",
    "    songs_to_use = pd.read_csv('data/songs_to_use.csv').values\n",
    "    save_files = listdir('data')\n",
    "    for song_data in songs_to_use[:100]:\n",
    "        if '{0}_beat_features.csv'.format(song_data[0]) in save_files and '{0}_notes.csv'.format(song_data[0]) in save_files:\n",
    "            X = []\n",
    "            y = []\n",
    "            beat_features_rotated = pd.read_csv('data/{0}_beat_features.csv'.format(song_data[0])).values\n",
    "            notes = pd.read_csv('data/{0}_notes.csv'.format(song_data[0]), converters={'0': lambda x: str(x)}).values\n",
    "            beat_features = np.flipud(np.rot90(np.array(beat_features_rotated)))\n",
    "            for i in range(min(len(notes), len(beat_features))):\n",
    "                features = [feature for j in range(samples_back_included) for feature in get_features_for_index(beat_features, notes, i - j)]\n",
    "                X.append(features)\n",
    "                y.append(get_steps_for_index(notes, i))\n",
    "            yield (np.array(X), np.array(y))"
   ]
  },
  {
   "cell_type": "code",
   "execution_count": 86,
   "metadata": {
    "collapsed": true
   },
   "outputs": [],
   "source": [
    "#gen = build_batch_generator()\n",
    "#X, y = next(gen)"
   ]
  },
  {
   "cell_type": "markdown",
   "metadata": {},
   "source": [
    "# Categories =\n",
    "- no_notes\n",
    "- one_note\n",
    "- two_notes\n",
    "- many_notes\n",
    "- mine"
   ]
  },
  {
   "cell_type": "code",
   "execution_count": 91,
   "metadata": {
    "collapsed": false
   },
   "outputs": [],
   "source": [
    "class_weights = {\"Ouput1\": weights1, \"Output2\": weights2}\n",
    "\n",
    "beat_feature_model = Sequential()\n",
    "beat_feature_model.add(Dense(64, input_dim=samples_back_included * num_features, init='uniform', activation='relu'))\n",
    "beat_feature_model.add(Dense(64, activation='relu'))\n",
    "beat_feature_model.add(Dense(num_classes, activation='sigmoid'))\n",
    "\n",
    "beat_feature_model.compile(loss='mse',\n",
    "                           optimizer='adadelta',\n",
    "                           class_weights=class_weights\n",
    "                           metrics=['accuracy'])"
   ]
  },
  {
   "cell_type": "code",
   "execution_count": 92,
   "metadata": {
    "collapsed": false
   },
   "outputs": [
    {
     "name": "stdout",
     "output_type": "stream",
     "text": [
      "[array(0.6020230650901794, dtype=float32), array(0.14983974397182465, dtype=float32)]\n"
     ]
    }
   ],
   "source": [
    "gen = build_batch_generator()\n",
    "#for data in gen:\n",
    "for i in range(2):\n",
    "    X, y = next(gen)\n",
    "    beat_feature_model.train_on_batch(X, y)\n",
    "\n",
    "gen = build_batch_generator()\n",
    "for i in range(1):\n",
    "    X, y = next(gen)\n",
    "    print (beat_feature_model.test_on_batch(X, y))"
   ]
  },
  {
   "cell_type": "code",
   "execution_count": 93,
   "metadata": {
    "collapsed": false
   },
   "outputs": [],
   "source": [
    "X, y = next(gen)\n",
    "predictions = beat_feature_model.predict(X)"
   ]
  },
  {
   "cell_type": "code",
   "execution_count": 102,
   "metadata": {
    "collapsed": false
   },
   "outputs": [
    {
     "data": {
      "text/plain": [
       "3"
      ]
     },
     "execution_count": 102,
     "metadata": {},
     "output_type": "execute_result"
    }
   ],
   "source": [
    "a = np.array([1, 2, 3, 6, 5])\n",
    "a.argmax()"
   ]
  },
  {
   "cell_type": "code",
   "execution_count": 103,
   "metadata": {
    "collapsed": false
   },
   "outputs": [
    {
     "name": "stdout",
     "output_type": "stream",
     "text": [
      "Length: 3312\n"
     ]
    },
    {
     "data": {
      "image/png": "[encoded data removed]",
      "text/plain": [
       "<matplotlib.figure.Figure at 0x12795c748>"
      ]
     },
     "metadata": {},
     "output_type": "display_data"
    }
   ],
   "source": [
    "print ('Length: ' + str(len(predictions)))\n",
    "filtered = [predictions[i] for i in range(len(predictions)) if i % 12 == 0]\n",
    "most_likely = [row.argmax() for row in filtered]\n",
    "sb.set_style(\"darkgrid\")\n",
    "plt.plot(most_likely)\n",
    "plt.show()"
   ]
  },
  {
   "cell_type": "code",
   "execution_count": null,
   "metadata": {
    "collapsed": true
   },
   "outputs": [],
   "source": []
  },
  {
   "cell_type": "code",
   "execution_count": 112,
   "metadata": {
    "collapsed": false
   },
   "outputs": [
    {
     "name": "stdout",
     "output_type": "stream",
     "text": [
      "Epoch 1/10\n",
      "1000/1000 [==============================] - 0s - loss: 0.3267 - acc: 0.9160     \n",
      "Epoch 2/10\n",
      "1000/1000 [==============================] - 0s - loss: 0.3035 - acc: 0.9160     \n",
      "Epoch 3/10\n",
      "1000/1000 [==============================] - 0s - loss: 0.2968 - acc: 0.9160     \n",
      "Epoch 4/10\n",
      "1000/1000 [==============================] - 0s - loss: 0.2947 - acc: 0.9160     \n",
      "Epoch 5/10\n",
      "1000/1000 [==============================] - 0s - loss: 0.3047 - acc: 0.9160     \n",
      "Epoch 6/10\n",
      "1000/1000 [==============================] - 0s - loss: 0.2985 - acc: 0.9160     \n",
      "Epoch 7/10\n",
      "1000/1000 [==============================] - 0s - loss: 0.3028 - acc: 0.9160     \n",
      "Epoch 8/10\n",
      "1000/1000 [==============================] - 0s - loss: 0.2981 - acc: 0.9160     \n",
      "Epoch 9/10\n",
      "1000/1000 [==============================] - 0s - loss: 0.2936 - acc: 0.9160     \n",
      "Epoch 10/10\n",
      "1000/1000 [==============================] - 0s - loss: 0.2879 - acc: 0.9160     \n"
     ]
    },
    {
     "data": {
      "text/plain": [
       "<keras.callbacks.History at 0x12a24d630>"
      ]
     },
     "execution_count": 112,
     "metadata": {},
     "output_type": "execute_result"
    }
   ],
   "source": [
    "beat_feature_model.fit(X[:1000], y[:1000], nb_epoch=10, batch_size=32)"
   ]
  },
  {
   "cell_type": "code",
   "execution_count": null,
   "metadata": {
    "collapsed": true
   },
   "outputs": [],
   "source": [
    "beat_feature_model = Sequential([\n",
    "    Dense(32, input_dim=784),\n",
    "    Activation('relu'),\n",
    "    Dense(10),\n",
    "    Activation('softmax'),\n",
    "])\n",
    "\n",
    "misc_feature_model = Sequential([\n",
    "    Dense(32, input_dim=4),\n",
    "    Activation('relu'),\n",
    "])\n",
    "\n",
    "model = Sequential([\n",
    "    Merge([beat_feature_model, misc_feature_model], mode='concat'),\n",
    "    Activation('relu'),\n",
    "    Dense(10),\n",
    "    Activation('softmax'),\n",
    "])\n",
    "\n",
    "def mean_pred(y_true, y_pred):\n",
    "    return K.mean(y_pred)\n",
    "\n",
    "def false_rates(y_true, y_pred):\n",
    "    false_neg = ...\n",
    "    false_pos = ...\n",
    "    return {\n",
    "        'false_neg': false_neg,\n",
    "        'false_pos': false_pos,\n",
    "    }\n",
    "\n",
    "model.compile(loss='mean_squared_error', optimizer='sgd', metrics=['accuracy', mean_pred, false_rates])\n",
    "\n",
    "model.fit(data, labels, nb_epoch=10, batch_size=32)\n",
    "model.predict(self, x, batch_size=32, verbose=0)"
   ]
  }
 ],
 "metadata": {
  "anaconda-cloud": {},
  "kernelspec": {
   "display_name": "Python 3",
   "language": "python",
   "name": "python3"
  },
  "language_info": {
   "codemirror_mode": {
    "name": "ipython",
    "version": 3
   },
   "file_extension": ".py",
   "mimetype": "text/x-python",
   "name": "python",
   "nbconvert_exporter": "python",
   "pygments_lexer": "ipython3",
   "version": "3.5.1"
  }
 },
 "nbformat": 4,
 "nbformat_minor": 0
}
