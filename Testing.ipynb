{
 "cells": [
  {
   "cell_type": "code",
   "execution_count": 102,
   "metadata": {
    "collapsed": false
   },
   "outputs": [],
   "source": [
    "%matplotlib inline\n",
    "import copy\n",
    "import pandas as pd\n",
    "import numpy as np\n",
    "import librosa\n",
    "import seaborn as sb\n",
    "import matplotlib.pyplot as plt\n",
    "import itertools\n",
    "import re\n",
    "import random\n",
    "from os import listdir\n",
    "from os.path import isfile, join\n",
    "from __future__ import print_function\n",
    "from numpy import median, diff"
   ]
  },
  {
   "cell_type": "markdown",
   "metadata": {},
   "source": [
    "# SongFile:\n",
    "### Fields\n",
    "- beat_frames:  \n",
    "- beat_times: \n",
    "- bpm: \n",
    "- bpm_string: \n",
    "- beat_length: \n",
    "- sample_times: \n",
    "- indices: \n",
    "- music_samples: \n",
    "- data: \n",
    "\n",
    "- pack\n",
    "- name\n",
    "- extension\n",
    "- music_file\n",
    "- stepfile\n",
    "### Output\n",
    "- data/{0}_beat_times.csv\n",
    "- data/{0}_beat_frames.csv\n",
    "- data/{0}_music_samples.csv\n",
    "\n",
    "# TODO separate music and stepfile (dont assume scc, or always use sm)"
   ]
  },
  {
   "cell_type": "code",
   "execution_count": 113,
   "metadata": {
    "collapsed": true
   },
   "outputs": [],
   "source": [
    "sample_rate_down = 16\n",
    "hop_length_down = 8\n",
    "sr = 11025 * 16 / sample_rate_down\n",
    "hop_length = 512 / (sample_rate_down * hop_length_down)\n",
    "samples_per_second = 24 * 4\n",
    "steps_per_bar = 12\n",
    "class SongFile:\n",
    "    def load_new(self):\n",
    "        data, _ = librosa.load(self.music_file, sr=sr)\n",
    "        _, self.beat_frames = librosa.beat.beat_track(y=data, sr=sr, hop_length=hop_length)\n",
    "        self.beat_times = librosa.frames_to_time(self.beat_frames, sr=sr, hop_length=hop_length)\n",
    "\n",
    "        seconds = len(data) / sr\n",
    "        times = get_beats(self.beat_times, self.beat_frames)\n",
    "        self.bpm = times[0][1]\n",
    "        self.bpm_string = get_time_string(times)\n",
    "        \n",
    "        self.beat_length = 60. / self.bpm\n",
    "        bps = self.bpm / 60\n",
    "        # take 24 samples for each beat (need 3rds, 8ths)\n",
    "        num_samples = int(bps * seconds * samples_per_second)\n",
    "        beat_time = self.beat_length / samples_per_second\n",
    "        \n",
    "        sample_times = [self.beat_times[0] + (beat_time * i) for i in range(num_samples)]\n",
    "        # only take samples where music still playing\n",
    "        self.sample_times = [time for time in sample_times if round(time * sr) < len(data)]\n",
    "        self.indices = [round(time * sr) for time in self.sample_times]\n",
    "        self.music_samples = [data[index] for index in self.indices]\n",
    "        self.data = data\n",
    "    \n",
    "    def __init__(self, pack, name, extension, force_new):\n",
    "        self.pack = pack\n",
    "        self.name = name\n",
    "        self.extension = extension\n",
    "        self.music_file = 'StepMania/Songs/{0}/{1}/{1}.{2}'.format(pack, name, extension)\n",
    "        self.stepfile = 'StepMania/Songs/{0}/{1}/{1}.ssc'.format(pack, name)\n",
    "        \n",
    "        key = '{0}~{1}'.format(pack, name)\n",
    "        if force_new or (not '{0}_beat_frames.csv'.format(key) in listdir('data')):\n",
    "            print ('Calculating beats for {0}'.format(key))\n",
    "            self.load_new()\n",
    "                        \n",
    "            print ('Saving calculated beats for {0}'.format(key))\n",
    "            pd.DataFrame(self.beat_times).to_csv('data/{0}_beat_times.csv'.format(key), index=False)\n",
    "            pd.DataFrame(self.beat_frames).to_csv('data/{0}_beat_frames.csv'.format(key), index=False)\n",
    "            pd.DataFrame(self.music_samples).to_csv('data/{0}_music_samples.csv'.format(key), index=False)\n",
    "        else:\n",
    "            #print ('Loading beats from save for {0}'.format(key))\n",
    "            self.beat_frames = pd.read_csv('data/{0}_beat_frames.csv'.format(key)).values.flatten()\n",
    "            self.beat_times = pd.read_csv('data/{0}_beat_times.csv'.format(key)).values.flatten()\n",
    "            self.music_samples = pd.read_csv('data/{0}_music_samples.csv'.format(key)).values.flatten()"
   ]
  },
  {
   "cell_type": "markdown",
   "metadata": {},
   "source": [
    "# Some useful functions to load induvidual or lists of songs\n",
    "- load_song(pack: String, pack: String, force_new: Bool)\n",
    "- load_songs(songs: Array(Pair(String~pack, String~title)), force_new: Bool)\n",
    "- load_all_songs(force_new: Bool)"
   ]
  },
  {
   "cell_type": "code",
   "execution_count": 104,
   "metadata": {
    "collapsed": false
   },
   "outputs": [],
   "source": [
    "def load_song(pack, title, force_new):\n",
    "    folder_path = 'StepMania/Songs/{0}/{1}'.format(pack, title)\n",
    "    song = next(file for file in listdir(folder_path) if file.endswith('.ogg') or file.endswith('.mp3'))\n",
    "    extension = song.split('.')[1]\n",
    "    key = '{0}~{1}'.format(pack, title)\n",
    "    return SongFile(pack, title, extension, force_new)\n",
    "\n",
    "def load_songs(songs, force_new):\n",
    "    return {'{0}~{1}'.format(song[0], song[1]): load_song(song[0], song[1], force_new) for song in songs}\n",
    "\n",
    "def load_all_songs(force_new):\n",
    "    songs = [('In The Groove', song) for song in listdir('StepMania/Songs/In The Groove') if song != '.DS_Store']\n",
    "    songs.extend([('a_test', song) for song in ['A', 'B', 'C']])\n",
    "    return load_songs(songs, force_new)"
   ]
  },
  {
   "cell_type": "markdown",
   "metadata": {},
   "source": [
    "# Functions to get bpm from song\n",
    "- get_beats(beat_times: Array(Float), beat_frames: Array(Int))\n",
    "- get_time_string(times: Array(Pair(Float~timeToStart, Float~bpm)))"
   ]
  },
  {
   "cell_type": "code",
   "execution_count": 105,
   "metadata": {
    "collapsed": false
   },
   "outputs": [],
   "source": [
    "def get_beats(beat_times, beat_frames):\n",
    "    changes = []\n",
    "    changes_time = []\n",
    "    for i in range(len(beat_frames) - 1):\n",
    "        changes.append(beat_frames[i + 1] - beat_frames[i])\n",
    "        changes_time.append(beat_times[i + 1] - beat_times[i])\n",
    "\n",
    "    sorted_changes = sorted(changes)\n",
    "    median = sorted_changes[int(len(changes) / 2)]\n",
    "    median = max(set(sorted_changes), key=sorted_changes.count)\n",
    "\n",
    "    changes_counted = [False] * len(changes)\n",
    "    time_changes_sum = 0\n",
    "    time_changes_count = 0\n",
    "    for i in range(len(changes)):\n",
    "        # can use other factors (eg if song has a slow part take double beats into accout)\n",
    "        # in [0.5, 1, 2]:\n",
    "        for change_factor in [1]:\n",
    "            if abs((changes[i] * change_factor) - median) <= hop_length_down:\n",
    "                changes_counted[i] = True\n",
    "                time_changes_sum += (changes_time[i] * change_factor)\n",
    "                time_changes_count += change_factor\n",
    "            \n",
    "    average = time_changes_sum / time_changes_count\n",
    "    \n",
    "    time_differences = []\n",
    "    earliest_proper_beat = 1\n",
    "    for i in range(1, len(beat_times) - 1):\n",
    "        if changes_counted[i] & changes_counted[i - 1]:\n",
    "            earliest_proper_beat = i\n",
    "            break\n",
    "            \n",
    "    last_proper_beat = len(beat_times) -2\n",
    "    for i in range(1, len(beat_times) - 1):\n",
    "        if changes_counted[len(beat_times) - i - 1] & changes_counted[len(beat_times) - i - 2]:\n",
    "            last_proper_beat = len(beat_times) - i - 1\n",
    "            break\n",
    "    \n",
    "    time_differences = []\n",
    "    buffer = 5\n",
    "    for i in range(20):\n",
    "        start_beat = earliest_proper_beat + buffer * i\n",
    "        if changes_counted[start_beat] & changes_counted[start_beat - 1]:\n",
    "            for j in range(20):\n",
    "                end_beat = last_proper_beat - buffer * j\n",
    "                if changes_counted[end_beat] & changes_counted[end_beat - 1]:\n",
    "                    time_differences.append(beat_times[end_beat] - beat_times[start_beat])\n",
    "        \n",
    "    # get num beats, round, and make new average\n",
    "    new_averages = [time_difference / round(time_difference / average) for time_difference in time_differences]\n",
    "    #print (new_averages)\n",
    "    new_averages.sort()\n",
    "    num_averages = len(new_averages)\n",
    "    #new_average = sum(new_averages[5:num_averages - 5]) / (num_averages - 10)\n",
    "    new_average = new_averages[int(num_averages/2)]\n",
    "    return [(0, 60./new_average)]\n",
    "    \n",
    "def get_time_string(times):\n",
    "    time_strings = []\n",
    "    for time in times:\n",
    "        if time[0] != 0:\n",
    "            time_strings.append(',')\n",
    "        time_strings.append('{:}={:.5f}'.format(time[0], time[1]))\n",
    "    return ''.join(time_strings)"
   ]
  },
  {
   "cell_type": "markdown",
   "metadata": {},
   "source": [
    "# Helpers to test get_beats() above\n",
    "- get_bpm(file: String)\n",
    "- get_song_bpms()\n",
    "- test_get_beats(song_data: Map(SongData))"
   ]
  },
  {
   "cell_type": "code",
   "execution_count": 110,
   "metadata": {
    "collapsed": false
   },
   "outputs": [],
   "source": [
    "def get_bpm(file):\n",
    "    with open(file, \"r\") as ins:\n",
    "        for line in ins:\n",
    "            if line.startswith('#BPMS:'):\n",
    "                result = re.search('#BPMS:(.*);', line)\n",
    "                bpm_string = result.group(1)\n",
    "                if len(bpm_string.split(',')) == 1:\n",
    "                    return float(bpm_string.split('=')[1])\n",
    "                return 0\n",
    "    return 0\n",
    "\n",
    "def get_song_bpms(song_data):\n",
    "    song_bpms = {}\n",
    "    for key, song in song_data.items():\n",
    "        song_bpms[key] = get_bpm('StepMania/Songs/{0}/{1}/{1}.sm'.format(song.pack, song.name))\n",
    "    return song_bpms\n",
    "\n",
    "def test_get_beats(song_data):\n",
    "    song_bpms = get_song_bpms(song_data)\n",
    "    errors = []\n",
    "    for key in song_data:\n",
    "        song = song_data[key]\n",
    "        real_beat = song_bpms[key]\n",
    "        if real_beat != 0:\n",
    "            prediced_beat = get_beats(song.beat_times, song.beat_frames)[0][1]\n",
    "            for i in range (1,4):\n",
    "                if abs((prediced_beat * (i + 1) / (i)) - real_beat) < abs(prediced_beat - real_beat):\n",
    "                    prediced_beat *= (i + 1) / (i)\n",
    "            print ('{0:.3f} - {1:.3f} = {2:.3f} ({3})'.format(prediced_beat, real_beat, prediced_beat - real_beat, song.name))\n",
    "\n",
    "#test_get_beats(song_data)"
   ]
  },
  {
   "cell_type": "code",
   "execution_count": 74,
   "metadata": {
    "collapsed": false
   },
   "outputs": [],
   "source": [
    "#songs = [('In The Groove', song) for song in listdir('StepMania/Songs/In The Groove') if song != '.DS_Store']\n",
    "#song_data_temp = load_songs(songs, True)"
   ]
  },
  {
   "cell_type": "code",
   "execution_count": 114,
   "metadata": {
    "collapsed": false
   },
   "outputs": [
    {
     "name": "stdout",
     "output_type": "stream",
     "text": [
      "Calculating beats for In The Groove~Bend Your Mind\n"
     ]
    },
    {
     "name": "stderr",
     "output_type": "stream",
     "text": [
      "/Users/jgzuke/anaconda3/lib/python3.5/site-packages/numpy/core/numeric.py:482: VisibleDeprecationWarning: using a non-integer number instead of an integer will result in an error in the future\n",
      "  return array(a, dtype, copy=False, order=order)\n",
      "/Users/jgzuke/anaconda3/lib/python3.5/site-packages/ipykernel/__main__.py:28: VisibleDeprecationWarning: using a non-integer number instead of an integer will result in an error in the future\n"
     ]
    },
    {
     "name": "stdout",
     "output_type": "stream",
     "text": [
      "Saving calculated beats for In The Groove~Bend Your Mind\n",
      "Calculating beats for In The Groove~Boogie Down\n"
     ]
    },
    {
     "name": "stderr",
     "output_type": "stream",
     "text": [
      "/Users/jgzuke/anaconda3/lib/python3.5/site-packages/numpy/core/numeric.py:482: VisibleDeprecationWarning: using a non-integer number instead of an integer will result in an error in the future\n",
      "  return array(a, dtype, copy=False, order=order)\n",
      "/Users/jgzuke/anaconda3/lib/python3.5/site-packages/ipykernel/__main__.py:28: VisibleDeprecationWarning: using a non-integer number instead of an integer will result in an error in the future\n"
     ]
    },
    {
     "name": "stdout",
     "output_type": "stream",
     "text": [
      "Saving calculated beats for In The Groove~Boogie Down\n",
      "Calculating beats for In The Groove~Bouff\n"
     ]
    },
    {
     "name": "stderr",
     "output_type": "stream",
     "text": [
      "/Users/jgzuke/anaconda3/lib/python3.5/site-packages/numpy/core/numeric.py:482: VisibleDeprecationWarning: using a non-integer number instead of an integer will result in an error in the future\n",
      "  return array(a, dtype, copy=False, order=order)\n",
      "/Users/jgzuke/anaconda3/lib/python3.5/site-packages/ipykernel/__main__.py:28: VisibleDeprecationWarning: using a non-integer number instead of an integer will result in an error in the future\n"
     ]
    },
    {
     "name": "stdout",
     "output_type": "stream",
     "text": [
      "Saving calculated beats for In The Groove~Bouff\n"
     ]
    }
   ],
   "source": [
    "#songs = [('In The Groove', song) for song in listdir('StepMania/Songs/In The Groove') if song != '.DS_Store']\n",
    "#song_data_temp_2 = load_songs(songs, True)\n",
    "song_data_temp_2 = load_songs([('In The Groove', song) for song in ['Bend Your Mind', 'Boogie Down', 'Bouff']], True)"
   ]
  },
  {
   "cell_type": "code",
   "execution_count": 115,
   "metadata": {
    "collapsed": false
   },
   "outputs": [
    {
     "name": "stdout",
     "output_type": "stream",
     "text": [
      "348.149 - 175.000 = 173.149 (Boogie Down)\n",
      "139.999 - 140.000 = -0.001 (Bend Your Mind)\n",
      "199.804 - 200.099 = -0.295 (Bouff)\n"
     ]
    }
   ],
   "source": [
    "test_get_beats(song_data_temp_2)"
   ]
  },
  {
   "cell_type": "code",
   "execution_count": 111,
   "metadata": {
    "collapsed": false
   },
   "outputs": [
    {
     "name": "stdout",
     "output_type": "stream",
     "text": [
      "132.295 - 132.300 = -0.005 (The Beginning)\n",
      "200.345 - 200.000 = 0.345 (Disconnected)\n",
      "133.005 - 132.998 = 0.007 (Do U Love Me)\n",
      "119.986 - 119.985 = 0.001 (Turn It On)\n",
      "138.004 - 137.997 = 0.007 (Fly Away)\n",
      "135.994 - 136.020 = -0.026 (Land of the Rising Sun)\n",
      "137.993 - 137.980 = 0.013 (Mythology)\n",
      "134.000 - 134.000 = -0.000 (On a Day Like Today)\n",
      "138.018 - 138.000 = 0.018 (Touch Me)\n",
      "160.006 - 160.000 = 0.006 (Let My Love Go Blind)\n",
      "123.060 - 123.065 = -0.005 (Let Me Be the One)\n",
      "138.016 - 138.000 = 0.016 (Dawn)\n",
      "167.979 - 168.000 = -0.021 (Driving Force Classical)\n",
      "146.001 - 146.021 = -0.020 (Flying High)\n",
      "134.007 - 134.000 = 0.007 (Lemmings on the Run)\n",
      "134.008 - 134.003 = 0.005 (Mouth)\n",
      "130.003 - 130.000 = 0.003 (DJ Party)\n",
      "175.000 - 175.000 = -0.000 (Boogie Down)\n",
      "170.002 - 170.000 = 0.002 (July)\n",
      "107.373 - 107.000 = 0.373 (Zodiac)\n",
      "145.010 - 145.000 = 0.010 (Oasis)\n",
      "135.012 - 135.000 = 0.012 (ROM-eo & Juli8)\n",
      "330.695 - 330.000 = 0.695 (Pandemonium)\n",
      "128.008 - 128.019 = -0.011 (Torn)\n",
      "137.014 - 137.002 = 0.012 (Bubble Dancer)\n",
      "213.332 - 160.001 = 53.331 (Mellow)\n",
      "132.052 - 132.010 = 0.042 (Queen of Light)\n",
      "100.003 - 100.000 = 0.003 (Perfect)\n",
      "110.708 - 110.715 = -0.007 (Which MC Was That)\n",
      "124.997 - 124.997 = 0.000 (Changes)\n",
      "131.613 - 131.618 = -0.005 (I Think I Like That Sound)\n",
      "142.490 - 142.003 = 0.487 (PA Theme)\n",
      "160.007 - 160.000 = 0.007 (Xuxa)\n",
      "100.032 - 100.030 = 0.002 (I'll Get There Anyway)\n",
      "194.006 - 193.980 = 0.026 (Hip Hop Jam)\n",
      "138.001 - 138.000 = 0.001 (Walking on Fire)\n",
      "170.018 - 170.000 = 0.018 (Infection)\n",
      "143.004 - 143.000 = 0.004 (Drifting Away)\n",
      "140.083 - 140.087 = -0.004 (While Tha Rekkid Spinz)\n",
      "192.388 - 192.405 = -0.017 (Remember December)\n",
      "137.996 - 138.000 = -0.004 (The Game)\n",
      "126.130 - 126.110 = 0.020 (Why Me)\n",
      "194.990 - 195.000 = -0.010 (Disconnected -Hyper-)\n",
      "138.004 - 138.000 = 0.004 (Charlene)\n",
      "200.559 - 200.099 = 0.460 (Bouff)\n",
      "139.992 - 140.000 = -0.008 (Bend Your Mind)\n",
      "129.211 - 129.214 = -0.003 (Solina)\n",
      "135.313 - 135.000 = 0.313 (Crazy)\n",
      "163.013 - 163.000 = 0.013 (Tell)\n",
      "110.478 - 110.000 = 0.478 (Anubis)\n",
      "137.521 - 137.512 = 0.009 (Kiss Me Red)\n"
     ]
    }
   ],
   "source": [
    "test_get_beats(song_data_temp)"
   ]
  },
  {
   "cell_type": "code",
   "execution_count": 96,
   "metadata": {
    "collapsed": false
   },
   "outputs": [
    {
     "name": "stdout",
     "output_type": "stream",
     "text": [
      "139.990 - 140.000 = -0.010\n",
      "109.474 - 110.000 = -0.526\n",
      "175.002 - 175.000 = 0.002\n"
     ]
    }
   ],
   "source": [
    "test_get_beats(song_data_temp)"
   ]
  },
  {
   "cell_type": "code",
   "execution_count": 91,
   "metadata": {
    "collapsed": false
   },
   "outputs": [
    {
     "name": "stdout",
     "output_type": "stream",
     "text": [
      "139.992 - 140.000 = -0.008\n",
      "110.000 - 110.000 = -0.000\n",
      "175.002 - 175.000 = 0.002\n"
     ]
    }
   ],
   "source": [
    "test_get_beats(song_data_temp)"
   ]
  },
  {
   "cell_type": "markdown",
   "metadata": {},
   "source": [
    "# Helpers to read .sm and return notes and meta data\n",
    "- get_notes_from_note_string(note_string)\n",
    "- get_notes_and_metadata(file)\n",
    "- get_song_steps()"
   ]
  },
  {
   "cell_type": "code",
   "execution_count": 10,
   "metadata": {
    "collapsed": false
   },
   "outputs": [],
   "source": [
    "regex_notes_with_metadata = '#NOTES:n     dance-single((?:(?!//-).)*);'\n",
    "regex_metadata_split = ':n     (.*):n     (.*):n     (.*):n     (.*):n     (.*):(.*);'\n",
    "def get_notes_from_note_string(note_string):\n",
    "    measure_comments = re.findall('( )*//( )*measure( )*[0-9]*', note_string)\n",
    "    note_strings_split = re.split(r'n', note_string)[1:-1]\n",
    "    notes = []\n",
    "    bar = []\n",
    "    for row in note_strings_split:\n",
    "        if len(row) == 4:\n",
    "            bar.append(row)\n",
    "        else:\n",
    "            notes.append(bar)\n",
    "            bar = []\n",
    "    return note_strings_split\n",
    "\n",
    "def get_notes_and_metadata(file):\n",
    "    difficulty_map = {}\n",
    "    with open(file) as txt:\n",
    "        step_file = txt.read()\n",
    "        step_file = step_file.replace('\\n', 'n')\n",
    "        notes_with_metadata_groups = re.finditer(regex_notes_with_metadata, step_file)\n",
    "        for match in notes_with_metadata_groups:\n",
    "            notes_with_metadata = match.group(0)\n",
    "            split_data = re.search(regex_metadata_split, notes_with_metadata)\n",
    "            difficulty = split_data.group(4)\n",
    "            metadata = split_data.group(5)\n",
    "            notes = get_notes_from_note_string(split_data.group(6))\n",
    "            notes_with_metadata_map = {\n",
    "                'DIFFICULTY': difficulty,\n",
    "                'METADATA': metadata,\n",
    "                'NOTES': notes,\n",
    "            }\n",
    "            difficulty_map[difficulty] = notes_with_metadata_map\n",
    "    return difficulty_map\n",
    "\n",
    "def get_song_steps():\n",
    "    songs = [song for song in listdir('StepMania/Songs/In The Groove')]\n",
    "    songs.remove('.DS_Store')\n",
    "    song_steps = {}\n",
    "    for song in songs:\n",
    "        song_steps['In The Groove~{0}'.format(song)] = get_notes_and_metadata('StepMania/Songs/In The Groove/{0}/{0}.sm'.format(song))\n",
    "    return song_steps"
   ]
  },
  {
   "cell_type": "code",
   "execution_count": 12,
   "metadata": {
    "collapsed": false
   },
   "outputs": [],
   "source": [
    "def write_song_header(output_stepfile, song):\n",
    "    keys = ['VERSION', 'TITLE', 'MUSIC', 'OFFSET', 'SAMPLESTART', 'SAMPLELENGTH']\n",
    "    \n",
    "    header_info = {\n",
    "        'VERSION': 0.82,\n",
    "        'TITLE': song.name,\n",
    "        'MUSIC': '{0}.{1}'.format(song.name, song.extension),\n",
    "        'OFFSET': -song.beat_times[0],\n",
    "        'SAMPLESTART': song.beat_times[0] + 32 * song.beat_length,\n",
    "        'SAMPLELENGTH': 32 * song.beat_length\n",
    "    }\n",
    "    \n",
    "    for key in keys:\n",
    "        print (\"#{0}:{1};\".format(key, str(header_info[key])), file=output_stepfile)\n",
    "        \n",
    "def write_step_header(output_stepfile, song):\n",
    "    print(\"//---------------dance-single - ----------------\", file=output_stepfile)\n",
    "    keys = ['NOTEDATA', 'CHARTNAME', 'STEPSTYPE', 'DIFFICULTY', 'METER', 'RADARVALUES', 'BPMS']\n",
    "        \n",
    "    step_info = {\n",
    "        'NOTEDATA': '',\n",
    "        'CHARTNAME': 'Kommisar',\n",
    "        'STEPSTYPE': 'dance-single',\n",
    "        'DIFFICULTY': 'Expert',\n",
    "        'METER': 9,\n",
    "        'RADARVALUES': '0.234,0.292,0.008,0,0,211,212,1,0,0,0,0,0,0,0.234,0.292,0.008,0,0,211,212,1,0,0,0,0,0,0',\n",
    "        'BPMS': song.bpm_string\n",
    "    }\n",
    "    for key in keys:\n",
    "        print (\"#{0}:{1};\".format(key, str(step_info[key])), file=output_stepfile)\n",
    "        \n",
    "def write_notes_simple(output_stepfile, song):\n",
    "    print (\"#NOTES:\", file=output_stepfile)\n",
    "    \n",
    "    for i in range(40):\n",
    "        print (\"0001\\n0001\\n0001\\n0001\\n,\", file=output_stepfile)\n",
    "    print (\"0000;\", file=output_stepfile)\n",
    "    \n",
    "def write_notes(output_stepfile, song):\n",
    "    print (\"#NOTES:\", file=output_stepfile)\n",
    "    \n",
    "    samples = song.music_samples\n",
    "    # take steps_per_bar / 4 samples per beat (steps_per_bar per bar)\n",
    "    steps_per_beat = steps_per_bar / 4\n",
    "    filter_ammount = samples_per_second / steps_per_beat\n",
    "    \n",
    "    absolute_samples = [samples[i] for i in range(len(samples)) if i % filter_ammount == 0]\n",
    "    # show 1 / 3 of all notes\n",
    "    cutoff_index = int(len(absolute_samples) / 3)\n",
    "    cutoff = sorted(absolute_samples)[-cutoff_index]\n",
    "    indices = [sample > cutoff for sample in absolute_samples]\n",
    "    \n",
    "    for i in range(len(indices)):\n",
    "        if indices[i]:\n",
    "            print (\"0001\", file=output_stepfile)\n",
    "        else:\n",
    "            print (\"0000\", file=output_stepfile)\n",
    "        if i % steps_per_bar == 0 and i != 0:\n",
    "            print (\",\", file=output_stepfile)\n",
    "\n",
    "    print (\"0000;\", file=output_stepfile)\n",
    "    \n",
    "def step_song(song):\n",
    "    output_stepfile=open(song.stepfile, 'w')\n",
    "    write_song_header(output_stepfile, song)\n",
    "    write_step_header(output_stepfile, song)\n",
    "    write_notes(output_stepfile, song)\n",
    "    output_stepfile.close()"
   ]
  },
  {
   "cell_type": "code",
   "execution_count": 3,
   "metadata": {
    "collapsed": false
   },
   "outputs": [],
   "source": [
    "#song_data = load_all_songs(False)"
   ]
  },
  {
   "cell_type": "code",
   "execution_count": 1101,
   "metadata": {
    "collapsed": false
   },
   "outputs": [
    {
     "name": "stdout",
     "output_type": "stream",
     "text": [
      "Calculating beats for a_test~A\n"
     ]
    },
    {
     "name": "stderr",
     "output_type": "stream",
     "text": [
      "/Users/jgzuke/anaconda3/lib/python3.5/site-packages/ipykernel/__main__.py:25: VisibleDeprecationWarning: using a non-integer number instead of an integer will result in an error in the future\n",
      "/Users/jgzuke/anaconda3/lib/python3.5/site-packages/ipykernel/__main__.py:26: VisibleDeprecationWarning: using a non-integer number instead of an integer will result in an error in the future\n",
      "/Users/jgzuke/anaconda3/lib/python3.5/site-packages/ipykernel/__main__.py:27: VisibleDeprecationWarning: using a non-integer number instead of an integer will result in an error in the future\n"
     ]
    },
    {
     "name": "stdout",
     "output_type": "stream",
     "text": [
      "Saving calculated beats for a_test~A\n"
     ]
    }
   ],
   "source": [
    "#song_data = load_all_songs(False)\n",
    "\n",
    "import copy\n",
    "song = load_song('a_test', 'A', True)\n",
    "song2 = copy.deepcopy(song)\n",
    "song3 = copy.deepcopy(song)\n",
    "song2.name = 'A2'\n",
    "song3.name = 'A3'\n",
    "song2.stepfile = 'StepMania/Songs/{0}/{1}/{1}.ssc'.format('a_test', 'A2')\n",
    "song3.stepfile = 'StepMania/Songs/{0}/{1}/{1}.ssc'.format('a_test', 'A3')"
   ]
  },
  {
   "cell_type": "code",
   "execution_count": 1102,
   "metadata": {
    "collapsed": false
   },
   "outputs": [],
   "source": [
    "step_song(song)\n",
    "#step_song(song2)\n",
    "#step_song(song3)"
   ]
  },
  {
   "cell_type": "code",
   "execution_count": 20,
   "metadata": {
    "collapsed": false
   },
   "outputs": [
    {
     "name": "stdout",
     "output_type": "stream",
     "text": [
      "Calculating beats for a_test~WeBelongTogether\n"
     ]
    },
    {
     "name": "stderr",
     "output_type": "stream",
     "text": [
      "/Users/jgzuke/anaconda3/lib/python3.5/site-packages/ipykernel/__main__.py:25: VisibleDeprecationWarning: using a non-integer number instead of an integer will result in an error in the future\n"
     ]
    },
    {
     "name": "stdout",
     "output_type": "stream",
     "text": [
      "Saving calculated beats for a_test~WeBelongTogether\n",
      "Calculating beats for a_test~CallMeBaby\n",
      "Saving calculated beats for a_test~CallMeBaby\n"
     ]
    }
   ],
   "source": [
    "#song = load_song('a_test', 'A', True)\n",
    "#song2 = load_song('a_test', 'Fire', True)\n",
    "#song3 = load_song('a_test', 'WeBelongTogether', True)\n",
    "#song4 = load_song('a_test', 'CallMeBaby', True)"
   ]
  },
  {
   "cell_type": "code",
   "execution_count": 23,
   "metadata": {
    "collapsed": false
   },
   "outputs": [],
   "source": [
    "backup1 = copy.deepcopy(song)\n",
    "backup2 = copy.deepcopy(song2)\n",
    "backup3 = copy.deepcopy(song3)\n",
    "backup4 = copy.deepcopy(song4)"
   ]
  },
  {
   "cell_type": "code",
   "execution_count": 26,
   "metadata": {
    "collapsed": false
   },
   "outputs": [],
   "source": [
    "y_harmonic, y_percussive = librosa.effects.hpss(song.data)"
   ]
  },
  {
   "cell_type": "code",
   "execution_count": 53,
   "metadata": {
    "collapsed": false
   },
   "outputs": [],
   "source": [
    "beat_frames = librosa.samples_to_frames(song.indices)"
   ]
  },
  {
   "cell_type": "code",
   "execution_count": 44,
   "metadata": {
    "collapsed": false
   },
   "outputs": [],
   "source": [
    "# Compute MFCC features from the raw signal\n",
    "mfcc = librosa.feature.mfcc(y=song.data, sr=sr, hop_length=512, n_mfcc=13)"
   ]
  },
  {
   "cell_type": "code",
   "execution_count": 31,
   "metadata": {
    "collapsed": true
   },
   "outputs": [],
   "source": [
    "# And the first-order differences (delta features)\n",
    "mfcc_delta = librosa.feature.delta(mfcc)"
   ]
  },
  {
   "cell_type": "code",
   "execution_count": 54,
   "metadata": {
    "collapsed": false
   },
   "outputs": [],
   "source": [
    "# Stack and synchronize between beat events\n",
    "# This time, we'll use the mean value (default) instead of median\n",
    "beat_mfcc_delta = librosa.feature.sync(np.vstack([mfcc, mfcc_delta]), beat_frames)"
   ]
  },
  {
   "cell_type": "code",
   "execution_count": 34,
   "metadata": {
    "collapsed": false
   },
   "outputs": [
    {
     "name": "stderr",
     "output_type": "stream",
     "text": [
      "/Users/jgzuke/anaconda3/lib/python3.5/site-packages/numpy/core/numeric.py:482: VisibleDeprecationWarning: using a non-integer number instead of an integer will result in an error in the future\n",
      "  return array(a, dtype, copy=False, order=order)\n"
     ]
    }
   ],
   "source": [
    "# Compute chroma features from the harmonic signal\n",
    "chromagram = librosa.feature.chroma_cqt(y=y_harmonic, sr=sr)"
   ]
  },
  {
   "cell_type": "code",
   "execution_count": 55,
   "metadata": {
    "collapsed": true
   },
   "outputs": [],
   "source": [
    "# Aggregate chroma features between beat events\n",
    "# We'll use the median value of each feature between beat frames\n",
    "beat_chroma = librosa.feature.sync(chromagram, beat_frames, aggregate=np.median)"
   ]
  },
  {
   "cell_type": "code",
   "execution_count": 56,
   "metadata": {
    "collapsed": true
   },
   "outputs": [],
   "source": [
    "# Finally, stack all beat-synchronous features together\n",
    "beat_features = np.vstack([beat_chroma, beat_mfcc_delta])"
   ]
  },
  {
   "cell_type": "code",
   "execution_count": 57,
   "metadata": {
    "collapsed": false
   },
   "outputs": [
    {
     "name": "stdout",
     "output_type": "stream",
     "text": [
      "38\n",
      "37761\n"
     ]
    }
   ],
   "source": [
    "print (len(beat_features))\n",
    "print (len(beat_features[0]))"
   ]
  },
  {
   "cell_type": "code",
   "execution_count": 43,
   "metadata": {
    "collapsed": false
   },
   "outputs": [
    {
     "data": {
      "text/plain": [
       "37760"
      ]
     },
     "execution_count": 43,
     "metadata": {},
     "output_type": "execute_result"
    }
   ],
   "source": [
    "len(beat_frames)"
   ]
  },
  {
   "cell_type": "code",
   "execution_count": 49,
   "metadata": {
    "collapsed": false
   },
   "outputs": [
    {
     "data": {
      "text/plain": [
       "33659324"
      ]
     },
     "execution_count": 49,
     "metadata": {},
     "output_type": "execute_result"
    }
   ],
   "source": [
    "len(song.data)"
   ]
  },
  {
   "cell_type": "code",
   "execution_count": null,
   "metadata": {
    "collapsed": true
   },
   "outputs": [],
   "source": []
  }
 ],
 "metadata": {
  "anaconda-cloud": {},
  "kernelspec": {
   "display_name": "Python 3",
   "language": "python",
   "name": "python3"
  },
  "language_info": {
   "codemirror_mode": {
    "name": "ipython",
    "version": 3
   },
   "file_extension": ".py",
   "mimetype": "text/x-python",
   "name": "python",
   "nbconvert_exporter": "python",
   "pygments_lexer": "ipython3",
   "version": "3.5.1"
  }
 },
 "nbformat": 4,
 "nbformat_minor": 0
}
