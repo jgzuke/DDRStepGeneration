{
 "cells": [
  {
   "cell_type": "code",
   "execution_count": 205,
   "metadata": {
    "collapsed": false
   },
   "outputs": [],
   "source": [
    "from __future__ import print_function\n",
    "%matplotlib inline\n",
    "import copy\n",
    "import pandas as pd\n",
    "import numpy as np\n",
    "import librosa\n",
    "import seaborn as sb\n",
    "import matplotlib.pyplot as plt\n",
    "import itertools\n",
    "import re\n",
    "import random\n",
    "import gc\n",
    "from os import listdir\n",
    "from os.path import isfile, join\n",
    "from numpy import median, diff\n",
    "from keras.models import Sequential\n",
    "from keras.layers import Dense, Activation, Dropout"
   ]
  },
  {
   "cell_type": "code",
   "execution_count": 206,
   "metadata": {
    "collapsed": false
   },
   "outputs": [],
   "source": [
    "# start with each input secion maps to one note\n",
    "# train model for that (just list comprhension on noets for contains 1 maps to true)\n",
    "\n",
    "# then move to bars eg section of 4 bars maps to output for each note\n",
    "# error = probability of note being true vs was it really\n",
    "\n",
    "# try bar + prev notes (home use weird dimensioned data?) to predict next notes\n",
    "\n",
    "# try feeding in non structured data (bpm, position of time in song, song length, \n",
    "# things about feel of song (generated features))\n",
    "# try using keras merge layer to add extra features"
   ]
  },
  {
   "cell_type": "code",
   "execution_count": 207,
   "metadata": {
    "collapsed": false
   },
   "outputs": [],
   "source": [
    "samples_back_included = 24\n",
    "num_classes = 5\n",
    "num_features = 40 + 2 + num_classes\n",
    "\n",
    "def get_features_for_index(beat_features, notes, index):\n",
    "    if index < 0:\n",
    "        return [0] * num_features\n",
    "    features = beat_features[index]\n",
    "    misc_features = get_steps_for_index(notes, index - 1)\n",
    "    misc_features.append(index % 48)\n",
    "    misc_features.append(index / 48)\n",
    "    return np.concatenate((features, misc_features))\n",
    "\n",
    "def get_steps_for_index(notes, index):\n",
    "    if index < 0:\n",
    "        return [True, False, False, False, False]\n",
    "    row = notes[index][0]\n",
    "    steps = row.count('1')\n",
    "    mines = row.count('M')\n",
    "    return [int(feature) for feature in [steps == 0, steps >= 1, steps >= 2, steps >= 3, mines > 0]]\n",
    "\n",
    "def build_batch_generator():\n",
    "    songs_to_use = pd.read_csv('data/songs_to_use.csv').values\n",
    "    save_files = listdir('data')\n",
    "    for song_data in songs_to_use:\n",
    "        if '{0}_beat_features.csv'.format(song_data[0]) in save_files and '{0}_notes.csv'.format(song_data[0]) in save_files:\n",
    "            X = []\n",
    "            y = []\n",
    "            beat_features_rotated = pd.read_csv('data/{0}_beat_features.csv'.format(song_data[0])).values\n",
    "            notes = pd.read_csv('data/{0}_notes.csv'.format(song_data[0]), converters={'0': lambda x: str(x)}).values\n",
    "            beat_features = np.flipud(np.rot90(np.array(beat_features_rotated)))\n",
    "            for i in range(min(len(notes), len(beat_features))):\n",
    "                features = [feature for j in range(samples_back_included) for feature in get_features_for_index(beat_features, notes, i - j)]\n",
    "                X.append(features)\n",
    "                y.append(get_steps_for_index(notes, i))\n",
    "            yield (np.array(X), np.array(y))"
   ]
  },
  {
   "cell_type": "code",
   "execution_count": 208,
   "metadata": {
    "collapsed": true
   },
   "outputs": [],
   "source": [
    "#gen = build_batch_generator()\n",
    "#X, y = next(gen)"
   ]
  },
  {
   "cell_type": "markdown",
   "metadata": {},
   "source": [
    "# Categories =\n",
    "- no_notes\n",
    "- one_note\n",
    "- two_notes\n",
    "- many_notes\n",
    "- mine"
   ]
  },
  {
   "cell_type": "code",
   "execution_count": 209,
   "metadata": {
    "collapsed": false
   },
   "outputs": [],
   "source": [
    "beat_feature_model = Sequential()\n",
    "beat_feature_model.add(Dense(500, input_dim=samples_back_included * num_features, init='uniform', activation='tanh'))\n",
    "beat_feature_model.add(Dense(200, activation='tanh'))\n",
    "beat_feature_model.add(Dense(50, activation='tanh'))\n",
    "beat_feature_model.add(Dense(num_classes, activation='softmax'))\n",
    "\n",
    "beat_feature_model.compile(loss='categorical_crossentropy',\n",
    "                           optimizer='adadelta',\n",
    "                           metrics=['accuracy'])"
   ]
  },
  {
   "cell_type": "code",
   "execution_count": 210,
   "metadata": {
    "collapsed": false
   },
   "outputs": [
    {
     "name": "stdout",
     "output_type": "stream",
     "text": [
      "[array(0.5019330978393555, dtype=float32), array(0.8501602411270142, dtype=float32)]\n",
      "[array(0.4018665850162506, dtype=float32), array(0.9275362491607666, dtype=float32)]\n",
      "[array(0.5231761932373047, dtype=float32), array(0.8848039507865906, dtype=float32)]\n"
     ]
    }
   ],
   "source": [
    "class_weight={0:1, 1:2., 2:4., 3:8., 4:16.}\n",
    "gen = build_batch_generator()\n",
    "#beat_feature_model.fit(X[:1000], y[:1000], nb_epoch=10, batch_size=32)\n",
    "#for data in gen:\n",
    "for i in range(20):\n",
    "    data = next(gen)\n",
    "    X, y = data\n",
    "    beat_feature_model.train_on_batch(X, y, class_weight=class_weight)\n",
    "\n",
    "gen = build_batch_generator()\n",
    "for i in range(3):\n",
    "    X, y = next(gen)\n",
    "    print (beat_feature_model.test_on_batch(X, y))"
   ]
  },
  {
   "cell_type": "code",
   "execution_count": 211,
   "metadata": {
    "collapsed": false
   },
   "outputs": [
    {
     "data": {
      "text/plain": [
       "array([[ 0.37062895,  0.43554708,  0.03879268,  0.10025176,  0.05477953],\n",
       "       [ 0.35552493,  0.27274129,  0.10645466,  0.15513636,  0.11014277],\n",
       "       [ 0.40371746,  0.21251424,  0.18955278,  0.14256993,  0.05164558],\n",
       "       [ 0.61002541,  0.17575651,  0.03328988,  0.15941077,  0.02151746],\n",
       "       [ 0.81753391,  0.09844545,  0.02121584,  0.04546685,  0.01733794],\n",
       "       [ 0.66328239,  0.17808799,  0.0243167 ,  0.10434631,  0.02996659],\n",
       "       [ 0.83105206,  0.1185955 ,  0.01201593,  0.01567299,  0.02266352],\n",
       "       [ 0.75046766,  0.21357532,  0.00886613,  0.00484049,  0.02225043],\n",
       "       [ 0.77473688,  0.17188786,  0.02661958,  0.01363357,  0.01312214],\n",
       "       [ 0.85027212,  0.1019289 ,  0.02553804,  0.00878245,  0.01347846],\n",
       "       [ 0.88258505,  0.0515251 ,  0.03035877,  0.02289842,  0.01263265],\n",
       "       [ 0.89688975,  0.05596269,  0.02247773,  0.01317547,  0.01149438],\n",
       "       [ 0.88228685,  0.05591341,  0.02401156,  0.02219093,  0.01559723],\n",
       "       [ 0.85594523,  0.07972164,  0.03300031,  0.01365339,  0.01767941],\n",
       "       [ 0.83557779,  0.10815171,  0.02995284,  0.01319404,  0.0131236 ],\n",
       "       [ 0.83090913,  0.12412681,  0.01781502,  0.01398739,  0.01316167],\n",
       "       [ 0.83517253,  0.09911182,  0.03511033,  0.01417121,  0.0164341 ],\n",
       "       [ 0.78278625,  0.17455535,  0.01266254,  0.0122467 ,  0.01774915],\n",
       "       [ 0.79206043,  0.15109932,  0.01940219,  0.01689187,  0.02054615],\n",
       "       [ 0.81771338,  0.13460819,  0.01388257,  0.01714242,  0.01665345],\n",
       "       [ 0.73805797,  0.19707417,  0.0284622 ,  0.01356866,  0.02283699],\n",
       "       [ 0.75711936,  0.18386322,  0.03186395,  0.01177163,  0.01538184],\n",
       "       [ 0.72037864,  0.19087802,  0.05981511,  0.01575181,  0.0131764 ],\n",
       "       [ 0.77754396,  0.15839821,  0.03615734,  0.01179502,  0.01610545],\n",
       "       [ 0.825037  ,  0.12966242,  0.01880693,  0.0089818 ,  0.01751186],\n",
       "       [ 0.80084682,  0.13684468,  0.03129089,  0.01262214,  0.01839547],\n",
       "       [ 0.80777043,  0.13532929,  0.02827929,  0.01514325,  0.01347772],\n",
       "       [ 0.85894507,  0.0990718 ,  0.0160117 ,  0.01280934,  0.01316209],\n",
       "       [ 0.84455073,  0.10287882,  0.02591039,  0.01178666,  0.01487341],\n",
       "       [ 0.81892419,  0.09804184,  0.0463021 ,  0.0208916 ,  0.01584028],\n",
       "       [ 0.79709172,  0.12737058,  0.03459045,  0.02190918,  0.01903807],\n",
       "       [ 0.80452162,  0.11680029,  0.03852146,  0.02123509,  0.01892152],\n",
       "       [ 0.73470813,  0.16241859,  0.05060208,  0.02542192,  0.02684931],\n",
       "       [ 0.75764644,  0.14972281,  0.04319233,  0.02394186,  0.02549657],\n",
       "       [ 0.74308258,  0.16112953,  0.04827019,  0.02037258,  0.02714511],\n",
       "       [ 0.79164422,  0.1483319 ,  0.02859255,  0.01499713,  0.01643419],\n",
       "       [ 0.79248363,  0.13836883,  0.03457329,  0.01653455,  0.0180397 ],\n",
       "       [ 0.79968375,  0.14518774,  0.02499587,  0.0181589 ,  0.01197375],\n",
       "       [ 0.84422576,  0.10455295,  0.02686704,  0.01476029,  0.00959398],\n",
       "       [ 0.83273125,  0.10071409,  0.03850453,  0.01790806,  0.01014205],\n",
       "       [ 0.81601274,  0.10447901,  0.04937996,  0.02081854,  0.00930972],\n",
       "       [ 0.79300874,  0.12299787,  0.05655175,  0.0161318 ,  0.01130982],\n",
       "       [ 0.75576234,  0.15615962,  0.05844343,  0.01670497,  0.01292962],\n",
       "       [ 0.77592921,  0.16660433,  0.03443724,  0.01299328,  0.01003591],\n",
       "       [ 0.7961024 ,  0.13886434,  0.0405243 ,  0.01450305,  0.01000593],\n",
       "       [ 0.8097409 ,  0.13461031,  0.03375356,  0.01240744,  0.00948782],\n",
       "       [ 0.80898923,  0.13236596,  0.03659536,  0.01361266,  0.00843681],\n",
       "       [ 0.79422122,  0.13638739,  0.0440312 ,  0.01580246,  0.0095577 ],\n",
       "       [ 0.81395489,  0.13171288,  0.03354932,  0.01303318,  0.00774972],\n",
       "       [ 0.82577783,  0.11739115,  0.03423126,  0.01623919,  0.00636058],\n",
       "       [ 0.81797856,  0.12436087,  0.0362356 ,  0.01306586,  0.00835912],\n",
       "       [ 0.81453079,  0.12283812,  0.03879853,  0.01542168,  0.00841085],\n",
       "       [ 0.76145005,  0.17813614,  0.0401345 ,  0.01095378,  0.0093255 ],\n",
       "       [ 0.7948578 ,  0.13201942,  0.05010558,  0.01390251,  0.0091147 ],\n",
       "       [ 0.73364854,  0.20067686,  0.04429101,  0.01139366,  0.00998996],\n",
       "       [ 0.76275235,  0.14682293,  0.06733145,  0.01314198,  0.0099513 ],\n",
       "       [ 0.77676249,  0.1491199 ,  0.05072337,  0.01421436,  0.00917989],\n",
       "       [ 0.79136783,  0.13530956,  0.05158382,  0.01220345,  0.00953536],\n",
       "       [ 0.80248028,  0.12409838,  0.05243328,  0.01294975,  0.00803829],\n",
       "       [ 0.8120259 ,  0.12953888,  0.03961281,  0.00985722,  0.00896516],\n",
       "       [ 0.81917405,  0.12750964,  0.03559318,  0.00947926,  0.00824388],\n",
       "       [ 0.82053733,  0.12208906,  0.03969171,  0.01002376,  0.00765817],\n",
       "       [ 0.78781402,  0.15257986,  0.03684646,  0.0104655 ,  0.01229415],\n",
       "       [ 0.79735339,  0.11942732,  0.06043638,  0.01391005,  0.0088729 ],\n",
       "       [ 0.81617081,  0.12097779,  0.04300588,  0.01208181,  0.00776371],\n",
       "       [ 0.78292251,  0.14976491,  0.04560491,  0.01270356,  0.00900412],\n",
       "       [ 0.78751957,  0.13891225,  0.05256579,  0.01254821,  0.00845416],\n",
       "       [ 0.7830376 ,  0.14491704,  0.05042807,  0.010506  ,  0.01111127],\n",
       "       [ 0.803913  ,  0.14061075,  0.03836681,  0.00778612,  0.00932334],\n",
       "       [ 0.83899611,  0.12074385,  0.02634157,  0.00656382,  0.00735465],\n",
       "       [ 0.81603682,  0.12625915,  0.04094884,  0.0096392 ,  0.007116  ],\n",
       "       [ 0.78171891,  0.16621043,  0.0362467 ,  0.0083694 ,  0.00745456],\n",
       "       [ 0.78212321,  0.1558474 ,  0.04488294,  0.00866619,  0.00848025],\n",
       "       [ 0.78977674,  0.14462242,  0.04874261,  0.00786668,  0.00899158],\n",
       "       [ 0.82430738,  0.12542741,  0.03658709,  0.00663113,  0.00704702],\n",
       "       [ 0.81956583,  0.13559718,  0.03133163,  0.00632082,  0.00718451],\n",
       "       [ 0.8210147 ,  0.12721515,  0.03646298,  0.00729818,  0.00800902],\n",
       "       [ 0.80505973,  0.14060859,  0.03855284,  0.00751194,  0.00826692],\n",
       "       [ 0.81719756,  0.13122496,  0.03614393,  0.0068285 ,  0.00860507],\n",
       "       [ 0.80050796,  0.13277936,  0.04932332,  0.00776223,  0.00962712],\n",
       "       [ 0.81611866,  0.13909049,  0.03044013,  0.00635726,  0.00799346],\n",
       "       [ 0.82317823,  0.12424049,  0.03753936,  0.0077792 ,  0.00726272],\n",
       "       [ 0.8299045 ,  0.12233328,  0.0336962 ,  0.0070591 ,  0.00700694],\n",
       "       [ 0.81288344,  0.13852984,  0.03380694,  0.00758526,  0.00719453],\n",
       "       [ 0.80403644,  0.1436177 ,  0.0366268 ,  0.00869594,  0.00702313],\n",
       "       [ 0.82366192,  0.1248797 ,  0.03489671,  0.00795859,  0.00860311],\n",
       "       [ 0.8157832 ,  0.13273533,  0.03624844,  0.00776704,  0.00746599],\n",
       "       [ 0.80310172,  0.12881865,  0.05029825,  0.00931545,  0.00846591],\n",
       "       [ 0.79932094,  0.14243603,  0.0413924 ,  0.00883038,  0.00802025],\n",
       "       [ 0.81274599,  0.13280484,  0.03841229,  0.0080016 ,  0.00803527],\n",
       "       [ 0.83306301,  0.11630215,  0.03535266,  0.00735636,  0.0079258 ],\n",
       "       [ 0.8411175 ,  0.11030883,  0.03429673,  0.00687308,  0.00740389],\n",
       "       [ 0.8569963 ,  0.10082408,  0.02958887,  0.00642237,  0.0061684 ],\n",
       "       [ 0.842884  ,  0.10292208,  0.03986745,  0.00800945,  0.00631704],\n",
       "       [ 0.83311439,  0.11811484,  0.03320738,  0.00808871,  0.00747471],\n",
       "       [ 0.83378839,  0.11535008,  0.03421365,  0.00909757,  0.0075503 ],\n",
       "       [ 0.83163047,  0.12195497,  0.03017843,  0.00787585,  0.00836028],\n",
       "       [ 0.83064789,  0.11383843,  0.03759032,  0.00909775,  0.0088256 ],\n",
       "       [ 0.84617752,  0.10418835,  0.03378102,  0.00903007,  0.00682301],\n",
       "       [ 0.85142189,  0.10532282,  0.02838874,  0.00824616,  0.0066204 ]], dtype=float32)"
      ]
     },
     "execution_count": 211,
     "metadata": {},
     "output_type": "execute_result"
    }
   ],
   "source": [
    "X, y = next(gen)\n",
    "predictions = beat_feature_model.predict(X)\n",
    "predictions[:100]"
   ]
  },
  {
   "cell_type": "code",
   "execution_count": 203,
   "metadata": {
    "collapsed": false
   },
   "outputs": [
    {
     "name": "stdout",
     "output_type": "stream",
     "text": [
      "Length: 4272\n"
     ]
    },
    {
     "data": {
      "image/png": "[encoded data removed]",
      "text/plain": [
       "<matplotlib.figure.Figure at 0x127996c88>"
      ]
     },
     "metadata": {},
     "output_type": "display_data"
    }
   ],
   "source": [
    "weights = [1, 2, 4, 8, 16]\n",
    "def get_max(row):\n",
    "    return np.array([weights[i] * row[i] for i in range(num_classes)]).argmax()\n",
    "    \n",
    "print ('Length: ' + str(len(predictions)))\n",
    "filtered = [predictions[i] for i in range(len(predictions)) if i % 3 == 0]\n",
    "most_likely = [get_max(row) for row in filtered]\n",
    "sb.set_style(\"darkgrid\")\n",
    "plt.plot(most_likely)\n",
    "plt.show()"
   ]
  },
  {
   "cell_type": "code",
   "execution_count": null,
   "metadata": {
    "collapsed": true
   },
   "outputs": [],
   "source": []
  },
  {
   "cell_type": "code",
   "execution_count": null,
   "metadata": {
    "collapsed": true
   },
   "outputs": [],
   "source": [
    "beat_feature_model = Sequential([\n",
    "    Dense(32, input_dim=784),\n",
    "    Activation('relu'),\n",
    "    Dense(10),\n",
    "    Activation('softmax'),\n",
    "])\n",
    "\n",
    "misc_feature_model = Sequential([\n",
    "    Dense(32, input_dim=4),\n",
    "    Activation('relu'),\n",
    "])\n",
    "\n",
    "model = Sequential([\n",
    "    Merge([beat_feature_model, misc_feature_model], mode='concat'),\n",
    "    Activation('relu'),\n",
    "    Dense(10),\n",
    "    Activation('softmax'),\n",
    "])\n",
    "\n",
    "def mean_pred(y_true, y_pred):\n",
    "    return K.mean(y_pred)\n",
    "\n",
    "def false_rates(y_true, y_pred):\n",
    "    false_neg = ...\n",
    "    false_pos = ...\n",
    "    return {\n",
    "        'false_neg': false_neg,\n",
    "        'false_pos': false_pos,\n",
    "    }\n",
    "\n",
    "model.compile(loss='mean_squared_error', optimizer='sgd', metrics=['accuracy', mean_pred, false_rates])\n",
    "\n",
    "model.fit(data, labels, nb_epoch=10, batch_size=32)\n",
    "model.predict(self, x, batch_size=32, verbose=0)"
   ]
  }
 ],
 "metadata": {
  "anaconda-cloud": {},
  "kernelspec": {
   "display_name": "Python 3",
   "language": "python",
   "name": "python3"
  },
  "language_info": {
   "codemirror_mode": {
    "name": "ipython",
    "version": 3
   },
   "file_extension": ".py",
   "mimetype": "text/x-python",
   "name": "python",
   "nbconvert_exporter": "python",
   "pygments_lexer": "ipython3",
   "version": "3.5.1"
  }
 },
 "nbformat": 4,
 "nbformat_minor": 0
}
