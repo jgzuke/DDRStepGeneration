{
 "cells": [
  {
   "cell_type": "code",
   "execution_count": 99,
   "metadata": {
    "collapsed": true
   },
   "outputs": [],
   "source": [
    "import librosa\n",
    "song_name = 'A'\n",
    "mp3_name = 'StepMania/Songs/StepMania 5/{0}/{0}.mp3'.format(song_name)\n",
    "stepfile_name = 'StepMania/Songs/StepMania 5/{0}/{0}.ssc'.format(song_name)"
   ]
  },
  {
   "cell_type": "code",
   "execution_count": 100,
   "metadata": {
    "collapsed": true
   },
   "outputs": [],
   "source": [
    "song_data, sample_rate = librosa.load(mp3_name)"
   ]
  },
  {
   "cell_type": "code",
   "execution_count": 101,
   "metadata": {
    "collapsed": false
   },
   "outputs": [],
   "source": [
    "tempo, beat_frames = librosa.beat.beat_track(y=y, sr=sr)"
   ]
  },
  {
   "cell_type": "code",
   "execution_count": 137,
   "metadata": {
    "collapsed": false
   },
   "outputs": [],
   "source": [
    "beat_times = librosa.frames_to_time(beat_frames, sr=sr)\n",
    "test = []\n",
    "for i in range(len(beat_frames) - 1):\n",
    "    test.append(beat_frames[i+1] - beat_frames[i])\n",
    "real_tempo = 60 * (len(beat_times)-1) / (beat_times[len(beat_times) - 1] - beat_times[1])"
   ]
  },
  {
   "cell_type": "code",
   "execution_count": 173,
   "metadata": {
    "collapsed": false
   },
   "outputs": [
    {
     "name": "stdout",
     "output_type": "stream",
     "text": [
      "0.394739229025\n",
      "1\n",
      "23.4289342404\n",
      "71\n",
      "2.80961451247\n",
      "9\n",
      "75.3719727891\n",
      "229\n",
      "0.417959183673\n",
      "1\n",
      "0.62693877551\n",
      "2\n"
     ]
    },
    {
     "data": {
      "text/plain": [
       "'0=152.00,1=181.83,72=192.20,81=182.30,310=143.55,311=191.41,'"
      ]
     },
     "execution_count": 173,
     "metadata": {},
     "output_type": "execute_result"
    }
   ],
   "source": [
    "range_start = 0\n",
    "time_sum = beat_times[1] - beat_times[0]\n",
    "beats = 1\n",
    "times = []\n",
    "for i in range(1, len(beat_times) - 1):\n",
    "    time_difference = beat_times[i+1] - beat_times[i]\n",
    "    \n",
    "    # check if far from average\n",
    "    if abs(((time_sum / beats) / time_difference) - 1) > 0.1:\n",
    "        # more than 5% off average, put it in new time\n",
    "        print (time_sum)\n",
    "        print (beats)\n",
    "        bpm_for_section = 60 / (time_sum / beats)\n",
    "        if range_start != 0:\n",
    "            times.append(',')\n",
    "        times.append('{:}={:.2f}'.format(range_start, bpm_for_section))\n",
    "        range_start += beats\n",
    "        time_sum = 0\n",
    "        beats = 0\n",
    "    \n",
    "    time_sum += time_difference\n",
    "    beats += 1\n",
    "if range_start != 0:\n",
    "    times.append(';')\n",
    "''.join(times)"
   ]
  },
  {
   "cell_type": "code",
   "execution_count": 145,
   "metadata": {
    "collapsed": true
   },
   "outputs": [],
   "source": [
    "def write_song_header(output_stepfile):\n",
    "    keys = ['VERSION', 'TITLE', 'MUSIC', 'OFFSET', 'SAMPLESTART', 'SAMPLELENGTH']\n",
    "    beat_to_start = 32\n",
    "    beats_to_play = 32\n",
    "    header_info = {\n",
    "        'VERSION': 0.82,\n",
    "        'TITLE': song_name,\n",
    "        'MUSIC': '{0}.mp3'.format(song_name),\n",
    "        'OFFSET': -0.090,\n",
    "        'SAMPLESTART': beat_times[beat_to_start],\n",
    "        'SAMPLELENGTH': 60*beats_to_play/tempo\n",
    "    }\n",
    "    for key in keys:\n",
    "        print (\"#{0}:{1};\".format(key, str(header_info[key])), file=output_stepfile)"
   ]
  },
  {
   "cell_type": "code",
   "execution_count": 149,
   "metadata": {
    "collapsed": true
   },
   "outputs": [],
   "source": [
    "def write_step_header(output_stepfile):\n",
    "    print(\"//---------------dance-single - ----------------\", file=output_stepfile)\n",
    "    keys = ['NOTEDATA', 'CHARTNAME', 'STEPSTYPE', 'DIFFICULTY', 'METER', 'RADARVALUES', 'BPMS']\n",
    "    step_info = {\n",
    "        'NOTEDATA': '',\n",
    "        'CHARTNAME': 'Kommisar',\n",
    "        'STEPSTYPE': 'dance-single',\n",
    "        'DIFFICULTY': 'Beginner',\n",
    "        'METER': 1,\n",
    "        'RADARVALUES': '0.234,0.292,0.008,0,0,211,212,1,0,0,0,0,0,0,0.234,0.292,0.008,0,0,211,212,1,0,0,0,0,0,0',\n",
    "        'BPMS': '0={:.2f}'.format(real_tempo)\n",
    "    }\n",
    "    for key in keys:\n",
    "        print (\"#{0}:{1};\".format(key, str(step_info[key])), file=output_stepfile)"
   ]
  },
  {
   "cell_type": "code",
   "execution_count": 150,
   "metadata": {
    "collapsed": true
   },
   "outputs": [],
   "source": [
    "def write_notes(output_stepfile):\n",
    "    print (\"#NOTES:\", file=output_stepfile)\n",
    "    \n",
    "    for i in range(20):\n",
    "        print (\"0101\\n0001\\n0101\\n0001\\n,\", file=output_stepfile)\n",
    "    print (\"0000;\", file=output_stepfile)"
   ]
  },
  {
   "cell_type": "code",
   "execution_count": 151,
   "metadata": {
    "collapsed": false
   },
   "outputs": [],
   "source": [
    "output_stepfile=open(stepfile_name, 'w')\n",
    "from __future__ import print_function\n",
    "write_song_header(output_stepfile)\n",
    "write_step_header(output_stepfile)\n",
    "write_notes(output_stepfile)\n",
    "output_stepfile.close()"
   ]
  }
 ],
 "metadata": {
  "kernelspec": {
   "display_name": "Python 3",
   "language": "python",
   "name": "python3"
  },
  "language_info": {
   "codemirror_mode": {
    "name": "ipython",
    "version": 3
   },
   "file_extension": ".py",
   "mimetype": "text/x-python",
   "name": "python",
   "nbconvert_exporter": "python",
   "pygments_lexer": "ipython3",
   "version": "3.5.1"
  }
 },
 "nbformat": 4,
 "nbformat_minor": 0
}
