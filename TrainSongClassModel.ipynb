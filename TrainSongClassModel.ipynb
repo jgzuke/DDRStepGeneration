{
 "cells": [
  {
   "cell_type": "code",
   "execution_count": 85,
   "metadata": {
    "collapsed": false
   },
   "outputs": [],
   "source": [
    "import pandas as pd\n",
    "import numpy as np\n",
    "import random\n",
    "import gc\n",
    "from keras.models import Sequential, load_model\n",
    "from keras.layers import Dense, Activation, Dropout, BatchNormalization\n",
    "from keras.optimizers import SGD, RMSprop\n",
    "from sklearn import tree\n",
    "from sklearn.ensemble import RandomForestClassifier\n",
    "from sklearn.cross_validation import train_test_split, cross_val_score"
   ]
  },
  {
   "cell_type": "markdown",
   "metadata": {},
   "source": [
    "# Note types\n",
    "- 0: nothing\n",
    "- 1: step\n",
    "- 2: hold start\n",
    "- 3: hold/roll end\n",
    "- 4: roll start\n",
    "- M: mine\n",
    "\n",
    "# Classes\n",
    "- 0: nothing\n",
    "- 1: one note\n",
    "- 2: two notes\n",
    "- 3: three or four notes\n",
    "- 4: hold start\n",
    "- 5: roll start\n",
    "- 6: mine"
   ]
  },
  {
   "cell_type": "code",
   "execution_count": 40,
   "metadata": {
    "collapsed": false
   },
   "outputs": [],
   "source": [
    "samples_back_included = 8\n",
    "num_classes = 7\n",
    "num_features = 40\n",
    "num_features_total = (num_features * samples_back_included) + 4\n",
    "save_files = listdir('data')\n",
    "\n",
    "def get_features_for_index(beat_features, notes, index):\n",
    "    if index < 0:\n",
    "        return [0] * num_features\n",
    "    return beat_features[index]\n",
    "\n",
    "def get_class_for_index(notes, index):\n",
    "    if index < 0:\n",
    "        return [1, 0, 0, 0, 0, 0, 0]\n",
    "    row = notes[index][0]\n",
    "    (steps, holds, rolls, mines) = [row.count(char) for char in ['1', '2', '4', 'M']]\n",
    "    steps += (holds + rolls)\n",
    "    return [int(i) for i in [steps == 0 and mines == 0, steps == 1, steps == 2, steps > 2, holds > 0, rolls > 0, mines > 0]]\n",
    "    \n",
    "importance_rankings = [48, 24, 12, 16, 6, 8, 3, 4, 2, 1]\n",
    "def get_beat_importance(index):\n",
    "    for i in range(len(importance_rankings)):\n",
    "        if index % importance_rankings[i] == 0:\n",
    "            return i\n",
    "\n",
    "def get_features_for_song(key, is_full):\n",
    "    X = []\n",
    "    y = []\n",
    "    if '{0}_beat_features.csv'.format(key) in save_files and '{0}_notes.csv'.format(key) in save_files:\n",
    "        beat_features_rotated = pd.read_csv('data/{0}_beat_features.csv'.format(key)).values\n",
    "        notes = pd.read_csv('data/{0}_notes.csv'.format(key), converters={'0': lambda x: str(x)}).values\n",
    "        beat_features = np.flipud(np.rot90(np.array(beat_features_rotated)))\n",
    "        num_notes = min(len(notes), len(beat_features))\n",
    "        for i in range(num_notes):\n",
    "            row_y = get_class_for_index(notes, i)\n",
    "            if is_full or (not (row_y == 0 and random.randint(0, 5) != 0)):\n",
    "                features = [feature for j in range(samples_back_included) for feature in get_features_for_index(beat_features, notes, i - j)]\n",
    "                features.append(i % 48)\n",
    "                features.append(get_beat_importance(i))\n",
    "                features.append(i / 48)\n",
    "                features.append(num_notes - i / 48)\n",
    "                X.append(features)\n",
    "                y.append(row_y)\n",
    "    return np.array(X), np.array(y)\n",
    "\n",
    "# Total 243 songs\n",
    "def build_training_data(songs_start, songs_end, is_full = False):\n",
    "    X = []\n",
    "    y = []\n",
    "    songs_to_use = pd.read_csv('data/songs_to_use.csv').values\n",
    "    for song_data in songs_to_use[songs_start:songs_end]:\n",
    "        song_X, song_y = get_features_for_song(song_data[0], is_full)\n",
    "        X.extend(song_X)\n",
    "        y.extend(song_y)\n",
    "    return X, y"
   ]
  },
  {
   "cell_type": "code",
   "execution_count": 41,
   "metadata": {
    "collapsed": false
   },
   "outputs": [],
   "source": [
    "X, y = build_training_data(0, 243, True)\n",
    "X_train, X_test, y_train, y_test = train_test_split(X, y, test_size=0.2, random_state=42)\n",
    "X = None\n",
    "y = None\n",
    "X_train, y_train = np.array(X_train), np.array(y_train)\n",
    "X_test, y_test = np.array(X_test), np.array(y_test)"
   ]
  },
  {
   "cell_type": "code",
   "execution_count": 42,
   "metadata": {
    "collapsed": true
   },
   "outputs": [],
   "source": [
    "class_weight = {\n",
    "    0: 1,\n",
    "    1: 2,\n",
    "    2: 4,\n",
    "    3: 8,\n",
    "    4: 4,\n",
    "    5: 4,\n",
    "    6: 6\n",
    "}"
   ]
  },
  {
   "cell_type": "code",
   "execution_count": 87,
   "metadata": {
    "collapsed": false
   },
   "outputs": [],
   "source": [
    "def train_and_test(beat_feature_model):\n",
    "    print ('Train Error')\n",
    "    print (beat_feature_model.evaluate(X_train, y_train, batch_size=64))\n",
    "    print ('Test Error')\n",
    "    print (beat_feature_model.evaluate(X_test, y_test, batch_size=64))\n",
    "    print ('\\n')"
   ]
  },
  {
   "cell_type": "code",
   "execution_count": 88,
   "metadata": {
    "collapsed": false
   },
   "outputs": [
    {
     "name": "stdout",
     "output_type": "stream",
     "text": [
      "Train Error\n",
      "481012/481012 [==============================] - 39s    \n",
      "[0.42592726305637552, 0.8627934438250856]\n",
      "Test Error\n",
      "120253/120253 [==============================] - 9s     \n",
      "[0.42657310720665875, 0.86160844219953914]\n",
      "\n",
      "\n"
     ]
    },
    {
     "data": {
      "text/plain": [
       "99863"
      ]
     },
     "execution_count": 88,
     "metadata": {},
     "output_type": "execute_result"
    }
   ],
   "source": [
    "tanh\n",
    "tanh\n",
    "softmax\n",
    "optimizer='adadelta'"
   ]
  },
  {
   "cell_type": "code",
   "execution_count": 92,
   "metadata": {
    "collapsed": false
   },
   "outputs": [
    {
     "name": "stdout",
     "output_type": "stream",
     "text": [
      "Train Error\n",
      "480960/481012 [============================>.] - ETA: 0s[0.42942038129348753, 0.86228202206765714]\n",
      "Test Error\n",
      "120192/120253 [============================>.] - ETA: 0s[0.42997556868884673, 0.86154191580312245]\n",
      "\n",
      "\n"
     ]
    },
    {
     "data": {
      "text/plain": [
       "53825"
      ]
     },
     "execution_count": 92,
     "metadata": {},
     "output_type": "execute_result"
    }
   ],
   "source": [
    "relu\n",
    "tanh\n",
    "softmax\n",
    "optimizer='adam'"
   ]
  },
  {
   "cell_type": "code",
   "execution_count": 89,
   "metadata": {
    "collapsed": false
   },
   "outputs": [
    {
     "name": "stdout",
     "output_type": "stream",
     "text": [
      "Train Error\n",
      "480896/481012 [============================>.] - ETA: 0s[0.56995858570943969, 0.84818466067325049]\n",
      "Test Error\n",
      "120253/120253 [==============================] - 7s     \n",
      "[0.57250742078968464, 0.84692273789229022]\n",
      "\n",
      "\n"
     ]
    },
    {
     "data": {
      "text/plain": [
       "54172"
      ]
     },
     "execution_count": 89,
     "metadata": {},
     "output_type": "execute_result"
    }
   ],
   "source": [
    "tanh\n",
    "tanh\n",
    "softmax\n",
    "sgd = SGD(lr=0.01, clipnorm=1.)\n",
    "optimizer=sgd"
   ]
  },
  {
   "cell_type": "code",
   "execution_count": 91,
   "metadata": {
    "collapsed": false
   },
   "outputs": [
    {
     "name": "stdout",
     "output_type": "stream",
     "text": [
      "Train Error\n",
      "480960/481012 [============================>.] - ETA: 0s[0.5320718311445054, 0.84044472903062051]\n",
      "Test Error\n",
      "120064/120253 [============================>.] - ETA: 0s[0.53174864932115651, 0.84124304591054522]\n",
      "\n",
      "\n"
     ]
    },
    {
     "data": {
      "text/plain": [
       "44178"
      ]
     },
     "execution_count": 91,
     "metadata": {},
     "output_type": "execute_result"
    }
   ],
   "source": [
    "relu\n",
    "tanh\n",
    "softmax\n",
    "optimizer='adagrad'"
   ]
  },
  {
   "cell_type": "code",
   "execution_count": 90,
   "metadata": {
    "collapsed": false
   },
   "outputs": [
    {
     "name": "stdout",
     "output_type": "stream",
     "text": [
      "Train Error\n",
      "480960/481012 [============================>.] - ETA: 0s[0.42432194990426675, 0.87033379624872576]\n",
      "Test Error\n",
      "120064/120253 [============================>.] - ETA: 0s[0.42543680474911666, 0.86933382120257197]\n",
      "\n",
      "\n"
     ]
    },
    {
     "data": {
      "text/plain": [
       "48761"
      ]
     },
     "execution_count": 90,
     "metadata": {},
     "output_type": "execute_result"
    }
   ],
   "source": [
    "beat_feature_model = Sequential()\n",
    "\n",
    "beat_feature_model.add(Dense(324, input_dim=324, init='uniform'))\n",
    "beat_feature_model.add(BatchNormalization())\n",
    "beat_feature_model.add(Activation('relu'))\n",
    "beat_feature_model.add(Dropout(0.5))\n",
    "\n",
    "beat_feature_model.add(Dense(162, init='uniform'))\n",
    "beat_feature_model.add(BatchNormalization())\n",
    "beat_feature_model.add(Activation('sigmoid'))\n",
    "beat_feature_model.add(Dropout(0.5))\n",
    "\n",
    "beat_feature_model.add(Dense(num_classes, init='uniform'))\n",
    "beat_feature_model.add(BatchNormalization())\n",
    "beat_feature_model.add(Activation('softmax'))\n",
    "\n",
    "sgd = RMSprop(lr=0.01)\n",
    "\n",
    "beat_feature_model.compile(loss='categorical_crossentropy',\n",
    "                           optimizer=sgd,\n",
    "                           metrics=['accuracy'])\n",
    "\n",
    "beat_feature_model.fit(X_train, y_train, nb_epoch=3, batch_size=64, class_weight=class_weight, verbose = 0)\n",
    "beat_feature_model.save('models/song_class_model_2.h5')\n",
    "train_and_test(beat_feature_model)\n",
    "beat_feature_model = None\n",
    "gc.collect()"
   ]
  },
  {
   "cell_type": "code",
   "execution_count": 100,
   "metadata": {
    "collapsed": false
   },
   "outputs": [
    {
     "name": "stdout",
     "output_type": "stream",
     "text": [
      "Train on 481012 samples, validate on 120253 samples\n",
      "Epoch 1/3\n",
      "481012/481012 [==============================] - 66s - loss: 0.5722 - acc: 0.8493 - val_loss: 0.4487 - val_acc: 0.8574\n",
      "Epoch 2/3\n",
      "481012/481012 [==============================] - 70s - loss: 0.4131 - acc: 0.8699 - val_loss: 0.4260 - val_acc: 0.8654\n",
      "Epoch 3/3\n",
      "481012/481012 [==============================] - 68s - loss: 0.4086 - acc: 0.8717 - val_loss: 0.4108 - val_acc: 0.8709\n",
      "Train Error\n",
      "481012/481012 [==============================] - 26s    \n",
      "[0.40830669709949413, 0.87232750949981119]\n",
      "Test Error\n",
      "120253/120253 [==============================] - 6s     \n",
      "[0.41075646843757396, 0.87091382336468015]\n",
      "\n",
      "\n"
     ]
    },
    {
     "data": {
      "text/plain": [
       "50680"
      ]
     },
     "execution_count": 100,
     "metadata": {},
     "output_type": "execute_result"
    }
   ],
   "source": [
    "model = Sequential()\n",
    "model.add(Dense(256, input_shape=(324,)))\n",
    "model.add(BatchNormalization())\n",
    "model.add(Activation('relu'))\n",
    "model.add(Dropout(0.2))\n",
    "model.add(Dense(256))\n",
    "model.add(BatchNormalization())\n",
    "model.add(Activation('relu'))\n",
    "model.add(Dropout(0.2))\n",
    "model.add(Dense(num_classes))\n",
    "model.add(BatchNormalization())\n",
    "model.add(Activation('softmax'))\n",
    "\n",
    "model.compile(loss='categorical_crossentropy',\n",
    "              optimizer=RMSprop(),\n",
    "              metrics=['accuracy'])\n",
    "\n",
    "model.fit(X_train, y_train, batch_size=64, nb_epoch=3, verbose=1, validation_data=(X_test, y_test))\n",
    "train_and_test(model)\n",
    "model.save('models/song_class_model_6.h5')\n",
    "model = None\n",
    "gc.collect()"
   ]
  },
  {
   "cell_type": "code",
   "execution_count": null,
   "metadata": {
    "collapsed": false
   },
   "outputs": [
    {
     "name": "stdout",
     "output_type": "stream",
     "text": [
      "Train on 481012 samples, validate on 120253 samples\n",
      "Epoch 1/5\n",
      "392544/481012 [=======================>......] - ETA: 12s - loss: 0.7732 - acc: 0.8501"
     ]
    }
   ],
   "source": [
    "model = Sequential()\n",
    "model.add(Dense(256, input_shape=(324,)))\n",
    "model.add(BatchNormalization())\n",
    "model.add(Activation('relu'))\n",
    "model.add(Dropout(0.5))\n",
    "model.add(Dense(num_classes))\n",
    "model.add(BatchNormalization())\n",
    "model.add(Activation('softmax'))\n",
    "\n",
    "model.compile(loss='categorical_crossentropy',\n",
    "              optimizer='adagrad',\n",
    "              metrics=['accuracy'])\n",
    "\n",
    "model.fit(X_train, y_train, nb_epoch=5, batch_size=32, verbose=1, validation_data=(X_test, y_test))\n",
    "train_and_test(model)\n",
    "model.save('models/song_class_model_7.h5')\n",
    "model = None\n",
    "gc.collect()\n"
   ]
  },
  {
   "cell_type": "code",
   "execution_count": null,
   "metadata": {
    "collapsed": false
   },
   "outputs": [],
   "source": [
    "model = Sequential()\n",
    "model.add(Dense(256, input_shape=(324,)))\n",
    "model.add(BatchNormalization())\n",
    "model.add(Activation('relu'))\n",
    "model.add(Dropout(0.5))\n",
    "model.add(Dense(num_classes))\n",
    "model.add(BatchNormalization())\n",
    "model.add(Activation('softmax'))\n",
    "\n",
    "model.compile(loss='categorical_crossentropy',\n",
    "              optimizer='adadelta',\n",
    "              metrics=['accuracy'])\n",
    "\n",
    "model.fit(X_train, y_train, nb_epoch=5, batch_size=32, verbose=1, validation_data=(X_test, y_test))\n",
    "train_and_test(model)\n",
    "model.save('models/song_class_model_7.h5')\n",
    "model = None\n",
    "gc.collect()\n"
   ]
  },
  {
   "cell_type": "code",
   "execution_count": null,
   "metadata": {
    "collapsed": true
   },
   "outputs": [],
   "source": []
  }
 ],
 "metadata": {
  "anaconda-cloud": {},
  "kernelspec": {
   "display_name": "Python 3",
   "language": "python",
   "name": "python3"
  },
  "language_info": {
   "codemirror_mode": {
    "name": "ipython",
    "version": 3
   },
   "file_extension": ".py",
   "mimetype": "text/x-python",
   "name": "python",
   "nbconvert_exporter": "python",
   "pygments_lexer": "ipython3",
   "version": "3.5.1"
  }
 },
 "nbformat": 4,
 "nbformat_minor": 0
}
