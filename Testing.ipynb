{
 "cells": [
  {
   "cell_type": "code",
   "execution_count": 454,
   "metadata": {
    "collapsed": false
   },
   "outputs": [],
   "source": [
    "%matplotlib inline\n",
    "import pandas as pd\n",
    "import numpy as np\n",
    "import librosa\n",
    "import seaborn as sb\n",
    "import matplotlib.pyplot as plt\n",
    "import itertools\n",
    "import re\n",
    "from os import listdir\n",
    "from os.path import isfile, join\n",
    "from __future__ import print_function\n",
    "from numpy import median, diff"
   ]
  },
  {
   "cell_type": "code",
   "execution_count": 626,
   "metadata": {
    "collapsed": true
   },
   "outputs": [],
   "source": [
    "sample_rate = 22050*8\n",
    "class SongFile:\n",
    "    def load_new(self):\n",
    "        data, _ = librosa.load(self.music_file, sr=sample_rate)\n",
    "        _, self.beat_frames = librosa.beat.beat_track(y=data, sr=sample_rate)\n",
    "        self.beat_times = librosa.frames_to_time(self.beat_frames, sr=sample_rate)\n",
    "\n",
    "        seconds = len(data) / sample_rate\n",
    "        bpm = get_beats(self.beat_times, self.beat_frames)[0][1]\n",
    "        bps = bpm / 60\n",
    "        # take 24 samples for each beat (need 3rds, 8ths)\n",
    "        num_samples = int(bps * seconds * 24) - 1 # -1 to avoid out of bounds for now\n",
    "        beat_time = (1. / bps) / 24\n",
    "        sample_times = [beat_times[0] + (beat_time * i) for i in range(num_samples)]\n",
    "        self.music_samples = [data[int(time * sample_rate)] for time in sample_times]\n",
    "    \n",
    "    def __init__(self, pack, name, extension, force_new):\n",
    "        self.pack = pack\n",
    "        self.name = name\n",
    "        self.extension = extension\n",
    "        self.music_file = 'StepMania/Songs/{0}/{1}/{1}.{2}'.format(pack, name, extension)\n",
    "        self.stepfile = 'StepMania/Songs/{0}/{1}/{1}.ssc'.format(pack, name)\n",
    "        \n",
    "        key = '{0}~{1}'.format(pack, name)\n",
    "        if force_new or (not '{0}_beat_frames.csv'.format(key) in listdir('data')):\n",
    "            print ('Calculating beats for {0}'.format(key))\n",
    "            self.load_new()\n",
    "                        \n",
    "            print ('Saving calculated beats for {0}'.format(key))\n",
    "            pd.DataFrame(self.beat_times).to_csv('data/{0}_beat_times.csv'.format(key), index=False)\n",
    "            pd.DataFrame(self.beat_frames).to_csv('data/{0}_beat_frames.csv'.format(key), index=False)\n",
    "            pd.DataFrame(self.music_samples).to_csv('data/{0}_music_samples.csv'.format(key), index=False)\n",
    "        else:\n",
    "            print ('Loading beats from save for {0}'.format(key))\n",
    "            self.beat_frames = pd.read_csv('data/{0}_beat_frames.csv'.format(key)).values.flatten()\n",
    "            self.beat_times = pd.read_csv('data/{0}_beat_times.csv'.format(key)).values.flatten()\n",
    "            self.music_samples = pd.read_csv('data/{0}_music_samples.csv'.format(key)).values.flatten()"
   ]
  },
  {
   "cell_type": "code",
   "execution_count": 627,
   "metadata": {
    "collapsed": true
   },
   "outputs": [],
   "source": [
    "song_data = {}"
   ]
  },
  {
   "cell_type": "code",
   "execution_count": 628,
   "metadata": {
    "collapsed": true
   },
   "outputs": [],
   "source": [
    "def load_song(pack, title, force_new = False):\n",
    "    folder_path = 'StepMania/Songs/{0}/{1}'.format(pack, title)\n",
    "    song = next(file for file in listdir(folder_path) if file.endswith('.ogg') or file.endswith('.mp3'))\n",
    "    extension = song.split('.')[1]\n",
    "    key = '{0}~{1}'.format(pack, title)\n",
    "    song_data[key] = SongFile(pack, title, extension, force_new)"
   ]
  },
  {
   "cell_type": "code",
   "execution_count": 636,
   "metadata": {
    "collapsed": false
   },
   "outputs": [
    {
     "name": "stdout",
     "output_type": "stream",
     "text": [
      "Calculating beats for In The Groove~Anubis\n",
      "Saving calculated beats for In The Groove~Anubis\n",
      "Calculating beats for In The Groove~Bend Your Mind\n",
      "Saving calculated beats for In The Groove~Bend Your Mind\n",
      "Calculating beats for In The Groove~Boogie Down\n",
      "Saving calculated beats for In The Groove~Boogie Down\n",
      "Calculating beats for In The Groove~Bouff\n",
      "Saving calculated beats for In The Groove~Bouff\n",
      "Calculating beats for In The Groove~Bubble Dancer\n",
      "Saving calculated beats for In The Groove~Bubble Dancer\n",
      "Calculating beats for In The Groove~Changes\n",
      "Saving calculated beats for In The Groove~Changes\n",
      "Calculating beats for In The Groove~Charlene\n",
      "Saving calculated beats for In The Groove~Charlene\n",
      "Calculating beats for In The Groove~Crazy\n",
      "Saving calculated beats for In The Groove~Crazy\n",
      "Calculating beats for In The Groove~Da Roots\n",
      "Saving calculated beats for In The Groove~Da Roots\n",
      "Calculating beats for In The Groove~Dawn\n",
      "Saving calculated beats for In The Groove~Dawn\n",
      "Calculating beats for In The Groove~Delirium\n",
      "Saving calculated beats for In The Groove~Delirium\n",
      "Calculating beats for In The Groove~Disconnected\n",
      "Saving calculated beats for In The Groove~Disconnected\n",
      "Calculating beats for In The Groove~Disconnected -Hyper-\n",
      "Saving calculated beats for In The Groove~Disconnected -Hyper-\n",
      "Calculating beats for In The Groove~Disconnected -Mobius-\n",
      "Saving calculated beats for In The Groove~Disconnected -Mobius-\n",
      "Calculating beats for In The Groove~DJ Party\n",
      "Saving calculated beats for In The Groove~DJ Party\n",
      "Calculating beats for In The Groove~Do U Love Me\n",
      "Saving calculated beats for In The Groove~Do U Love Me\n",
      "Calculating beats for In The Groove~Don't Promise Me\n",
      "Saving calculated beats for In The Groove~Don't Promise Me\n",
      "Calculating beats for In The Groove~Drifting Away\n",
      "Saving calculated beats for In The Groove~Drifting Away\n",
      "Calculating beats for In The Groove~Driving Force Classical\n",
      "Saving calculated beats for In The Groove~Driving Force Classical\n",
      "Calculating beats for In The Groove~Euphoria\n",
      "Saving calculated beats for In The Groove~Euphoria\n",
      "Calculating beats for In The Groove~Fly Away\n",
      "Saving calculated beats for In The Groove~Fly Away\n",
      "Calculating beats for In The Groove~Fly With Me\n",
      "Saving calculated beats for In The Groove~Fly With Me\n",
      "Calculating beats for In The Groove~Flying High\n",
      "Saving calculated beats for In The Groove~Flying High\n",
      "Calculating beats for In The Groove~Hand of Time\n",
      "Saving calculated beats for In The Groove~Hand of Time\n",
      "Calculating beats for In The Groove~Happiness Comes\n",
      "Saving calculated beats for In The Groove~Happiness Comes\n",
      "Calculating beats for In The Groove~Hardcore of the North\n",
      "Saving calculated beats for In The Groove~Hardcore of the North\n",
      "Calculating beats for In The Groove~Hip Hop Jam\n",
      "Saving calculated beats for In The Groove~Hip Hop Jam\n",
      "Calculating beats for In The Groove~Hybrid\n",
      "Saving calculated beats for In The Groove~Hybrid\n",
      "Calculating beats for In The Groove~I Think I Like That Sound\n",
      "Saving calculated beats for In The Groove~I Think I Like That Sound\n",
      "Calculating beats for In The Groove~I'll Get There Anyway\n",
      "Saving calculated beats for In The Groove~I'll Get There Anyway\n",
      "Calculating beats for In The Groove~Infection\n",
      "Saving calculated beats for In The Groove~Infection\n",
      "Calculating beats for In The Groove~July\n",
      "Saving calculated beats for In The Groove~July\n",
      "Calculating beats for In The Groove~Kagami\n",
      "Saving calculated beats for In The Groove~Kagami\n",
      "Calculating beats for In The Groove~Kiss Me Red\n",
      "Saving calculated beats for In The Groove~Kiss Me Red\n",
      "Calculating beats for In The Groove~Land of the Rising Sun\n",
      "Saving calculated beats for In The Groove~Land of the Rising Sun\n",
      "Calculating beats for In The Groove~Lemmings on the Run\n",
      "Saving calculated beats for In The Groove~Lemmings on the Run\n",
      "Calculating beats for In The Groove~Let Me Be the One\n",
      "Saving calculated beats for In The Groove~Let Me Be the One\n",
      "Calculating beats for In The Groove~Let My Love Go Blind\n",
      "Saving calculated beats for In The Groove~Let My Love Go Blind\n",
      "Calculating beats for In The Groove~Mellow\n",
      "Saving calculated beats for In The Groove~Mellow\n",
      "Calculating beats for In The Groove~Mouth\n",
      "Saving calculated beats for In The Groove~Mouth\n",
      "Calculating beats for In The Groove~My Favourite Game\n",
      "Saving calculated beats for In The Groove~My Favourite Game\n",
      "Calculating beats for In The Groove~Mythology\n",
      "Saving calculated beats for In The Groove~Mythology\n",
      "Calculating beats for In The Groove~Oasis\n",
      "Saving calculated beats for In The Groove~Oasis\n",
      "Calculating beats for In The Groove~On a Day Like Today\n",
      "Saving calculated beats for In The Groove~On a Day Like Today\n",
      "Calculating beats for In The Groove~PA Theme\n",
      "Saving calculated beats for In The Groove~PA Theme\n",
      "Calculating beats for In The Groove~Pandemonium\n",
      "Saving calculated beats for In The Groove~Pandemonium\n",
      "Calculating beats for In The Groove~Perfect\n",
      "Saving calculated beats for In The Groove~Perfect\n",
      "Calculating beats for In The Groove~Queen of Light\n",
      "Saving calculated beats for In The Groove~Queen of Light\n",
      "Calculating beats for In The Groove~Remember December\n",
      "Saving calculated beats for In The Groove~Remember December\n",
      "Calculating beats for In The Groove~ROM-eo & Juli8\n",
      "Saving calculated beats for In The Groove~ROM-eo & Juli8\n",
      "Calculating beats for In The Groove~Solina\n",
      "Saving calculated beats for In The Groove~Solina\n",
      "Calculating beats for In The Groove~Tell\n",
      "Saving calculated beats for In The Groove~Tell\n",
      "Calculating beats for In The Groove~Tension\n",
      "Saving calculated beats for In The Groove~Tension\n",
      "Calculating beats for In The Groove~The Beginning\n",
      "Saving calculated beats for In The Groove~The Beginning\n",
      "Calculating beats for In The Groove~The Game\n",
      "Saving calculated beats for In The Groove~The Game\n",
      "Calculating beats for In The Groove~Torn\n",
      "Saving calculated beats for In The Groove~Torn\n",
      "Calculating beats for In The Groove~Touch Me\n",
      "Saving calculated beats for In The Groove~Touch Me\n",
      "Calculating beats for In The Groove~Tough Enough\n",
      "Saving calculated beats for In The Groove~Tough Enough\n",
      "Calculating beats for In The Groove~Turn It On\n",
      "Saving calculated beats for In The Groove~Turn It On\n",
      "Calculating beats for In The Groove~Utopia\n",
      "Saving calculated beats for In The Groove~Utopia\n",
      "Calculating beats for In The Groove~VerTex\n",
      "Saving calculated beats for In The Groove~VerTex\n",
      "Calculating beats for In The Groove~Walking on Fire\n",
      "Saving calculated beats for In The Groove~Walking on Fire\n",
      "Calculating beats for In The Groove~Which MC Was That\n",
      "Saving calculated beats for In The Groove~Which MC Was That\n",
      "Calculating beats for In The Groove~While Tha Rekkid Spinz\n",
      "Saving calculated beats for In The Groove~While Tha Rekkid Spinz\n",
      "Calculating beats for In The Groove~Why Me\n",
      "Saving calculated beats for In The Groove~Why Me\n",
      "Calculating beats for In The Groove~Xuxa\n",
      "Saving calculated beats for In The Groove~Xuxa\n",
      "Calculating beats for In The Groove~Zodiac\n",
      "Saving calculated beats for In The Groove~Zodiac\n",
      "Calculating beats for _test~A\n",
      "Saving calculated beats for _test~A\n",
      "Calculating beats for _test~B\n",
      "Saving calculated beats for _test~B\n",
      "Calculating beats for _test~C\n"
     ]
    },
    {
     "ename": "IndexError",
     "evalue": "index 19053386 is out of bounds for axis 0 with size 19053312",
     "output_type": "error",
     "traceback": [
      "\u001b[0;31m---------------------------------------------------------------------------\u001b[0m",
      "\u001b[0;31mIndexError\u001b[0m                                Traceback (most recent call last)",
      "\u001b[0;32m<ipython-input-636-a3475d025ce4>\u001b[0m in \u001b[0;36m<module>\u001b[0;34m()\u001b[0m\n\u001b[1;32m      6\u001b[0m \u001b[0mload_song\u001b[0m\u001b[0;34m(\u001b[0m\u001b[0;34m'_test'\u001b[0m\u001b[0;34m,\u001b[0m \u001b[0;34m'A'\u001b[0m\u001b[0;34m,\u001b[0m \u001b[0;32mTrue\u001b[0m\u001b[0;34m)\u001b[0m\u001b[0;34m\u001b[0m\u001b[0m\n\u001b[1;32m      7\u001b[0m \u001b[0mload_song\u001b[0m\u001b[0;34m(\u001b[0m\u001b[0;34m'_test'\u001b[0m\u001b[0;34m,\u001b[0m \u001b[0;34m'B'\u001b[0m\u001b[0;34m,\u001b[0m \u001b[0;32mTrue\u001b[0m\u001b[0;34m)\u001b[0m\u001b[0;34m\u001b[0m\u001b[0m\n\u001b[0;32m----> 8\u001b[0;31m \u001b[0mload_song\u001b[0m\u001b[0;34m(\u001b[0m\u001b[0;34m'_test'\u001b[0m\u001b[0;34m,\u001b[0m \u001b[0;34m'C'\u001b[0m\u001b[0;34m,\u001b[0m \u001b[0;32mTrue\u001b[0m\u001b[0;34m)\u001b[0m\u001b[0;34m\u001b[0m\u001b[0m\n\u001b[0m",
      "\u001b[0;32m<ipython-input-628-3392effe8eab>\u001b[0m in \u001b[0;36mload_song\u001b[0;34m(pack, title, force_new)\u001b[0m\n\u001b[1;32m      4\u001b[0m     \u001b[0mextension\u001b[0m \u001b[0;34m=\u001b[0m \u001b[0msong\u001b[0m\u001b[0;34m.\u001b[0m\u001b[0msplit\u001b[0m\u001b[0;34m(\u001b[0m\u001b[0;34m'.'\u001b[0m\u001b[0;34m)\u001b[0m\u001b[0;34m[\u001b[0m\u001b[0;36m1\u001b[0m\u001b[0;34m]\u001b[0m\u001b[0;34m\u001b[0m\u001b[0m\n\u001b[1;32m      5\u001b[0m     \u001b[0mkey\u001b[0m \u001b[0;34m=\u001b[0m \u001b[0;34m'{0}~{1}'\u001b[0m\u001b[0;34m.\u001b[0m\u001b[0mformat\u001b[0m\u001b[0;34m(\u001b[0m\u001b[0mpack\u001b[0m\u001b[0;34m,\u001b[0m \u001b[0mtitle\u001b[0m\u001b[0;34m)\u001b[0m\u001b[0;34m\u001b[0m\u001b[0m\n\u001b[0;32m----> 6\u001b[0;31m     \u001b[0msong_data\u001b[0m\u001b[0;34m[\u001b[0m\u001b[0mkey\u001b[0m\u001b[0;34m]\u001b[0m \u001b[0;34m=\u001b[0m \u001b[0mSongFile\u001b[0m\u001b[0;34m(\u001b[0m\u001b[0mpack\u001b[0m\u001b[0;34m,\u001b[0m \u001b[0mtitle\u001b[0m\u001b[0;34m,\u001b[0m \u001b[0mextension\u001b[0m\u001b[0;34m,\u001b[0m \u001b[0mforce_new\u001b[0m\u001b[0;34m)\u001b[0m\u001b[0;34m\u001b[0m\u001b[0m\n\u001b[0m",
      "\u001b[0;32m<ipython-input-626-be56640372da>\u001b[0m in \u001b[0;36m__init__\u001b[0;34m(self, pack, name, extension, force_new)\u001b[0m\n\u001b[1;32m     25\u001b[0m         \u001b[0;32mif\u001b[0m \u001b[0mforce_new\u001b[0m \u001b[0;32mor\u001b[0m \u001b[0;34m(\u001b[0m\u001b[0;32mnot\u001b[0m \u001b[0;34m'{0}_beat_frames.csv'\u001b[0m\u001b[0;34m.\u001b[0m\u001b[0mformat\u001b[0m\u001b[0;34m(\u001b[0m\u001b[0mkey\u001b[0m\u001b[0;34m)\u001b[0m \u001b[0;32min\u001b[0m \u001b[0mlistdir\u001b[0m\u001b[0;34m(\u001b[0m\u001b[0;34m'data'\u001b[0m\u001b[0;34m)\u001b[0m\u001b[0;34m)\u001b[0m\u001b[0;34m:\u001b[0m\u001b[0;34m\u001b[0m\u001b[0m\n\u001b[1;32m     26\u001b[0m             \u001b[0mprint\u001b[0m \u001b[0;34m(\u001b[0m\u001b[0;34m'Calculating beats for {0}'\u001b[0m\u001b[0;34m.\u001b[0m\u001b[0mformat\u001b[0m\u001b[0;34m(\u001b[0m\u001b[0mkey\u001b[0m\u001b[0;34m)\u001b[0m\u001b[0;34m)\u001b[0m\u001b[0;34m\u001b[0m\u001b[0m\n\u001b[0;32m---> 27\u001b[0;31m             \u001b[0mself\u001b[0m\u001b[0;34m.\u001b[0m\u001b[0mload_new\u001b[0m\u001b[0;34m(\u001b[0m\u001b[0;34m)\u001b[0m\u001b[0;34m\u001b[0m\u001b[0m\n\u001b[0m\u001b[1;32m     28\u001b[0m \u001b[0;34m\u001b[0m\u001b[0m\n\u001b[1;32m     29\u001b[0m             \u001b[0mprint\u001b[0m \u001b[0;34m(\u001b[0m\u001b[0;34m'Saving calculated beats for {0}'\u001b[0m\u001b[0;34m.\u001b[0m\u001b[0mformat\u001b[0m\u001b[0;34m(\u001b[0m\u001b[0mkey\u001b[0m\u001b[0;34m)\u001b[0m\u001b[0;34m)\u001b[0m\u001b[0;34m\u001b[0m\u001b[0m\n",
      "\u001b[0;32m<ipython-input-626-be56640372da>\u001b[0m in \u001b[0;36mload_new\u001b[0;34m(self)\u001b[0m\n\u001b[1;32m     13\u001b[0m         \u001b[0mbeat_time\u001b[0m \u001b[0;34m=\u001b[0m \u001b[0;34m(\u001b[0m\u001b[0;36m1.\u001b[0m \u001b[0;34m/\u001b[0m \u001b[0mbps\u001b[0m\u001b[0;34m)\u001b[0m \u001b[0;34m/\u001b[0m \u001b[0;36m24\u001b[0m\u001b[0;34m\u001b[0m\u001b[0m\n\u001b[1;32m     14\u001b[0m         \u001b[0msample_times\u001b[0m \u001b[0;34m=\u001b[0m \u001b[0;34m[\u001b[0m\u001b[0mbeat_times\u001b[0m\u001b[0;34m[\u001b[0m\u001b[0;36m0\u001b[0m\u001b[0;34m]\u001b[0m \u001b[0;34m+\u001b[0m \u001b[0;34m(\u001b[0m\u001b[0mbeat_time\u001b[0m \u001b[0;34m*\u001b[0m \u001b[0mi\u001b[0m\u001b[0;34m)\u001b[0m \u001b[0;32mfor\u001b[0m \u001b[0mi\u001b[0m \u001b[0;32min\u001b[0m \u001b[0mrange\u001b[0m\u001b[0;34m(\u001b[0m\u001b[0mnum_samples\u001b[0m\u001b[0;34m)\u001b[0m\u001b[0;34m]\u001b[0m\u001b[0;34m\u001b[0m\u001b[0m\n\u001b[0;32m---> 15\u001b[0;31m         \u001b[0mself\u001b[0m\u001b[0;34m.\u001b[0m\u001b[0mmusic_samples\u001b[0m \u001b[0;34m=\u001b[0m \u001b[0;34m[\u001b[0m\u001b[0mdata\u001b[0m\u001b[0;34m[\u001b[0m\u001b[0mint\u001b[0m\u001b[0;34m(\u001b[0m\u001b[0mtime\u001b[0m \u001b[0;34m*\u001b[0m \u001b[0msample_rate\u001b[0m\u001b[0;34m)\u001b[0m\u001b[0;34m]\u001b[0m \u001b[0;32mfor\u001b[0m \u001b[0mtime\u001b[0m \u001b[0;32min\u001b[0m \u001b[0msample_times\u001b[0m\u001b[0;34m]\u001b[0m\u001b[0;34m\u001b[0m\u001b[0m\n\u001b[0m\u001b[1;32m     16\u001b[0m \u001b[0;34m\u001b[0m\u001b[0m\n\u001b[1;32m     17\u001b[0m     \u001b[0;32mdef\u001b[0m \u001b[0m__init__\u001b[0m\u001b[0;34m(\u001b[0m\u001b[0mself\u001b[0m\u001b[0;34m,\u001b[0m \u001b[0mpack\u001b[0m\u001b[0;34m,\u001b[0m \u001b[0mname\u001b[0m\u001b[0;34m,\u001b[0m \u001b[0mextension\u001b[0m\u001b[0;34m,\u001b[0m \u001b[0mforce_new\u001b[0m\u001b[0;34m)\u001b[0m\u001b[0;34m:\u001b[0m\u001b[0;34m\u001b[0m\u001b[0m\n",
      "\u001b[0;32m<ipython-input-626-be56640372da>\u001b[0m in \u001b[0;36m<listcomp>\u001b[0;34m(.0)\u001b[0m\n\u001b[1;32m     13\u001b[0m         \u001b[0mbeat_time\u001b[0m \u001b[0;34m=\u001b[0m \u001b[0;34m(\u001b[0m\u001b[0;36m1.\u001b[0m \u001b[0;34m/\u001b[0m \u001b[0mbps\u001b[0m\u001b[0;34m)\u001b[0m \u001b[0;34m/\u001b[0m \u001b[0;36m24\u001b[0m\u001b[0;34m\u001b[0m\u001b[0m\n\u001b[1;32m     14\u001b[0m         \u001b[0msample_times\u001b[0m \u001b[0;34m=\u001b[0m \u001b[0;34m[\u001b[0m\u001b[0mbeat_times\u001b[0m\u001b[0;34m[\u001b[0m\u001b[0;36m0\u001b[0m\u001b[0;34m]\u001b[0m \u001b[0;34m+\u001b[0m \u001b[0;34m(\u001b[0m\u001b[0mbeat_time\u001b[0m \u001b[0;34m*\u001b[0m \u001b[0mi\u001b[0m\u001b[0;34m)\u001b[0m \u001b[0;32mfor\u001b[0m \u001b[0mi\u001b[0m \u001b[0;32min\u001b[0m \u001b[0mrange\u001b[0m\u001b[0;34m(\u001b[0m\u001b[0mnum_samples\u001b[0m\u001b[0;34m)\u001b[0m\u001b[0;34m]\u001b[0m\u001b[0;34m\u001b[0m\u001b[0m\n\u001b[0;32m---> 15\u001b[0;31m         \u001b[0mself\u001b[0m\u001b[0;34m.\u001b[0m\u001b[0mmusic_samples\u001b[0m \u001b[0;34m=\u001b[0m \u001b[0;34m[\u001b[0m\u001b[0mdata\u001b[0m\u001b[0;34m[\u001b[0m\u001b[0mint\u001b[0m\u001b[0;34m(\u001b[0m\u001b[0mtime\u001b[0m \u001b[0;34m*\u001b[0m \u001b[0msample_rate\u001b[0m\u001b[0;34m)\u001b[0m\u001b[0;34m]\u001b[0m \u001b[0;32mfor\u001b[0m \u001b[0mtime\u001b[0m \u001b[0;32min\u001b[0m \u001b[0msample_times\u001b[0m\u001b[0;34m]\u001b[0m\u001b[0;34m\u001b[0m\u001b[0m\n\u001b[0m\u001b[1;32m     16\u001b[0m \u001b[0;34m\u001b[0m\u001b[0m\n\u001b[1;32m     17\u001b[0m     \u001b[0;32mdef\u001b[0m \u001b[0m__init__\u001b[0m\u001b[0;34m(\u001b[0m\u001b[0mself\u001b[0m\u001b[0;34m,\u001b[0m \u001b[0mpack\u001b[0m\u001b[0;34m,\u001b[0m \u001b[0mname\u001b[0m\u001b[0;34m,\u001b[0m \u001b[0mextension\u001b[0m\u001b[0;34m,\u001b[0m \u001b[0mforce_new\u001b[0m\u001b[0;34m)\u001b[0m\u001b[0;34m:\u001b[0m\u001b[0;34m\u001b[0m\u001b[0m\n",
      "\u001b[0;31mIndexError\u001b[0m: index 19053386 is out of bounds for axis 0 with size 19053312"
     ]
    }
   ],
   "source": [
    "songs = [song for song in listdir('StepMania/Songs/In The Groove')]\n",
    "songs.remove('.DS_Store')\n",
    "for song in songs:\n",
    "    load_song('In The Groove', song, True)\n",
    "    \n",
    "load_song('_test', 'A', True)\n",
    "load_song('_test', 'B', True)\n",
    "load_song('_test', 'C', True)"
   ]
  },
  {
   "cell_type": "code",
   "execution_count": 639,
   "metadata": {
    "collapsed": false
   },
   "outputs": [],
   "source": [
    "def get_bpm(file):\n",
    "    with open(file, \"r\") as ins:\n",
    "        for line in ins:\n",
    "            if line.startswith('#BPMS:'):\n",
    "                result = re.search('#BPMS:(.*);', line)\n",
    "                bpm_string = result.group(1)\n",
    "                if len(bpm_string.split(',')) == 1:\n",
    "                    return float(bpm_string.split('=')[1])\n",
    "                return 0\n",
    "    return 0"
   ]
  },
  {
   "cell_type": "code",
   "execution_count": 640,
   "metadata": {
    "collapsed": false
   },
   "outputs": [],
   "source": [
    "songs = [song for song in listdir('StepMania/Songs/In The Groove')]\n",
    "songs.remove('.DS_Store')\n",
    "song_bpms = {}\n",
    "for song in songs:\n",
    "    song_bpms['In The Groove~{0}'.format(song)] = get_bpm('StepMania/Songs/In The Groove/{0}/{0}.sm'.format(song))\n",
    "    \n",
    "song_bpms['_test~A'] = 181.685\n",
    "song_bpms['_test~B'] = 140\n",
    "song_bpms['_test~C'] = 180"
   ]
  },
  {
   "cell_type": "code",
   "execution_count": null,
   "metadata": {
    "collapsed": false
   },
   "outputs": [],
   "source": []
  },
  {
   "cell_type": "code",
   "execution_count": 648,
   "metadata": {
    "collapsed": false
   },
   "outputs": [
    {
     "ename": "IndentationError",
     "evalue": "expected an indented block (<ipython-input-648-fad87fc14a44>, line 10)",
     "output_type": "error",
     "traceback": [
      "\u001b[0;36m  File \u001b[0;32m\"<ipython-input-648-fad87fc14a44>\"\u001b[0;36m, line \u001b[0;32m10\u001b[0m\n\u001b[0;31m    print ('{0} - Real: {2:.3f}, Error: {1:.3f}'.format('', prediced_beat - real_beat, real_beat))\u001b[0m\n\u001b[0m    ^\u001b[0m\n\u001b[0;31mIndentationError\u001b[0m\u001b[0;31m:\u001b[0m expected an indented block\n"
     ]
    }
   ],
   "source": [
    "errors = []\n",
    "for key in song_data:\n",
    "    song = song_data[key]\n",
    "    real_beat = song_bpms[key]\n",
    "    if real_beat != 0:\n",
    "        prediced_beat = get_beats(song.beat_times, song.beat_frames)[0][1]\n",
    "        for i in range (1,4):\n",
    "            if abs((prediced_beat * (i + 1) / (i)) - real_beat) < abs(prediced_beat - real_beat):\n",
    "                #prediced_beat *= (i + 1) / (i)\n",
    "        print ('{0} - Real: {2:.3f}, Error: {1:.3f}'.format('', prediced_beat - real_beat, real_beat))\n",
    "        errors.append(abs(prediced_beat - real_beat))\n",
    "print (['{0:.3f}'.format(error) for error in errors])"
   ]
  },
  {
   "cell_type": "code",
   "execution_count": 415,
   "metadata": {
    "collapsed": false
   },
   "outputs": [],
   "source": [
    "def get_beats(beat_times, beat_frames):\n",
    "    changes = []\n",
    "    changes_time = []\n",
    "    for i in range(len(beat_frames) - 1):\n",
    "        changes.append(beat_frames[i + 1] - beat_frames[i])\n",
    "        changes_time.append(beat_times[i + 1] - beat_times[i])\n",
    "\n",
    "    sorted_changes = sorted(changes)\n",
    "    median = sorted_changes[int(len(changes) / 2)]\n",
    "\n",
    "    changes_counted = [abs(change - median) < 2 for change in changes]\n",
    "    time_changes_counted = list(itertools.compress(changes_time, changes_counted))\n",
    "    average = sum(time_changes_counted) / len(time_changes_counted)\n",
    "    \n",
    "    time_differences = []\n",
    "    earliest_proper_beat = 1\n",
    "    for i in range(1, len(beat_times) - 1):\n",
    "        if changes_counted[i] & changes_counted[i - 1]:\n",
    "            earliest_proper_beat = i\n",
    "            break\n",
    "            \n",
    "    last_proper_beat = len(beat_times) -2\n",
    "    for i in range(1, len(beat_times) - 1):\n",
    "        if changes_counted[len(beat_times) - i - 1] & changes_counted[len(beat_times) - i - 2]:\n",
    "            last_proper_beat = len(beat_times) - i - 1\n",
    "            break\n",
    "    \n",
    "    time_differences = []\n",
    "    buffer = 5\n",
    "    for i in range(20):\n",
    "        start_beat = earliest_proper_beat + buffer * i\n",
    "        if changes_counted[start_beat] & changes_counted[start_beat - 1]:\n",
    "            for j in range(20):\n",
    "                end_beat = last_proper_beat - buffer * j\n",
    "                if changes_counted[end_beat] & changes_counted[end_beat - 1]:\n",
    "                    time_differences.append(beat_times[end_beat] - beat_times[start_beat])\n",
    "        \n",
    "    # get num beats, round, and make new average\n",
    "    new_averages = [time_difference / round(time_difference / average) for time_difference in time_differences]\n",
    "    #print (new_averages)\n",
    "    new_averages.sort()\n",
    "    num_averages = len(new_averages)\n",
    "    #new_average = sum(new_averages[5:num_averages - 5]) / (num_averages - 10)\n",
    "    new_average = new_averages[int(num_averages/2)]\n",
    "    return [(0, 60./new_average)]\n",
    "    \n",
    "def get_time_string(times):\n",
    "    time_strings = []\n",
    "    for time in times:\n",
    "        if time[0] != 0:\n",
    "            time_strings.append(',')\n",
    "        time_strings.append('{:}={:.3f}'.format(time[0], time[1]))\n",
    "    return ''.join(time_strings)\n",
    "\n",
    "def test_get_beats(beat_times, beat_frames):\n",
    "    a = get_beats(beat_times, beat_frames)\n",
    "    a.append((500, 1))\n",
    "    time = beat_times[0]\n",
    "    beat_times_mock = [time]\n",
    "    for i in range(len(a) - 1):\n",
    "        for j in range(a[i+1][0] - a[i][0]):\n",
    "            time += 60/a[i][1]\n",
    "            beat_times_mock.append(time)\n",
    "\n",
    "    beat_times_pd = pd.DataFrame(beat_times, columns=['VALUE'])\n",
    "    beat_times_pd['REAL'] = True\n",
    "    beat_times_pd\n",
    "    beat_times_mock_pd = pd.DataFrame(beat_times, columns=['VALUE'])\n",
    "    beat_times_mock_pd['REAL'] = False\n",
    "    both = beat_times_pd.append(beat_times_mock_pd)\n",
    "    both['BEAT']=both.index\n",
    "    linestyles = [\"--\", \"-\"]*390\n",
    "    fig, (ax) = plt.subplots(1,1, figsize=(20,7))\n",
    "    graph = sb.pointplot(x='BEAT', y='VALUE', hue='REAL', linestyles=linestyles, data=both, ax=ax)\n",
    "    \n",
    "#test_get_beats(beat_times)"
   ]
  },
  {
   "cell_type": "code",
   "execution_count": 309,
   "metadata": {
    "collapsed": true
   },
   "outputs": [],
   "source": [
    "def write_song_header(output_stepfile, info_map):\n",
    "    keys = ['VERSION', 'TITLE', 'MUSIC', 'OFFSET', 'SAMPLESTART', 'SAMPLELENGTH']\n",
    "    header_info = {\n",
    "        'VERSION': 0.82,\n",
    "        'TITLE': info_map['song_name'],\n",
    "        'MUSIC': '{0}.mp3'.format(info_map['song_name']),\n",
    "        'OFFSET': -0.090,\n",
    "        'SAMPLESTART': info_map['sample_start'],\n",
    "        'SAMPLELENGTH': info_map['sample_length']\n",
    "    }\n",
    "    for key in keys:\n",
    "        print (\"#{0}:{1};\".format(key, str(header_info[key])), file=output_stepfile)\n",
    "        \n",
    "def write_step_header(output_stepfile, info_map):\n",
    "    print(\"//---------------dance-single - ----------------\", file=output_stepfile)\n",
    "    keys = ['NOTEDATA', 'CHARTNAME', 'STEPSTYPE', 'DIFFICULTY', 'METER', 'RADARVALUES', 'BPMS']\n",
    "    step_info = {\n",
    "        'NOTEDATA': '',\n",
    "        'CHARTNAME': 'Kommisar',\n",
    "        'STEPSTYPE': 'dance-single',\n",
    "        'DIFFICULTY': 'Beginner',\n",
    "        'METER': 1,\n",
    "        'RADARVALUES': '0.234,0.292,0.008,0,0,211,212,1,0,0,0,0,0,0,0.234,0.292,0.008,0,0,211,212,1,0,0,0,0,0,0',\n",
    "        'BPMS': info_map['bpm']\n",
    "    }\n",
    "    for key in keys:\n",
    "        print (\"#{0}:{1};\".format(key, str(step_info[key])), file=output_stepfile)\n",
    "        \n",
    "def write_notes(output_stepfile, info_map):\n",
    "    print (\"#NOTES:\", file=output_stepfile)\n",
    "    \n",
    "    for i in range(80):\n",
    "        print (\"0101\\n0001\\n0101\\n0001\\n,\", file=output_stepfile)\n",
    "    print (\"0000;\", file=output_stepfile)"
   ]
  },
  {
   "cell_type": "code",
   "execution_count": 329,
   "metadata": {
    "collapsed": true
   },
   "outputs": [],
   "source": [
    "def get_info_map(song):\n",
    "    info_map = {}\n",
    "    info_map['song_name'] = song.name\n",
    "    info_map['song_format'] = song.extension\n",
    "    times = get_beats(song.beat_times, song.beat_frames)\n",
    "    bpm_string = get_time_string(times)\n",
    "    info_map['bpm'] = bpm_string\n",
    "    tempo = 60./times[0][1]\n",
    "    info_map['sample_start'] = 16 * tempo\n",
    "    info_map['sample_length'] = 32 * tempo\n",
    "    return info_map"
   ]
  },
  {
   "cell_type": "code",
   "execution_count": 330,
   "metadata": {
    "collapsed": true
   },
   "outputs": [],
   "source": [
    "def step_song(song):\n",
    "    output_stepfile=open(song.stepfile, 'w')\n",
    "    info_map = get_info_map(song)\n",
    "    write_song_header(output_stepfile, info_map)\n",
    "    write_step_header(output_stepfile, info_map)\n",
    "    write_notes(output_stepfile, info_map)\n",
    "    output_stepfile.close()"
   ]
  },
  {
   "cell_type": "code",
   "execution_count": 333,
   "metadata": {
    "collapsed": false
   },
   "outputs": [],
   "source": [
    "step_song(A)\n",
    "step_song(B)\n",
    "step_song(C)"
   ]
  },
  {
   "cell_type": "code",
   "execution_count": null,
   "metadata": {
    "collapsed": true
   },
   "outputs": [],
   "source": []
  }
 ],
 "metadata": {
  "anaconda-cloud": {},
  "kernelspec": {
   "display_name": "Python 3",
   "language": "python",
   "name": "python3"
  },
  "language_info": {
   "codemirror_mode": {
    "name": "ipython",
    "version": 3
   },
   "file_extension": ".py",
   "mimetype": "text/x-python",
   "name": "python",
   "nbconvert_exporter": "python",
   "pygments_lexer": "ipython3",
   "version": "3.5.1"
  }
 },
 "nbformat": 4,
 "nbformat_minor": 0
}
