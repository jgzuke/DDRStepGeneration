{
 "cells": [
  {
   "cell_type": "code",
   "execution_count": 30,
   "metadata": {
    "collapsed": false
   },
   "outputs": [],
   "source": [
    "import pandas as pd\n",
    "import numpy as np\n",
    "import random\n",
    "import gc\n",
    "from os import listdir\n",
    "from keras.models import Sequential, load_model\n",
    "from keras.layers import Dense, Activation, Dropout, BatchNormalization\n",
    "from keras.optimizers import SGD, RMSprop\n",
    "import pickle\n",
    "from sklearn.externals import joblib\n",
    "from sklearn import tree\n",
    "from sklearn.linear_model import SGDClassifier\n",
    "from sklearn.ensemble import RandomForestClassifier\n",
    "from sklearn.ensemble import GradientBoostingClassifier\n",
    "from sklearn.cross_validation import train_test_split, cross_val_score"
   ]
  },
  {
   "cell_type": "markdown",
   "metadata": {},
   "source": [
    "# Note types\n",
    "- 0: nothing\n",
    "- 1: step\n",
    "- 2: hold start\n",
    "- 3: hold/roll end\n",
    "- 4: roll start\n",
    "- M: mine\n",
    "\n",
    "# Classes\n",
    "- 0: nothing\n",
    "- 1: one note\n",
    "- 2: two notes\n",
    "- 3: three or four notes\n",
    "- 4: hold start\n",
    "- 5: roll start\n",
    "- 6: mine"
   ]
  },
  {
   "cell_type": "code",
   "execution_count": 3,
   "metadata": {
    "collapsed": false
   },
   "outputs": [],
   "source": [
    "samples_back_included = 8\n",
    "num_classes = 7\n",
    "num_features = 40\n",
    "num_features_total = (num_features * samples_back_included) + 4\n",
    "save_files = listdir('data')\n",
    "\n",
    "def get_features_for_index(beat_features, notes, index):\n",
    "    if index < 0:\n",
    "        return [0] * num_features\n",
    "    return beat_features[index]\n",
    "\n",
    "def get_class_for_index(notes, index):\n",
    "    if index < 0:\n",
    "        return [1, 0, 0, 0, 0, 0, 0]\n",
    "    row = notes[index][0]\n",
    "    (steps, holds, rolls, mines) = [row.count(char) for char in ['1', '2', '4', 'M']]\n",
    "    steps += (holds + rolls)\n",
    "    return [int(i) for i in [steps == 0 and mines == 0, steps == 1, steps == 2, steps > 2, holds > 0, rolls > 0, mines > 0]]\n",
    "    \n",
    "importance_rankings = [48, 24, 12, 16, 6, 8, 3, 4, 2, 1]\n",
    "def get_beat_importance(index):\n",
    "    for i in range(len(importance_rankings)):\n",
    "        if index % importance_rankings[i] == 0:\n",
    "            return i\n",
    "\n",
    "def get_features_for_song(key, is_full):\n",
    "    X = []\n",
    "    y = []\n",
    "    if '{0}_beat_features.csv'.format(key) in save_files and '{0}_notes.csv'.format(key) in save_files:\n",
    "        beat_features_rotated = pd.read_csv('data/{0}_beat_features.csv'.format(key)).values\n",
    "        notes = pd.read_csv('data/{0}_notes.csv'.format(key), converters={'0': lambda x: str(x)}).values\n",
    "        beat_features = np.flipud(np.rot90(np.array(beat_features_rotated)))\n",
    "        num_notes = min(len(notes), len(beat_features))\n",
    "        for i in range(num_notes):\n",
    "            row_y = get_class_for_index(notes, i)\n",
    "            if is_full or (not (row_y == 0 and random.randint(0, 5) != 0)):\n",
    "                features = [feature for j in range(samples_back_included) for feature in get_features_for_index(beat_features, notes, i - j)]\n",
    "                features.append(i % 48)\n",
    "                features.append(get_beat_importance(i))\n",
    "                features.append(i / 48)\n",
    "                features.append(num_notes - i / 48)\n",
    "                X.append(features)\n",
    "                y.append(row_y)\n",
    "    return np.array(X), np.array(y)\n",
    "\n",
    "# Total 243 songs\n",
    "def build_training_data(is_full = False):\n",
    "    X = []\n",
    "    y = []\n",
    "    songs_to_use = pd.read_csv('data/songs_to_use.csv').values\n",
    "    for song_data in songs_to_use:\n",
    "        song_X, song_y = get_features_for_song(song_data[0], is_full)\n",
    "        X.extend(song_X)\n",
    "        y.extend(song_y)\n",
    "    return np.array(X), np.array(y)"
   ]
  },
  {
   "cell_type": "code",
   "execution_count": 4,
   "metadata": {
    "collapsed": false
   },
   "outputs": [],
   "source": [
    "X, y = build_training_data(True)"
   ]
  },
  {
   "cell_type": "code",
   "execution_count": 5,
   "metadata": {
    "collapsed": false
   },
   "outputs": [],
   "source": [
    "X_train, X_test, y_train, y_test = train_test_split(X, y, test_size=0.2, random_state=42)\n",
    "X = None\n",
    "y = None\n",
    "X_train, y_train = np.array(X_train), np.array(y_train)\n",
    "X_test, y_test = np.array(X_test), np.array(y_test)"
   ]
  },
  {
   "cell_type": "code",
   "execution_count": 6,
   "metadata": {
    "collapsed": true
   },
   "outputs": [],
   "source": [
    "y_train = np.array(list(map(lambda one_hot: np.argmax(one_hot), y_train)))\n",
    "y_test = np.array(list(map(lambda one_hot: np.argmax(one_hot), y_test)))"
   ]
  },
  {
   "cell_type": "code",
   "execution_count": 7,
   "metadata": {
    "collapsed": true
   },
   "outputs": [],
   "source": [
    "class_weight = {\n",
    "    0: 1,\n",
    "    1: 2,\n",
    "    2: 4,\n",
    "    3: 8,\n",
    "    4: 4,\n",
    "    5: 4,\n",
    "    6: 6\n",
    "}"
   ]
  },
  {
   "cell_type": "code",
   "execution_count": 21,
   "metadata": {
    "collapsed": false
   },
   "outputs": [
    {
     "name": "stdout",
     "output_type": "stream",
     "text": [
      "      Iter       Train Loss      OOB Improve   Remaining Time \n",
      "         1      387538.9840       13267.1013          218.10m\n",
      "         2      332555.1685        9691.3847          206.56m\n",
      "         3      291095.2093        7325.7545          196.11m\n",
      "         4      258249.6228        5716.7189          187.63m\n",
      "         5      232894.3934        4430.3263          178.44m\n",
      "         6      212088.4601        3606.7338          170.08m\n",
      "         7      195587.1771        2884.6112          162.25m\n",
      "         8      182314.6799        2302.9870          165.94m\n",
      "         9      171276.6879        1872.7014          158.26m\n",
      "        10      162157.6037        1544.8965          340.39m\n",
      "        20      122291.1573         295.5729           88.57m\n",
      "0.89590280492\n",
      "0.891245956442\n"
     ]
    }
   ],
   "source": [
    "gb_clf_2 = GradientBoostingClassifier(random_state=0, learning_rate=0.12, n_estimators=25, max_depth=7, subsample=0.85, max_features=200, verbose=True)\n",
    "gb_clf_2.fit(X_train, y_train)\n",
    "print (gb_clf_2.score(X_train, y_train))\n",
    "print (gb_clf_2.score(X_test, y_test))"
   ]
  },
  {
   "cell_type": "code",
   "execution_count": 31,
   "metadata": {
    "collapsed": false
   },
   "outputs": [
    {
     "name": "stdout",
     "output_type": "stream",
     "text": [
      "0.896734385005\n",
      "0.891653430684\n"
     ]
    }
   ],
   "source": [
    "print (gb_clf_2.score(X_train, y_train))\n",
    "print (gb_clf_2.score(X_test, y_test))"
   ]
  },
  {
   "cell_type": "code",
   "execution_count": null,
   "metadata": {
    "collapsed": true
   },
   "outputs": [],
   "source": [
    "gb_clf = GradientBoostingClassifier(random_state=0, learning_rate=0.12, n_estimators=100, max_depth=20, subsample=0.85, max_features=200, verbose=True)\n",
    "gb_clf.fit(X_train, y_train)\n",
    "print (gb_clf.score(X_train, y_train))\n",
    "print (gb_clf.score(X_test, y_test))"
   ]
  },
  {
   "cell_type": "code",
   "execution_count": null,
   "metadata": {
    "collapsed": true
   },
   "outputs": [],
   "source": [
    "gc.collect()"
   ]
  },
  {
   "cell_type": "code",
   "execution_count": null,
   "metadata": {
    "collapsed": true
   },
   "outputs": [],
   "source": [
    "gb_clf = GradientBoostingClassifier(random_state=0, learning_rate=0.12, n_estimators=100, max_depth=10, subsample=0.85, max_features=200, verbose=True)\n",
    "gb_clf.fit(X_train, y_train)\n",
    "print (gb_clf.score(X_train, y_train))\n",
    "print (gb_clf.score(X_test, y_test))"
   ]
  },
  {
   "cell_type": "code",
   "execution_count": null,
   "metadata": {
    "collapsed": false
   },
   "outputs": [],
   "source": [
    "gc.collect()"
   ]
  },
  {
   "cell_type": "code",
   "execution_count": 24,
   "metadata": {
    "collapsed": false
   },
   "outputs": [
    {
     "name": "stderr",
     "output_type": "stream",
     "text": [
      "[Parallel(n_jobs=1)]: Done  49 tasks       | elapsed: 24.3min\n",
      "[Parallel(n_jobs=1)]: Done 100 out of 100 | elapsed: 48.0min finished\n",
      "[Parallel(n_jobs=1)]: Done  49 tasks       | elapsed:   18.9s\n",
      "[Parallel(n_jobs=1)]: Done 100 out of 100 | elapsed:   38.4s finished\n"
     ]
    },
    {
     "name": "stdout",
     "output_type": "stream",
     "text": [
      "0.999989605249\n"
     ]
    },
    {
     "name": "stderr",
     "output_type": "stream",
     "text": [
      "[Parallel(n_jobs=1)]: Done  49 tasks       | elapsed:    4.7s\n"
     ]
    },
    {
     "name": "stdout",
     "output_type": "stream",
     "text": [
      "0.889624375275\n"
     ]
    },
    {
     "name": "stderr",
     "output_type": "stream",
     "text": [
      "[Parallel(n_jobs=1)]: Done 100 out of 100 | elapsed:    9.3s finished\n"
     ]
    }
   ],
   "source": [
    "rf_clf = RandomForestClassifier(n_estimators = 100, verbose=True)\n",
    "rf_clf.fit(X_train, y_train)\n",
    "print (rf_clf.score(X_train, y_train))\n",
    "print (rf_clf.score(X_test, y_test))\n",
    "# 0.87058119132163025"
   ]
  },
  {
   "cell_type": "code",
   "execution_count": 23,
   "metadata": {
    "collapsed": false
   },
   "outputs": [
    {
     "data": {
      "text/plain": [
       "0"
      ]
     },
     "execution_count": 23,
     "metadata": {},
     "output_type": "execute_result"
    }
   ],
   "source": [
    "gc.collect()"
   ]
  },
  {
   "cell_type": "code",
   "execution_count": 25,
   "metadata": {
    "collapsed": false
   },
   "outputs": [
    {
     "name": "stderr",
     "output_type": "stream",
     "text": [
      "[Parallel(n_jobs=1)]: Done  49 tasks       | elapsed: 267.1min\n",
      "[Parallel(n_jobs=1)]: Done 100 out of 100 | elapsed: 531.0min finished\n",
      "[Parallel(n_jobs=1)]: Done  49 tasks       | elapsed:   13.0s\n",
      "[Parallel(n_jobs=1)]: Done 100 out of 100 | elapsed:   27.3s finished\n"
     ]
    },
    {
     "name": "stdout",
     "output_type": "stream",
     "text": [
      "0.999993763149\n"
     ]
    },
    {
     "name": "stderr",
     "output_type": "stream",
     "text": [
      "[Parallel(n_jobs=1)]: Done  49 tasks       | elapsed:    3.2s\n"
     ]
    },
    {
     "name": "stdout",
     "output_type": "stream",
     "text": [
      "0.905332923087\n"
     ]
    },
    {
     "name": "stderr",
     "output_type": "stream",
     "text": [
      "[Parallel(n_jobs=1)]: Done 100 out of 100 | elapsed:    6.8s finished\n"
     ]
    }
   ],
   "source": [
    "rf_clf = RandomForestClassifier(n_estimators = 100, max_features=200, verbose=True)\n",
    "rf_clf.fit(X_train, y_train)\n",
    "print (rf_clf.score(X_train, y_train))\n",
    "print (rf_clf.score(X_test, y_test))\n",
    "# 0.905332923087 accuracy"
   ]
  },
  {
   "cell_type": "code",
   "execution_count": null,
   "metadata": {
    "collapsed": false
   },
   "outputs": [],
   "source": [
    "rf_clf = RandomForestClassifier(n_estimators = 100, max_features=200, min_samples_leaf=2, verbose=True)\n",
    "rf_clf.fit(X_train, y_train)\n",
    "print (rf_clf.score(X_train, y_train))\n",
    "print (rf_clf.score(X_test, y_test))\n",
    "# 0.87058119132163025"
   ]
  },
  {
   "cell_type": "code",
   "execution_count": null,
   "metadata": {
    "collapsed": false
   },
   "outputs": [],
   "source": [
    "rf_clf = RandomForestClassifier(n_estimators = 100, max_features=200, min_samples_split=4, min_samples_leaf=2, verbose=True)\n",
    "rf_clf.fit(X_train, y_train)\n",
    "print (rf_clf.score(X_train, y_train))\n",
    "print (rf_clf.score(X_test, y_test))\n",
    "# 0.87058119132163025"
   ]
  },
  {
   "cell_type": "code",
   "execution_count": 35,
   "metadata": {
    "collapsed": false
   },
   "outputs": [
    {
     "data": {
      "text/plain": [
       "568"
      ]
     },
     "execution_count": 35,
     "metadata": {},
     "output_type": "execute_result"
    }
   ],
   "source": [
    "gc.collect()"
   ]
  },
  {
   "cell_type": "code",
   "execution_count": null,
   "metadata": {
    "collapsed": true
   },
   "outputs": [],
   "source": [
    "joblib.dump(clf, 'filename.pkl')\n",
    "clf = joblib.load('filename.pkl') "
   ]
  },
  {
   "cell_type": "code",
   "execution_count": null,
   "metadata": {
    "collapsed": true
   },
   "outputs": [],
   "source": [
    "sgd_clf = SGDClassifier(loss=\"log\", verbose=True)\n",
    "sgd_clf.fit(X_train, y_train)\n",
    "print (sgd_clf.score(X_train, y_train))\n",
    "print (sgd_clf.score(X_test, y_test))\n",
    "# 0.849 accuracy"
   ]
  },
  {
   "cell_type": "code",
   "execution_count": 37,
   "metadata": {
    "collapsed": false
   },
   "outputs": [
    {
     "name": "stdout",
     "output_type": "stream",
     "text": [
      "Epoch 1/50\n",
      "481012/481012 [==============================] - 114s - loss: 0.8160 - acc: 0.8419   \n",
      "Epoch 2/50\n",
      "481012/481012 [==============================] - 114s - loss: 0.4915 - acc: 0.8702   \n",
      "Epoch 3/50\n",
      "481012/481012 [==============================] - 114s - loss: 0.4237 - acc: 0.8731   \n",
      "Epoch 4/50\n",
      "481012/481012 [==============================] - 114s - loss: 0.3944 - acc: 0.8738   \n",
      "Epoch 5/50\n",
      "481012/481012 [==============================] - 116s - loss: 0.3781 - acc: 0.8746   \n",
      "Epoch 6/50\n",
      "481012/481012 [==============================] - 114s - loss: 0.3664 - acc: 0.8762   \n",
      "Epoch 7/50\n",
      "481012/481012 [==============================] - 115s - loss: 0.3586 - acc: 0.8765   \n",
      "Epoch 8/50\n",
      "481012/481012 [==============================] - 116s - loss: 0.3526 - acc: 0.8776   \n",
      "Epoch 9/50\n",
      "481012/481012 [==============================] - 115s - loss: 0.3475 - acc: 0.8779   \n",
      "Epoch 10/50\n",
      "481012/481012 [==============================] - 114s - loss: 0.3433 - acc: 0.8785   \n",
      "Epoch 11/50\n",
      "481012/481012 [==============================] - 115s - loss: 0.3398 - acc: 0.8791   \n",
      "Epoch 12/50\n",
      "481012/481012 [==============================] - 115s - loss: 0.3371 - acc: 0.8790   \n",
      "Epoch 13/50\n",
      "481012/481012 [==============================] - 115s - loss: 0.3345 - acc: 0.8800   \n",
      "Epoch 14/50\n",
      "481012/481012 [==============================] - 114s - loss: 0.3325 - acc: 0.8801   \n",
      "Epoch 15/50\n",
      "481012/481012 [==============================] - 115s - loss: 0.3302 - acc: 0.8803   \n",
      "Epoch 16/50\n",
      "481012/481012 [==============================] - 114s - loss: 0.3284 - acc: 0.8803   \n",
      "Epoch 17/50\n",
      "481012/481012 [==============================] - 114s - loss: 0.3264 - acc: 0.8812   \n",
      "Epoch 18/50\n",
      "481012/481012 [==============================] - 116s - loss: 0.3249 - acc: 0.8811   \n",
      "Epoch 19/50\n",
      "481012/481012 [==============================] - 113s - loss: 0.3232 - acc: 0.8817   \n",
      "Epoch 20/50\n",
      "481012/481012 [==============================] - 113s - loss: 0.3216 - acc: 0.8818   \n",
      "Epoch 21/50\n",
      "481012/481012 [==============================] - 113s - loss: 0.3208 - acc: 0.8824   \n",
      "Epoch 22/50\n",
      "481012/481012 [==============================] - 113s - loss: 0.3195 - acc: 0.8826   \n",
      "Epoch 23/50\n",
      "481012/481012 [==============================] - 112s - loss: 0.3184 - acc: 0.8829   \n",
      "Epoch 24/50\n",
      "481012/481012 [==============================] - 112s - loss: 0.3168 - acc: 0.8832   \n",
      "Epoch 25/50\n",
      "481012/481012 [==============================] - 113s - loss: 0.3161 - acc: 0.8832   \n",
      "Epoch 26/50\n",
      "481012/481012 [==============================] - 112s - loss: 0.3153 - acc: 0.8835   \n",
      "Epoch 27/50\n",
      "481012/481012 [==============================] - 112s - loss: 0.3140 - acc: 0.8836   \n",
      "Epoch 28/50\n",
      "481012/481012 [==============================] - 113s - loss: 0.3129 - acc: 0.8842   \n",
      "Epoch 29/50\n",
      "481012/481012 [==============================] - 112s - loss: 0.3115 - acc: 0.8845   \n",
      "Epoch 30/50\n",
      "481012/481012 [==============================] - 112s - loss: 0.3106 - acc: 0.8847   \n",
      "Epoch 31/50\n",
      "481012/481012 [==============================] - 112s - loss: 0.3102 - acc: 0.8852   \n",
      "Epoch 32/50\n",
      "481012/481012 [==============================] - 113s - loss: 0.3092 - acc: 0.8851   \n",
      "Epoch 33/50\n",
      "481012/481012 [==============================] - 112s - loss: 0.3080 - acc: 0.8855   \n",
      "Epoch 34/50\n",
      "481012/481012 [==============================] - 112s - loss: 0.3077 - acc: 0.8856   \n",
      "Epoch 35/50\n",
      "481012/481012 [==============================] - 112s - loss: 0.3067 - acc: 0.8860   \n",
      "Epoch 36/50\n",
      "481012/481012 [==============================] - 111s - loss: 0.3062 - acc: 0.8859   \n",
      "Epoch 37/50\n",
      "481012/481012 [==============================] - 112s - loss: 0.3051 - acc: 0.8862   \n",
      "Epoch 38/50\n",
      "481012/481012 [==============================] - 112s - loss: 0.3044 - acc: 0.8862   \n",
      "Epoch 39/50\n",
      "481012/481012 [==============================] - 111s - loss: 0.3046 - acc: 0.8867   \n",
      "Epoch 40/50\n",
      "481012/481012 [==============================] - 111s - loss: 0.3033 - acc: 0.8868   \n",
      "Epoch 41/50\n",
      "481012/481012 [==============================] - 111s - loss: 0.3029 - acc: 0.8865   \n",
      "Epoch 42/50\n",
      "481012/481012 [==============================] - 112s - loss: 0.3020 - acc: 0.8870   \n",
      "Epoch 43/50\n",
      "481012/481012 [==============================] - 111s - loss: 0.3013 - acc: 0.8872   \n",
      "Epoch 44/50\n",
      "481012/481012 [==============================] - 111s - loss: 0.3009 - acc: 0.8873   \n",
      "Epoch 45/50\n",
      "481012/481012 [==============================] - 112s - loss: 0.3002 - acc: 0.8875   \n",
      "Epoch 46/50\n",
      "481012/481012 [==============================] - 111s - loss: 0.2994 - acc: 0.8880   \n",
      "Epoch 47/50\n",
      "481012/481012 [==============================] - 111s - loss: 0.2995 - acc: 0.8881   \n",
      "Epoch 48/50\n",
      "481012/481012 [==============================] - 112s - loss: 0.2982 - acc: 0.8880   \n",
      "Epoch 49/50\n",
      "481012/481012 [==============================] - 111s - loss: 0.2980 - acc: 0.8883   \n",
      "Epoch 50/50\n",
      "481012/481012 [==============================] - 110s - loss: 0.2976 - acc: 0.8883   \n",
      "120253/120253 [==============================] - 8s     \n",
      "[0.29762277793505293, 0.88877616359785194]\n"
     ]
    },
    {
     "data": {
      "text/plain": [
       "19406"
      ]
     },
     "execution_count": 37,
     "metadata": {},
     "output_type": "execute_result"
    }
   ],
   "source": [
    "model = Sequential()\n",
    "\n",
    "model.add(Dense(512, input_shape=(324,)))\n",
    "model.add(BatchNormalization())\n",
    "model.add(Activation('relu'))\n",
    "model.add(Dropout(0.2))\n",
    "\n",
    "model.add(Dense(512))\n",
    "model.add(BatchNormalization())\n",
    "model.add(Activation('relu'))\n",
    "model.add(Dropout(0.2))\n",
    "\n",
    "model.add(Dense(num_classes))\n",
    "model.add(BatchNormalization())\n",
    "model.add(Activation('softmax'))\n",
    "\n",
    "model.compile(loss='categorical_crossentropy',\n",
    "              optimizer='adagrad',\n",
    "              metrics=['accuracy'])\n",
    "\n",
    "model.fit(X_train, y_train_2, nb_epoch=50, batch_size=64, verbose=1)\n",
    "print (model.evaluate(X_test, y_test_2, batch_size=64))\n",
    "model.save('models/song_class_model.h5')\n",
    "model = None\n",
    "gc.collect()\n",
    "\n",
    "# 0.88877616359785194 accuracy"
   ]
  },
  {
   "cell_type": "code",
   "execution_count": null,
   "metadata": {
    "collapsed": true
   },
   "outputs": [],
   "source": []
  }
 ],
 "metadata": {
  "anaconda-cloud": {},
  "kernelspec": {
   "display_name": "Python 3",
   "language": "python",
   "name": "python3"
  },
  "language_info": {
   "codemirror_mode": {
    "name": "ipython",
    "version": 3
   },
   "file_extension": ".py",
   "mimetype": "text/x-python",
   "name": "python",
   "nbconvert_exporter": "python",
   "pygments_lexer": "ipython3",
   "version": "3.5.1"
  }
 },
 "nbformat": 4,
 "nbformat_minor": 0
}
