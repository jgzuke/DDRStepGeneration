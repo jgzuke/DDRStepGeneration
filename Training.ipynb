{
 "cells": [
  {
   "cell_type": "code",
   "execution_count": 1,
   "metadata": {
    "collapsed": false
   },
   "outputs": [
    {
     "name": "stderr",
     "output_type": "stream",
     "text": [
      "Using Theano backend.\n"
     ]
    }
   ],
   "source": [
    "from __future__ import print_function\n",
    "%matplotlib inline\n",
    "import copy\n",
    "import pandas as pd\n",
    "import numpy as np\n",
    "import librosa\n",
    "import seaborn as sb\n",
    "import matplotlib.pyplot as plt\n",
    "import itertools\n",
    "import re\n",
    "import random\n",
    "import gc\n",
    "from os import listdir\n",
    "from os.path import isfile, join\n",
    "from numpy import median, diff\n",
    "from keras.models import Sequential\n",
    "from keras.layers import Dense, Activation, Dropout\n",
    "from sklearn import tree\n",
    "from sklearn.ensemble import RandomForestClassifier"
   ]
  },
  {
   "cell_type": "code",
   "execution_count": 2,
   "metadata": {
    "collapsed": false
   },
   "outputs": [],
   "source": [
    "# start with each input secion maps to one note\n",
    "# train model for that (just list comprhension on noets for contains 1 maps to true)\n",
    "\n",
    "# then move to bars eg section of 4 bars maps to output for each note\n",
    "# error = probability of note being true vs was it really\n",
    "\n",
    "# try bar + prev notes (home use weird dimensioned data?) to predict next notes\n",
    "\n",
    "# try feeding in non structured data (bpm, position of time in song, song length, \n",
    "# things about feel of song (generated features))\n",
    "# try using keras merge layer to add extra features"
   ]
  },
  {
   "cell_type": "code",
   "execution_count": 24,
   "metadata": {
    "collapsed": false
   },
   "outputs": [],
   "source": [
    "samples_back_included = 24\n",
    "num_classes = 5\n",
    "num_features = 40 + 2 + num_classes\n",
    "\n",
    "def get_features_for_index(beat_features, notes, index):\n",
    "    if index < 0:\n",
    "        return [0] * num_features\n",
    "    features = beat_features[index]\n",
    "    misc_features = get_steps_for_index(notes, index - 1)\n",
    "    misc_features.append(index % 48)\n",
    "    misc_features.append(index / 48)\n",
    "    return np.concatenate((features, misc_features))\n",
    "\n",
    "def get_steps_for_index(notes, index):\n",
    "    if index < 0:\n",
    "        return [True, False, False, False, False]\n",
    "    row = notes[index][0]\n",
    "    steps = row.count('1')\n",
    "    mines = row.count('M')\n",
    "    \n",
    "    features = [int(feature) for feature in [steps == 0 and mines == 0, steps == 1, steps == 2, steps >= 3, steps == 0 and mines > 0]]\n",
    "    if sum(features) != 1:\n",
    "        print ('Error')\n",
    "        print (steps)\n",
    "        print (mines)\n",
    "    return [int(feature) for feature in [steps == 0 and mines == 0, steps == 1, steps == 2, steps >= 3, mines > 0 and steps == 0]]\n",
    "\n",
    "def build_batch_generator():\n",
    "    songs_to_use = pd.read_csv('data/songs_to_use.csv').values\n",
    "    save_files = listdir('data')\n",
    "    for song_data in songs_to_use:\n",
    "        if '{0}_beat_features.csv'.format(song_data[0]) in save_files and '{0}_notes.csv'.format(song_data[0]) in save_files:\n",
    "            X = []\n",
    "            y = []\n",
    "            beat_features_rotated = pd.read_csv('data/{0}_beat_features.csv'.format(song_data[0])).values\n",
    "            notes = pd.read_csv('data/{0}_notes.csv'.format(song_data[0]), converters={'0': lambda x: str(x)}).values\n",
    "            beat_features = np.flipud(np.rot90(np.array(beat_features_rotated)))\n",
    "            for i in range(min(len(notes), len(beat_features))):\n",
    "                features = [feature for j in range(samples_back_included) for feature in get_features_for_index(beat_features, notes, i - j)]\n",
    "                X.append(features)\n",
    "                y.append(get_steps_for_index(notes, i))\n",
    "            yield (np.array(X), np.array(y))\n",
    "\n",
    "def build_training_data(num_songs_to_use):\n",
    "    X = []\n",
    "    y = []\n",
    "    songs_to_use = pd.read_csv('data/songs_to_use.csv').values\n",
    "    save_files = listdir('data')\n",
    "    for song_data in songs_to_use[:num_songs_to_use]:\n",
    "        if '{0}_beat_features.csv'.format(song_data[0]) in save_files and '{0}_notes.csv'.format(song_data[0]) in save_files:\n",
    "            beat_features_rotated = pd.read_csv('data/{0}_beat_features.csv'.format(song_data[0])).values\n",
    "            notes = pd.read_csv('data/{0}_notes.csv'.format(song_data[0]), converters={'0': lambda x: str(x)}).values\n",
    "            beat_features = np.flipud(np.rot90(np.array(beat_features_rotated)))\n",
    "            for i in range(min(len(notes), len(beat_features))):\n",
    "                row_y = get_steps_for_index(notes, i)\n",
    "                if not (row_y[0] == 1 and random.randint(0, 70) != 0) and not (row_y[1] == 1 and random.randint(0, 10) != 0):\n",
    "                    features = [feature for j in range(samples_back_included) for feature in get_features_for_index(beat_features, notes, i - j)]\n",
    "                    X.append(features)\n",
    "                    y.append(row_y)\n",
    "    return X, y"
   ]
  },
  {
   "cell_type": "code",
   "execution_count": 28,
   "metadata": {
    "collapsed": false
   },
   "outputs": [],
   "source": [
    "X, y = build_training_data(100)"
   ]
  },
  {
   "cell_type": "code",
   "execution_count": 29,
   "metadata": {
    "collapsed": false
   },
   "outputs": [
    {
     "data": {
      "text/plain": [
       "[3500, 2956, 2485, 14, 715]"
      ]
     },
     "execution_count": 29,
     "metadata": {},
     "output_type": "execute_result"
    }
   ],
   "source": [
    "[sum(row[i] for row in y) for i in range(num_classes)]"
   ]
  },
  {
   "cell_type": "code",
   "execution_count": 6,
   "metadata": {
    "collapsed": false
   },
   "outputs": [],
   "source": [
    "X_filtered = []\n",
    "y_filtered = []\n",
    "class_0_count = 0\n",
    "for index in range(len(X)):\n",
    "    if not (y[index][0] == 1 and index % 49 != 0) and not (y[index][1] == 1 and index % 7 != 0):\n",
    "        X_filtered.append(X[index])\n",
    "        y_filtered.append(y[index])"
   ]
  },
  {
   "cell_type": "code",
   "execution_count": 7,
   "metadata": {
    "collapsed": false
   },
   "outputs": [
    {
     "data": {
      "text/plain": [
       "[5129, 4749, 2485, 14, 715]"
      ]
     },
     "execution_count": 7,
     "metadata": {},
     "output_type": "execute_result"
    }
   ],
   "source": [
    "[sum(row[i] for row in y_filtered) for i in range(num_classes)]"
   ]
  },
  {
   "cell_type": "code",
   "execution_count": 31,
   "metadata": {
    "collapsed": false
   },
   "outputs": [
    {
     "data": {
      "text/plain": [
       "RandomForestClassifier(bootstrap=True, class_weight=None, criterion='gini',\n",
       "            max_depth=None, max_features='auto', max_leaf_nodes=None,\n",
       "            min_samples_leaf=1, min_samples_split=2,\n",
       "            min_weight_fraction_leaf=0.0, n_estimators=20, n_jobs=1,\n",
       "            oob_score=False, random_state=None, verbose=0,\n",
       "            warm_start=False)"
      ]
     },
     "execution_count": 31,
     "metadata": {},
     "output_type": "execute_result"
    }
   ],
   "source": [
    "clf_rf = RandomForestClassifier(n_estimators=20)\n",
    "clf_rf.fit(X, y)"
   ]
  },
  {
   "cell_type": "code",
   "execution_count": 32,
   "metadata": {
    "collapsed": false
   },
   "outputs": [],
   "source": [
    "gen = build_batch_generator()\n",
    "X2, y2 = next(gen)\n",
    "new_y = clf_rf.predict(X)"
   ]
  },
  {
   "cell_type": "code",
   "execution_count": 34,
   "metadata": {
    "collapsed": false
   },
   "outputs": [
    {
     "name": "stdout",
     "output_type": "stream",
     "text": [
      "Length: 9670\n"
     ]
    },
    {
     "data": {
      "image/png": "[encoded data removed]",
      "text/plain": [
       "<matplotlib.figure.Figure at 0x12979a7b8>"
      ]
     },
     "metadata": {},
     "output_type": "display_data"
    }
   ],
   "source": [
    "def get_max(row):\n",
    "    return np.array(row).argmax()\n",
    "\n",
    "weights = [1, 3, 15, 20, 15]\n",
    "def get_max_alt(row):\n",
    "    return np.array([weights[i] * row[i] for i in range(num_classes)]).argmax()\n",
    "    \n",
    "print ('Length: ' + str(len(new_y)))\n",
    "filtered = [new_y[i] for i in range(len(new_y)) if i % 12 == 0]\n",
    "most_likely = [get_max(row) for row in filtered]\n",
    "sb.set_style(\"darkgrid\")\n",
    "plt.plot(most_likely)\n",
    "plt.show()"
   ]
  },
  {
   "cell_type": "markdown",
   "metadata": {},
   "source": [
    "# Categories =\n",
    "- no_notes\n",
    "- one_note\n",
    "- two_notes\n",
    "- many_notes\n",
    "- mine"
   ]
  },
  {
   "cell_type": "code",
   "execution_count": 209,
   "metadata": {
    "collapsed": false
   },
   "outputs": [],
   "source": [
    "beat_feature_model = Sequential()\n",
    "beat_feature_model.add(Dense(500, input_dim=samples_back_included * num_features, init='uniform', activation='tanh'))\n",
    "beat_feature_model.add(Dense(200, activation='tanh'))\n",
    "beat_feature_model.add(Dense(50, activation='tanh'))\n",
    "beat_feature_model.add(Dense(num_classes, activation='softmax'))\n",
    "\n",
    "beat_feature_model.compile(loss='categorical_crossentropy',\n",
    "                           optimizer='adadelta',\n",
    "                           metrics=['accuracy'])"
   ]
  },
  {
   "cell_type": "code",
   "execution_count": 210,
   "metadata": {
    "collapsed": false
   },
   "outputs": [
    {
     "name": "stdout",
     "output_type": "stream",
     "text": [
      "[array(0.5019330978393555, dtype=float32), array(0.8501602411270142, dtype=float32)]\n",
      "[array(0.4018665850162506, dtype=float32), array(0.9275362491607666, dtype=float32)]\n",
      "[array(0.5231761932373047, dtype=float32), array(0.8848039507865906, dtype=float32)]\n"
     ]
    }
   ],
   "source": [
    "class_weight={0:1, 1:2., 2:4., 3:8., 4:16.}\n",
    "gen = build_batch_generator()\n",
    "#beat_feature_model.fit(X[:1000], y[:1000], nb_epoch=10, batch_size=32)\n",
    "#for data in gen:\n",
    "for i in range(20):\n",
    "    data = next(gen)\n",
    "    X, y = data\n",
    "    beat_feature_model.train_on_batch(X, y, class_weight=class_weight)\n",
    "\n",
    "gen = build_batch_generator()\n",
    "for i in range(3):\n",
    "    X, y = next(gen)\n",
    "    print (beat_feature_model.test_on_batch(X, y))"
   ]
  },
  {
   "cell_type": "code",
   "execution_count": 212,
   "metadata": {
    "collapsed": false
   },
   "outputs": [
    {
     "data": {
      "text/plain": [
       "[array([ 0.57776904,  0.284493  ,  0.02801899,  0.05478921,  0.05492973], dtype=float32),\n",
       " array([ 0.86535132,  0.08644518,  0.02160909,  0.01942644,  0.00716798], dtype=float32),\n",
       " array([ 0.75991422,  0.19061624,  0.03410141,  0.00631623,  0.0090519 ], dtype=float32),\n",
       " array([ 0.82155448,  0.14643079,  0.02075813,  0.00423729,  0.00701931], dtype=float32),\n",
       " array([ 0.80458021,  0.14407434,  0.03336709,  0.00545411,  0.01252428], dtype=float32),\n",
       " array([ 0.76010001,  0.20040545,  0.02226696,  0.00469081,  0.01253674], dtype=float32),\n",
       " array([ 0.78770775,  0.17597443,  0.02186031,  0.00612088,  0.00833664], dtype=float32),\n",
       " array([ 0.78554082,  0.18543176,  0.01693058,  0.00557171,  0.00652514], dtype=float32),\n",
       " array([ 0.78773308,  0.17198847,  0.02562498,  0.00510776,  0.00954572], dtype=float32),\n",
       " array([ 0.7753759 ,  0.16128875,  0.04599478,  0.00522301,  0.01211754], dtype=float32),\n",
       " array([ 0.70473021,  0.24011187,  0.03892151,  0.00731906,  0.00891738], dtype=float32),\n",
       " array([ 0.72569293,  0.23607945,  0.02303678,  0.0045811 ,  0.01060976], dtype=float32),\n",
       " array([ 0.72826797,  0.23224856,  0.02363333,  0.00464642,  0.0112037 ], dtype=float32),\n",
       " array([ 0.70671755,  0.24423949,  0.02986564,  0.00598562,  0.01319168], dtype=float32),\n",
       " array([ 0.70109522,  0.25220186,  0.02900433,  0.0050141 ,  0.01268452], dtype=float32),\n",
       " array([ 0.72301257,  0.22358984,  0.03399682,  0.00611146,  0.01328932], dtype=float32),\n",
       " array([ 0.75479245,  0.20104258,  0.02886527,  0.00547688,  0.00982283], dtype=float32),\n",
       " array([ 0.75918382,  0.20047925,  0.02137648,  0.00476522,  0.01419524], dtype=float32),\n",
       " array([ 0.75154024,  0.20454437,  0.02858398,  0.00557598,  0.00975543], dtype=float32),\n",
       " array([ 0.74598134,  0.20186786,  0.03370678,  0.00573223,  0.01271179], dtype=float32),\n",
       " array([ 0.74452162,  0.21522292,  0.02437967,  0.00540502,  0.01047079], dtype=float32),\n",
       " array([ 0.7263478 ,  0.23065777,  0.02219054,  0.00638424,  0.01441963], dtype=float32),\n",
       " array([ 0.74136269,  0.21468551,  0.02991669,  0.00470799,  0.00932715], dtype=float32),\n",
       " array([ 0.73429638,  0.22497904,  0.02538098,  0.00445603,  0.01088758], dtype=float32),\n",
       " array([ 0.74184531,  0.22145124,  0.02255842,  0.00483337,  0.00931165], dtype=float32),\n",
       " array([ 0.75714248,  0.19177815,  0.03239857,  0.00621668,  0.01246409], dtype=float32),\n",
       " array([ 0.73711985,  0.2097884 ,  0.03705507,  0.00503038,  0.01100627], dtype=float32),\n",
       " array([ 0.79110497,  0.16910431,  0.02450632,  0.00497625,  0.01030817], dtype=float32),\n",
       " array([ 0.78962594,  0.18260428,  0.01374598,  0.00361364,  0.01041015], dtype=float32),\n",
       " array([ 0.79517877,  0.17582861,  0.01532351,  0.00404333,  0.00962576], dtype=float32),\n",
       " array([ 0.75557905,  0.20028712,  0.0303253 ,  0.00474793,  0.0090606 ], dtype=float32),\n",
       " array([ 0.79544628,  0.17361112,  0.0173325 ,  0.00321478,  0.01039532], dtype=float32),\n",
       " array([ 0.76255101,  0.2027251 ,  0.02190115,  0.00393718,  0.00888554], dtype=float32),\n",
       " array([ 0.71186817,  0.24914752,  0.01662671,  0.00438303,  0.0179746 ], dtype=float32),\n",
       " array([ 0.770024  ,  0.18221775,  0.03145573,  0.00624916,  0.01005334], dtype=float32),\n",
       " array([ 0.77242196,  0.18681458,  0.02330173,  0.00548787,  0.01197384], dtype=float32),\n",
       " array([ 0.76670158,  0.20033871,  0.01852567,  0.0045116 ,  0.00992248], dtype=float32),\n",
       " array([ 0.81344241,  0.14760035,  0.02226864,  0.00594219,  0.0107464 ], dtype=float32),\n",
       " array([ 0.75225568,  0.20141011,  0.0316594 ,  0.00522081,  0.009454  ], dtype=float32),\n",
       " array([ 0.81775928,  0.15206638,  0.01819647,  0.00404161,  0.00793625], dtype=float32),\n",
       " array([ 0.81005698,  0.16083816,  0.0165597 ,  0.00415011,  0.00839502], dtype=float32),\n",
       " array([ 0.81233358,  0.15589096,  0.01722606,  0.00491991,  0.00962951], dtype=float32),\n",
       " array([ 0.7706905 ,  0.19163817,  0.02450078,  0.00449071,  0.00867982], dtype=float32),\n",
       " array([ 0.8019979 ,  0.16536838,  0.01910538,  0.00515213,  0.00837621], dtype=float32),\n",
       " array([ 0.78107184,  0.18067597,  0.02327083,  0.00545815,  0.00952319], dtype=float32),\n",
       " array([ 0.81592834,  0.14812416,  0.02108362,  0.0063003 ,  0.0085636 ], dtype=float32),\n",
       " array([ 0.78474087,  0.1732633 ,  0.0270861 ,  0.00510159,  0.00980811], dtype=float32),\n",
       " array([ 0.78962219,  0.17586222,  0.01819514,  0.00425501,  0.01206543], dtype=float32),\n",
       " array([ 0.79676181,  0.16989601,  0.02127058,  0.00489602,  0.00717559], dtype=float32),\n",
       " array([ 0.75678337,  0.19882685,  0.0205501 ,  0.00557702,  0.01826265], dtype=float32),\n",
       " array([ 0.74775505,  0.21158144,  0.02499209,  0.00563626,  0.01003517], dtype=float32),\n",
       " array([ 0.77167332,  0.18953218,  0.02266997,  0.00494591,  0.0111786 ], dtype=float32),\n",
       " array([ 0.78507274,  0.18202253,  0.01986134,  0.00474411,  0.00829927], dtype=float32),\n",
       " array([ 0.81158578,  0.15431754,  0.01694995,  0.00604911,  0.01109762], dtype=float32),\n",
       " array([ 0.74337059,  0.21141838,  0.0299241 ,  0.00512512,  0.01016178], dtype=float32),\n",
       " array([ 0.75759614,  0.20208241,  0.02626617,  0.00450961,  0.00954566], dtype=float32),\n",
       " array([ 0.80325782,  0.16440639,  0.01985668,  0.00423135,  0.00824778], dtype=float32),\n",
       " array([ 0.79240549,  0.16824134,  0.01919411,  0.0068145 ,  0.01334455], dtype=float32),\n",
       " array([ 0.75290233,  0.20956968,  0.02580676,  0.00405001,  0.00767125], dtype=float32),\n",
       " array([ 0.77989221,  0.17750081,  0.02544848,  0.00597583,  0.01118264], dtype=float32),\n",
       " array([ 0.78534889,  0.17188106,  0.02739972,  0.00607264,  0.0092977 ], dtype=float32),\n",
       " array([ 0.8075816 ,  0.16242366,  0.01847102,  0.00439889,  0.00712484], dtype=float32),\n",
       " array([ 0.80095893,  0.16233544,  0.0247193 ,  0.00383002,  0.00815629], dtype=float32),\n",
       " array([ 0.78822416,  0.17662503,  0.01918302,  0.00433496,  0.01163282], dtype=float32),\n",
       " array([ 0.6760084 ,  0.27041799,  0.03545046,  0.00531227,  0.0128109 ], dtype=float32),\n",
       " array([ 0.70009643,  0.24959259,  0.02994522,  0.00429855,  0.0160672 ], dtype=float32),\n",
       " array([ 0.72432834,  0.22739622,  0.03204087,  0.00516392,  0.01107063], dtype=float32),\n",
       " array([ 0.75189239,  0.20821024,  0.0239988 ,  0.00509068,  0.01080787], dtype=float32),\n",
       " array([ 0.7667715 ,  0.20061061,  0.01849432,  0.00403998,  0.01008362], dtype=float32),\n",
       " array([ 0.81270117,  0.15393725,  0.01647773,  0.00633608,  0.01054776], dtype=float32),\n",
       " array([ 0.71676463,  0.24241175,  0.02522248,  0.00476858,  0.01083255], dtype=float32),\n",
       " array([ 0.73458016,  0.22382313,  0.02556386,  0.00557373,  0.01045913], dtype=float32),\n",
       " array([ 0.73961854,  0.21920465,  0.02498308,  0.00601563,  0.01017809], dtype=float32),\n",
       " array([ 0.70510232,  0.2443548 ,  0.03380427,  0.00469481,  0.01204377], dtype=float32),\n",
       " array([ 0.72126728,  0.23204198,  0.02921968,  0.00688588,  0.01058515], dtype=float32),\n",
       " array([ 0.70816821,  0.2541548 ,  0.0202215 ,  0.00587493,  0.01158055], dtype=float32),\n",
       " array([ 0.71498698,  0.24780896,  0.02071553,  0.00539199,  0.01109653], dtype=float32),\n",
       " array([ 0.73709971,  0.22491159,  0.02124427,  0.00502651,  0.01171796], dtype=float32),\n",
       " array([ 0.71801096,  0.23611279,  0.02930982,  0.00587847,  0.01068794], dtype=float32),\n",
       " array([ 0.74974394,  0.21109444,  0.02227356,  0.0058048 ,  0.01108326], dtype=float32),\n",
       " array([ 0.70473552,  0.25687617,  0.02402356,  0.00498839,  0.00937636], dtype=float32),\n",
       " array([ 0.70125508,  0.25495875,  0.0221063 ,  0.00585204,  0.01582785], dtype=float32),\n",
       " array([ 0.70996749,  0.24767707,  0.02717776,  0.00526304,  0.00991462], dtype=float32),\n",
       " array([ 0.73267138,  0.22665693,  0.02123259,  0.00473754,  0.01470153], dtype=float32),\n",
       " array([ 0.75191534,  0.20766671,  0.02434934,  0.00487304,  0.01119559], dtype=float32),\n",
       " array([ 0.75310791,  0.2080756 ,  0.0214869 ,  0.00394773,  0.01338184], dtype=float32),\n",
       " array([ 0.72087133,  0.22831607,  0.03466279,  0.00557097,  0.01057884], dtype=float32),\n",
       " array([ 0.73542666,  0.22333047,  0.02662183,  0.0054763 ,  0.00914477], dtype=float32),\n",
       " array([ 0.75725615,  0.20373692,  0.02286894,  0.00418774,  0.01195024], dtype=float32),\n",
       " array([ 0.73462349,  0.2227972 ,  0.02537921,  0.00432249,  0.01287761], dtype=float32),\n",
       " array([ 0.69982505,  0.2503323 ,  0.03338575,  0.00564121,  0.01081569], dtype=float32),\n",
       " array([ 0.7162798 ,  0.2316822 ,  0.03367462,  0.00647137,  0.011892  ], dtype=float32),\n",
       " array([ 0.74683702,  0.21504748,  0.02338333,  0.00485032,  0.00988182], dtype=float32),\n",
       " array([ 0.71867895,  0.2242799 ,  0.03808128,  0.00574306,  0.01321681], dtype=float32),\n",
       " array([ 0.71282119,  0.23528777,  0.03560306,  0.00519655,  0.01109141], dtype=float32),\n",
       " array([ 0.72289002,  0.23612498,  0.02423814,  0.00586356,  0.01088327], dtype=float32),\n",
       " array([ 0.68963081,  0.27078757,  0.02582295,  0.00515398,  0.0086047 ], dtype=float32),\n",
       " array([ 0.69850612,  0.26276118,  0.01824873,  0.0049459 ,  0.01553808], dtype=float32),\n",
       " array([ 0.7229408 ,  0.22841313,  0.03095031,  0.00594032,  0.01175544], dtype=float32),\n",
       " array([ 0.70945716,  0.23927642,  0.03093343,  0.00632925,  0.01400375], dtype=float32),\n",
       " array([ 0.72107172,  0.23809339,  0.02318902,  0.00519872,  0.01244711], dtype=float32),\n",
       " array([ 0.70052916,  0.24907565,  0.02933805,  0.00664151,  0.01441565], dtype=float32),\n",
       " array([ 0.72706574,  0.22788461,  0.02893949,  0.00544271,  0.01066746], dtype=float32),\n",
       " array([ 0.70689261,  0.24088544,  0.034404  ,  0.00604513,  0.01177286], dtype=float32),\n",
       " array([ 0.73523021,  0.22316177,  0.02526622,  0.00469822,  0.01164359], dtype=float32),\n",
       " array([ 0.68167394,  0.26275265,  0.03286012,  0.00675212,  0.01596117], dtype=float32),\n",
       " array([ 0.6842339 ,  0.27888304,  0.02245064,  0.00456935,  0.00986305], dtype=float32),\n",
       " array([ 0.70579892,  0.25681612,  0.01875358,  0.00465381,  0.01397755], dtype=float32),\n",
       " array([ 0.72247267,  0.2326615 ,  0.02830077,  0.00499431,  0.01157075], dtype=float32),\n",
       " array([ 0.69261801,  0.25087109,  0.03507211,  0.00644667,  0.01499214], dtype=float32),\n",
       " array([ 0.69452286,  0.25622386,  0.03167395,  0.00524482,  0.01233451], dtype=float32),\n",
       " array([ 0.71616191,  0.23442075,  0.02809721,  0.00536039,  0.01595975], dtype=float32),\n",
       " array([ 0.75634521,  0.20340663,  0.02467102,  0.00441019,  0.01116692], dtype=float32),\n",
       " array([ 0.74249434,  0.21097252,  0.02550276,  0.00476013,  0.01627026], dtype=float32),\n",
       " array([ 0.76735443,  0.19228972,  0.02419659,  0.00475953,  0.0113997 ], dtype=float32),\n",
       " array([ 0.74279314,  0.2126864 ,  0.02350017,  0.00591821,  0.01510207], dtype=float32),\n",
       " array([ 0.77833402,  0.17223778,  0.03055109,  0.00672795,  0.01214914], dtype=float32),\n",
       " array([ 0.75474304,  0.20715997,  0.02005593,  0.00496937,  0.0130717 ], dtype=float32),\n",
       " array([ 0.78949875,  0.15921548,  0.03512958,  0.00647122,  0.00968498], dtype=float32),\n",
       " array([ 0.75858951,  0.19497737,  0.02731998,  0.00524273,  0.01387044], dtype=float32),\n",
       " array([ 0.75930756,  0.18469122,  0.03804677,  0.00511771,  0.01283676], dtype=float32),\n",
       " array([ 0.73958021,  0.21430723,  0.02746724,  0.00497681,  0.01366849], dtype=float32),\n",
       " array([ 0.7278012 ,  0.2206582 ,  0.034831  ,  0.00580928,  0.01090031], dtype=float32),\n",
       " array([ 0.74917704,  0.20273282,  0.02989385,  0.00506875,  0.01312752], dtype=float32),\n",
       " array([ 0.77757835,  0.17541599,  0.03087492,  0.0051198 ,  0.01101094], dtype=float32),\n",
       " array([ 0.74868298,  0.20397489,  0.02996277,  0.00506631,  0.01231304], dtype=float32),\n",
       " array([ 0.72537494,  0.20647019,  0.04917901,  0.00633275,  0.01264314], dtype=float32),\n",
       " array([ 0.70082659,  0.24542433,  0.03112421,  0.00530725,  0.0173176 ], dtype=float32),\n",
       " array([ 0.74174494,  0.20701665,  0.03508217,  0.00570862,  0.01044763], dtype=float32),\n",
       " array([ 0.72886181,  0.22745191,  0.0239391 ,  0.00434834,  0.01539882], dtype=float32),\n",
       " array([ 0.72512847,  0.21934956,  0.03766014,  0.0074303 ,  0.01043152], dtype=float32),\n",
       " array([ 0.73112041,  0.21665575,  0.03370768,  0.00540849,  0.01310768], dtype=float32),\n",
       " array([ 0.75339699,  0.19457395,  0.03434504,  0.00565208,  0.01203192], dtype=float32),\n",
       " array([ 0.73663723,  0.22601478,  0.02076256,  0.00440444,  0.01218096], dtype=float32),\n",
       " array([ 0.74524367,  0.2029103 ,  0.03386647,  0.0063154 ,  0.01166416], dtype=float32),\n",
       " array([ 0.73913527,  0.21229246,  0.03155403,  0.00581513,  0.01120313], dtype=float32),\n",
       " array([ 0.75459504,  0.19340558,  0.03324132,  0.0056979 ,  0.01306015], dtype=float32),\n",
       " array([ 0.71394944,  0.24214679,  0.02609655,  0.004992  ,  0.01281523], dtype=float32),\n",
       " array([ 0.71102935,  0.24161296,  0.02755341,  0.00535488,  0.01444941], dtype=float32),\n",
       " array([ 0.70915884,  0.23837744,  0.03249869,  0.00546959,  0.01449543], dtype=float32),\n",
       " array([ 0.70385855,  0.25421339,  0.02326362,  0.00488301,  0.01378143], dtype=float32),\n",
       " array([ 0.73241341,  0.21343389,  0.03568856,  0.00615978,  0.01230434], dtype=float32),\n",
       " array([ 0.72490591,  0.22667655,  0.03015061,  0.00489205,  0.01337488], dtype=float32),\n",
       " array([ 0.72544062,  0.22439551,  0.0308097 ,  0.00517348,  0.01418071], dtype=float32),\n",
       " array([ 0.72703713,  0.22906098,  0.02552823,  0.00529105,  0.01308261], dtype=float32),\n",
       " array([ 0.72584331,  0.22630066,  0.02999824,  0.00579458,  0.01206325], dtype=float32),\n",
       " array([ 0.73317081,  0.21872246,  0.02968589,  0.00564333,  0.01277753], dtype=float32),\n",
       " array([ 0.74707299,  0.20597589,  0.0288467 ,  0.00473178,  0.01337261], dtype=float32),\n",
       " array([ 0.75394076,  0.19752195,  0.03140371,  0.00463996,  0.01249361], dtype=float32),\n",
       " array([ 0.74513704,  0.2124899 ,  0.02576282,  0.00427257,  0.01233769], dtype=float32),\n",
       " array([ 0.69597691,  0.24577016,  0.03784321,  0.00544592,  0.0149638 ], dtype=float32),\n",
       " array([ 0.72839779,  0.21063982,  0.0420913 ,  0.00643668,  0.01243443], dtype=float32),\n",
       " array([ 0.75908601,  0.18787177,  0.03542363,  0.00603495,  0.01158365], dtype=float32),\n",
       " array([ 0.75339925,  0.19973452,  0.02943911,  0.00602221,  0.01140492], dtype=float32),\n",
       " array([ 0.68884009,  0.24893354,  0.04399888,  0.00589096,  0.01233654], dtype=float32),\n",
       " array([ 0.75007176,  0.19611548,  0.03696452,  0.005321  ,  0.01152721], dtype=float32),\n",
       " array([ 0.79700154,  0.17871679,  0.01226646,  0.00333355,  0.00868162], dtype=float32),\n",
       " array([ 0.78632736,  0.18275104,  0.01772121,  0.00417899,  0.00902137], dtype=float32),\n",
       " array([ 0.70298398,  0.24975413,  0.02975868,  0.00469464,  0.01280857], dtype=float32),\n",
       " array([ 0.73516077,  0.20767753,  0.03661693,  0.00616836,  0.0143764 ], dtype=float32),\n",
       " array([ 0.74899727,  0.19178098,  0.03716755,  0.0085832 ,  0.013471  ], dtype=float32),\n",
       " array([ 0.7439937 ,  0.20831151,  0.02679352,  0.00552069,  0.01538059], dtype=float32),\n",
       " array([ 0.77820987,  0.18340838,  0.01991593,  0.00554304,  0.01292277], dtype=float32),\n",
       " array([ 0.77941608,  0.17712983,  0.02414706,  0.00719338,  0.01211365], dtype=float32),\n",
       " array([ 0.76294935,  0.17896117,  0.03629383,  0.00819724,  0.0135984 ], dtype=float32),\n",
       " array([ 0.72982931,  0.22274391,  0.02667551,  0.00718314,  0.0135681 ], dtype=float32),\n",
       " array([ 0.69402152,  0.25886121,  0.02772978,  0.00535637,  0.01403109], dtype=float32),\n",
       " array([ 0.70641911,  0.23914742,  0.03515516,  0.00531745,  0.01396086], dtype=float32),\n",
       " array([ 0.71391451,  0.23344709,  0.03397946,  0.00533611,  0.01332284], dtype=float32),\n",
       " array([ 0.69776791,  0.24846539,  0.03393127,  0.00545453,  0.01438091], dtype=float32),\n",
       " array([ 0.72459477,  0.22704092,  0.03044108,  0.00587542,  0.01204781], dtype=float32),\n",
       " array([ 0.72567546,  0.21456611,  0.0403222 ,  0.00580777,  0.01362848], dtype=float32),\n",
       " array([ 0.73600656,  0.21734482,  0.02989698,  0.0052576 ,  0.01149404], dtype=float32),\n",
       " array([ 0.76781541,  0.19720384,  0.01747632,  0.00523697,  0.01226745], dtype=float32),\n",
       " array([ 0.70137054,  0.23733564,  0.03922732,  0.00676176,  0.01530474], dtype=float32),\n",
       " array([ 0.73655581,  0.21996096,  0.02504541,  0.00534443,  0.01309337], dtype=float32),\n",
       " array([ 0.73145348,  0.22791336,  0.02274044,  0.0059169 ,  0.01197581], dtype=float32),\n",
       " array([ 0.72859991,  0.22485964,  0.02798187,  0.00581977,  0.01273882], dtype=float32),\n",
       " array([ 0.77506316,  0.17436729,  0.02877639,  0.00737152,  0.01442163], dtype=float32),\n",
       " array([ 0.72346246,  0.21506383,  0.03846708,  0.0067071 ,  0.01629956], dtype=float32),\n",
       " array([ 0.75288415,  0.1909966 ,  0.03335109,  0.00748179,  0.0152864 ], dtype=float32),\n",
       " array([ 0.7287482 ,  0.22434874,  0.02827052,  0.00629494,  0.01233763], dtype=float32),\n",
       " array([ 0.68051994,  0.26770777,  0.02935955,  0.00570277,  0.01670995], dtype=float32),\n",
       " array([ 0.73425609,  0.21338797,  0.03332118,  0.00624382,  0.01279093], dtype=float32),\n",
       " array([ 0.74012756,  0.21231057,  0.02930792,  0.00551734,  0.01273659], dtype=float32),\n",
       " array([ 0.75056279,  0.21019894,  0.02243238,  0.00513454,  0.01167139], dtype=float32),\n",
       " array([ 0.69898808,  0.24535868,  0.03419122,  0.00621518,  0.01524683], dtype=float32),\n",
       " array([ 0.75419134,  0.20488465,  0.02472619,  0.00514146,  0.01105637], dtype=float32),\n",
       " array([ 0.75276053,  0.21498121,  0.01786188,  0.00467804,  0.00971833], dtype=float32),\n",
       " array([ 0.70909834,  0.23719555,  0.03622085,  0.00542005,  0.01206519], dtype=float32),\n",
       " array([ 0.71126664,  0.23452275,  0.0367702 ,  0.00591282,  0.01152759], dtype=float32),\n",
       " array([ 0.73650509,  0.20927155,  0.03558769,  0.0051883 ,  0.01344737], dtype=float32),\n",
       " array([ 0.7819494 ,  0.16314554,  0.03841427,  0.00629228,  0.01019851], dtype=float32),\n",
       " array([ 0.6918847 ,  0.25381014,  0.03163485,  0.00504135,  0.01762898], dtype=float32),\n",
       " array([ 0.71947485,  0.21688755,  0.04260508,  0.00652071,  0.01451183], dtype=float32),\n",
       " array([ 0.7862134 ,  0.17342772,  0.02401536,  0.00473599,  0.01160752], dtype=float32),\n",
       " array([ 0.76861918,  0.19542786,  0.02071849,  0.00450326,  0.01073119], dtype=float32),\n",
       " array([ 0.75482237,  0.20919934,  0.01773236,  0.00517451,  0.01307145], dtype=float32),\n",
       " array([ 0.71041304,  0.23228703,  0.04020469,  0.00640955,  0.01068571], dtype=float32),\n",
       " array([ 0.73236549,  0.21330963,  0.03907748,  0.0056999 ,  0.0095475 ], dtype=float32),\n",
       " array([ 0.74496001,  0.20873769,  0.02924947,  0.0049198 ,  0.01213301], dtype=float32),\n",
       " array([ 0.76624566,  0.19824132,  0.01798285,  0.00392144,  0.01360871], dtype=float32),\n",
       " array([ 0.73564118,  0.21302491,  0.03527305,  0.00675033,  0.00931054], dtype=float32),\n",
       " array([ 0.72256285,  0.23571976,  0.02104462,  0.00513685,  0.01553593], dtype=float32),\n",
       " array([ 0.7438122 ,  0.22256823,  0.01803782,  0.00419739,  0.01138438], dtype=float32),\n",
       " array([ 0.72540182,  0.23828882,  0.01699874,  0.00559181,  0.01371879], dtype=float32),\n",
       " array([ 0.72678024,  0.22575517,  0.0289149 ,  0.00507378,  0.01347589], dtype=float32),\n",
       " array([ 0.73331416,  0.22015186,  0.02666341,  0.00557782,  0.01429278], dtype=float32),\n",
       " array([ 0.75065929,  0.20744875,  0.02533811,  0.00493114,  0.01162273], dtype=float32),\n",
       " array([ 0.74467516,  0.21012335,  0.02548667,  0.00630566,  0.01340918], dtype=float32),\n",
       " array([ 0.71012539,  0.22875488,  0.040294  ,  0.00687482,  0.01395092], dtype=float32),\n",
       " array([ 0.74174714,  0.21167898,  0.02857938,  0.00543581,  0.01255869], dtype=float32),\n",
       " array([ 0.75176877,  0.19106132,  0.03994922,  0.00631449,  0.01090624], dtype=float32),\n",
       " array([ 0.71568137,  0.23634884,  0.02831296,  0.00450997,  0.01514684], dtype=float32),\n",
       " array([ 0.7138443 ,  0.24093165,  0.02654319,  0.00506698,  0.0136139 ], dtype=float32),\n",
       " array([ 0.68426788,  0.26432154,  0.02961659,  0.00558862,  0.01620538], dtype=float32),\n",
       " array([ 0.67871636,  0.27241671,  0.03047975,  0.00642159,  0.0119656 ], dtype=float32),\n",
       " array([ 0.71724313,  0.23704699,  0.02567901,  0.0052378 ,  0.01479306], dtype=float32),\n",
       " array([ 0.70291424,  0.23918167,  0.03955654,  0.00545666,  0.01289088], dtype=float32),\n",
       " array([ 0.72563928,  0.22202423,  0.03524247,  0.00492738,  0.01216661], dtype=float32),\n",
       " array([ 0.75839269,  0.20831087,  0.01862175,  0.00450748,  0.01016718], dtype=float32),\n",
       " array([ 0.73467946,  0.22236705,  0.02480394,  0.00520357,  0.01294602], dtype=float32),\n",
       " array([ 0.71385062,  0.23646855,  0.03170763,  0.00519942,  0.01277378], dtype=float32),\n",
       " array([ 0.7064442 ,  0.2455036 ,  0.02785548,  0.00511764,  0.01507906], dtype=float32),\n",
       " array([ 0.73673695,  0.21601674,  0.02827996,  0.00515434,  0.01381199], dtype=float32),\n",
       " array([ 0.7475034 ,  0.20917781,  0.02365721,  0.00534184,  0.01431973], dtype=float32),\n",
       " array([ 0.7070446 ,  0.2490603 ,  0.0256407 ,  0.00492234,  0.01333207], dtype=float32),\n",
       " array([ 0.73552561,  0.21298547,  0.03384513,  0.00602571,  0.01161809], dtype=float32),\n",
       " array([ 0.7482658 ,  0.21306506,  0.02291594,  0.00404203,  0.01171117], dtype=float32),\n",
       " array([ 0.72078717,  0.24424037,  0.01701448,  0.0043415 ,  0.01361651], dtype=float32),\n",
       " array([ 0.73858941,  0.21729286,  0.02622634,  0.00635569,  0.01153572], dtype=float32),\n",
       " array([ 0.73448926,  0.21689929,  0.02687255,  0.00583944,  0.01589948], dtype=float32),\n",
       " array([ 0.74045849,  0.21175474,  0.02662754,  0.00568507,  0.01547413], dtype=float32),\n",
       " array([ 0.70846969,  0.2363389 ,  0.03147837,  0.00610492,  0.01760815], dtype=float32),\n",
       " array([ 0.74291664,  0.21165629,  0.02699633,  0.00626409,  0.01216663], dtype=float32),\n",
       " array([ 0.70633811,  0.23351911,  0.0387999 ,  0.00556763,  0.01577523], dtype=float32),\n",
       " array([ 0.74713308,  0.20484133,  0.03129233,  0.00503991,  0.01169336], dtype=float32),\n",
       " array([ 0.72800446,  0.22877663,  0.02548626,  0.00505552,  0.01267716], dtype=float32),\n",
       " array([ 0.72794372,  0.22700189,  0.02721075,  0.00535265,  0.01249097], dtype=float32),\n",
       " array([ 0.7080375 ,  0.24333797,  0.026936  ,  0.00500845,  0.01668005], dtype=float32),\n",
       " array([ 0.75772876,  0.19146806,  0.03150973,  0.00658685,  0.0127066 ], dtype=float32),\n",
       " array([ 0.73044115,  0.22014742,  0.02799628,  0.00577211,  0.01564305], dtype=float32),\n",
       " array([ 0.72189766,  0.21693966,  0.0428524 ,  0.0071605 ,  0.01114976], dtype=float32),\n",
       " array([ 0.73296332,  0.21513012,  0.03022801,  0.00539836,  0.01628017], dtype=float32),\n",
       " array([ 0.74535811,  0.19833292,  0.03791073,  0.00575322,  0.01264504], dtype=float32),\n",
       " array([ 0.70327479,  0.23898639,  0.03649752,  0.00543364,  0.01580768], dtype=float32),\n",
       " array([ 0.73400503,  0.21033853,  0.03707316,  0.00596136,  0.01262195], dtype=float32),\n",
       " array([ 0.74799919,  0.20137013,  0.0328647 ,  0.005007  ,  0.012759  ], dtype=float32),\n",
       " array([ 0.76217246,  0.20474409,  0.01721525,  0.00417649,  0.01169172], dtype=float32),\n",
       " array([ 0.74710929,  0.21655843,  0.01940259,  0.00410059,  0.01282911], dtype=float32),\n",
       " array([ 0.7583617 ,  0.18554834,  0.03739319,  0.00725135,  0.01144541], dtype=float32),\n",
       " array([ 0.75450665,  0.19695374,  0.03299228,  0.00541066,  0.01013668], dtype=float32),\n",
       " array([ 0.75164193,  0.21078922,  0.02091124,  0.00515069,  0.01150691], dtype=float32),\n",
       " array([ 0.75056934,  0.21444117,  0.01717617,  0.00426892,  0.01354443], dtype=float32),\n",
       " array([ 0.74374628,  0.20669267,  0.03240868,  0.00590991,  0.01124244], dtype=float32),\n",
       " array([ 0.75746822,  0.20067559,  0.02483221,  0.00427803,  0.01274591], dtype=float32),\n",
       " array([ 0.75205576,  0.19910792,  0.03243135,  0.00511673,  0.01128823], dtype=float32),\n",
       " array([ 0.7060442 ,  0.23529482,  0.03514535,  0.00651936,  0.01699624], dtype=float32),\n",
       " array([ 0.77229935,  0.17155117,  0.03626189,  0.00674808,  0.01313954], dtype=float32),\n",
       " array([ 0.80008721,  0.1578404 ,  0.02521228,  0.0053622 ,  0.01149792], dtype=float32),\n",
       " array([ 0.76593792,  0.19836676,  0.02096016,  0.00494205,  0.00979309], dtype=float32),\n",
       " array([ 0.748743  ,  0.2119603 ,  0.02035437,  0.00545295,  0.01348938], dtype=float32),\n",
       " array([ 0.74661916,  0.20479532,  0.03121963,  0.00664309,  0.01072281], dtype=float32),\n",
       " array([ 0.70811754,  0.22443812,  0.04604068,  0.00656729,  0.01483635], dtype=float32),\n",
       " array([ 0.70631319,  0.24745041,  0.02830395,  0.00484175,  0.01309069], dtype=float32),\n",
       " array([ 0.70936954,  0.23871836,  0.03104472,  0.00445768,  0.01640968], dtype=float32),\n",
       " array([ 0.74173307,  0.21533902,  0.02462578,  0.00668496,  0.01161716], dtype=float32),\n",
       " array([ 0.6737318 ,  0.2760393 ,  0.02916314,  0.00526956,  0.01579618], dtype=float32),\n",
       " array([ 0.68749487,  0.25845644,  0.03039919,  0.00617102,  0.01747851], dtype=float32),\n",
       " array([ 0.69575763,  0.25756532,  0.02717606,  0.004689  ,  0.01481201], dtype=float32),\n",
       " array([ 0.66062939,  0.28889763,  0.03060872,  0.00577557,  0.0140887 ], dtype=float32),\n",
       " array([ 0.67710072,  0.2752434 ,  0.02619667,  0.0056117 ,  0.01584751], dtype=float32)]"
      ]
     },
     "execution_count": 212,
     "metadata": {},
     "output_type": "execute_result"
    }
   ],
   "source": [
    "X, y = next(gen)\n",
    "predictions = beat_feature_model.predict(X)\n",
    "[predictions[i] for i in range(len(predictions)) if i % 12 == 0]"
   ]
  }
 ],
 "metadata": {
  "anaconda-cloud": {},
  "kernelspec": {
   "display_name": "Python 3",
   "language": "python",
   "name": "python3"
  },
  "language_info": {
   "codemirror_mode": {
    "name": "ipython",
    "version": 3
   },
   "file_extension": ".py",
   "mimetype": "text/x-python",
   "name": "python",
   "nbconvert_exporter": "python",
   "pygments_lexer": "ipython3",
   "version": "3.5.1"
  }
 },
 "nbformat": 4,
 "nbformat_minor": 0
}
