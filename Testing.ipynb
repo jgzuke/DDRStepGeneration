{
 "cells": [
  {
   "cell_type": "code",
   "execution_count": 454,
   "metadata": {
    "collapsed": false
   },
   "outputs": [],
   "source": [
    "%matplotlib inline\n",
    "import pandas as pd\n",
    "import numpy as np\n",
    "import librosa\n",
    "import seaborn as sb\n",
    "import matplotlib.pyplot as plt\n",
    "import itertools\n",
    "import re\n",
    "from os import listdir\n",
    "from os.path import isfile, join\n",
    "from __future__ import print_function\n",
    "from numpy import median, diff"
   ]
  },
  {
   "cell_type": "code",
   "execution_count": 516,
   "metadata": {
    "collapsed": true
   },
   "outputs": [],
   "source": [
    "sample_rate = 22050*8\n",
    "class SongFile:\n",
    "    def __init__(self, pack, name, extension, force_new = False):\n",
    "        self.pack = pack\n",
    "        self.name = name\n",
    "        self.extension = extension\n",
    "        self.music_file = 'StepMania/Songs/{0}/{1}/{1}.{2}'.format(pack, name, extension)\n",
    "        self.stepfile = 'StepMania/Songs/{0}/{1}/{1}.ssc'.format(pack, name)\n",
    "        \n",
    "        self.data, _ = librosa.load(self.music_file, sr=sample_rate)\n",
    "        key = '{0}~{1}'.format(pack, name)\n",
    "        if force_new or (not '{0}_beat_frames.csv'.format(key) in listdir('data')):\n",
    "            print ('Calculating beats')\n",
    "            _, self.beat_frames = librosa.beat.beat_track(y=self.data, sr=sample_rate)\n",
    "            self.beat_times = librosa.frames_to_time(self.beat_frames, sr=sample_rate)\n",
    "            \n",
    "            # Saving data\n",
    "            beat_times = pd.DataFrame(song_data[key].beat_times)\n",
    "            beat_times.to_csv('data/{0}_beat_times.csv'.format(key), index=False)\n",
    "            beat_frames = pd.DataFrame(song_data[key].beat_frames)\n",
    "            beat_frames.to_csv('data/{0}_beat_frames.csv'.format(key), index=False)\n",
    "        else:\n",
    "            print ('Loading beats from save')\n",
    "            self.beat_frames = pd.read_csv('data/{0}_beat_frames.csv'.format(key))\n",
    "            self.beat_times = pd.read_csv('data/{0}_beat_times.csv'.format(key))"
   ]
  },
  {
   "cell_type": "code",
   "execution_count": null,
   "metadata": {
    "collapsed": true
   },
   "outputs": [],
   "source": [
    "song_data = {}"
   ]
  },
  {
   "cell_type": "code",
   "execution_count": 481,
   "metadata": {
    "collapsed": true
   },
   "outputs": [],
   "source": [
    "def load_song(pack, title):\n",
    "    folder_path = 'StepMania/Songs/{0}/{1}'.format(pack, title)\n",
    "    song = next(file for file in listdir(folder_path) if file.endswith('.ogg') or file.endswith('.mp3'))\n",
    "    extension = song.split('.')[1]\n",
    "    key = '{0}~{1}'.format(pack, title)\n",
    "    song_data[key] = SongFile(pack, title, extension)"
   ]
  },
  {
   "cell_type": "code",
   "execution_count": 519,
   "metadata": {
    "collapsed": false
   },
   "outputs": [],
   "source": [
    "for key in song_data:\n",
    "    beat_times = pd.DataFrame(song_data[key].beat_times)\n",
    "    beat_times.to_csv('data/{0}_beat_times.csv'.format(key), index=False)\n",
    "    beat_frames = pd.DataFrame(song_data[key].beat_frames)\n",
    "    beat_frames.to_csv('data/{0}_beat_frames.csv'.format(key), index=False)"
   ]
  },
  {
   "cell_type": "code",
   "execution_count": 514,
   "metadata": {
    "collapsed": false
   },
   "outputs": [
    {
     "data": {
      "text/plain": [
       "False"
      ]
     },
     "execution_count": 514,
     "metadata": {},
     "output_type": "execute_result"
    }
   ],
   "source": [
    "#load_song('_test', 'A', '.mp3')\n",
    "#load_song('_test', 'B', '.mp3')\n",
    "#load_song('_test', 'C', '.mp3')"
   ]
  },
  {
   "cell_type": "code",
   "execution_count": 471,
   "metadata": {
    "collapsed": false
   },
   "outputs": [],
   "source": [
    "def get_bpm(file):\n",
    "    with open(file, \"r\") as ins:\n",
    "        for line in ins:\n",
    "            if line.startswith('#BPMS:'):\n",
    "                result = re.search('#BPMS:(.*);', line)\n",
    "                bpm_string = result.group(1)\n",
    "                if len(bpm_string.split(',')) == 1:\n",
    "                    return float(bpm_string.split('=')[1])\n",
    "                return 0\n",
    "    return 0"
   ]
  },
  {
   "cell_type": "code",
   "execution_count": 491,
   "metadata": {
    "collapsed": false
   },
   "outputs": [
    {
     "data": {
      "text/plain": [
       "{'In The Groove~Anubis': 110.0,\n",
       " 'In The Groove~Bend Your Mind': 140.0,\n",
       " 'In The Groove~Boogie Down': 175.0,\n",
       " 'In The Groove~Bouff': 200.099,\n",
       " 'In The Groove~Bubble Dancer': 137.002,\n",
       " '_test~A': 181.685,\n",
       " '_test~B': 140,\n",
       " '_test~C': 180}"
      ]
     },
     "execution_count": 491,
     "metadata": {},
     "output_type": "execute_result"
    }
   ],
   "source": [
    "song_bpms = {}\n",
    "songs = [song for song in listdir('StepMania/Songs/In The Groove')]\n",
    "for song in songs[:5]:\n",
    "    song_bpms['In The Groove~{0}'.format(song)] = get_bpm('StepMania/Songs/In The Groove/{0}/{0}.sm'.format(song))\n",
    "    \n",
    "song_bpms['_test~A'] = 181.685\n",
    "song_bpms['_test~B'] = 140\n",
    "song_bpms['_test~C'] = 180\n",
    "song_bpms"
   ]
  },
  {
   "cell_type": "code",
   "execution_count": 520,
   "metadata": {
    "collapsed": false
   },
   "outputs": [
    {
     "name": "stdout",
     "output_type": "stream",
     "text": [
      "Loading beats from save\n"
     ]
    }
   ],
   "source": [
    "songs = [song for song in listdir('StepMania/Songs/In The Groove')]\n",
    "for song in songs[6:7]:\n",
    "    load_song('In The Groove', song)"
   ]
  },
  {
   "cell_type": "code",
   "execution_count": 494,
   "metadata": {
    "collapsed": false
   },
   "outputs": [
    {
     "name": "stdout",
     "output_type": "stream",
     "text": [
      "139.990124153\n",
      "140\n",
      "139.992245023\n",
      "140.0\n",
      "100.051424769\n",
      "200.099\n",
      "175.001763686\n",
      "175.0\n",
      "181.674428479\n",
      "181.685\n",
      "137.025\n",
      "137.002\n",
      "179.963098775\n",
      "180\n",
      "109.999514215\n",
      "110.0\n",
      "[0.0098758465011314911, 0.0077549768202800351, 100.04757523141146, 0.001763686204952819, 0.010571521000684925, 0.022999999999996135, 0.03690122539916274, 0.00048578517832709167]\n"
     ]
    }
   ],
   "source": [
    "errors = []\n",
    "for key in song_data:\n",
    "    song = song_data[key]\n",
    "    prediced_beat = get_beats(song.beat_times, song.beat_frames)[0][1]\n",
    "    real_beat = song_bpms[key]\n",
    "    print (prediced_beat)\n",
    "    print (real_beat)\n",
    "    errors.append(abs(prediced_beat - real_beat))\n",
    "print (errors)"
   ]
  },
  {
   "cell_type": "code",
   "execution_count": 415,
   "metadata": {
    "collapsed": false
   },
   "outputs": [],
   "source": [
    "def get_beats(beat_times, beat_frames):\n",
    "    changes = []\n",
    "    changes_time = []\n",
    "    for i in range(len(beat_frames) - 1):\n",
    "        changes.append(beat_frames[i + 1] - beat_frames[i])\n",
    "        changes_time.append(beat_times[i + 1] - beat_times[i])\n",
    "\n",
    "    sorted_changes = sorted(changes)\n",
    "    median = sorted_changes[int(len(changes) / 2)]\n",
    "\n",
    "    changes_counted = [abs(change - median) < 2 for change in changes]\n",
    "    time_changes_counted = list(itertools.compress(changes_time, changes_counted))\n",
    "    average = sum(time_changes_counted) / len(time_changes_counted)\n",
    "    \n",
    "    time_differences = []\n",
    "    earliest_proper_beat = 1\n",
    "    for i in range(1, len(beat_times) - 1):\n",
    "        if changes_counted[i] & changes_counted[i - 1]:\n",
    "            earliest_proper_beat = i\n",
    "            break\n",
    "            \n",
    "    last_proper_beat = len(beat_times) -2\n",
    "    for i in range(1, len(beat_times) - 1):\n",
    "        if changes_counted[len(beat_times) - i - 1] & changes_counted[len(beat_times) - i - 2]:\n",
    "            last_proper_beat = len(beat_times) - i - 1\n",
    "            break\n",
    "    \n",
    "    time_differences = []\n",
    "    buffer = 5\n",
    "    for i in range(20):\n",
    "        start_beat = earliest_proper_beat + buffer * i\n",
    "        if changes_counted[start_beat] & changes_counted[start_beat - 1]:\n",
    "            for j in range(20):\n",
    "                end_beat = last_proper_beat - buffer * j\n",
    "                if changes_counted[end_beat] & changes_counted[end_beat - 1]:\n",
    "                    time_differences.append(beat_times[end_beat] - beat_times[start_beat])\n",
    "        \n",
    "    # get num beats, round, and make new average\n",
    "    new_averages = [time_difference / round(time_difference / average) for time_difference in time_differences]\n",
    "    #print (new_averages)\n",
    "    new_averages.sort()\n",
    "    num_averages = len(new_averages)\n",
    "    #new_average = sum(new_averages[5:num_averages - 5]) / (num_averages - 10)\n",
    "    new_average = new_averages[int(num_averages/2)]\n",
    "    return [(0, 60./new_average)]\n",
    "    \n",
    "def get_time_string(times):\n",
    "    time_strings = []\n",
    "    for time in times:\n",
    "        if time[0] != 0:\n",
    "            time_strings.append(',')\n",
    "        time_strings.append('{:}={:.3f}'.format(time[0], time[1]))\n",
    "    return ''.join(time_strings)\n",
    "\n",
    "def test_get_beats(beat_times, beat_frames):\n",
    "    a = get_beats(beat_times, beat_frames)\n",
    "    a.append((500, 1))\n",
    "    time = beat_times[0]\n",
    "    beat_times_mock = [time]\n",
    "    for i in range(len(a) - 1):\n",
    "        for j in range(a[i+1][0] - a[i][0]):\n",
    "            time += 60/a[i][1]\n",
    "            beat_times_mock.append(time)\n",
    "\n",
    "    beat_times_pd = pd.DataFrame(beat_times, columns=['VALUE'])\n",
    "    beat_times_pd['REAL'] = True\n",
    "    beat_times_pd\n",
    "    beat_times_mock_pd = pd.DataFrame(beat_times, columns=['VALUE'])\n",
    "    beat_times_mock_pd['REAL'] = False\n",
    "    both = beat_times_pd.append(beat_times_mock_pd)\n",
    "    both['BEAT']=both.index\n",
    "    linestyles = [\"--\", \"-\"]*390\n",
    "    fig, (ax) = plt.subplots(1,1, figsize=(20,7))\n",
    "    graph = sb.pointplot(x='BEAT', y='VALUE', hue='REAL', linestyles=linestyles, data=both, ax=ax)\n",
    "    \n",
    "#test_get_beats(beat_times)"
   ]
  },
  {
   "cell_type": "code",
   "execution_count": 309,
   "metadata": {
    "collapsed": true
   },
   "outputs": [],
   "source": [
    "def write_song_header(output_stepfile, info_map):\n",
    "    keys = ['VERSION', 'TITLE', 'MUSIC', 'OFFSET', 'SAMPLESTART', 'SAMPLELENGTH']\n",
    "    header_info = {\n",
    "        'VERSION': 0.82,\n",
    "        'TITLE': info_map['song_name'],\n",
    "        'MUSIC': '{0}.mp3'.format(info_map['song_name']),\n",
    "        'OFFSET': -0.090,\n",
    "        'SAMPLESTART': info_map['sample_start'],\n",
    "        'SAMPLELENGTH': info_map['sample_length']\n",
    "    }\n",
    "    for key in keys:\n",
    "        print (\"#{0}:{1};\".format(key, str(header_info[key])), file=output_stepfile)\n",
    "        \n",
    "def write_step_header(output_stepfile, info_map):\n",
    "    print(\"//---------------dance-single - ----------------\", file=output_stepfile)\n",
    "    keys = ['NOTEDATA', 'CHARTNAME', 'STEPSTYPE', 'DIFFICULTY', 'METER', 'RADARVALUES', 'BPMS']\n",
    "    step_info = {\n",
    "        'NOTEDATA': '',\n",
    "        'CHARTNAME': 'Kommisar',\n",
    "        'STEPSTYPE': 'dance-single',\n",
    "        'DIFFICULTY': 'Beginner',\n",
    "        'METER': 1,\n",
    "        'RADARVALUES': '0.234,0.292,0.008,0,0,211,212,1,0,0,0,0,0,0,0.234,0.292,0.008,0,0,211,212,1,0,0,0,0,0,0',\n",
    "        'BPMS': info_map['bpm']\n",
    "    }\n",
    "    for key in keys:\n",
    "        print (\"#{0}:{1};\".format(key, str(step_info[key])), file=output_stepfile)\n",
    "        \n",
    "def write_notes(output_stepfile, info_map):\n",
    "    print (\"#NOTES:\", file=output_stepfile)\n",
    "    \n",
    "    for i in range(80):\n",
    "        print (\"0101\\n0001\\n0101\\n0001\\n,\", file=output_stepfile)\n",
    "    print (\"0000;\", file=output_stepfile)"
   ]
  },
  {
   "cell_type": "code",
   "execution_count": 329,
   "metadata": {
    "collapsed": true
   },
   "outputs": [],
   "source": [
    "def get_info_map(song):\n",
    "    info_map = {}\n",
    "    info_map['song_name'] = song.name\n",
    "    info_map['song_format'] = song.extension\n",
    "    times = get_beats(song.beat_times, song.beat_frames)\n",
    "    bpm_string = get_time_string(times)\n",
    "    info_map['bpm'] = bpm_string\n",
    "    tempo = 60./times[0][1]\n",
    "    info_map['sample_start'] = 16 * tempo\n",
    "    info_map['sample_length'] = 32 * tempo\n",
    "    return info_map"
   ]
  },
  {
   "cell_type": "code",
   "execution_count": 330,
   "metadata": {
    "collapsed": true
   },
   "outputs": [],
   "source": [
    "def step_song(song):\n",
    "    output_stepfile=open(song.stepfile, 'w')\n",
    "    info_map = get_info_map(song)\n",
    "    write_song_header(output_stepfile, info_map)\n",
    "    write_step_header(output_stepfile, info_map)\n",
    "    write_notes(output_stepfile, info_map)\n",
    "    output_stepfile.close()"
   ]
  },
  {
   "cell_type": "code",
   "execution_count": 333,
   "metadata": {
    "collapsed": false
   },
   "outputs": [],
   "source": [
    "step_song(A)\n",
    "step_song(B)\n",
    "step_song(C)"
   ]
  },
  {
   "cell_type": "code",
   "execution_count": 380,
   "metadata": {
    "collapsed": false
   },
   "outputs": [
    {
     "data": {
      "text/plain": [
       "[1, 2, 3]"
      ]
     },
     "execution_count": 380,
     "metadata": {},
     "output_type": "execute_result"
    }
   ],
   "source": [
    "[1, 2, 3][0:3]"
   ]
  },
  {
   "cell_type": "code",
   "execution_count": null,
   "metadata": {
    "collapsed": true
   },
   "outputs": [],
   "source": []
  }
 ],
 "metadata": {
  "anaconda-cloud": {},
  "kernelspec": {
   "display_name": "Python 3",
   "language": "python",
   "name": "python3"
  },
  "language_info": {
   "codemirror_mode": {
    "name": "ipython",
    "version": 3
   },
   "file_extension": ".py",
   "mimetype": "text/x-python",
   "name": "python",
   "nbconvert_exporter": "python",
   "pygments_lexer": "ipython3",
   "version": "3.5.1"
  }
 },
 "nbformat": 4,
 "nbformat_minor": 0
}
